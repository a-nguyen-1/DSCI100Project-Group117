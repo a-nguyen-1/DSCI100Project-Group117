{
 "cells": [
  {
   "cell_type": "markdown",
   "id": "393a9182-b2cc-4b75-878e-8b15d7f4bf19",
   "metadata": {},
   "source": [
    "Methods:\n",
    "\n",
    "    - Explain how you will conduct either your data analysis and which variables/columns you will use. Note - you do not need to use all variables/columns that exist in the raw data set. In fact, that's often not a good idea. For each variable think: is this a useful variable for prediction?\n",
    "    - Describe at least one way that you will visualize the results"
   ]
  },
  {
   "cell_type": "code",
   "execution_count": null,
   "id": "3d228782-6825-4c54-9494-7141a171c6f0",
   "metadata": {},
   "outputs": [],
   "source": []
  }
 ],
 "metadata": {
  "kernelspec": {
   "display_name": "R",
   "language": "R",
   "name": "ir"
  },
  "language_info": {
   "codemirror_mode": "r",
   "file_extension": ".r",
   "mimetype": "text/x-r-source",
   "name": "R",
   "pygments_lexer": "r",
   "version": "4.1.3"
  }
 },
 "nbformat": 4,
 "nbformat_minor": 5
}
