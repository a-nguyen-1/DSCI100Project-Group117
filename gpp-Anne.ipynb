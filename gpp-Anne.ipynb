{
 "cells": [
  {
   "cell_type": "markdown",
   "id": "389cce5f-27e9-4a85-ba9b-875f843bf580",
   "metadata": {},
   "source": [
    "Preliminary exploratory data analysis:\n",
    "\n",
    "    - Demonstrate that the dataset can be read from the web into R \n",
    "    - Clean and wrangle your data into a tidy format\n",
    "    - Using only training data, summarize the data in at least one table (this is exploratory data analysis). An example of a useful table could be one that reports the number of observations in each class, the means of the predictor variables you plan to use in your analysis and how many rows have missing data. \n",
    "    - Using only training data, visualize the data with at least one plot relevant to the analysis you plan to do (this is exploratory data analysis). An example of a useful visualization could be one that compa\n",
    "    res the distributions of each of the predictor variables you plan to use in your analysis."
   ]
  },
  {
   "cell_type": "code",
   "execution_count": null,
   "id": "7a34b725-7905-4e3f-a3a5-56df406bf3d7",
   "metadata": {},
   "outputs": [],
   "source": []
  }
 ],
 "metadata": {
  "kernelspec": {
   "display_name": "R",
   "language": "R",
   "name": "ir"
  },
  "language_info": {
   "codemirror_mode": "r",
   "file_extension": ".r",
   "mimetype": "text/x-r-source",
   "name": "R",
   "pygments_lexer": "r",
   "version": "4.1.3"
  }
 },
 "nbformat": 4,
 "nbformat_minor": 5
}
