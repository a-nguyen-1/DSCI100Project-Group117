{
 "cells": [
  {
   "cell_type": "markdown",
   "id": "6a36a215-c4e6-4674-92c3-fc77089335d0",
   "metadata": {},
   "source": [
    "# **Predicting Wine Class Using KNN Classifier Algorithm**"
   ]
  },
  {
   "cell_type": "markdown",
   "id": "af26c1bc-bcab-4a28-bf90-439aa4250924",
   "metadata": {},
   "source": [
    "## **Introduction**\n",
    "\n",
    "Our topic is centered around the composition of wine. The dataset we are using collected results of “chemical analysis” of wine grown by different people within a singular region in Italy (1). In this dataset, there are 13 different columns, which are variables indicating the different measures of composition of wine. Namely, these variables are Alcohol, Malic Acid, Ash, Alkalinity of ash, Magnesium, Total Phenols, Flavonoids, Non-Flavonoid Phenols, Proanthocyanidins, Color intensity, Hue, OD280/OD315 of diluted wines and Proline. There are three different types of wine classes observed in this dataset, and they have been numbered 1,2 or 3 under the column “Class”. The predictive question we will aim to answer is: Given a composition of wine, predict which class, from the 3 possible ones in this dataset, that particular wine belongs to. There are no missing values for any of the variables in this dataset.\n",
    "\n",
    "**NOTE from Anne: maybe add more background info for which we can use the sources to fill the literature reference requirement**\n",
    "\n",
    "    -provide some relevant background information on the topic so that someone unfamiliar with it will be prepared to understand the rest of your report\n",
    "    -clearly state the question you tried to answer with your project\n",
    "    -identify and describe the dataset that was used to answer the question\n",
    "\n"
   ]
  },
  {
   "cell_type": "markdown",
   "id": "22ddbca0-6020-4fa7-a234-f5623172b8da",
   "metadata": {},
   "source": [
    "Methods & Results:\n",
    "\n",
    "    describe in written English the methods you used to perform your analysis from beginning to end that narrates the code the does the analysis.\n",
    "    your report should include code which:\n",
    "        loads data from the original source on the web \n",
    "        wrangles and cleans the data from it's original (downloaded) format to the format necessary for the planned analysis\n",
    "        performs a summary of the data set that is relevant for exploratory data analysis related to the planned analysis \n",
    "        creates a visualization of the dataset that is relevant for exploratory data analysis related to the planned analysis\n",
    "        performs the data analysis\n",
    "        creates a visualization of the analysis \n",
    "        note: all tables and figure should have a figure/table number and a legend\n",
    "\n"
   ]
  },
  {
   "cell_type": "code",
   "execution_count": 2,
   "id": "865e2967-cac8-4fc8-b7a9-3b172303e00e",
   "metadata": {},
   "outputs": [
    {
     "name": "stderr",
     "output_type": "stream",
     "text": [
      "── \u001b[1mAttaching packages\u001b[22m ─────────────────────────────────────── tidyverse 1.3.1 ──\n",
      "\n",
      "\u001b[32m✔\u001b[39m \u001b[34mggplot2\u001b[39m 3.3.6     \u001b[32m✔\u001b[39m \u001b[34mpurrr  \u001b[39m 0.3.4\n",
      "\u001b[32m✔\u001b[39m \u001b[34mtibble \u001b[39m 3.1.7     \u001b[32m✔\u001b[39m \u001b[34mdplyr  \u001b[39m 1.0.9\n",
      "\u001b[32m✔\u001b[39m \u001b[34mtidyr  \u001b[39m 1.2.0     \u001b[32m✔\u001b[39m \u001b[34mstringr\u001b[39m 1.4.0\n",
      "\u001b[32m✔\u001b[39m \u001b[34mreadr  \u001b[39m 2.1.2     \u001b[32m✔\u001b[39m \u001b[34mforcats\u001b[39m 0.5.1\n",
      "\n",
      "── \u001b[1mConflicts\u001b[22m ────────────────────────────────────────── tidyverse_conflicts() ──\n",
      "\u001b[31m✖\u001b[39m \u001b[34mdplyr\u001b[39m::\u001b[32mfilter()\u001b[39m masks \u001b[34mstats\u001b[39m::filter()\n",
      "\u001b[31m✖\u001b[39m \u001b[34mdplyr\u001b[39m::\u001b[32mlag()\u001b[39m    masks \u001b[34mstats\u001b[39m::lag()\n",
      "\n",
      "── \u001b[1mAttaching packages\u001b[22m ────────────────────────────────────── tidymodels 1.0.0 ──\n",
      "\n",
      "\u001b[32m✔\u001b[39m \u001b[34mbroom       \u001b[39m 1.0.0     \u001b[32m✔\u001b[39m \u001b[34mrsample     \u001b[39m 1.0.0\n",
      "\u001b[32m✔\u001b[39m \u001b[34mdials       \u001b[39m 1.0.0     \u001b[32m✔\u001b[39m \u001b[34mtune        \u001b[39m 1.0.0\n",
      "\u001b[32m✔\u001b[39m \u001b[34minfer       \u001b[39m 1.0.2     \u001b[32m✔\u001b[39m \u001b[34mworkflows   \u001b[39m 1.0.0\n",
      "\u001b[32m✔\u001b[39m \u001b[34mmodeldata   \u001b[39m 1.0.0     \u001b[32m✔\u001b[39m \u001b[34mworkflowsets\u001b[39m 1.0.0\n",
      "\u001b[32m✔\u001b[39m \u001b[34mparsnip     \u001b[39m 1.0.0     \u001b[32m✔\u001b[39m \u001b[34myardstick   \u001b[39m 1.0.0\n",
      "\u001b[32m✔\u001b[39m \u001b[34mrecipes     \u001b[39m 1.0.1     \n",
      "\n",
      "── \u001b[1mConflicts\u001b[22m ───────────────────────────────────────── tidymodels_conflicts() ──\n",
      "\u001b[31m✖\u001b[39m \u001b[34mscales\u001b[39m::\u001b[32mdiscard()\u001b[39m masks \u001b[34mpurrr\u001b[39m::discard()\n",
      "\u001b[31m✖\u001b[39m \u001b[34mdplyr\u001b[39m::\u001b[32mfilter()\u001b[39m   masks \u001b[34mstats\u001b[39m::filter()\n",
      "\u001b[31m✖\u001b[39m \u001b[34mrecipes\u001b[39m::\u001b[32mfixed()\u001b[39m  masks \u001b[34mstringr\u001b[39m::fixed()\n",
      "\u001b[31m✖\u001b[39m \u001b[34mdplyr\u001b[39m::\u001b[32mlag()\u001b[39m      masks \u001b[34mstats\u001b[39m::lag()\n",
      "\u001b[31m✖\u001b[39m \u001b[34myardstick\u001b[39m::\u001b[32mspec()\u001b[39m masks \u001b[34mreadr\u001b[39m::spec()\n",
      "\u001b[31m✖\u001b[39m \u001b[34mrecipes\u001b[39m::\u001b[32mstep()\u001b[39m   masks \u001b[34mstats\u001b[39m::step()\n",
      "\u001b[34m•\u001b[39m Search for functions across packages at \u001b[32mhttps://www.tidymodels.org/find/\u001b[39m\n",
      "\n"
     ]
    }
   ],
   "source": [
    "library(tidyverse)\n",
    "library(repr)\n",
    "library(tidymodels)\n",
    "options(repr.matrix.max.rows = 6)"
   ]
  },
  {
   "cell_type": "code",
   "execution_count": 3,
   "id": "1b0e9aa5-799a-4d8a-a009-20c3b6e98291",
   "metadata": {},
   "outputs": [
    {
     "name": "stderr",
     "output_type": "stream",
     "text": [
      "\u001b[1mRows: \u001b[22m\u001b[34m178\u001b[39m \u001b[1mColumns: \u001b[22m\u001b[34m14\u001b[39m\n",
      "\u001b[36m──\u001b[39m \u001b[1mColumn specification\u001b[22m \u001b[36m────────────────────────────────────────────────────────\u001b[39m\n",
      "\u001b[1mDelimiter:\u001b[22m \",\"\n",
      "\u001b[32mdbl\u001b[39m (14): X1, X2, X3, X4, X5, X6, X7, X8, X9, X10, X11, X12, X13, X14\n",
      "\n",
      "\u001b[36mℹ\u001b[39m Use `spec()` to retrieve the full column specification for this data.\n",
      "\u001b[36mℹ\u001b[39m Specify the column types or set `show_col_types = FALSE` to quiet this message.\n"
     ]
    },
    {
     "data": {
      "text/html": [
       "<table class=\"dataframe\">\n",
       "<caption>A tibble: 178 × 14</caption>\n",
       "<thead>\n",
       "\t<tr><th scope=col>class</th><th scope=col>alcohol</th><th scope=col>malic.acid</th><th scope=col>ash</th><th scope=col>alcalinity.of.ash</th><th scope=col>magnesium</th><th scope=col>total.phenols</th><th scope=col>flavanoids</th><th scope=col>nonfalvanoid.phenols</th><th scope=col>proanthocyanins</th><th scope=col>color.intensity</th><th scope=col>hue</th><th scope=col>OD280.OD315.of.diluted.wines</th><th scope=col>proline</th></tr>\n",
       "\t<tr><th scope=col>&lt;fct&gt;</th><th scope=col>&lt;dbl&gt;</th><th scope=col>&lt;dbl&gt;</th><th scope=col>&lt;dbl&gt;</th><th scope=col>&lt;dbl&gt;</th><th scope=col>&lt;dbl&gt;</th><th scope=col>&lt;dbl&gt;</th><th scope=col>&lt;dbl&gt;</th><th scope=col>&lt;dbl&gt;</th><th scope=col>&lt;dbl&gt;</th><th scope=col>&lt;dbl&gt;</th><th scope=col>&lt;dbl&gt;</th><th scope=col>&lt;dbl&gt;</th><th scope=col>&lt;dbl&gt;</th></tr>\n",
       "</thead>\n",
       "<tbody>\n",
       "\t<tr><td>1</td><td>14.23</td><td>1.71</td><td>2.43</td><td>15.6</td><td>127</td><td>2.80</td><td>3.06</td><td>0.28</td><td>2.29</td><td>5.64</td><td>1.04</td><td>3.92</td><td>1065</td></tr>\n",
       "\t<tr><td>1</td><td>13.20</td><td>1.78</td><td>2.14</td><td>11.2</td><td>100</td><td>2.65</td><td>2.76</td><td>0.26</td><td>1.28</td><td>4.38</td><td>1.05</td><td>3.40</td><td>1050</td></tr>\n",
       "\t<tr><td>1</td><td>13.16</td><td>2.36</td><td>2.67</td><td>18.6</td><td>101</td><td>2.80</td><td>3.24</td><td>0.30</td><td>2.81</td><td>5.68</td><td>1.03</td><td>3.17</td><td>1185</td></tr>\n",
       "\t<tr><td>⋮</td><td>⋮</td><td>⋮</td><td>⋮</td><td>⋮</td><td>⋮</td><td>⋮</td><td>⋮</td><td>⋮</td><td>⋮</td><td>⋮</td><td>⋮</td><td>⋮</td><td>⋮</td></tr>\n",
       "\t<tr><td>3</td><td>13.27</td><td>4.28</td><td>2.26</td><td>20.0</td><td>120</td><td>1.59</td><td>0.69</td><td>0.43</td><td>1.35</td><td>10.2</td><td>0.59</td><td>1.56</td><td>835</td></tr>\n",
       "\t<tr><td>3</td><td>13.17</td><td>2.59</td><td>2.37</td><td>20.0</td><td>120</td><td>1.65</td><td>0.68</td><td>0.53</td><td>1.46</td><td> 9.3</td><td>0.60</td><td>1.62</td><td>840</td></tr>\n",
       "\t<tr><td>3</td><td>14.13</td><td>4.10</td><td>2.74</td><td>24.5</td><td> 96</td><td>2.05</td><td>0.76</td><td>0.56</td><td>1.35</td><td> 9.2</td><td>0.61</td><td>1.60</td><td>560</td></tr>\n",
       "</tbody>\n",
       "</table>\n"
      ],
      "text/latex": [
       "A tibble: 178 × 14\n",
       "\\begin{tabular}{llllllllllllll}\n",
       " class & alcohol & malic.acid & ash & alcalinity.of.ash & magnesium & total.phenols & flavanoids & nonfalvanoid.phenols & proanthocyanins & color.intensity & hue & OD280.OD315.of.diluted.wines & proline\\\\\n",
       " <fct> & <dbl> & <dbl> & <dbl> & <dbl> & <dbl> & <dbl> & <dbl> & <dbl> & <dbl> & <dbl> & <dbl> & <dbl> & <dbl>\\\\\n",
       "\\hline\n",
       "\t 1 & 14.23 & 1.71 & 2.43 & 15.6 & 127 & 2.80 & 3.06 & 0.28 & 2.29 & 5.64 & 1.04 & 3.92 & 1065\\\\\n",
       "\t 1 & 13.20 & 1.78 & 2.14 & 11.2 & 100 & 2.65 & 2.76 & 0.26 & 1.28 & 4.38 & 1.05 & 3.40 & 1050\\\\\n",
       "\t 1 & 13.16 & 2.36 & 2.67 & 18.6 & 101 & 2.80 & 3.24 & 0.30 & 2.81 & 5.68 & 1.03 & 3.17 & 1185\\\\\n",
       "\t ⋮ & ⋮ & ⋮ & ⋮ & ⋮ & ⋮ & ⋮ & ⋮ & ⋮ & ⋮ & ⋮ & ⋮ & ⋮ & ⋮\\\\\n",
       "\t 3 & 13.27 & 4.28 & 2.26 & 20.0 & 120 & 1.59 & 0.69 & 0.43 & 1.35 & 10.2 & 0.59 & 1.56 & 835\\\\\n",
       "\t 3 & 13.17 & 2.59 & 2.37 & 20.0 & 120 & 1.65 & 0.68 & 0.53 & 1.46 &  9.3 & 0.60 & 1.62 & 840\\\\\n",
       "\t 3 & 14.13 & 4.10 & 2.74 & 24.5 &  96 & 2.05 & 0.76 & 0.56 & 1.35 &  9.2 & 0.61 & 1.60 & 560\\\\\n",
       "\\end{tabular}\n"
      ],
      "text/markdown": [
       "\n",
       "A tibble: 178 × 14\n",
       "\n",
       "| class &lt;fct&gt; | alcohol &lt;dbl&gt; | malic.acid &lt;dbl&gt; | ash &lt;dbl&gt; | alcalinity.of.ash &lt;dbl&gt; | magnesium &lt;dbl&gt; | total.phenols &lt;dbl&gt; | flavanoids &lt;dbl&gt; | nonfalvanoid.phenols &lt;dbl&gt; | proanthocyanins &lt;dbl&gt; | color.intensity &lt;dbl&gt; | hue &lt;dbl&gt; | OD280.OD315.of.diluted.wines &lt;dbl&gt; | proline &lt;dbl&gt; |\n",
       "|---|---|---|---|---|---|---|---|---|---|---|---|---|---|\n",
       "| 1 | 14.23 | 1.71 | 2.43 | 15.6 | 127 | 2.80 | 3.06 | 0.28 | 2.29 | 5.64 | 1.04 | 3.92 | 1065 |\n",
       "| 1 | 13.20 | 1.78 | 2.14 | 11.2 | 100 | 2.65 | 2.76 | 0.26 | 1.28 | 4.38 | 1.05 | 3.40 | 1050 |\n",
       "| 1 | 13.16 | 2.36 | 2.67 | 18.6 | 101 | 2.80 | 3.24 | 0.30 | 2.81 | 5.68 | 1.03 | 3.17 | 1185 |\n",
       "| ⋮ | ⋮ | ⋮ | ⋮ | ⋮ | ⋮ | ⋮ | ⋮ | ⋮ | ⋮ | ⋮ | ⋮ | ⋮ | ⋮ |\n",
       "| 3 | 13.27 | 4.28 | 2.26 | 20.0 | 120 | 1.59 | 0.69 | 0.43 | 1.35 | 10.2 | 0.59 | 1.56 | 835 |\n",
       "| 3 | 13.17 | 2.59 | 2.37 | 20.0 | 120 | 1.65 | 0.68 | 0.53 | 1.46 |  9.3 | 0.60 | 1.62 | 840 |\n",
       "| 3 | 14.13 | 4.10 | 2.74 | 24.5 |  96 | 2.05 | 0.76 | 0.56 | 1.35 |  9.2 | 0.61 | 1.60 | 560 |\n",
       "\n"
      ],
      "text/plain": [
       "    class alcohol malic.acid ash  alcalinity.of.ash magnesium total.phenols\n",
       "1   1     14.23   1.71       2.43 15.6              127       2.80         \n",
       "2   1     13.20   1.78       2.14 11.2              100       2.65         \n",
       "3   1     13.16   2.36       2.67 18.6              101       2.80         \n",
       "⋮   ⋮     ⋮       ⋮          ⋮    ⋮                 ⋮         ⋮            \n",
       "176 3     13.27   4.28       2.26 20.0              120       1.59         \n",
       "177 3     13.17   2.59       2.37 20.0              120       1.65         \n",
       "178 3     14.13   4.10       2.74 24.5               96       2.05         \n",
       "    flavanoids nonfalvanoid.phenols proanthocyanins color.intensity hue \n",
       "1   3.06       0.28                 2.29            5.64            1.04\n",
       "2   2.76       0.26                 1.28            4.38            1.05\n",
       "3   3.24       0.30                 2.81            5.68            1.03\n",
       "⋮   ⋮          ⋮                    ⋮               ⋮               ⋮   \n",
       "176 0.69       0.43                 1.35            10.2            0.59\n",
       "177 0.68       0.53                 1.46             9.3            0.60\n",
       "178 0.76       0.56                 1.35             9.2            0.61\n",
       "    OD280.OD315.of.diluted.wines proline\n",
       "1   3.92                         1065   \n",
       "2   3.40                         1050   \n",
       "3   3.17                         1185   \n",
       "⋮   ⋮                            ⋮      \n",
       "176 1.56                         835    \n",
       "177 1.62                         840    \n",
       "178 1.60                         560    "
      ]
     },
     "metadata": {},
     "output_type": "display_data"
    }
   ],
   "source": [
    "wine_data <- read_delim(\"https://archive.ics.uci.edu/ml/machine-learning-databases/wine/wine.data\", col_names = FALSE) |>\n",
    "    mutate(X1 = as_factor(X1))\n",
    "colnames(wine_data) <- c(\"class\",\"alcohol\", \"malic.acid\", \"ash\", \"alcalinity.of.ash\",\"magnesium\", \"total.phenols\",\n",
    "                         \"flavanoids\", \"nonfalvanoid.phenols\", \"proanthocyanins\", \"color.intensity\", \"hue\",\n",
    "                         \"OD280.OD315.of.diluted.wines\", \"proline\")\n",
    "wine_data"
   ]
  },
  {
   "cell_type": "code",
   "execution_count": 4,
   "id": "e2d67b1f-7637-440b-8327-3d064b1a9885",
   "metadata": {},
   "outputs": [
    {
     "data": {
      "text/html": [
       "<table class=\"dataframe\">\n",
       "<caption>A tibble: 133 × 14</caption>\n",
       "<thead>\n",
       "\t<tr><th scope=col>class</th><th scope=col>alcohol</th><th scope=col>malic.acid</th><th scope=col>ash</th><th scope=col>alcalinity.of.ash</th><th scope=col>magnesium</th><th scope=col>total.phenols</th><th scope=col>flavanoids</th><th scope=col>nonfalvanoid.phenols</th><th scope=col>proanthocyanins</th><th scope=col>color.intensity</th><th scope=col>hue</th><th scope=col>OD280.OD315.of.diluted.wines</th><th scope=col>proline</th></tr>\n",
       "\t<tr><th scope=col>&lt;fct&gt;</th><th scope=col>&lt;dbl&gt;</th><th scope=col>&lt;dbl&gt;</th><th scope=col>&lt;dbl&gt;</th><th scope=col>&lt;dbl&gt;</th><th scope=col>&lt;dbl&gt;</th><th scope=col>&lt;dbl&gt;</th><th scope=col>&lt;dbl&gt;</th><th scope=col>&lt;dbl&gt;</th><th scope=col>&lt;dbl&gt;</th><th scope=col>&lt;dbl&gt;</th><th scope=col>&lt;dbl&gt;</th><th scope=col>&lt;dbl&gt;</th><th scope=col>&lt;dbl&gt;</th></tr>\n",
       "</thead>\n",
       "<tbody>\n",
       "\t<tr><td>1</td><td>14.23</td><td>1.71</td><td>2.43</td><td>15.6</td><td>127</td><td>2.80</td><td>3.06</td><td>0.28</td><td>2.29</td><td>5.64</td><td>1.04</td><td>3.92</td><td>1065</td></tr>\n",
       "\t<tr><td>1</td><td>13.20</td><td>1.78</td><td>2.14</td><td>11.2</td><td>100</td><td>2.65</td><td>2.76</td><td>0.26</td><td>1.28</td><td>4.38</td><td>1.05</td><td>3.40</td><td>1050</td></tr>\n",
       "\t<tr><td>1</td><td>13.16</td><td>2.36</td><td>2.67</td><td>18.6</td><td>101</td><td>2.80</td><td>3.24</td><td>0.30</td><td>2.81</td><td>5.68</td><td>1.03</td><td>3.17</td><td>1185</td></tr>\n",
       "\t<tr><td>⋮</td><td>⋮</td><td>⋮</td><td>⋮</td><td>⋮</td><td>⋮</td><td>⋮</td><td>⋮</td><td>⋮</td><td>⋮</td><td>⋮</td><td>⋮</td><td>⋮</td><td>⋮</td></tr>\n",
       "\t<tr><td>3</td><td>13.40</td><td>3.91</td><td>2.48</td><td>23.0</td><td>102</td><td>1.80</td><td>0.75</td><td>0.43</td><td>1.41</td><td>7.3</td><td>0.70</td><td>1.56</td><td>750</td></tr>\n",
       "\t<tr><td>3</td><td>13.17</td><td>2.59</td><td>2.37</td><td>20.0</td><td>120</td><td>1.65</td><td>0.68</td><td>0.53</td><td>1.46</td><td>9.3</td><td>0.60</td><td>1.62</td><td>840</td></tr>\n",
       "\t<tr><td>3</td><td>14.13</td><td>4.10</td><td>2.74</td><td>24.5</td><td> 96</td><td>2.05</td><td>0.76</td><td>0.56</td><td>1.35</td><td>9.2</td><td>0.61</td><td>1.60</td><td>560</td></tr>\n",
       "</tbody>\n",
       "</table>\n"
      ],
      "text/latex": [
       "A tibble: 133 × 14\n",
       "\\begin{tabular}{llllllllllllll}\n",
       " class & alcohol & malic.acid & ash & alcalinity.of.ash & magnesium & total.phenols & flavanoids & nonfalvanoid.phenols & proanthocyanins & color.intensity & hue & OD280.OD315.of.diluted.wines & proline\\\\\n",
       " <fct> & <dbl> & <dbl> & <dbl> & <dbl> & <dbl> & <dbl> & <dbl> & <dbl> & <dbl> & <dbl> & <dbl> & <dbl> & <dbl>\\\\\n",
       "\\hline\n",
       "\t 1 & 14.23 & 1.71 & 2.43 & 15.6 & 127 & 2.80 & 3.06 & 0.28 & 2.29 & 5.64 & 1.04 & 3.92 & 1065\\\\\n",
       "\t 1 & 13.20 & 1.78 & 2.14 & 11.2 & 100 & 2.65 & 2.76 & 0.26 & 1.28 & 4.38 & 1.05 & 3.40 & 1050\\\\\n",
       "\t 1 & 13.16 & 2.36 & 2.67 & 18.6 & 101 & 2.80 & 3.24 & 0.30 & 2.81 & 5.68 & 1.03 & 3.17 & 1185\\\\\n",
       "\t ⋮ & ⋮ & ⋮ & ⋮ & ⋮ & ⋮ & ⋮ & ⋮ & ⋮ & ⋮ & ⋮ & ⋮ & ⋮ & ⋮\\\\\n",
       "\t 3 & 13.40 & 3.91 & 2.48 & 23.0 & 102 & 1.80 & 0.75 & 0.43 & 1.41 & 7.3 & 0.70 & 1.56 & 750\\\\\n",
       "\t 3 & 13.17 & 2.59 & 2.37 & 20.0 & 120 & 1.65 & 0.68 & 0.53 & 1.46 & 9.3 & 0.60 & 1.62 & 840\\\\\n",
       "\t 3 & 14.13 & 4.10 & 2.74 & 24.5 &  96 & 2.05 & 0.76 & 0.56 & 1.35 & 9.2 & 0.61 & 1.60 & 560\\\\\n",
       "\\end{tabular}\n"
      ],
      "text/markdown": [
       "\n",
       "A tibble: 133 × 14\n",
       "\n",
       "| class &lt;fct&gt; | alcohol &lt;dbl&gt; | malic.acid &lt;dbl&gt; | ash &lt;dbl&gt; | alcalinity.of.ash &lt;dbl&gt; | magnesium &lt;dbl&gt; | total.phenols &lt;dbl&gt; | flavanoids &lt;dbl&gt; | nonfalvanoid.phenols &lt;dbl&gt; | proanthocyanins &lt;dbl&gt; | color.intensity &lt;dbl&gt; | hue &lt;dbl&gt; | OD280.OD315.of.diluted.wines &lt;dbl&gt; | proline &lt;dbl&gt; |\n",
       "|---|---|---|---|---|---|---|---|---|---|---|---|---|---|\n",
       "| 1 | 14.23 | 1.71 | 2.43 | 15.6 | 127 | 2.80 | 3.06 | 0.28 | 2.29 | 5.64 | 1.04 | 3.92 | 1065 |\n",
       "| 1 | 13.20 | 1.78 | 2.14 | 11.2 | 100 | 2.65 | 2.76 | 0.26 | 1.28 | 4.38 | 1.05 | 3.40 | 1050 |\n",
       "| 1 | 13.16 | 2.36 | 2.67 | 18.6 | 101 | 2.80 | 3.24 | 0.30 | 2.81 | 5.68 | 1.03 | 3.17 | 1185 |\n",
       "| ⋮ | ⋮ | ⋮ | ⋮ | ⋮ | ⋮ | ⋮ | ⋮ | ⋮ | ⋮ | ⋮ | ⋮ | ⋮ | ⋮ |\n",
       "| 3 | 13.40 | 3.91 | 2.48 | 23.0 | 102 | 1.80 | 0.75 | 0.43 | 1.41 | 7.3 | 0.70 | 1.56 | 750 |\n",
       "| 3 | 13.17 | 2.59 | 2.37 | 20.0 | 120 | 1.65 | 0.68 | 0.53 | 1.46 | 9.3 | 0.60 | 1.62 | 840 |\n",
       "| 3 | 14.13 | 4.10 | 2.74 | 24.5 |  96 | 2.05 | 0.76 | 0.56 | 1.35 | 9.2 | 0.61 | 1.60 | 560 |\n",
       "\n"
      ],
      "text/plain": [
       "    class alcohol malic.acid ash  alcalinity.of.ash magnesium total.phenols\n",
       "1   1     14.23   1.71       2.43 15.6              127       2.80         \n",
       "2   1     13.20   1.78       2.14 11.2              100       2.65         \n",
       "3   1     13.16   2.36       2.67 18.6              101       2.80         \n",
       "⋮   ⋮     ⋮       ⋮          ⋮    ⋮                 ⋮         ⋮            \n",
       "131 3     13.40   3.91       2.48 23.0              102       1.80         \n",
       "132 3     13.17   2.59       2.37 20.0              120       1.65         \n",
       "133 3     14.13   4.10       2.74 24.5               96       2.05         \n",
       "    flavanoids nonfalvanoid.phenols proanthocyanins color.intensity hue \n",
       "1   3.06       0.28                 2.29            5.64            1.04\n",
       "2   2.76       0.26                 1.28            4.38            1.05\n",
       "3   3.24       0.30                 2.81            5.68            1.03\n",
       "⋮   ⋮          ⋮                    ⋮               ⋮               ⋮   \n",
       "131 0.75       0.43                 1.41            7.3             0.70\n",
       "132 0.68       0.53                 1.46            9.3             0.60\n",
       "133 0.76       0.56                 1.35            9.2             0.61\n",
       "    OD280.OD315.of.diluted.wines proline\n",
       "1   3.92                         1065   \n",
       "2   3.40                         1050   \n",
       "3   3.17                         1185   \n",
       "⋮   ⋮                            ⋮      \n",
       "131 1.56                         750    \n",
       "132 1.62                         840    \n",
       "133 1.60                         560    "
      ]
     },
     "metadata": {},
     "output_type": "display_data"
    },
    {
     "data": {
      "text/html": [
       "<table class=\"dataframe\">\n",
       "<caption>A tibble: 45 × 14</caption>\n",
       "<thead>\n",
       "\t<tr><th scope=col>class</th><th scope=col>alcohol</th><th scope=col>malic.acid</th><th scope=col>ash</th><th scope=col>alcalinity.of.ash</th><th scope=col>magnesium</th><th scope=col>total.phenols</th><th scope=col>flavanoids</th><th scope=col>nonfalvanoid.phenols</th><th scope=col>proanthocyanins</th><th scope=col>color.intensity</th><th scope=col>hue</th><th scope=col>OD280.OD315.of.diluted.wines</th><th scope=col>proline</th></tr>\n",
       "\t<tr><th scope=col>&lt;fct&gt;</th><th scope=col>&lt;dbl&gt;</th><th scope=col>&lt;dbl&gt;</th><th scope=col>&lt;dbl&gt;</th><th scope=col>&lt;dbl&gt;</th><th scope=col>&lt;dbl&gt;</th><th scope=col>&lt;dbl&gt;</th><th scope=col>&lt;dbl&gt;</th><th scope=col>&lt;dbl&gt;</th><th scope=col>&lt;dbl&gt;</th><th scope=col>&lt;dbl&gt;</th><th scope=col>&lt;dbl&gt;</th><th scope=col>&lt;dbl&gt;</th><th scope=col>&lt;dbl&gt;</th></tr>\n",
       "</thead>\n",
       "<tbody>\n",
       "\t<tr><td>1</td><td>14.20</td><td>1.76</td><td>2.45</td><td>15.2</td><td>112</td><td>3.27</td><td>3.39</td><td>0.34</td><td>1.97</td><td>6.75</td><td>1.05</td><td>2.85</td><td>1450</td></tr>\n",
       "\t<tr><td>1</td><td>14.12</td><td>1.48</td><td>2.32</td><td>16.8</td><td> 95</td><td>2.20</td><td>2.43</td><td>0.26</td><td>1.57</td><td>5.00</td><td>1.17</td><td>2.82</td><td>1280</td></tr>\n",
       "\t<tr><td>1</td><td>14.38</td><td>1.87</td><td>2.38</td><td>12.0</td><td>102</td><td>3.30</td><td>3.64</td><td>0.29</td><td>2.96</td><td>7.50</td><td>1.20</td><td>3.00</td><td>1547</td></tr>\n",
       "\t<tr><td>⋮</td><td>⋮</td><td>⋮</td><td>⋮</td><td>⋮</td><td>⋮</td><td>⋮</td><td>⋮</td><td>⋮</td><td>⋮</td><td>⋮</td><td>⋮</td><td>⋮</td><td>⋮</td></tr>\n",
       "\t<tr><td>3</td><td>12.82</td><td>3.37</td><td>2.30</td><td>19.5</td><td> 88</td><td>1.48</td><td>0.66</td><td>0.40</td><td>0.97</td><td>10.26</td><td>0.72</td><td>1.75</td><td>685</td></tr>\n",
       "\t<tr><td>3</td><td>14.16</td><td>2.51</td><td>2.48</td><td>20.0</td><td> 91</td><td>1.68</td><td>0.70</td><td>0.44</td><td>1.24</td><td> 9.70</td><td>0.62</td><td>1.71</td><td>660</td></tr>\n",
       "\t<tr><td>3</td><td>13.27</td><td>4.28</td><td>2.26</td><td>20.0</td><td>120</td><td>1.59</td><td>0.69</td><td>0.43</td><td>1.35</td><td>10.20</td><td>0.59</td><td>1.56</td><td>835</td></tr>\n",
       "</tbody>\n",
       "</table>\n"
      ],
      "text/latex": [
       "A tibble: 45 × 14\n",
       "\\begin{tabular}{llllllllllllll}\n",
       " class & alcohol & malic.acid & ash & alcalinity.of.ash & magnesium & total.phenols & flavanoids & nonfalvanoid.phenols & proanthocyanins & color.intensity & hue & OD280.OD315.of.diluted.wines & proline\\\\\n",
       " <fct> & <dbl> & <dbl> & <dbl> & <dbl> & <dbl> & <dbl> & <dbl> & <dbl> & <dbl> & <dbl> & <dbl> & <dbl> & <dbl>\\\\\n",
       "\\hline\n",
       "\t 1 & 14.20 & 1.76 & 2.45 & 15.2 & 112 & 3.27 & 3.39 & 0.34 & 1.97 & 6.75 & 1.05 & 2.85 & 1450\\\\\n",
       "\t 1 & 14.12 & 1.48 & 2.32 & 16.8 &  95 & 2.20 & 2.43 & 0.26 & 1.57 & 5.00 & 1.17 & 2.82 & 1280\\\\\n",
       "\t 1 & 14.38 & 1.87 & 2.38 & 12.0 & 102 & 3.30 & 3.64 & 0.29 & 2.96 & 7.50 & 1.20 & 3.00 & 1547\\\\\n",
       "\t ⋮ & ⋮ & ⋮ & ⋮ & ⋮ & ⋮ & ⋮ & ⋮ & ⋮ & ⋮ & ⋮ & ⋮ & ⋮ & ⋮\\\\\n",
       "\t 3 & 12.82 & 3.37 & 2.30 & 19.5 &  88 & 1.48 & 0.66 & 0.40 & 0.97 & 10.26 & 0.72 & 1.75 & 685\\\\\n",
       "\t 3 & 14.16 & 2.51 & 2.48 & 20.0 &  91 & 1.68 & 0.70 & 0.44 & 1.24 &  9.70 & 0.62 & 1.71 & 660\\\\\n",
       "\t 3 & 13.27 & 4.28 & 2.26 & 20.0 & 120 & 1.59 & 0.69 & 0.43 & 1.35 & 10.20 & 0.59 & 1.56 & 835\\\\\n",
       "\\end{tabular}\n"
      ],
      "text/markdown": [
       "\n",
       "A tibble: 45 × 14\n",
       "\n",
       "| class &lt;fct&gt; | alcohol &lt;dbl&gt; | malic.acid &lt;dbl&gt; | ash &lt;dbl&gt; | alcalinity.of.ash &lt;dbl&gt; | magnesium &lt;dbl&gt; | total.phenols &lt;dbl&gt; | flavanoids &lt;dbl&gt; | nonfalvanoid.phenols &lt;dbl&gt; | proanthocyanins &lt;dbl&gt; | color.intensity &lt;dbl&gt; | hue &lt;dbl&gt; | OD280.OD315.of.diluted.wines &lt;dbl&gt; | proline &lt;dbl&gt; |\n",
       "|---|---|---|---|---|---|---|---|---|---|---|---|---|---|\n",
       "| 1 | 14.20 | 1.76 | 2.45 | 15.2 | 112 | 3.27 | 3.39 | 0.34 | 1.97 | 6.75 | 1.05 | 2.85 | 1450 |\n",
       "| 1 | 14.12 | 1.48 | 2.32 | 16.8 |  95 | 2.20 | 2.43 | 0.26 | 1.57 | 5.00 | 1.17 | 2.82 | 1280 |\n",
       "| 1 | 14.38 | 1.87 | 2.38 | 12.0 | 102 | 3.30 | 3.64 | 0.29 | 2.96 | 7.50 | 1.20 | 3.00 | 1547 |\n",
       "| ⋮ | ⋮ | ⋮ | ⋮ | ⋮ | ⋮ | ⋮ | ⋮ | ⋮ | ⋮ | ⋮ | ⋮ | ⋮ | ⋮ |\n",
       "| 3 | 12.82 | 3.37 | 2.30 | 19.5 |  88 | 1.48 | 0.66 | 0.40 | 0.97 | 10.26 | 0.72 | 1.75 | 685 |\n",
       "| 3 | 14.16 | 2.51 | 2.48 | 20.0 |  91 | 1.68 | 0.70 | 0.44 | 1.24 |  9.70 | 0.62 | 1.71 | 660 |\n",
       "| 3 | 13.27 | 4.28 | 2.26 | 20.0 | 120 | 1.59 | 0.69 | 0.43 | 1.35 | 10.20 | 0.59 | 1.56 | 835 |\n",
       "\n"
      ],
      "text/plain": [
       "   class alcohol malic.acid ash  alcalinity.of.ash magnesium total.phenols\n",
       "1  1     14.20   1.76       2.45 15.2              112       3.27         \n",
       "2  1     14.12   1.48       2.32 16.8               95       2.20         \n",
       "3  1     14.38   1.87       2.38 12.0              102       3.30         \n",
       "⋮  ⋮     ⋮       ⋮          ⋮    ⋮                 ⋮         ⋮            \n",
       "43 3     12.82   3.37       2.30 19.5               88       1.48         \n",
       "44 3     14.16   2.51       2.48 20.0               91       1.68         \n",
       "45 3     13.27   4.28       2.26 20.0              120       1.59         \n",
       "   flavanoids nonfalvanoid.phenols proanthocyanins color.intensity hue \n",
       "1  3.39       0.34                 1.97            6.75            1.05\n",
       "2  2.43       0.26                 1.57            5.00            1.17\n",
       "3  3.64       0.29                 2.96            7.50            1.20\n",
       "⋮  ⋮          ⋮                    ⋮               ⋮               ⋮   \n",
       "43 0.66       0.40                 0.97            10.26           0.72\n",
       "44 0.70       0.44                 1.24             9.70           0.62\n",
       "45 0.69       0.43                 1.35            10.20           0.59\n",
       "   OD280.OD315.of.diluted.wines proline\n",
       "1  2.85                         1450   \n",
       "2  2.82                         1280   \n",
       "3  3.00                         1547   \n",
       "⋮  ⋮                            ⋮      \n",
       "43 1.75                         685    \n",
       "44 1.71                         660    \n",
       "45 1.56                         835    "
      ]
     },
     "metadata": {},
     "output_type": "display_data"
    }
   ],
   "source": [
    "set.seed(117)\n",
    "wine_split <- initial_split(wine_data, prop = 0.75, strata = class)  \n",
    "wine_training <- training(wine_split)   \n",
    "wine_testing <- testing(wine_split)\n",
    "wine_training\n",
    "wine_testing"
   ]
  },
  {
   "cell_type": "code",
   "execution_count": 5,
   "id": "67aa6255-008b-48f1-9ce7-192e97906249",
   "metadata": {},
   "outputs": [
    {
     "data": {
      "text/html": [
       "<table class=\"dataframe\">\n",
       "<caption>A tibble: 13 × 5</caption>\n",
       "<thead>\n",
       "\t<tr><th scope=col>attribute</th><th scope=col>min</th><th scope=col>max</th><th scope=col>mean</th><th scope=col>sd</th></tr>\n",
       "\t<tr><th scope=col>&lt;chr&gt;</th><th scope=col>&lt;dbl&gt;</th><th scope=col>&lt;dbl&gt;</th><th scope=col>&lt;dbl&gt;</th><th scope=col>&lt;dbl&gt;</th></tr>\n",
       "</thead>\n",
       "<tbody>\n",
       "\t<tr><td>alcohol   </td><td>11.03</td><td>14.83</td><td>12.996767</td><td>0.8092089</td></tr>\n",
       "\t<tr><td>malic.acid</td><td> 0.74</td><td> 5.80</td><td> 2.346842</td><td>1.1367047</td></tr>\n",
       "\t<tr><td>ash       </td><td> 1.70</td><td> 3.23</td><td> 2.369323</td><td>0.2805357</td></tr>\n",
       "\t<tr><td>⋮</td><td>⋮</td><td>⋮</td><td>⋮</td><td>⋮</td></tr>\n",
       "\t<tr><td>hue                         </td><td>  0.48</td><td>   1.71</td><td>  0.9576391</td><td>  0.2316733</td></tr>\n",
       "\t<tr><td>OD280.OD315.of.diluted.wines</td><td>  1.27</td><td>   4.00</td><td>  2.6219549</td><td>  0.7238538</td></tr>\n",
       "\t<tr><td>proline                     </td><td>278.00</td><td>1680.00</td><td>736.4285714</td><td>314.8164276</td></tr>\n",
       "</tbody>\n",
       "</table>\n"
      ],
      "text/latex": [
       "A tibble: 13 × 5\n",
       "\\begin{tabular}{lllll}\n",
       " attribute & min & max & mean & sd\\\\\n",
       " <chr> & <dbl> & <dbl> & <dbl> & <dbl>\\\\\n",
       "\\hline\n",
       "\t alcohol    & 11.03 & 14.83 & 12.996767 & 0.8092089\\\\\n",
       "\t malic.acid &  0.74 &  5.80 &  2.346842 & 1.1367047\\\\\n",
       "\t ash        &  1.70 &  3.23 &  2.369323 & 0.2805357\\\\\n",
       "\t ⋮ & ⋮ & ⋮ & ⋮ & ⋮\\\\\n",
       "\t hue                          &   0.48 &    1.71 &   0.9576391 &   0.2316733\\\\\n",
       "\t OD280.OD315.of.diluted.wines &   1.27 &    4.00 &   2.6219549 &   0.7238538\\\\\n",
       "\t proline                      & 278.00 & 1680.00 & 736.4285714 & 314.8164276\\\\\n",
       "\\end{tabular}\n"
      ],
      "text/markdown": [
       "\n",
       "A tibble: 13 × 5\n",
       "\n",
       "| attribute &lt;chr&gt; | min &lt;dbl&gt; | max &lt;dbl&gt; | mean &lt;dbl&gt; | sd &lt;dbl&gt; |\n",
       "|---|---|---|---|---|\n",
       "| alcohol    | 11.03 | 14.83 | 12.996767 | 0.8092089 |\n",
       "| malic.acid |  0.74 |  5.80 |  2.346842 | 1.1367047 |\n",
       "| ash        |  1.70 |  3.23 |  2.369323 | 0.2805357 |\n",
       "| ⋮ | ⋮ | ⋮ | ⋮ | ⋮ |\n",
       "| hue                          |   0.48 |    1.71 |   0.9576391 |   0.2316733 |\n",
       "| OD280.OD315.of.diluted.wines |   1.27 |    4.00 |   2.6219549 |   0.7238538 |\n",
       "| proline                      | 278.00 | 1680.00 | 736.4285714 | 314.8164276 |\n",
       "\n"
      ],
      "text/plain": [
       "   attribute                    min    max     mean        sd         \n",
       "1  alcohol                      11.03  14.83   12.996767   0.8092089  \n",
       "2  malic.acid                    0.74   5.80    2.346842   1.1367047  \n",
       "3  ash                           1.70   3.23    2.369323   0.2805357  \n",
       "⋮  ⋮                            ⋮      ⋮       ⋮           ⋮          \n",
       "11 hue                            0.48    1.71   0.9576391   0.2316733\n",
       "12 OD280.OD315.of.diluted.wines   1.27    4.00   2.6219549   0.7238538\n",
       "13 proline                      278.00 1680.00 736.4285714 314.8164276"
      ]
     },
     "metadata": {},
     "output_type": "display_data"
    },
    {
     "data": {
      "text/html": [
       "<table class=\"dataframe\">\n",
       "<caption>A tibble: 3 × 2</caption>\n",
       "<thead>\n",
       "\t<tr><th scope=col>class</th><th scope=col>n</th></tr>\n",
       "\t<tr><th scope=col>&lt;fct&gt;</th><th scope=col>&lt;int&gt;</th></tr>\n",
       "</thead>\n",
       "<tbody>\n",
       "\t<tr><td>1</td><td>44</td></tr>\n",
       "\t<tr><td>2</td><td>53</td></tr>\n",
       "\t<tr><td>3</td><td>36</td></tr>\n",
       "</tbody>\n",
       "</table>\n"
      ],
      "text/latex": [
       "A tibble: 3 × 2\n",
       "\\begin{tabular}{ll}\n",
       " class & n\\\\\n",
       " <fct> & <int>\\\\\n",
       "\\hline\n",
       "\t 1 & 44\\\\\n",
       "\t 2 & 53\\\\\n",
       "\t 3 & 36\\\\\n",
       "\\end{tabular}\n"
      ],
      "text/markdown": [
       "\n",
       "A tibble: 3 × 2\n",
       "\n",
       "| class &lt;fct&gt; | n &lt;int&gt; |\n",
       "|---|---|\n",
       "| 1 | 44 |\n",
       "| 2 | 53 |\n",
       "| 3 | 36 |\n",
       "\n"
      ],
      "text/plain": [
       "  class n \n",
       "1 1     44\n",
       "2 2     53\n",
       "3 3     36"
      ]
     },
     "metadata": {},
     "output_type": "display_data"
    }
   ],
   "source": [
    "wine_mean <- wine_training |>\n",
    "    summarise(across(alcohol:proline, mean)) |>\n",
    "    pivot_longer(cols = alcohol:proline,\n",
    "                 names_to = 'attribute',\n",
    "                 values_to = 'mean') \n",
    "wine_min <- wine_training |>\n",
    "    summarise(across(alcohol:proline, min)) |>\n",
    "    pivot_longer(cols = alcohol:proline,\n",
    "                 names_to = 'attribute',\n",
    "                 values_to = 'min') \n",
    "wine_max <- wine_training |>\n",
    "    summarise(across(alcohol:proline, max)) |>\n",
    "    pivot_longer(cols = alcohol:proline,\n",
    "                 names_to = 'attribute',\n",
    "                 values_to = 'max') \n",
    "wine_sd <- wine_training |>\n",
    "    summarise(across(alcohol:proline, sd)) |>\n",
    "    pivot_longer(cols = alcohol:proline,\n",
    "                 names_to = 'attribute',\n",
    "                 values_to = 'sd') \n",
    "\n",
    "wine_stats <- wine_min |>\n",
    "    bind_cols(wine_max |> select(max)) |>\n",
    "    bind_cols(wine_mean |> select(mean)) |>\n",
    "    bind_cols(wine_sd |> select(sd))\n",
    "\n",
    "wine_stats\n",
    "\n",
    "wine_proportions <- wine_training |>\n",
    "    group_by(class) |>\n",
    "    summarize(n = n())\n",
    "wine_proportions"
   ]
  },
  {
   "cell_type": "markdown",
   "id": "70543a53-b185-472c-98f4-3a809ad54e65",
   "metadata": {},
   "source": [
    "Discussion:\n",
    "\n",
    "    summarize what you found\n",
    "    discuss whether this is what you expected to find?\n",
    "    discuss what impact could such findings have?\n",
    "    discuss what future questions could this lead to?\n",
    "\n",
    "Our model is able to predict the wine class with an accuracy of (insert value here). A new random observation was then classified as (insert value here). These finding are what we expected and could help wine companies manufacture different types of wines according to their composition. Future questions could be about determining which types of wine are easier to produce based on composition.\n"
   ]
  },
  {
   "cell_type": "markdown",
   "id": "5589cb42-8287-443b-a96d-bbc31506bb76",
   "metadata": {},
   "source": [
    "References\n",
    "\n",
    "    At least 2 citations of literature relevant to the project (format is your choice, just be consistent across the references).\n",
    "    Make sure to cite the source of your data as well.\n",
    "\n",
    "1. Dua, D. and Graff, C. (2019). UCI Machine Learning Repository [http://archive.ics.uci.edu/ml]. Irvine, CA: University of California, School of Information and Computer Science. \n",
    "\n",
    "2.\n",
    "\n",
    "3.\n"
   ]
  },
  {
   "cell_type": "markdown",
   "id": "819cceb4-c71e-4ad0-b8c2-24b035e4cf70",
   "metadata": {},
   "source": [
    "### Daniel Part"
   ]
  },
  {
   "cell_type": "markdown",
   "id": "94579d89-76fb-45e5-bb63-39842934f3b7",
   "metadata": {},
   "source": [
    "## We will first explore the data"
   ]
  },
  {
   "cell_type": "code",
   "execution_count": 8,
   "id": "29abcdd3-d530-4284-8b10-fe11ef41facd",
   "metadata": {},
   "outputs": [],
   "source": [
    "library(tidyverse)"
   ]
  },
  {
   "cell_type": "code",
   "execution_count": 9,
   "id": "a8bab049-b319-4f9e-947b-a9376a932679",
   "metadata": {},
   "outputs": [
    {
     "data": {
      "text/html": [
       "<table class=\"dataframe\">\n",
       "<caption>A tibble: 6 × 14</caption>\n",
       "<thead>\n",
       "\t<tr><th scope=col>class</th><th scope=col>alcohol</th><th scope=col>malic.acid</th><th scope=col>ash</th><th scope=col>alcalinity.of.ash</th><th scope=col>magnesium</th><th scope=col>total.phenols</th><th scope=col>flavanoids</th><th scope=col>nonfalvanoid.phenols</th><th scope=col>proanthocyanins</th><th scope=col>color.intensity</th><th scope=col>hue</th><th scope=col>OD280.OD315.of.diluted.wines</th><th scope=col>proline</th></tr>\n",
       "\t<tr><th scope=col>&lt;fct&gt;</th><th scope=col>&lt;dbl&gt;</th><th scope=col>&lt;dbl&gt;</th><th scope=col>&lt;dbl&gt;</th><th scope=col>&lt;dbl&gt;</th><th scope=col>&lt;dbl&gt;</th><th scope=col>&lt;dbl&gt;</th><th scope=col>&lt;dbl&gt;</th><th scope=col>&lt;dbl&gt;</th><th scope=col>&lt;dbl&gt;</th><th scope=col>&lt;dbl&gt;</th><th scope=col>&lt;dbl&gt;</th><th scope=col>&lt;dbl&gt;</th><th scope=col>&lt;dbl&gt;</th></tr>\n",
       "</thead>\n",
       "<tbody>\n",
       "\t<tr><td>1</td><td>14.23</td><td>1.71</td><td>2.43</td><td>15.6</td><td>127</td><td>2.80</td><td>3.06</td><td>0.28</td><td>2.29</td><td>5.64</td><td>1.04</td><td>3.92</td><td>1065</td></tr>\n",
       "\t<tr><td>1</td><td>13.20</td><td>1.78</td><td>2.14</td><td>11.2</td><td>100</td><td>2.65</td><td>2.76</td><td>0.26</td><td>1.28</td><td>4.38</td><td>1.05</td><td>3.40</td><td>1050</td></tr>\n",
       "\t<tr><td>1</td><td>13.16</td><td>2.36</td><td>2.67</td><td>18.6</td><td>101</td><td>2.80</td><td>3.24</td><td>0.30</td><td>2.81</td><td>5.68</td><td>1.03</td><td>3.17</td><td>1185</td></tr>\n",
       "\t<tr><td>1</td><td>14.37</td><td>1.95</td><td>2.50</td><td>16.8</td><td>113</td><td>3.85</td><td>3.49</td><td>0.24</td><td>2.18</td><td>7.80</td><td>0.86</td><td>3.45</td><td>1480</td></tr>\n",
       "\t<tr><td>1</td><td>13.24</td><td>2.59</td><td>2.87</td><td>21.0</td><td>118</td><td>2.80</td><td>2.69</td><td>0.39</td><td>1.82</td><td>4.32</td><td>1.04</td><td>2.93</td><td> 735</td></tr>\n",
       "\t<tr><td>1</td><td>14.20</td><td>1.76</td><td>2.45</td><td>15.2</td><td>112</td><td>3.27</td><td>3.39</td><td>0.34</td><td>1.97</td><td>6.75</td><td>1.05</td><td>2.85</td><td>1450</td></tr>\n",
       "</tbody>\n",
       "</table>\n"
      ],
      "text/latex": [
       "A tibble: 6 × 14\n",
       "\\begin{tabular}{llllllllllllll}\n",
       " class & alcohol & malic.acid & ash & alcalinity.of.ash & magnesium & total.phenols & flavanoids & nonfalvanoid.phenols & proanthocyanins & color.intensity & hue & OD280.OD315.of.diluted.wines & proline\\\\\n",
       " <fct> & <dbl> & <dbl> & <dbl> & <dbl> & <dbl> & <dbl> & <dbl> & <dbl> & <dbl> & <dbl> & <dbl> & <dbl> & <dbl>\\\\\n",
       "\\hline\n",
       "\t 1 & 14.23 & 1.71 & 2.43 & 15.6 & 127 & 2.80 & 3.06 & 0.28 & 2.29 & 5.64 & 1.04 & 3.92 & 1065\\\\\n",
       "\t 1 & 13.20 & 1.78 & 2.14 & 11.2 & 100 & 2.65 & 2.76 & 0.26 & 1.28 & 4.38 & 1.05 & 3.40 & 1050\\\\\n",
       "\t 1 & 13.16 & 2.36 & 2.67 & 18.6 & 101 & 2.80 & 3.24 & 0.30 & 2.81 & 5.68 & 1.03 & 3.17 & 1185\\\\\n",
       "\t 1 & 14.37 & 1.95 & 2.50 & 16.8 & 113 & 3.85 & 3.49 & 0.24 & 2.18 & 7.80 & 0.86 & 3.45 & 1480\\\\\n",
       "\t 1 & 13.24 & 2.59 & 2.87 & 21.0 & 118 & 2.80 & 2.69 & 0.39 & 1.82 & 4.32 & 1.04 & 2.93 &  735\\\\\n",
       "\t 1 & 14.20 & 1.76 & 2.45 & 15.2 & 112 & 3.27 & 3.39 & 0.34 & 1.97 & 6.75 & 1.05 & 2.85 & 1450\\\\\n",
       "\\end{tabular}\n"
      ],
      "text/markdown": [
       "\n",
       "A tibble: 6 × 14\n",
       "\n",
       "| class &lt;fct&gt; | alcohol &lt;dbl&gt; | malic.acid &lt;dbl&gt; | ash &lt;dbl&gt; | alcalinity.of.ash &lt;dbl&gt; | magnesium &lt;dbl&gt; | total.phenols &lt;dbl&gt; | flavanoids &lt;dbl&gt; | nonfalvanoid.phenols &lt;dbl&gt; | proanthocyanins &lt;dbl&gt; | color.intensity &lt;dbl&gt; | hue &lt;dbl&gt; | OD280.OD315.of.diluted.wines &lt;dbl&gt; | proline &lt;dbl&gt; |\n",
       "|---|---|---|---|---|---|---|---|---|---|---|---|---|---|\n",
       "| 1 | 14.23 | 1.71 | 2.43 | 15.6 | 127 | 2.80 | 3.06 | 0.28 | 2.29 | 5.64 | 1.04 | 3.92 | 1065 |\n",
       "| 1 | 13.20 | 1.78 | 2.14 | 11.2 | 100 | 2.65 | 2.76 | 0.26 | 1.28 | 4.38 | 1.05 | 3.40 | 1050 |\n",
       "| 1 | 13.16 | 2.36 | 2.67 | 18.6 | 101 | 2.80 | 3.24 | 0.30 | 2.81 | 5.68 | 1.03 | 3.17 | 1185 |\n",
       "| 1 | 14.37 | 1.95 | 2.50 | 16.8 | 113 | 3.85 | 3.49 | 0.24 | 2.18 | 7.80 | 0.86 | 3.45 | 1480 |\n",
       "| 1 | 13.24 | 2.59 | 2.87 | 21.0 | 118 | 2.80 | 2.69 | 0.39 | 1.82 | 4.32 | 1.04 | 2.93 |  735 |\n",
       "| 1 | 14.20 | 1.76 | 2.45 | 15.2 | 112 | 3.27 | 3.39 | 0.34 | 1.97 | 6.75 | 1.05 | 2.85 | 1450 |\n",
       "\n"
      ],
      "text/plain": [
       "  class alcohol malic.acid ash  alcalinity.of.ash magnesium total.phenols\n",
       "1 1     14.23   1.71       2.43 15.6              127       2.80         \n",
       "2 1     13.20   1.78       2.14 11.2              100       2.65         \n",
       "3 1     13.16   2.36       2.67 18.6              101       2.80         \n",
       "4 1     14.37   1.95       2.50 16.8              113       3.85         \n",
       "5 1     13.24   2.59       2.87 21.0              118       2.80         \n",
       "6 1     14.20   1.76       2.45 15.2              112       3.27         \n",
       "  flavanoids nonfalvanoid.phenols proanthocyanins color.intensity hue \n",
       "1 3.06       0.28                 2.29            5.64            1.04\n",
       "2 2.76       0.26                 1.28            4.38            1.05\n",
       "3 3.24       0.30                 2.81            5.68            1.03\n",
       "4 3.49       0.24                 2.18            7.80            0.86\n",
       "5 2.69       0.39                 1.82            4.32            1.04\n",
       "6 3.39       0.34                 1.97            6.75            1.05\n",
       "  OD280.OD315.of.diluted.wines proline\n",
       "1 3.92                         1065   \n",
       "2 3.40                         1050   \n",
       "3 3.17                         1185   \n",
       "4 3.45                         1480   \n",
       "5 2.93                          735   \n",
       "6 2.85                         1450   "
      ]
     },
     "metadata": {},
     "output_type": "display_data"
    }
   ],
   "source": [
    "head(wine_data)"
   ]
  },
  {
   "cell_type": "code",
   "execution_count": 10,
   "id": "2d392d6d-b734-4b26-80e8-38e3ca813cc7",
   "metadata": {},
   "outputs": [
    {
     "name": "stdout",
     "output_type": "stream",
     "text": [
      "Rows: 178\n",
      "Columns: 14\n",
      "$ class                        \u001b[3m\u001b[90m<fct>\u001b[39m\u001b[23m 1, 1, 1, 1, 1, 1, 1, 1, 1, 1, 1, 1, 1, 1,…\n",
      "$ alcohol                      \u001b[3m\u001b[90m<dbl>\u001b[39m\u001b[23m 14.23, 13.20, 13.16, 14.37, 13.24, 14.20,…\n",
      "$ malic.acid                   \u001b[3m\u001b[90m<dbl>\u001b[39m\u001b[23m 1.71, 1.78, 2.36, 1.95, 2.59, 1.76, 1.87,…\n",
      "$ ash                          \u001b[3m\u001b[90m<dbl>\u001b[39m\u001b[23m 2.43, 2.14, 2.67, 2.50, 2.87, 2.45, 2.45,…\n",
      "$ alcalinity.of.ash            \u001b[3m\u001b[90m<dbl>\u001b[39m\u001b[23m 15.6, 11.2, 18.6, 16.8, 21.0, 15.2, 14.6,…\n",
      "$ magnesium                    \u001b[3m\u001b[90m<dbl>\u001b[39m\u001b[23m 127, 100, 101, 113, 118, 112, 96, 121, 97…\n",
      "$ total.phenols                \u001b[3m\u001b[90m<dbl>\u001b[39m\u001b[23m 2.80, 2.65, 2.80, 3.85, 2.80, 3.27, 2.50,…\n",
      "$ flavanoids                   \u001b[3m\u001b[90m<dbl>\u001b[39m\u001b[23m 3.06, 2.76, 3.24, 3.49, 2.69, 3.39, 2.52,…\n",
      "$ nonfalvanoid.phenols         \u001b[3m\u001b[90m<dbl>\u001b[39m\u001b[23m 0.28, 0.26, 0.30, 0.24, 0.39, 0.34, 0.30,…\n",
      "$ proanthocyanins              \u001b[3m\u001b[90m<dbl>\u001b[39m\u001b[23m 2.29, 1.28, 2.81, 2.18, 1.82, 1.97, 1.98,…\n",
      "$ color.intensity              \u001b[3m\u001b[90m<dbl>\u001b[39m\u001b[23m 5.64, 4.38, 5.68, 7.80, 4.32, 6.75, 5.25,…\n",
      "$ hue                          \u001b[3m\u001b[90m<dbl>\u001b[39m\u001b[23m 1.04, 1.05, 1.03, 0.86, 1.04, 1.05, 1.02,…\n",
      "$ OD280.OD315.of.diluted.wines \u001b[3m\u001b[90m<dbl>\u001b[39m\u001b[23m 3.92, 3.40, 3.17, 3.45, 2.93, 2.85, 3.58,…\n",
      "$ proline                      \u001b[3m\u001b[90m<dbl>\u001b[39m\u001b[23m 1065, 1050, 1185, 1480, 735, 1450, 1290, …\n"
     ]
    }
   ],
   "source": [
    "glimpse(wine_data)"
   ]
  },
  {
   "cell_type": "code",
   "execution_count": 14,
   "id": "1b511b52-95ba-4775-b6b2-f39e804e8750",
   "metadata": {},
   "outputs": [
    {
     "data": {
      "text/html": [
       "<style>\n",
       ".list-inline {list-style: none; margin:0; padding: 0}\n",
       ".list-inline>li {display: inline-block}\n",
       ".list-inline>li:not(:last-child)::after {content: \"\\00b7\"; padding: 0 .5ex}\n",
       "</style>\n",
       "<ol class=list-inline><li>'1'</li><li>'2'</li><li>'3'</li></ol>\n"
      ],
      "text/latex": [
       "\\begin{enumerate*}\n",
       "\\item '1'\n",
       "\\item '2'\n",
       "\\item '3'\n",
       "\\end{enumerate*}\n"
      ],
      "text/markdown": [
       "1. '1'\n",
       "2. '2'\n",
       "3. '3'\n",
       "\n",
       "\n"
      ],
      "text/plain": [
       "[1] \"1\" \"2\" \"3\""
      ]
     },
     "metadata": {},
     "output_type": "display_data"
    }
   ],
   "source": [
    "wine_data |>\n",
    "    pull(class) |>\n",
    "    levels()"
   ]
  },
  {
   "cell_type": "markdown",
   "id": "ba2cb081-6db7-4cfc-9d82-6a33db63bc18",
   "metadata": {},
   "source": [
    "### Exploring the cancer data"
   ]
  },
  {
   "cell_type": "code",
   "execution_count": 24,
   "id": "78be8f37-14bd-4537-9c2d-8f66cac146cf",
   "metadata": {},
   "outputs": [],
   "source": [
    "num_obs <- nrow(wine_data)"
   ]
  },
  {
   "cell_type": "code",
   "execution_count": 30,
   "id": "a4b400c3-f497-4288-9f6a-94259cf75962",
   "metadata": {},
   "outputs": [
    {
     "data": {
      "text/html": [
       "<table class=\"dataframe\">\n",
       "<caption>A tibble: 3 × 3</caption>\n",
       "<thead>\n",
       "\t<tr><th scope=col>class</th><th scope=col>count</th><th scope=col>percentage</th></tr>\n",
       "\t<tr><th scope=col>&lt;fct&gt;</th><th scope=col>&lt;int&gt;</th><th scope=col>&lt;dbl&gt;</th></tr>\n",
       "</thead>\n",
       "<tbody>\n",
       "\t<tr><td>1</td><td>59</td><td>33.14607</td></tr>\n",
       "\t<tr><td>2</td><td>71</td><td>39.88764</td></tr>\n",
       "\t<tr><td>3</td><td>48</td><td>26.96629</td></tr>\n",
       "</tbody>\n",
       "</table>\n"
      ],
      "text/latex": [
       "A tibble: 3 × 3\n",
       "\\begin{tabular}{lll}\n",
       " class & count & percentage\\\\\n",
       " <fct> & <int> & <dbl>\\\\\n",
       "\\hline\n",
       "\t 1 & 59 & 33.14607\\\\\n",
       "\t 2 & 71 & 39.88764\\\\\n",
       "\t 3 & 48 & 26.96629\\\\\n",
       "\\end{tabular}\n"
      ],
      "text/markdown": [
       "\n",
       "A tibble: 3 × 3\n",
       "\n",
       "| class &lt;fct&gt; | count &lt;int&gt; | percentage &lt;dbl&gt; |\n",
       "|---|---|---|\n",
       "| 1 | 59 | 33.14607 |\n",
       "| 2 | 71 | 39.88764 |\n",
       "| 3 | 48 | 26.96629 |\n",
       "\n"
      ],
      "text/plain": [
       "  class count percentage\n",
       "1 1     59    33.14607  \n",
       "2 2     71    39.88764  \n",
       "3 3     48    26.96629  "
      ]
     },
     "metadata": {},
     "output_type": "display_data"
    }
   ],
   "source": [
    "wine_data |>\n",
    "    group_by(class) |>\n",
    "    summarize(\n",
    "    count = n(),\n",
    "    percentage = n() / num_obs * 100\n",
    "    )\n"
   ]
  },
  {
   "cell_type": "markdown",
   "id": "1d7804ba-715f-4a20-9f52-6c2fbe9045c9",
   "metadata": {},
   "source": [
    "### Looking at the relationship between Class and Alcohol Content"
   ]
  },
  {
   "cell_type": "code",
   "execution_count": 37,
   "id": "b7fd9971-b55c-4211-a8f2-b5d70e8b0b51",
   "metadata": {},
   "outputs": [
    {
     "data": {
      "text/plain": [
       "NULL"
      ]
     },
     "metadata": {},
     "output_type": "display_data"
    },
    {
     "data": {
      "image/png": "[encoded data removed]",
      "text/plain": [
       "plot without title"
      ]
     },
     "metadata": {
      "image/png": {
       "height": 420,
       "width": 420
      }
     },
     "output_type": "display_data"
    }
   ],
   "source": [
    "wine_plot  <- wine_data  |>\n",
    "  ggplot(aes(x = alcohol, y = malic.acid, color = class)) +\n",
    "  geom_point(alpha = 0.6)\n",
    "  labs(x = \"Perimeter (standardized)\", \n",
    "       y = \"Concavity (standardized)\",\n",
    "       color = \"Diagnosis\") +\n",
    "  scale_color_manual(labels = c(\"Malignant\", \"Benign\"), \n",
    "                     values = c(\"orange2\", \"steelblue2\")) +\n",
    "  theme(text = element_text(size = 12))\n",
    "\n",
    "wine_plot"
   ]
  },
  {
   "cell_type": "markdown",
   "id": "766e346e-1d13-4470-a020-93152f8f6fd2",
   "metadata": {},
   "source": [
    "### Classification using KNN Algorithm"
   ]
  },
  {
   "cell_type": "code",
   "execution_count": 38,
   "id": "c63693c2-8fef-42d0-b1a5-08550ea265ff",
   "metadata": {},
   "outputs": [],
   "source": [
    "library(tidymodels)"
   ]
  },
  {
   "cell_type": "code",
   "execution_count": 42,
   "id": "ff8bc978-c3e9-4a5d-a694-aba86bd36aa5",
   "metadata": {},
   "outputs": [],
   "source": [
    "wine_train <- wine_data |>\n",
    "    select(class, alcohol, malic.acid)"
   ]
  },
  {
   "cell_type": "raw",
   "id": "79f03c3f-761e-45c6-8ec2-32f522fcf7c5",
   "metadata": {},
   "source": [
    "### observe the first few columns using head"
   ]
  },
  {
   "cell_type": "code",
   "execution_count": 45,
   "id": "eee072fb-9508-4d3b-afc2-50718f60da52",
   "metadata": {},
   "outputs": [
    {
     "data": {
      "text/html": [
       "<table class=\"dataframe\">\n",
       "<caption>A tibble: 6 × 3</caption>\n",
       "<thead>\n",
       "\t<tr><th scope=col>class</th><th scope=col>alcohol</th><th scope=col>malic.acid</th></tr>\n",
       "\t<tr><th scope=col>&lt;fct&gt;</th><th scope=col>&lt;dbl&gt;</th><th scope=col>&lt;dbl&gt;</th></tr>\n",
       "</thead>\n",
       "<tbody>\n",
       "\t<tr><td>1</td><td>14.23</td><td>1.71</td></tr>\n",
       "\t<tr><td>1</td><td>13.20</td><td>1.78</td></tr>\n",
       "\t<tr><td>1</td><td>13.16</td><td>2.36</td></tr>\n",
       "\t<tr><td>1</td><td>14.37</td><td>1.95</td></tr>\n",
       "\t<tr><td>1</td><td>13.24</td><td>2.59</td></tr>\n",
       "\t<tr><td>1</td><td>14.20</td><td>1.76</td></tr>\n",
       "</tbody>\n",
       "</table>\n"
      ],
      "text/latex": [
       "A tibble: 6 × 3\n",
       "\\begin{tabular}{lll}\n",
       " class & alcohol & malic.acid\\\\\n",
       " <fct> & <dbl> & <dbl>\\\\\n",
       "\\hline\n",
       "\t 1 & 14.23 & 1.71\\\\\n",
       "\t 1 & 13.20 & 1.78\\\\\n",
       "\t 1 & 13.16 & 2.36\\\\\n",
       "\t 1 & 14.37 & 1.95\\\\\n",
       "\t 1 & 13.24 & 2.59\\\\\n",
       "\t 1 & 14.20 & 1.76\\\\\n",
       "\\end{tabular}\n"
      ],
      "text/markdown": [
       "\n",
       "A tibble: 6 × 3\n",
       "\n",
       "| class &lt;fct&gt; | alcohol &lt;dbl&gt; | malic.acid &lt;dbl&gt; |\n",
       "|---|---|---|\n",
       "| 1 | 14.23 | 1.71 |\n",
       "| 1 | 13.20 | 1.78 |\n",
       "| 1 | 13.16 | 2.36 |\n",
       "| 1 | 14.37 | 1.95 |\n",
       "| 1 | 13.24 | 2.59 |\n",
       "| 1 | 14.20 | 1.76 |\n",
       "\n"
      ],
      "text/plain": [
       "  class alcohol malic.acid\n",
       "1 1     14.23   1.71      \n",
       "2 1     13.20   1.78      \n",
       "3 1     13.16   2.36      \n",
       "4 1     14.37   1.95      \n",
       "5 1     13.24   2.59      \n",
       "6 1     14.20   1.76      "
      ]
     },
     "metadata": {},
     "output_type": "display_data"
    }
   ],
   "source": [
    "head(wine_train)"
   ]
  },
  {
   "cell_type": "markdown",
   "id": "91e37d63-4e9d-493b-a488-a32d98504257",
   "metadata": {},
   "source": [
    "### Creating a model specification"
   ]
  },
  {
   "cell_type": "code",
   "execution_count": 47,
   "id": "00ad48a4-acf4-4adb-a52e-38684386e4f6",
   "metadata": {},
   "outputs": [],
   "source": [
    "knn_spec <- nearest_neighbor(weight_func = \"rectangular\", neighbors = 5) |>\n",
    "    set_engine(\"kknn\") |>\n",
    "    set_mode(\"classification\")"
   ]
  },
  {
   "cell_type": "code",
   "execution_count": 48,
   "id": "73fbf94e-24e3-494e-8c8b-09078a47e173",
   "metadata": {},
   "outputs": [
    {
     "data": {
      "text/plain": [
       "K-Nearest Neighbor Model Specification (classification)\n",
       "\n",
       "Main Arguments:\n",
       "  neighbors = 5\n",
       "  weight_func = rectangular\n",
       "\n",
       "Computational engine: kknn \n"
      ]
     },
     "metadata": {},
     "output_type": "display_data"
    }
   ],
   "source": [
    "knn_spec"
   ]
  },
  {
   "cell_type": "code",
   "execution_count": 51,
   "id": "483aa3c0-7474-4eaf-9398-07cce3a443b8",
   "metadata": {},
   "outputs": [],
   "source": [
    "knn_fit <- knn_spec |>\n",
    "    fit(class ~ alcohol + malic.acid, data = wine_data)"
   ]
  },
  {
   "cell_type": "code",
   "execution_count": 53,
   "id": "1bbe3425-28d7-44b9-b7e7-be77b4d32f22",
   "metadata": {},
   "outputs": [],
   "source": [
    "knn_fit <- knn_spec |>\n",
    "    fit(class~., data = wine_train)"
   ]
  },
  {
   "cell_type": "code",
   "execution_count": 54,
   "id": "5adedc8c-c5a8-4460-b23f-2290220a2790",
   "metadata": {},
   "outputs": [
    {
     "data": {
      "text/plain": [
       "parsnip model object\n",
       "\n",
       "\n",
       "Call:\n",
       "kknn::train.kknn(formula = class ~ ., data = data, ks = min_rows(5,     data, 5), kernel = ~\"rectangular\")\n",
       "\n",
       "Type of response variable: nominal\n",
       "Minimal misclassification: 0.1910112\n",
       "Best kernel: rectangular\n",
       "Best k: 5"
      ]
     },
     "metadata": {},
     "output_type": "display_data"
    }
   ],
   "source": [
    "knn_fit"
   ]
  },
  {
   "cell_type": "markdown",
   "id": "49a0c23f-6327-4ae8-afbc-2d987b5da26b",
   "metadata": {},
   "source": [
    "### Predicting  a new variable"
   ]
  },
  {
   "cell_type": "code",
   "execution_count": 55,
   "id": "1fa2f00c-2298-46e5-b3e7-d0820be77398",
   "metadata": {},
   "outputs": [],
   "source": [
    "new_obs <- tibble(alcohol = 0, malic.acid = 0)"
   ]
  },
  {
   "cell_type": "code",
   "execution_count": 56,
   "id": "658525eb-e17d-4521-932d-697d6e33f5f5",
   "metadata": {},
   "outputs": [
    {
     "data": {
      "text/html": [
       "<table class=\"dataframe\">\n",
       "<caption>A tibble: 1 × 1</caption>\n",
       "<thead>\n",
       "\t<tr><th scope=col>.pred_class</th></tr>\n",
       "\t<tr><th scope=col>&lt;fct&gt;</th></tr>\n",
       "</thead>\n",
       "<tbody>\n",
       "\t<tr><td>2</td></tr>\n",
       "</tbody>\n",
       "</table>\n"
      ],
      "text/latex": [
       "A tibble: 1 × 1\n",
       "\\begin{tabular}{l}\n",
       " .pred\\_class\\\\\n",
       " <fct>\\\\\n",
       "\\hline\n",
       "\t 2\\\\\n",
       "\\end{tabular}\n"
      ],
      "text/markdown": [
       "\n",
       "A tibble: 1 × 1\n",
       "\n",
       "| .pred_class &lt;fct&gt; |\n",
       "|---|\n",
       "| 2 |\n",
       "\n"
      ],
      "text/plain": [
       "  .pred_class\n",
       "1 2          "
      ]
     },
     "metadata": {},
     "output_type": "display_data"
    }
   ],
   "source": [
    "predict(knn_fit, new_obs)"
   ]
  },
  {
   "cell_type": "markdown",
   "id": "c1555232-f5af-49aa-becb-46f16dee0928",
   "metadata": {},
   "source": [
    "### Data Preprocessing"
   ]
  },
  {
   "cell_type": "code",
   "execution_count": 67,
   "id": "1204f350-b958-4a41-ab04-095f3afdbe94",
   "metadata": {},
   "outputs": [],
   "source": [
    "unscaled_wine = wine_data\n",
    " "
   ]
  },
  {
   "cell_type": "code",
   "execution_count": 68,
   "id": "98ca1e94-cc20-40df-9409-44ad6b87cc06",
   "metadata": {},
   "outputs": [
    {
     "data": {
      "text/html": [
       "<table class=\"dataframe\">\n",
       "<caption>A tibble: 6 × 14</caption>\n",
       "<thead>\n",
       "\t<tr><th scope=col>class</th><th scope=col>alcohol</th><th scope=col>malic.acid</th><th scope=col>ash</th><th scope=col>alcalinity.of.ash</th><th scope=col>magnesium</th><th scope=col>total.phenols</th><th scope=col>flavanoids</th><th scope=col>nonfalvanoid.phenols</th><th scope=col>proanthocyanins</th><th scope=col>color.intensity</th><th scope=col>hue</th><th scope=col>OD280.OD315.of.diluted.wines</th><th scope=col>proline</th></tr>\n",
       "\t<tr><th scope=col>&lt;fct&gt;</th><th scope=col>&lt;dbl&gt;</th><th scope=col>&lt;dbl&gt;</th><th scope=col>&lt;dbl&gt;</th><th scope=col>&lt;dbl&gt;</th><th scope=col>&lt;dbl&gt;</th><th scope=col>&lt;dbl&gt;</th><th scope=col>&lt;dbl&gt;</th><th scope=col>&lt;dbl&gt;</th><th scope=col>&lt;dbl&gt;</th><th scope=col>&lt;dbl&gt;</th><th scope=col>&lt;dbl&gt;</th><th scope=col>&lt;dbl&gt;</th><th scope=col>&lt;dbl&gt;</th></tr>\n",
       "</thead>\n",
       "<tbody>\n",
       "\t<tr><td>1</td><td>14.23</td><td>1.71</td><td>2.43</td><td>15.6</td><td>127</td><td>2.80</td><td>3.06</td><td>0.28</td><td>2.29</td><td>5.64</td><td>1.04</td><td>3.92</td><td>1065</td></tr>\n",
       "\t<tr><td>1</td><td>13.20</td><td>1.78</td><td>2.14</td><td>11.2</td><td>100</td><td>2.65</td><td>2.76</td><td>0.26</td><td>1.28</td><td>4.38</td><td>1.05</td><td>3.40</td><td>1050</td></tr>\n",
       "\t<tr><td>1</td><td>13.16</td><td>2.36</td><td>2.67</td><td>18.6</td><td>101</td><td>2.80</td><td>3.24</td><td>0.30</td><td>2.81</td><td>5.68</td><td>1.03</td><td>3.17</td><td>1185</td></tr>\n",
       "\t<tr><td>1</td><td>14.37</td><td>1.95</td><td>2.50</td><td>16.8</td><td>113</td><td>3.85</td><td>3.49</td><td>0.24</td><td>2.18</td><td>7.80</td><td>0.86</td><td>3.45</td><td>1480</td></tr>\n",
       "\t<tr><td>1</td><td>13.24</td><td>2.59</td><td>2.87</td><td>21.0</td><td>118</td><td>2.80</td><td>2.69</td><td>0.39</td><td>1.82</td><td>4.32</td><td>1.04</td><td>2.93</td><td> 735</td></tr>\n",
       "\t<tr><td>1</td><td>14.20</td><td>1.76</td><td>2.45</td><td>15.2</td><td>112</td><td>3.27</td><td>3.39</td><td>0.34</td><td>1.97</td><td>6.75</td><td>1.05</td><td>2.85</td><td>1450</td></tr>\n",
       "</tbody>\n",
       "</table>\n"
      ],
      "text/latex": [
       "A tibble: 6 × 14\n",
       "\\begin{tabular}{llllllllllllll}\n",
       " class & alcohol & malic.acid & ash & alcalinity.of.ash & magnesium & total.phenols & flavanoids & nonfalvanoid.phenols & proanthocyanins & color.intensity & hue & OD280.OD315.of.diluted.wines & proline\\\\\n",
       " <fct> & <dbl> & <dbl> & <dbl> & <dbl> & <dbl> & <dbl> & <dbl> & <dbl> & <dbl> & <dbl> & <dbl> & <dbl> & <dbl>\\\\\n",
       "\\hline\n",
       "\t 1 & 14.23 & 1.71 & 2.43 & 15.6 & 127 & 2.80 & 3.06 & 0.28 & 2.29 & 5.64 & 1.04 & 3.92 & 1065\\\\\n",
       "\t 1 & 13.20 & 1.78 & 2.14 & 11.2 & 100 & 2.65 & 2.76 & 0.26 & 1.28 & 4.38 & 1.05 & 3.40 & 1050\\\\\n",
       "\t 1 & 13.16 & 2.36 & 2.67 & 18.6 & 101 & 2.80 & 3.24 & 0.30 & 2.81 & 5.68 & 1.03 & 3.17 & 1185\\\\\n",
       "\t 1 & 14.37 & 1.95 & 2.50 & 16.8 & 113 & 3.85 & 3.49 & 0.24 & 2.18 & 7.80 & 0.86 & 3.45 & 1480\\\\\n",
       "\t 1 & 13.24 & 2.59 & 2.87 & 21.0 & 118 & 2.80 & 2.69 & 0.39 & 1.82 & 4.32 & 1.04 & 2.93 &  735\\\\\n",
       "\t 1 & 14.20 & 1.76 & 2.45 & 15.2 & 112 & 3.27 & 3.39 & 0.34 & 1.97 & 6.75 & 1.05 & 2.85 & 1450\\\\\n",
       "\\end{tabular}\n"
      ],
      "text/markdown": [
       "\n",
       "A tibble: 6 × 14\n",
       "\n",
       "| class &lt;fct&gt; | alcohol &lt;dbl&gt; | malic.acid &lt;dbl&gt; | ash &lt;dbl&gt; | alcalinity.of.ash &lt;dbl&gt; | magnesium &lt;dbl&gt; | total.phenols &lt;dbl&gt; | flavanoids &lt;dbl&gt; | nonfalvanoid.phenols &lt;dbl&gt; | proanthocyanins &lt;dbl&gt; | color.intensity &lt;dbl&gt; | hue &lt;dbl&gt; | OD280.OD315.of.diluted.wines &lt;dbl&gt; | proline &lt;dbl&gt; |\n",
       "|---|---|---|---|---|---|---|---|---|---|---|---|---|---|\n",
       "| 1 | 14.23 | 1.71 | 2.43 | 15.6 | 127 | 2.80 | 3.06 | 0.28 | 2.29 | 5.64 | 1.04 | 3.92 | 1065 |\n",
       "| 1 | 13.20 | 1.78 | 2.14 | 11.2 | 100 | 2.65 | 2.76 | 0.26 | 1.28 | 4.38 | 1.05 | 3.40 | 1050 |\n",
       "| 1 | 13.16 | 2.36 | 2.67 | 18.6 | 101 | 2.80 | 3.24 | 0.30 | 2.81 | 5.68 | 1.03 | 3.17 | 1185 |\n",
       "| 1 | 14.37 | 1.95 | 2.50 | 16.8 | 113 | 3.85 | 3.49 | 0.24 | 2.18 | 7.80 | 0.86 | 3.45 | 1480 |\n",
       "| 1 | 13.24 | 2.59 | 2.87 | 21.0 | 118 | 2.80 | 2.69 | 0.39 | 1.82 | 4.32 | 1.04 | 2.93 |  735 |\n",
       "| 1 | 14.20 | 1.76 | 2.45 | 15.2 | 112 | 3.27 | 3.39 | 0.34 | 1.97 | 6.75 | 1.05 | 2.85 | 1450 |\n",
       "\n"
      ],
      "text/plain": [
       "  class alcohol malic.acid ash  alcalinity.of.ash magnesium total.phenols\n",
       "1 1     14.23   1.71       2.43 15.6              127       2.80         \n",
       "2 1     13.20   1.78       2.14 11.2              100       2.65         \n",
       "3 1     13.16   2.36       2.67 18.6              101       2.80         \n",
       "4 1     14.37   1.95       2.50 16.8              113       3.85         \n",
       "5 1     13.24   2.59       2.87 21.0              118       2.80         \n",
       "6 1     14.20   1.76       2.45 15.2              112       3.27         \n",
       "  flavanoids nonfalvanoid.phenols proanthocyanins color.intensity hue \n",
       "1 3.06       0.28                 2.29            5.64            1.04\n",
       "2 2.76       0.26                 1.28            4.38            1.05\n",
       "3 3.24       0.30                 2.81            5.68            1.03\n",
       "4 3.49       0.24                 2.18            7.80            0.86\n",
       "5 2.69       0.39                 1.82            4.32            1.04\n",
       "6 3.39       0.34                 1.97            6.75            1.05\n",
       "  OD280.OD315.of.diluted.wines proline\n",
       "1 3.92                         1065   \n",
       "2 3.40                         1050   \n",
       "3 3.17                         1185   \n",
       "4 3.45                         1480   \n",
       "5 2.93                          735   \n",
       "6 2.85                         1450   "
      ]
     },
     "metadata": {},
     "output_type": "display_data"
    }
   ],
   "source": [
    "head(unscaled_wine)"
   ]
  },
  {
   "cell_type": "code",
   "execution_count": 74,
   "id": "abdac46b-4f7c-44aa-86b9-5cb9a2486f39",
   "metadata": {},
   "outputs": [],
   "source": [
    "unscaled_wine <- unscaled_wine |>\n",
    "    select(class, alcohol, malic.acid)\n"
   ]
  },
  {
   "cell_type": "code",
   "execution_count": 75,
   "id": "f8ff6d77-355b-4ca6-905c-b66cb3120bf8",
   "metadata": {},
   "outputs": [],
   "source": [
    "uc_recipe <- recipe(class ~., data = unscaled_wine)"
   ]
  },
  {
   "cell_type": "code",
   "execution_count": 76,
   "id": "b7f857d4-ed72-4db8-b830-20b6c971dbff",
   "metadata": {},
   "outputs": [
    {
     "name": "stdout",
     "output_type": "stream",
     "text": [
      "Recipe\n",
      "\n",
      "Inputs:\n",
      "\n",
      "      role #variables\n",
      "   outcome          1\n",
      " predictor          2\n"
     ]
    }
   ],
   "source": [
    "print(uc_recipe)"
   ]
  },
  {
   "cell_type": "code",
   "execution_count": 81,
   "id": "61ed0fcf-08bb-407c-acef-a81b7af0e71d",
   "metadata": {},
   "outputs": [
    {
     "data": {
      "text/plain": [
       "Recipe\n",
       "\n",
       "Inputs:\n",
       "\n",
       "      role #variables\n",
       "   outcome          1\n",
       " predictor          2\n",
       "\n",
       "Training data contained 178 data points and no missing data.\n",
       "\n",
       "Operations:\n",
       "\n",
       "Scaling for alcohol, malic.acid [trained]\n",
       "Centering for alcohol, malic.acid [trained]\n",
       "Scaling for alcohol, malic.acid [trained]\n",
       "Centering for alcohol, malic.acid [trained]\n",
       "Scaling for alcohol, malic.acid [trained]\n",
       "Centering for alcohol, malic.acid [trained]"
      ]
     },
     "metadata": {},
     "output_type": "display_data"
    }
   ],
   "source": [
    "uc_recipe <- uc_recipe |>\n",
    "    step_scale(all_predictors()) |>\n",
    "    step_center(all_predictors()) |>\n",
    "    prep()\n",
    "uc_recipe"
   ]
  },
  {
   "cell_type": "code",
   "execution_count": 87,
   "id": "ccc6202e-c06d-4960-afe3-335889b88cc1",
   "metadata": {},
   "outputs": [
    {
     "data": {
      "text/html": [
       "<table class=\"dataframe\">\n",
       "<caption>A tibble: 178 × 3</caption>\n",
       "<thead>\n",
       "\t<tr><th scope=col>alcohol</th><th scope=col>malic.acid</th><th scope=col>class</th></tr>\n",
       "\t<tr><th scope=col>&lt;dbl&gt;</th><th scope=col>&lt;dbl&gt;</th><th scope=col>&lt;fct&gt;</th></tr>\n",
       "</thead>\n",
       "<tbody>\n",
       "\t<tr><td>1.5143408</td><td>-0.56066822</td><td>1</td></tr>\n",
       "\t<tr><td>0.2455968</td><td>-0.49800856</td><td>1</td></tr>\n",
       "\t<tr><td>0.1963252</td><td> 0.02117152</td><td>1</td></tr>\n",
       "\t<tr><td>⋮</td><td>⋮</td><td>⋮</td></tr>\n",
       "\t<tr><td>0.3318221</td><td>1.7398366</td><td>3</td></tr>\n",
       "\t<tr><td>0.2086431</td><td>0.2270533</td><td>3</td></tr>\n",
       "\t<tr><td>1.3911617</td><td>1.5787118</td><td>3</td></tr>\n",
       "</tbody>\n",
       "</table>\n"
      ],
      "text/latex": [
       "A tibble: 178 × 3\n",
       "\\begin{tabular}{lll}\n",
       " alcohol & malic.acid & class\\\\\n",
       " <dbl> & <dbl> & <fct>\\\\\n",
       "\\hline\n",
       "\t 1.5143408 & -0.56066822 & 1\\\\\n",
       "\t 0.2455968 & -0.49800856 & 1\\\\\n",
       "\t 0.1963252 &  0.02117152 & 1\\\\\n",
       "\t ⋮ & ⋮ & ⋮\\\\\n",
       "\t 0.3318221 & 1.7398366 & 3\\\\\n",
       "\t 0.2086431 & 0.2270533 & 3\\\\\n",
       "\t 1.3911617 & 1.5787118 & 3\\\\\n",
       "\\end{tabular}\n"
      ],
      "text/markdown": [
       "\n",
       "A tibble: 178 × 3\n",
       "\n",
       "| alcohol &lt;dbl&gt; | malic.acid &lt;dbl&gt; | class &lt;fct&gt; |\n",
       "|---|---|---|\n",
       "| 1.5143408 | -0.56066822 | 1 |\n",
       "| 0.2455968 | -0.49800856 | 1 |\n",
       "| 0.1963252 |  0.02117152 | 1 |\n",
       "| ⋮ | ⋮ | ⋮ |\n",
       "| 0.3318221 | 1.7398366 | 3 |\n",
       "| 0.2086431 | 0.2270533 | 3 |\n",
       "| 1.3911617 | 1.5787118 | 3 |\n",
       "\n"
      ],
      "text/plain": [
       "    alcohol   malic.acid  class\n",
       "1   1.5143408 -0.56066822 1    \n",
       "2   0.2455968 -0.49800856 1    \n",
       "3   0.1963252  0.02117152 1    \n",
       "⋮   ⋮         ⋮           ⋮    \n",
       "176 0.3318221 1.7398366   3    \n",
       "177 0.2086431 0.2270533   3    \n",
       "178 1.3911617 1.5787118   3    "
      ]
     },
     "metadata": {},
     "output_type": "display_data"
    }
   ],
   "source": [
    "scaled_wine <- bake(uc_recipe, unscaled_wine)\n",
    "scaled_wine"
   ]
  },
  {
   "cell_type": "markdown",
   "id": "53b7ee84-6fce-49c4-ba7d-ac0237b0485d",
   "metadata": {},
   "source": [
    "### Balancing"
   ]
  },
  {
   "cell_type": "code",
   "execution_count": 89,
   "id": "a9f3fa4d-a00f-4a81-9b59-16d045ef61ca",
   "metadata": {},
   "outputs": [
    {
     "data": {
      "text/html": [
       "<table class=\"dataframe\">\n",
       "<caption>A tibble: 3 × 2</caption>\n",
       "<thead>\n",
       "\t<tr><th scope=col>class</th><th scope=col>n</th></tr>\n",
       "\t<tr><th scope=col>&lt;fct&gt;</th><th scope=col>&lt;int&gt;</th></tr>\n",
       "</thead>\n",
       "<tbody>\n",
       "\t<tr><td>1</td><td>59</td></tr>\n",
       "\t<tr><td>2</td><td>71</td></tr>\n",
       "\t<tr><td>3</td><td>48</td></tr>\n",
       "</tbody>\n",
       "</table>\n"
      ],
      "text/latex": [
       "A tibble: 3 × 2\n",
       "\\begin{tabular}{ll}\n",
       " class & n\\\\\n",
       " <fct> & <int>\\\\\n",
       "\\hline\n",
       "\t 1 & 59\\\\\n",
       "\t 2 & 71\\\\\n",
       "\t 3 & 48\\\\\n",
       "\\end{tabular}\n"
      ],
      "text/markdown": [
       "\n",
       "A tibble: 3 × 2\n",
       "\n",
       "| class &lt;fct&gt; | n &lt;int&gt; |\n",
       "|---|---|\n",
       "| 1 | 59 |\n",
       "| 2 | 71 |\n",
       "| 3 | 48 |\n",
       "\n"
      ],
      "text/plain": [
       "  class n \n",
       "1 1     59\n",
       "2 2     71\n",
       "3 3     48"
      ]
     },
     "metadata": {},
     "output_type": "display_data"
    }
   ],
   "source": [
    "wine_data |>\n",
    "  group_by(class) |>\n",
    "  summarize(n = n())\n",
    "    "
   ]
  },
  {
   "cell_type": "markdown",
   "id": "2a77f5fb-0e4b-4ac6-b6a3-b7aeb3d49cd5",
   "metadata": {},
   "source": [
    "### We see that there is class imbalance with our data"
   ]
  },
  {
   "cell_type": "code",
   "execution_count": 96,
   "id": "14c61da8-db15-4fb0-9977-bb3fd3b0493a",
   "metadata": {},
   "outputs": [
    {
     "ename": "ERROR",
     "evalue": "Error in library(themis): there is no package called ‘themis’\n",
     "output_type": "error",
     "traceback": [
      "Error in library(themis): there is no package called ‘themis’\nTraceback:\n",
      "1. library(themis)"
     ]
    }
   ],
   "source": [
    "library(tidymodels)\n",
    "library(themis)"
   ]
  },
  {
   "cell_type": "code",
   "execution_count": 94,
   "id": "ad3d4eaa-cf72-45c8-bdfd-4408c5030505",
   "metadata": {},
   "outputs": [
    {
     "ename": "ERROR",
     "evalue": "Error in step_upsample(recipe(Class ~ ., data = wine_data), class, over_ratio = 1, : could not find function \"step_upsample\"\n",
     "output_type": "error",
     "traceback": [
      "Error in step_upsample(recipe(Class ~ ., data = wine_data), class, over_ratio = 1, : could not find function \"step_upsample\"\nTraceback:\n",
      "1. prep(step_upsample(recipe(Class ~ ., data = wine_data), class, \n .     over_ratio = 1, skip = FALSE))"
     ]
    }
   ],
   "source": [
    "ups_recipe <- recipe(Class ~ ., data = wine_data) |>\n",
    "  step_upsample(class, over_ratio = 1, skip = FALSE) |>\n",
    "  prep()\n",
    "\n",
    "ups_recipe"
   ]
  },
  {
   "cell_type": "code",
   "execution_count": null,
   "id": "1d266e99-06de-49d4-8614-ba9873cbd617",
   "metadata": {},
   "outputs": [],
   "source": []
  }
 ],
 "metadata": {
  "kernelspec": {
   "display_name": "R",
   "language": "R",
   "name": "ir"
  },
  "language_info": {
   "codemirror_mode": "r",
   "file_extension": ".r",
   "mimetype": "text/x-r-source",
   "name": "R",
   "pygments_lexer": "r",
   "version": "4.1.3"
  }
 },
 "nbformat": 4,
 "nbformat_minor": 5
}
