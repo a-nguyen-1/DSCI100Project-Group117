{
 "cells": [
  {
   "cell_type": "markdown",
   "id": "389cce5f-27e9-4a85-ba9b-875f843bf580",
   "metadata": {},
   "source": [
    "Preliminary exploratory data analysis:\n",
    "\n",
    "    - Demonstrate that the dataset can be read from the web into R \n",
    "    - Clean and wrangle your data into a tidy format\n",
    "    - Using only training data, summarize the data in at least one table (this is exploratory data analysis). An example of a useful table could be one that reports the number of observations in each class, the means of the predictor variables you plan to use in your analysis and how many rows have missing data. \n",
    "    - Using only training data, visualize the data with at least one plot relevant to the analysis you plan to do (this is exploratory data analysis). An example of a useful visualization could be one that compa\n",
    "    res the distributions of each of the predictor variables you plan to use in your analysis."
   ]
  },
  {
   "cell_type": "code",
   "execution_count": 30,
   "id": "7a34b725-7905-4e3f-a3a5-56df406bf3d7",
   "metadata": {},
   "outputs": [],
   "source": [
    "library(tidyverse)\n",
    "library(repr)\n",
    "library(tidymodels)\n",
    "options(repr.matrix.max.rows = 6)"
   ]
  },
  {
   "cell_type": "code",
   "execution_count": 31,
   "id": "4c6d43fe-9eb3-4f5c-b006-7ef1f4f8cc58",
   "metadata": {},
   "outputs": [
    {
     "name": "stderr",
     "output_type": "stream",
     "text": [
      "\u001b[1mRows: \u001b[22m\u001b[34m178\u001b[39m \u001b[1mColumns: \u001b[22m\u001b[34m14\u001b[39m\n",
      "\u001b[36m──\u001b[39m \u001b[1mColumn specification\u001b[22m \u001b[36m────────────────────────────────────────────────────────\u001b[39m\n",
      "\u001b[1mDelimiter:\u001b[22m \",\"\n",
      "\u001b[32mdbl\u001b[39m (14): X1, X2, X3, X4, X5, X6, X7, X8, X9, X10, X11, X12, X13, X14\n",
      "\n",
      "\u001b[36mℹ\u001b[39m Use `spec()` to retrieve the full column specification for this data.\n",
      "\u001b[36mℹ\u001b[39m Specify the column types or set `show_col_types = FALSE` to quiet this message.\n"
     ]
    },
    {
     "data": {
      "text/html": [
       "<table class=\"dataframe\">\n",
       "<caption>A tibble: 178 × 14</caption>\n",
       "<thead>\n",
       "\t<tr><th scope=col>class</th><th scope=col>alcohol</th><th scope=col>malic.acid</th><th scope=col>ash</th><th scope=col>alcalinity.of.ash</th><th scope=col>magnesium</th><th scope=col>total.phenols</th><th scope=col>flavanoids</th><th scope=col>nonfalvanoid.phenols</th><th scope=col>proanthocyanins</th><th scope=col>color.intensity</th><th scope=col>hue</th><th scope=col>OD280.OD315.of.diluted.wines</th><th scope=col>proline</th></tr>\n",
       "\t<tr><th scope=col>&lt;fct&gt;</th><th scope=col>&lt;dbl&gt;</th><th scope=col>&lt;dbl&gt;</th><th scope=col>&lt;dbl&gt;</th><th scope=col>&lt;dbl&gt;</th><th scope=col>&lt;dbl&gt;</th><th scope=col>&lt;dbl&gt;</th><th scope=col>&lt;dbl&gt;</th><th scope=col>&lt;dbl&gt;</th><th scope=col>&lt;dbl&gt;</th><th scope=col>&lt;dbl&gt;</th><th scope=col>&lt;dbl&gt;</th><th scope=col>&lt;dbl&gt;</th><th scope=col>&lt;dbl&gt;</th></tr>\n",
       "</thead>\n",
       "<tbody>\n",
       "\t<tr><td>1</td><td>14.23</td><td>1.71</td><td>2.43</td><td>15.6</td><td>127</td><td>2.80</td><td>3.06</td><td>0.28</td><td>2.29</td><td>5.64</td><td>1.04</td><td>3.92</td><td>1065</td></tr>\n",
       "\t<tr><td>1</td><td>13.20</td><td>1.78</td><td>2.14</td><td>11.2</td><td>100</td><td>2.65</td><td>2.76</td><td>0.26</td><td>1.28</td><td>4.38</td><td>1.05</td><td>3.40</td><td>1050</td></tr>\n",
       "\t<tr><td>1</td><td>13.16</td><td>2.36</td><td>2.67</td><td>18.6</td><td>101</td><td>2.80</td><td>3.24</td><td>0.30</td><td>2.81</td><td>5.68</td><td>1.03</td><td>3.17</td><td>1185</td></tr>\n",
       "\t<tr><td>⋮</td><td>⋮</td><td>⋮</td><td>⋮</td><td>⋮</td><td>⋮</td><td>⋮</td><td>⋮</td><td>⋮</td><td>⋮</td><td>⋮</td><td>⋮</td><td>⋮</td><td>⋮</td></tr>\n",
       "\t<tr><td>3</td><td>13.27</td><td>4.28</td><td>2.26</td><td>20.0</td><td>120</td><td>1.59</td><td>0.69</td><td>0.43</td><td>1.35</td><td>10.2</td><td>0.59</td><td>1.56</td><td>835</td></tr>\n",
       "\t<tr><td>3</td><td>13.17</td><td>2.59</td><td>2.37</td><td>20.0</td><td>120</td><td>1.65</td><td>0.68</td><td>0.53</td><td>1.46</td><td> 9.3</td><td>0.60</td><td>1.62</td><td>840</td></tr>\n",
       "\t<tr><td>3</td><td>14.13</td><td>4.10</td><td>2.74</td><td>24.5</td><td> 96</td><td>2.05</td><td>0.76</td><td>0.56</td><td>1.35</td><td> 9.2</td><td>0.61</td><td>1.60</td><td>560</td></tr>\n",
       "</tbody>\n",
       "</table>\n"
      ],
      "text/latex": [
       "A tibble: 178 × 14\n",
       "\\begin{tabular}{llllllllllllll}\n",
       " class & alcohol & malic.acid & ash & alcalinity.of.ash & magnesium & total.phenols & flavanoids & nonfalvanoid.phenols & proanthocyanins & color.intensity & hue & OD280.OD315.of.diluted.wines & proline\\\\\n",
       " <fct> & <dbl> & <dbl> & <dbl> & <dbl> & <dbl> & <dbl> & <dbl> & <dbl> & <dbl> & <dbl> & <dbl> & <dbl> & <dbl>\\\\\n",
       "\\hline\n",
       "\t 1 & 14.23 & 1.71 & 2.43 & 15.6 & 127 & 2.80 & 3.06 & 0.28 & 2.29 & 5.64 & 1.04 & 3.92 & 1065\\\\\n",
       "\t 1 & 13.20 & 1.78 & 2.14 & 11.2 & 100 & 2.65 & 2.76 & 0.26 & 1.28 & 4.38 & 1.05 & 3.40 & 1050\\\\\n",
       "\t 1 & 13.16 & 2.36 & 2.67 & 18.6 & 101 & 2.80 & 3.24 & 0.30 & 2.81 & 5.68 & 1.03 & 3.17 & 1185\\\\\n",
       "\t ⋮ & ⋮ & ⋮ & ⋮ & ⋮ & ⋮ & ⋮ & ⋮ & ⋮ & ⋮ & ⋮ & ⋮ & ⋮ & ⋮\\\\\n",
       "\t 3 & 13.27 & 4.28 & 2.26 & 20.0 & 120 & 1.59 & 0.69 & 0.43 & 1.35 & 10.2 & 0.59 & 1.56 & 835\\\\\n",
       "\t 3 & 13.17 & 2.59 & 2.37 & 20.0 & 120 & 1.65 & 0.68 & 0.53 & 1.46 &  9.3 & 0.60 & 1.62 & 840\\\\\n",
       "\t 3 & 14.13 & 4.10 & 2.74 & 24.5 &  96 & 2.05 & 0.76 & 0.56 & 1.35 &  9.2 & 0.61 & 1.60 & 560\\\\\n",
       "\\end{tabular}\n"
      ],
      "text/markdown": [
       "\n",
       "A tibble: 178 × 14\n",
       "\n",
       "| class &lt;fct&gt; | alcohol &lt;dbl&gt; | malic.acid &lt;dbl&gt; | ash &lt;dbl&gt; | alcalinity.of.ash &lt;dbl&gt; | magnesium &lt;dbl&gt; | total.phenols &lt;dbl&gt; | flavanoids &lt;dbl&gt; | nonfalvanoid.phenols &lt;dbl&gt; | proanthocyanins &lt;dbl&gt; | color.intensity &lt;dbl&gt; | hue &lt;dbl&gt; | OD280.OD315.of.diluted.wines &lt;dbl&gt; | proline &lt;dbl&gt; |\n",
       "|---|---|---|---|---|---|---|---|---|---|---|---|---|---|\n",
       "| 1 | 14.23 | 1.71 | 2.43 | 15.6 | 127 | 2.80 | 3.06 | 0.28 | 2.29 | 5.64 | 1.04 | 3.92 | 1065 |\n",
       "| 1 | 13.20 | 1.78 | 2.14 | 11.2 | 100 | 2.65 | 2.76 | 0.26 | 1.28 | 4.38 | 1.05 | 3.40 | 1050 |\n",
       "| 1 | 13.16 | 2.36 | 2.67 | 18.6 | 101 | 2.80 | 3.24 | 0.30 | 2.81 | 5.68 | 1.03 | 3.17 | 1185 |\n",
       "| ⋮ | ⋮ | ⋮ | ⋮ | ⋮ | ⋮ | ⋮ | ⋮ | ⋮ | ⋮ | ⋮ | ⋮ | ⋮ | ⋮ |\n",
       "| 3 | 13.27 | 4.28 | 2.26 | 20.0 | 120 | 1.59 | 0.69 | 0.43 | 1.35 | 10.2 | 0.59 | 1.56 | 835 |\n",
       "| 3 | 13.17 | 2.59 | 2.37 | 20.0 | 120 | 1.65 | 0.68 | 0.53 | 1.46 |  9.3 | 0.60 | 1.62 | 840 |\n",
       "| 3 | 14.13 | 4.10 | 2.74 | 24.5 |  96 | 2.05 | 0.76 | 0.56 | 1.35 |  9.2 | 0.61 | 1.60 | 560 |\n",
       "\n"
      ],
      "text/plain": [
       "    class alcohol malic.acid ash  alcalinity.of.ash magnesium total.phenols\n",
       "1   1     14.23   1.71       2.43 15.6              127       2.80         \n",
       "2   1     13.20   1.78       2.14 11.2              100       2.65         \n",
       "3   1     13.16   2.36       2.67 18.6              101       2.80         \n",
       "⋮   ⋮     ⋮       ⋮          ⋮    ⋮                 ⋮         ⋮            \n",
       "176 3     13.27   4.28       2.26 20.0              120       1.59         \n",
       "177 3     13.17   2.59       2.37 20.0              120       1.65         \n",
       "178 3     14.13   4.10       2.74 24.5               96       2.05         \n",
       "    flavanoids nonfalvanoid.phenols proanthocyanins color.intensity hue \n",
       "1   3.06       0.28                 2.29            5.64            1.04\n",
       "2   2.76       0.26                 1.28            4.38            1.05\n",
       "3   3.24       0.30                 2.81            5.68            1.03\n",
       "⋮   ⋮          ⋮                    ⋮               ⋮               ⋮   \n",
       "176 0.69       0.43                 1.35            10.2            0.59\n",
       "177 0.68       0.53                 1.46             9.3            0.60\n",
       "178 0.76       0.56                 1.35             9.2            0.61\n",
       "    OD280.OD315.of.diluted.wines proline\n",
       "1   3.92                         1065   \n",
       "2   3.40                         1050   \n",
       "3   3.17                         1185   \n",
       "⋮   ⋮                            ⋮      \n",
       "176 1.56                         835    \n",
       "177 1.62                         840    \n",
       "178 1.60                         560    "
      ]
     },
     "metadata": {},
     "output_type": "display_data"
    }
   ],
   "source": [
    "wine_data <- read_delim(\"https://archive.ics.uci.edu/ml/machine-learning-databases/wine/wine.data\", col_names = FALSE) |>\n",
    "    mutate(X1 = as_factor(X1))\n",
    "colnames(wine_data) <- c(\"class\",\"alcohol\", \"malic.acid\", \"ash\", \"alcalinity.of.ash\",\"magnesium\", \"total.phenols\",\n",
    "                         \"flavanoids\", \"nonfalvanoid.phenols\", \"proanthocyanins\", \"color.intensity\", \"hue\",\n",
    "                         \"OD280.OD315.of.diluted.wines\", \"proline\")\n",
    "wine_data"
   ]
  },
  {
   "cell_type": "code",
   "execution_count": 32,
   "id": "cbbd4764-eb3e-48cd-9bcc-fbf2a2ae3766",
   "metadata": {},
   "outputs": [
    {
     "data": {
      "text/html": [
       "<table class=\"dataframe\">\n",
       "<caption>A tibble: 133 × 14</caption>\n",
       "<thead>\n",
       "\t<tr><th scope=col>class</th><th scope=col>alcohol</th><th scope=col>malic.acid</th><th scope=col>ash</th><th scope=col>alcalinity.of.ash</th><th scope=col>magnesium</th><th scope=col>total.phenols</th><th scope=col>flavanoids</th><th scope=col>nonfalvanoid.phenols</th><th scope=col>proanthocyanins</th><th scope=col>color.intensity</th><th scope=col>hue</th><th scope=col>OD280.OD315.of.diluted.wines</th><th scope=col>proline</th></tr>\n",
       "\t<tr><th scope=col>&lt;fct&gt;</th><th scope=col>&lt;dbl&gt;</th><th scope=col>&lt;dbl&gt;</th><th scope=col>&lt;dbl&gt;</th><th scope=col>&lt;dbl&gt;</th><th scope=col>&lt;dbl&gt;</th><th scope=col>&lt;dbl&gt;</th><th scope=col>&lt;dbl&gt;</th><th scope=col>&lt;dbl&gt;</th><th scope=col>&lt;dbl&gt;</th><th scope=col>&lt;dbl&gt;</th><th scope=col>&lt;dbl&gt;</th><th scope=col>&lt;dbl&gt;</th><th scope=col>&lt;dbl&gt;</th></tr>\n",
       "</thead>\n",
       "<tbody>\n",
       "\t<tr><td>1</td><td>14.23</td><td>1.71</td><td>2.43</td><td>15.6</td><td>127</td><td>2.80</td><td>3.06</td><td>0.28</td><td>2.29</td><td>5.64</td><td>1.04</td><td>3.92</td><td>1065</td></tr>\n",
       "\t<tr><td>1</td><td>13.20</td><td>1.78</td><td>2.14</td><td>11.2</td><td>100</td><td>2.65</td><td>2.76</td><td>0.26</td><td>1.28</td><td>4.38</td><td>1.05</td><td>3.40</td><td>1050</td></tr>\n",
       "\t<tr><td>1</td><td>13.16</td><td>2.36</td><td>2.67</td><td>18.6</td><td>101</td><td>2.80</td><td>3.24</td><td>0.30</td><td>2.81</td><td>5.68</td><td>1.03</td><td>3.17</td><td>1185</td></tr>\n",
       "\t<tr><td>⋮</td><td>⋮</td><td>⋮</td><td>⋮</td><td>⋮</td><td>⋮</td><td>⋮</td><td>⋮</td><td>⋮</td><td>⋮</td><td>⋮</td><td>⋮</td><td>⋮</td><td>⋮</td></tr>\n",
       "\t<tr><td>3</td><td>13.27</td><td>4.28</td><td>2.26</td><td>20.0</td><td>120</td><td>1.59</td><td>0.69</td><td>0.43</td><td>1.35</td><td>10.2</td><td>0.59</td><td>1.56</td><td>835</td></tr>\n",
       "\t<tr><td>3</td><td>13.17</td><td>2.59</td><td>2.37</td><td>20.0</td><td>120</td><td>1.65</td><td>0.68</td><td>0.53</td><td>1.46</td><td> 9.3</td><td>0.60</td><td>1.62</td><td>840</td></tr>\n",
       "\t<tr><td>3</td><td>14.13</td><td>4.10</td><td>2.74</td><td>24.5</td><td> 96</td><td>2.05</td><td>0.76</td><td>0.56</td><td>1.35</td><td> 9.2</td><td>0.61</td><td>1.60</td><td>560</td></tr>\n",
       "</tbody>\n",
       "</table>\n"
      ],
      "text/latex": [
       "A tibble: 133 × 14\n",
       "\\begin{tabular}{llllllllllllll}\n",
       " class & alcohol & malic.acid & ash & alcalinity.of.ash & magnesium & total.phenols & flavanoids & nonfalvanoid.phenols & proanthocyanins & color.intensity & hue & OD280.OD315.of.diluted.wines & proline\\\\\n",
       " <fct> & <dbl> & <dbl> & <dbl> & <dbl> & <dbl> & <dbl> & <dbl> & <dbl> & <dbl> & <dbl> & <dbl> & <dbl> & <dbl>\\\\\n",
       "\\hline\n",
       "\t 1 & 14.23 & 1.71 & 2.43 & 15.6 & 127 & 2.80 & 3.06 & 0.28 & 2.29 & 5.64 & 1.04 & 3.92 & 1065\\\\\n",
       "\t 1 & 13.20 & 1.78 & 2.14 & 11.2 & 100 & 2.65 & 2.76 & 0.26 & 1.28 & 4.38 & 1.05 & 3.40 & 1050\\\\\n",
       "\t 1 & 13.16 & 2.36 & 2.67 & 18.6 & 101 & 2.80 & 3.24 & 0.30 & 2.81 & 5.68 & 1.03 & 3.17 & 1185\\\\\n",
       "\t ⋮ & ⋮ & ⋮ & ⋮ & ⋮ & ⋮ & ⋮ & ⋮ & ⋮ & ⋮ & ⋮ & ⋮ & ⋮ & ⋮\\\\\n",
       "\t 3 & 13.27 & 4.28 & 2.26 & 20.0 & 120 & 1.59 & 0.69 & 0.43 & 1.35 & 10.2 & 0.59 & 1.56 & 835\\\\\n",
       "\t 3 & 13.17 & 2.59 & 2.37 & 20.0 & 120 & 1.65 & 0.68 & 0.53 & 1.46 &  9.3 & 0.60 & 1.62 & 840\\\\\n",
       "\t 3 & 14.13 & 4.10 & 2.74 & 24.5 &  96 & 2.05 & 0.76 & 0.56 & 1.35 &  9.2 & 0.61 & 1.60 & 560\\\\\n",
       "\\end{tabular}\n"
      ],
      "text/markdown": [
       "\n",
       "A tibble: 133 × 14\n",
       "\n",
       "| class &lt;fct&gt; | alcohol &lt;dbl&gt; | malic.acid &lt;dbl&gt; | ash &lt;dbl&gt; | alcalinity.of.ash &lt;dbl&gt; | magnesium &lt;dbl&gt; | total.phenols &lt;dbl&gt; | flavanoids &lt;dbl&gt; | nonfalvanoid.phenols &lt;dbl&gt; | proanthocyanins &lt;dbl&gt; | color.intensity &lt;dbl&gt; | hue &lt;dbl&gt; | OD280.OD315.of.diluted.wines &lt;dbl&gt; | proline &lt;dbl&gt; |\n",
       "|---|---|---|---|---|---|---|---|---|---|---|---|---|---|\n",
       "| 1 | 14.23 | 1.71 | 2.43 | 15.6 | 127 | 2.80 | 3.06 | 0.28 | 2.29 | 5.64 | 1.04 | 3.92 | 1065 |\n",
       "| 1 | 13.20 | 1.78 | 2.14 | 11.2 | 100 | 2.65 | 2.76 | 0.26 | 1.28 | 4.38 | 1.05 | 3.40 | 1050 |\n",
       "| 1 | 13.16 | 2.36 | 2.67 | 18.6 | 101 | 2.80 | 3.24 | 0.30 | 2.81 | 5.68 | 1.03 | 3.17 | 1185 |\n",
       "| ⋮ | ⋮ | ⋮ | ⋮ | ⋮ | ⋮ | ⋮ | ⋮ | ⋮ | ⋮ | ⋮ | ⋮ | ⋮ | ⋮ |\n",
       "| 3 | 13.27 | 4.28 | 2.26 | 20.0 | 120 | 1.59 | 0.69 | 0.43 | 1.35 | 10.2 | 0.59 | 1.56 | 835 |\n",
       "| 3 | 13.17 | 2.59 | 2.37 | 20.0 | 120 | 1.65 | 0.68 | 0.53 | 1.46 |  9.3 | 0.60 | 1.62 | 840 |\n",
       "| 3 | 14.13 | 4.10 | 2.74 | 24.5 |  96 | 2.05 | 0.76 | 0.56 | 1.35 |  9.2 | 0.61 | 1.60 | 560 |\n",
       "\n"
      ],
      "text/plain": [
       "    class alcohol malic.acid ash  alcalinity.of.ash magnesium total.phenols\n",
       "1   1     14.23   1.71       2.43 15.6              127       2.80         \n",
       "2   1     13.20   1.78       2.14 11.2              100       2.65         \n",
       "3   1     13.16   2.36       2.67 18.6              101       2.80         \n",
       "⋮   ⋮     ⋮       ⋮          ⋮    ⋮                 ⋮         ⋮            \n",
       "131 3     13.27   4.28       2.26 20.0              120       1.59         \n",
       "132 3     13.17   2.59       2.37 20.0              120       1.65         \n",
       "133 3     14.13   4.10       2.74 24.5               96       2.05         \n",
       "    flavanoids nonfalvanoid.phenols proanthocyanins color.intensity hue \n",
       "1   3.06       0.28                 2.29            5.64            1.04\n",
       "2   2.76       0.26                 1.28            4.38            1.05\n",
       "3   3.24       0.30                 2.81            5.68            1.03\n",
       "⋮   ⋮          ⋮                    ⋮               ⋮               ⋮   \n",
       "131 0.69       0.43                 1.35            10.2            0.59\n",
       "132 0.68       0.53                 1.46             9.3            0.60\n",
       "133 0.76       0.56                 1.35             9.2            0.61\n",
       "    OD280.OD315.of.diluted.wines proline\n",
       "1   3.92                         1065   \n",
       "2   3.40                         1050   \n",
       "3   3.17                         1185   \n",
       "⋮   ⋮                            ⋮      \n",
       "131 1.56                         835    \n",
       "132 1.62                         840    \n",
       "133 1.60                         560    "
      ]
     },
     "metadata": {},
     "output_type": "display_data"
    },
    {
     "data": {
      "text/html": [
       "<table class=\"dataframe\">\n",
       "<caption>A tibble: 45 × 14</caption>\n",
       "<thead>\n",
       "\t<tr><th scope=col>class</th><th scope=col>alcohol</th><th scope=col>malic.acid</th><th scope=col>ash</th><th scope=col>alcalinity.of.ash</th><th scope=col>magnesium</th><th scope=col>total.phenols</th><th scope=col>flavanoids</th><th scope=col>nonfalvanoid.phenols</th><th scope=col>proanthocyanins</th><th scope=col>color.intensity</th><th scope=col>hue</th><th scope=col>OD280.OD315.of.diluted.wines</th><th scope=col>proline</th></tr>\n",
       "\t<tr><th scope=col>&lt;fct&gt;</th><th scope=col>&lt;dbl&gt;</th><th scope=col>&lt;dbl&gt;</th><th scope=col>&lt;dbl&gt;</th><th scope=col>&lt;dbl&gt;</th><th scope=col>&lt;dbl&gt;</th><th scope=col>&lt;dbl&gt;</th><th scope=col>&lt;dbl&gt;</th><th scope=col>&lt;dbl&gt;</th><th scope=col>&lt;dbl&gt;</th><th scope=col>&lt;dbl&gt;</th><th scope=col>&lt;dbl&gt;</th><th scope=col>&lt;dbl&gt;</th><th scope=col>&lt;dbl&gt;</th></tr>\n",
       "</thead>\n",
       "<tbody>\n",
       "\t<tr><td>1</td><td>14.20</td><td>1.76</td><td>2.45</td><td>15.2</td><td>112</td><td>3.27</td><td>3.39</td><td>0.34</td><td>1.97</td><td>6.75</td><td>1.05</td><td>2.85</td><td>1450</td></tr>\n",
       "\t<tr><td>1</td><td>13.63</td><td>1.81</td><td>2.70</td><td>17.2</td><td>112</td><td>2.85</td><td>2.91</td><td>0.30</td><td>1.46</td><td>7.30</td><td>1.28</td><td>2.88</td><td>1310</td></tr>\n",
       "\t<tr><td>1</td><td>14.30</td><td>1.92</td><td>2.72</td><td>20.0</td><td>120</td><td>2.80</td><td>3.14</td><td>0.33</td><td>1.97</td><td>6.20</td><td>1.07</td><td>2.65</td><td>1280</td></tr>\n",
       "\t<tr><td>⋮</td><td>⋮</td><td>⋮</td><td>⋮</td><td>⋮</td><td>⋮</td><td>⋮</td><td>⋮</td><td>⋮</td><td>⋮</td><td>⋮</td><td>⋮</td><td>⋮</td><td>⋮</td></tr>\n",
       "\t<tr><td>3</td><td>13.40</td><td>4.60</td><td>2.86</td><td>25.0</td><td>112</td><td>1.98</td><td>0.96</td><td>0.27</td><td>1.11</td><td>8.500000</td><td>0.67</td><td>1.92</td><td>630</td></tr>\n",
       "\t<tr><td>3</td><td>12.77</td><td>2.39</td><td>2.28</td><td>19.5</td><td> 86</td><td>1.39</td><td>0.51</td><td>0.48</td><td>0.64</td><td>9.899999</td><td>0.57</td><td>1.63</td><td>470</td></tr>\n",
       "\t<tr><td>3</td><td>13.71</td><td>5.65</td><td>2.45</td><td>20.5</td><td> 95</td><td>1.68</td><td>0.61</td><td>0.52</td><td>1.06</td><td>7.700000</td><td>0.64</td><td>1.74</td><td>740</td></tr>\n",
       "</tbody>\n",
       "</table>\n"
      ],
      "text/latex": [
       "A tibble: 45 × 14\n",
       "\\begin{tabular}{llllllllllllll}\n",
       " class & alcohol & malic.acid & ash & alcalinity.of.ash & magnesium & total.phenols & flavanoids & nonfalvanoid.phenols & proanthocyanins & color.intensity & hue & OD280.OD315.of.diluted.wines & proline\\\\\n",
       " <fct> & <dbl> & <dbl> & <dbl> & <dbl> & <dbl> & <dbl> & <dbl> & <dbl> & <dbl> & <dbl> & <dbl> & <dbl> & <dbl>\\\\\n",
       "\\hline\n",
       "\t 1 & 14.20 & 1.76 & 2.45 & 15.2 & 112 & 3.27 & 3.39 & 0.34 & 1.97 & 6.75 & 1.05 & 2.85 & 1450\\\\\n",
       "\t 1 & 13.63 & 1.81 & 2.70 & 17.2 & 112 & 2.85 & 2.91 & 0.30 & 1.46 & 7.30 & 1.28 & 2.88 & 1310\\\\\n",
       "\t 1 & 14.30 & 1.92 & 2.72 & 20.0 & 120 & 2.80 & 3.14 & 0.33 & 1.97 & 6.20 & 1.07 & 2.65 & 1280\\\\\n",
       "\t ⋮ & ⋮ & ⋮ & ⋮ & ⋮ & ⋮ & ⋮ & ⋮ & ⋮ & ⋮ & ⋮ & ⋮ & ⋮ & ⋮\\\\\n",
       "\t 3 & 13.40 & 4.60 & 2.86 & 25.0 & 112 & 1.98 & 0.96 & 0.27 & 1.11 & 8.500000 & 0.67 & 1.92 & 630\\\\\n",
       "\t 3 & 12.77 & 2.39 & 2.28 & 19.5 &  86 & 1.39 & 0.51 & 0.48 & 0.64 & 9.899999 & 0.57 & 1.63 & 470\\\\\n",
       "\t 3 & 13.71 & 5.65 & 2.45 & 20.5 &  95 & 1.68 & 0.61 & 0.52 & 1.06 & 7.700000 & 0.64 & 1.74 & 740\\\\\n",
       "\\end{tabular}\n"
      ],
      "text/markdown": [
       "\n",
       "A tibble: 45 × 14\n",
       "\n",
       "| class &lt;fct&gt; | alcohol &lt;dbl&gt; | malic.acid &lt;dbl&gt; | ash &lt;dbl&gt; | alcalinity.of.ash &lt;dbl&gt; | magnesium &lt;dbl&gt; | total.phenols &lt;dbl&gt; | flavanoids &lt;dbl&gt; | nonfalvanoid.phenols &lt;dbl&gt; | proanthocyanins &lt;dbl&gt; | color.intensity &lt;dbl&gt; | hue &lt;dbl&gt; | OD280.OD315.of.diluted.wines &lt;dbl&gt; | proline &lt;dbl&gt; |\n",
       "|---|---|---|---|---|---|---|---|---|---|---|---|---|---|\n",
       "| 1 | 14.20 | 1.76 | 2.45 | 15.2 | 112 | 3.27 | 3.39 | 0.34 | 1.97 | 6.75 | 1.05 | 2.85 | 1450 |\n",
       "| 1 | 13.63 | 1.81 | 2.70 | 17.2 | 112 | 2.85 | 2.91 | 0.30 | 1.46 | 7.30 | 1.28 | 2.88 | 1310 |\n",
       "| 1 | 14.30 | 1.92 | 2.72 | 20.0 | 120 | 2.80 | 3.14 | 0.33 | 1.97 | 6.20 | 1.07 | 2.65 | 1280 |\n",
       "| ⋮ | ⋮ | ⋮ | ⋮ | ⋮ | ⋮ | ⋮ | ⋮ | ⋮ | ⋮ | ⋮ | ⋮ | ⋮ | ⋮ |\n",
       "| 3 | 13.40 | 4.60 | 2.86 | 25.0 | 112 | 1.98 | 0.96 | 0.27 | 1.11 | 8.500000 | 0.67 | 1.92 | 630 |\n",
       "| 3 | 12.77 | 2.39 | 2.28 | 19.5 |  86 | 1.39 | 0.51 | 0.48 | 0.64 | 9.899999 | 0.57 | 1.63 | 470 |\n",
       "| 3 | 13.71 | 5.65 | 2.45 | 20.5 |  95 | 1.68 | 0.61 | 0.52 | 1.06 | 7.700000 | 0.64 | 1.74 | 740 |\n",
       "\n"
      ],
      "text/plain": [
       "   class alcohol malic.acid ash  alcalinity.of.ash magnesium total.phenols\n",
       "1  1     14.20   1.76       2.45 15.2              112       3.27         \n",
       "2  1     13.63   1.81       2.70 17.2              112       2.85         \n",
       "3  1     14.30   1.92       2.72 20.0              120       2.80         \n",
       "⋮  ⋮     ⋮       ⋮          ⋮    ⋮                 ⋮         ⋮            \n",
       "43 3     13.40   4.60       2.86 25.0              112       1.98         \n",
       "44 3     12.77   2.39       2.28 19.5               86       1.39         \n",
       "45 3     13.71   5.65       2.45 20.5               95       1.68         \n",
       "   flavanoids nonfalvanoid.phenols proanthocyanins color.intensity hue \n",
       "1  3.39       0.34                 1.97            6.75            1.05\n",
       "2  2.91       0.30                 1.46            7.30            1.28\n",
       "3  3.14       0.33                 1.97            6.20            1.07\n",
       "⋮  ⋮          ⋮                    ⋮               ⋮               ⋮   \n",
       "43 0.96       0.27                 1.11            8.500000        0.67\n",
       "44 0.51       0.48                 0.64            9.899999        0.57\n",
       "45 0.61       0.52                 1.06            7.700000        0.64\n",
       "   OD280.OD315.of.diluted.wines proline\n",
       "1  2.85                         1450   \n",
       "2  2.88                         1310   \n",
       "3  2.65                         1280   \n",
       "⋮  ⋮                            ⋮      \n",
       "43 1.92                         630    \n",
       "44 1.63                         470    \n",
       "45 1.74                         740    "
      ]
     },
     "metadata": {},
     "output_type": "display_data"
    }
   ],
   "source": [
    "wine_split <- initial_split(wine_data, prop = 0.75, strata = class)  \n",
    "wine_training <- training(wine_split)   \n",
    "wine_testing <- testing(wine_split)\n",
    "wine_training\n",
    "wine_testing"
   ]
  },
  {
   "cell_type": "code",
   "execution_count": 33,
   "id": "3ee69f0c-f236-4def-83b4-67683f6bbde8",
   "metadata": {},
   "outputs": [
    {
     "data": {
      "text/html": [
       "<table class=\"dataframe\">\n",
       "<caption>A tibble: 13 × 5</caption>\n",
       "<thead>\n",
       "\t<tr><th scope=col>attribute</th><th scope=col>min</th><th scope=col>max</th><th scope=col>mean</th><th scope=col>sd</th></tr>\n",
       "\t<tr><th scope=col>&lt;chr&gt;</th><th scope=col>&lt;dbl&gt;</th><th scope=col>&lt;dbl&gt;</th><th scope=col>&lt;dbl&gt;</th><th scope=col>&lt;dbl&gt;</th></tr>\n",
       "</thead>\n",
       "<tbody>\n",
       "\t<tr><td>alcohol   </td><td>11.03</td><td>14.83</td><td>13.040677</td><td>0.8274305</td></tr>\n",
       "\t<tr><td>malic.acid</td><td> 0.74</td><td> 5.80</td><td> 2.385489</td><td>1.1362128</td></tr>\n",
       "\t<tr><td>ash       </td><td> 1.36</td><td> 3.23</td><td> 2.366541</td><td>0.2733935</td></tr>\n",
       "\t<tr><td>⋮</td><td>⋮</td><td>⋮</td><td>⋮</td><td>⋮</td></tr>\n",
       "\t<tr><td>hue                         </td><td>  0.48</td><td>   1.71</td><td>  0.9577895</td><td>  0.2274307</td></tr>\n",
       "\t<tr><td>OD280.OD315.of.diluted.wines</td><td>  1.27</td><td>   3.92</td><td>  2.6254887</td><td>  0.7256768</td></tr>\n",
       "\t<tr><td>proline                     </td><td>278.00</td><td>1680.00</td><td>735.1127820</td><td>310.2680331</td></tr>\n",
       "</tbody>\n",
       "</table>\n"
      ],
      "text/latex": [
       "A tibble: 13 × 5\n",
       "\\begin{tabular}{lllll}\n",
       " attribute & min & max & mean & sd\\\\\n",
       " <chr> & <dbl> & <dbl> & <dbl> & <dbl>\\\\\n",
       "\\hline\n",
       "\t alcohol    & 11.03 & 14.83 & 13.040677 & 0.8274305\\\\\n",
       "\t malic.acid &  0.74 &  5.80 &  2.385489 & 1.1362128\\\\\n",
       "\t ash        &  1.36 &  3.23 &  2.366541 & 0.2733935\\\\\n",
       "\t ⋮ & ⋮ & ⋮ & ⋮ & ⋮\\\\\n",
       "\t hue                          &   0.48 &    1.71 &   0.9577895 &   0.2274307\\\\\n",
       "\t OD280.OD315.of.diluted.wines &   1.27 &    3.92 &   2.6254887 &   0.7256768\\\\\n",
       "\t proline                      & 278.00 & 1680.00 & 735.1127820 & 310.2680331\\\\\n",
       "\\end{tabular}\n"
      ],
      "text/markdown": [
       "\n",
       "A tibble: 13 × 5\n",
       "\n",
       "| attribute &lt;chr&gt; | min &lt;dbl&gt; | max &lt;dbl&gt; | mean &lt;dbl&gt; | sd &lt;dbl&gt; |\n",
       "|---|---|---|---|---|\n",
       "| alcohol    | 11.03 | 14.83 | 13.040677 | 0.8274305 |\n",
       "| malic.acid |  0.74 |  5.80 |  2.385489 | 1.1362128 |\n",
       "| ash        |  1.36 |  3.23 |  2.366541 | 0.2733935 |\n",
       "| ⋮ | ⋮ | ⋮ | ⋮ | ⋮ |\n",
       "| hue                          |   0.48 |    1.71 |   0.9577895 |   0.2274307 |\n",
       "| OD280.OD315.of.diluted.wines |   1.27 |    3.92 |   2.6254887 |   0.7256768 |\n",
       "| proline                      | 278.00 | 1680.00 | 735.1127820 | 310.2680331 |\n",
       "\n"
      ],
      "text/plain": [
       "   attribute                    min    max     mean        sd         \n",
       "1  alcohol                      11.03  14.83   13.040677   0.8274305  \n",
       "2  malic.acid                    0.74   5.80    2.385489   1.1362128  \n",
       "3  ash                           1.36   3.23    2.366541   0.2733935  \n",
       "⋮  ⋮                            ⋮      ⋮       ⋮           ⋮          \n",
       "11 hue                            0.48    1.71   0.9577895   0.2274307\n",
       "12 OD280.OD315.of.diluted.wines   1.27    3.92   2.6254887   0.7256768\n",
       "13 proline                      278.00 1680.00 735.1127820 310.2680331"
      ]
     },
     "metadata": {},
     "output_type": "display_data"
    },
    {
     "data": {
      "text/html": [
       "<table class=\"dataframe\">\n",
       "<caption>A tibble: 3 × 2</caption>\n",
       "<thead>\n",
       "\t<tr><th scope=col>class</th><th scope=col>n</th></tr>\n",
       "\t<tr><th scope=col>&lt;fct&gt;</th><th scope=col>&lt;int&gt;</th></tr>\n",
       "</thead>\n",
       "<tbody>\n",
       "\t<tr><td>1</td><td>44</td></tr>\n",
       "\t<tr><td>2</td><td>53</td></tr>\n",
       "\t<tr><td>3</td><td>36</td></tr>\n",
       "</tbody>\n",
       "</table>\n"
      ],
      "text/latex": [
       "A tibble: 3 × 2\n",
       "\\begin{tabular}{ll}\n",
       " class & n\\\\\n",
       " <fct> & <int>\\\\\n",
       "\\hline\n",
       "\t 1 & 44\\\\\n",
       "\t 2 & 53\\\\\n",
       "\t 3 & 36\\\\\n",
       "\\end{tabular}\n"
      ],
      "text/markdown": [
       "\n",
       "A tibble: 3 × 2\n",
       "\n",
       "| class &lt;fct&gt; | n &lt;int&gt; |\n",
       "|---|---|\n",
       "| 1 | 44 |\n",
       "| 2 | 53 |\n",
       "| 3 | 36 |\n",
       "\n"
      ],
      "text/plain": [
       "  class n \n",
       "1 1     44\n",
       "2 2     53\n",
       "3 3     36"
      ]
     },
     "metadata": {},
     "output_type": "display_data"
    }
   ],
   "source": [
    "wine_mean <- wine_training |>\n",
    "    summarise(across(alcohol:proline, mean)) |>\n",
    "    pivot_longer(cols = alcohol:proline,\n",
    "                 names_to = 'attribute',\n",
    "                 values_to = 'mean') \n",
    "wine_min <- wine_training |>\n",
    "    summarise(across(alcohol:proline, min)) |>\n",
    "    pivot_longer(cols = alcohol:proline,\n",
    "                 names_to = 'attribute',\n",
    "                 values_to = 'min') \n",
    "wine_max <- wine_training |>\n",
    "    summarise(across(alcohol:proline, max)) |>\n",
    "    pivot_longer(cols = alcohol:proline,\n",
    "                 names_to = 'attribute',\n",
    "                 values_to = 'max') \n",
    "wine_sd <- wine_training |>\n",
    "    summarise(across(alcohol:proline, sd)) |>\n",
    "    pivot_longer(cols = alcohol:proline,\n",
    "                 names_to = 'attribute',\n",
    "                 values_to = 'sd') \n",
    "\n",
    "wine_stats <- wine_min |>\n",
    "    bind_cols(wine_max |> select(max)) |>\n",
    "    bind_cols(wine_mean |> select(mean)) |>\n",
    "    bind_cols(wine_sd |> select(sd))\n",
    "\n",
    "wine_stats\n",
    "\n",
    "wine_proportions <- wine_training |>\n",
    "    group_by(class) |>\n",
    "    summarize(n = n())\n",
    "wine_proportions"
   ]
  },
  {
   "cell_type": "code",
   "execution_count": 34,
   "id": "246fc995-e2a2-492b-9be4-31576057feef",
   "metadata": {},
   "outputs": [
    {
     "data": {
      "text/html": [
       "<table class=\"dataframe\">\n",
       "<caption>A tibble: 133 × 27</caption>\n",
       "<thead>\n",
       "\t<tr><th scope=col>class</th><th scope=col>alcohol</th><th scope=col>malic.acid</th><th scope=col>ash</th><th scope=col>alcalinity.of.ash</th><th scope=col>magnesium</th><th scope=col>total.phenols</th><th scope=col>flavanoids</th><th scope=col>nonfalvanoid.phenols</th><th scope=col>proanthocyanins</th><th scope=col>⋯</th><th scope=col>scaled.alcalinity.of.ash</th><th scope=col>scaled.magnesium</th><th scope=col>scaled.total.phenols</th><th scope=col>scaled.flavanoids</th><th scope=col>scaled.nonfalvanoid.phenols</th><th scope=col>scaled.proanthocyanins</th><th scope=col>scaled.color.intensity</th><th scope=col>scaled.hue</th><th scope=col>scaled.OD280.OD315.of.diluted.wines</th><th scope=col>scaled.proline</th></tr>\n",
       "\t<tr><th scope=col>&lt;fct&gt;</th><th scope=col>&lt;dbl&gt;</th><th scope=col>&lt;dbl&gt;</th><th scope=col>&lt;dbl&gt;</th><th scope=col>&lt;dbl&gt;</th><th scope=col>&lt;dbl&gt;</th><th scope=col>&lt;dbl&gt;</th><th scope=col>&lt;dbl&gt;</th><th scope=col>&lt;dbl&gt;</th><th scope=col>&lt;dbl&gt;</th><th scope=col>⋯</th><th scope=col>&lt;dbl[,1]&gt;</th><th scope=col>&lt;dbl[,1]&gt;</th><th scope=col>&lt;dbl[,1]&gt;</th><th scope=col>&lt;dbl[,1]&gt;</th><th scope=col>&lt;dbl[,1]&gt;</th><th scope=col>&lt;dbl[,1]&gt;</th><th scope=col>&lt;dbl[,1]&gt;</th><th scope=col>&lt;dbl[,1]&gt;</th><th scope=col>&lt;dbl[,1]&gt;</th><th scope=col>&lt;dbl[,1]&gt;</th></tr>\n",
       "</thead>\n",
       "<tbody>\n",
       "\t<tr><td>1</td><td>14.23</td><td>1.71</td><td>2.43</td><td>15.6</td><td>127</td><td>2.80</td><td>3.06</td><td>0.28</td><td>2.29</td><td>⋯</td><td>-1.1192937</td><td>1.99850714</td><td>0.7954596</td><td>0.9989566</td><td>-0.6800290</td><td> 1.1854573</td><td> 0.2772471</td><td>0.3614750</td><td>1.7838676</td><td>1.063233</td></tr>\n",
       "\t<tr><td>1</td><td>13.20</td><td>1.78</td><td>2.14</td><td>11.2</td><td>100</td><td>2.65</td><td>2.76</td><td>0.26</td><td>1.28</td><td>⋯</td><td>-2.3786874</td><td>0.02690298</td><td>0.5544296</td><td>0.7060096</td><td>-0.8380095</td><td>-0.5202248</td><td>-0.2823900</td><td>0.4054444</td><td>1.0672951</td><td>1.014888</td></tr>\n",
       "\t<tr><td>1</td><td>13.16</td><td>2.36</td><td>2.67</td><td>18.6</td><td>101</td><td>2.80</td><td>3.24</td><td>0.30</td><td>2.81</td><td>⋯</td><td>-0.2606162</td><td>0.09992536</td><td>0.7954596</td><td>1.1747248</td><td>-0.5220485</td><td> 2.0636303</td><td> 0.2950134</td><td>0.3175056</td><td>0.7503496</td><td>1.449995</td></tr>\n",
       "\t<tr><td>⋮</td><td>⋮</td><td>⋮</td><td>⋮</td><td>⋮</td><td>⋮</td><td>⋮</td><td>⋮</td><td>⋮</td><td>⋮</td><td>⋱</td><td>⋮</td><td>⋮</td><td>⋮</td><td>⋮</td><td>⋮</td><td>⋮</td><td>⋮</td><td>⋮</td><td>⋮</td><td>⋮</td></tr>\n",
       "\t<tr><td>3</td><td>13.27</td><td>4.28</td><td>2.26</td><td>20.0</td><td>120</td><td>1.59</td><td>0.69</td><td>0.43</td><td>1.35</td><td>⋯</td><td>0.140100</td><td> 1.4873505</td><td>-1.1488496</td><td>-1.315325</td><td>0.504825</td><td>-0.4020092</td><td>2.302600</td><td>-1.617149</td><td>-1.468269</td><td> 0.3219385</td></tr>\n",
       "\t<tr><td>3</td><td>13.17</td><td>2.59</td><td>2.37</td><td>20.0</td><td>120</td><td>1.65</td><td>0.68</td><td>0.53</td><td>1.46</td><td>⋯</td><td>0.140100</td><td> 1.4873505</td><td>-1.0524376</td><td>-1.325090</td><td>1.294728</td><td>-0.2162418</td><td>1.902860</td><td>-1.573180</td><td>-1.385588</td><td> 0.3380536</td></tr>\n",
       "\t<tr><td>3</td><td>14.13</td><td>4.10</td><td>2.74</td><td>24.5</td><td> 96</td><td>2.05</td><td>0.76</td><td>0.56</td><td>1.35</td><td>⋯</td><td>1.428116</td><td>-0.2651865</td><td>-0.4096907</td><td>-1.246970</td><td>1.531698</td><td>-0.4020092</td><td>1.858444</td><td>-1.529210</td><td>-1.413148</td><td>-0.5643920</td></tr>\n",
       "</tbody>\n",
       "</table>\n"
      ],
      "text/latex": [
       "A tibble: 133 × 27\n",
       "\\begin{tabular}{lllllllllllllllllllll}\n",
       " class & alcohol & malic.acid & ash & alcalinity.of.ash & magnesium & total.phenols & flavanoids & nonfalvanoid.phenols & proanthocyanins & ⋯ & scaled.alcalinity.of.ash & scaled.magnesium & scaled.total.phenols & scaled.flavanoids & scaled.nonfalvanoid.phenols & scaled.proanthocyanins & scaled.color.intensity & scaled.hue & scaled.OD280.OD315.of.diluted.wines & scaled.proline\\\\\n",
       " <fct> & <dbl> & <dbl> & <dbl> & <dbl> & <dbl> & <dbl> & <dbl> & <dbl> & <dbl> & ⋯ & <dbl{[},1{]}> & <dbl{[},1{]}> & <dbl{[},1{]}> & <dbl{[},1{]}> & <dbl{[},1{]}> & <dbl{[},1{]}> & <dbl{[},1{]}> & <dbl{[},1{]}> & <dbl{[},1{]}> & <dbl{[},1{]}>\\\\\n",
       "\\hline\n",
       "\t 1 & 14.23 & 1.71 & 2.43 & 15.6 & 127 & 2.80 & 3.06 & 0.28 & 2.29 & ⋯ & -1.1192937 & 1.99850714 & 0.7954596 & 0.9989566 & -0.6800290 &  1.1854573 &  0.2772471 & 0.3614750 & 1.7838676 & 1.063233\\\\\n",
       "\t 1 & 13.20 & 1.78 & 2.14 & 11.2 & 100 & 2.65 & 2.76 & 0.26 & 1.28 & ⋯ & -2.3786874 & 0.02690298 & 0.5544296 & 0.7060096 & -0.8380095 & -0.5202248 & -0.2823900 & 0.4054444 & 1.0672951 & 1.014888\\\\\n",
       "\t 1 & 13.16 & 2.36 & 2.67 & 18.6 & 101 & 2.80 & 3.24 & 0.30 & 2.81 & ⋯ & -0.2606162 & 0.09992536 & 0.7954596 & 1.1747248 & -0.5220485 &  2.0636303 &  0.2950134 & 0.3175056 & 0.7503496 & 1.449995\\\\\n",
       "\t ⋮ & ⋮ & ⋮ & ⋮ & ⋮ & ⋮ & ⋮ & ⋮ & ⋮ & ⋮ & ⋱ & ⋮ & ⋮ & ⋮ & ⋮ & ⋮ & ⋮ & ⋮ & ⋮ & ⋮ & ⋮\\\\\n",
       "\t 3 & 13.27 & 4.28 & 2.26 & 20.0 & 120 & 1.59 & 0.69 & 0.43 & 1.35 & ⋯ & 0.140100 &  1.4873505 & -1.1488496 & -1.315325 & 0.504825 & -0.4020092 & 2.302600 & -1.617149 & -1.468269 &  0.3219385\\\\\n",
       "\t 3 & 13.17 & 2.59 & 2.37 & 20.0 & 120 & 1.65 & 0.68 & 0.53 & 1.46 & ⋯ & 0.140100 &  1.4873505 & -1.0524376 & -1.325090 & 1.294728 & -0.2162418 & 1.902860 & -1.573180 & -1.385588 &  0.3380536\\\\\n",
       "\t 3 & 14.13 & 4.10 & 2.74 & 24.5 &  96 & 2.05 & 0.76 & 0.56 & 1.35 & ⋯ & 1.428116 & -0.2651865 & -0.4096907 & -1.246970 & 1.531698 & -0.4020092 & 1.858444 & -1.529210 & -1.413148 & -0.5643920\\\\\n",
       "\\end{tabular}\n"
      ],
      "text/markdown": [
       "\n",
       "A tibble: 133 × 27\n",
       "\n",
       "| class &lt;fct&gt; | alcohol &lt;dbl&gt; | malic.acid &lt;dbl&gt; | ash &lt;dbl&gt; | alcalinity.of.ash &lt;dbl&gt; | magnesium &lt;dbl&gt; | total.phenols &lt;dbl&gt; | flavanoids &lt;dbl&gt; | nonfalvanoid.phenols &lt;dbl&gt; | proanthocyanins &lt;dbl&gt; | ⋯ ⋯ | scaled.alcalinity.of.ash &lt;dbl[,1]&gt; | scaled.magnesium &lt;dbl[,1]&gt; | scaled.total.phenols &lt;dbl[,1]&gt; | scaled.flavanoids &lt;dbl[,1]&gt; | scaled.nonfalvanoid.phenols &lt;dbl[,1]&gt; | scaled.proanthocyanins &lt;dbl[,1]&gt; | scaled.color.intensity &lt;dbl[,1]&gt; | scaled.hue &lt;dbl[,1]&gt; | scaled.OD280.OD315.of.diluted.wines &lt;dbl[,1]&gt; | scaled.proline &lt;dbl[,1]&gt; |\n",
       "|---|---|---|---|---|---|---|---|---|---|---|---|---|---|---|---|---|---|---|---|---|\n",
       "| 1 | 14.23 | 1.71 | 2.43 | 15.6 | 127 | 2.80 | 3.06 | 0.28 | 2.29 | ⋯ | -1.1192937 | 1.99850714 | 0.7954596 | 0.9989566 | -0.6800290 |  1.1854573 |  0.2772471 | 0.3614750 | 1.7838676 | 1.063233 |\n",
       "| 1 | 13.20 | 1.78 | 2.14 | 11.2 | 100 | 2.65 | 2.76 | 0.26 | 1.28 | ⋯ | -2.3786874 | 0.02690298 | 0.5544296 | 0.7060096 | -0.8380095 | -0.5202248 | -0.2823900 | 0.4054444 | 1.0672951 | 1.014888 |\n",
       "| 1 | 13.16 | 2.36 | 2.67 | 18.6 | 101 | 2.80 | 3.24 | 0.30 | 2.81 | ⋯ | -0.2606162 | 0.09992536 | 0.7954596 | 1.1747248 | -0.5220485 |  2.0636303 |  0.2950134 | 0.3175056 | 0.7503496 | 1.449995 |\n",
       "| ⋮ | ⋮ | ⋮ | ⋮ | ⋮ | ⋮ | ⋮ | ⋮ | ⋮ | ⋮ | ⋱ | ⋮ | ⋮ | ⋮ | ⋮ | ⋮ | ⋮ | ⋮ | ⋮ | ⋮ | ⋮ |\n",
       "| 3 | 13.27 | 4.28 | 2.26 | 20.0 | 120 | 1.59 | 0.69 | 0.43 | 1.35 | ⋯ | 0.140100 |  1.4873505 | -1.1488496 | -1.315325 | 0.504825 | -0.4020092 | 2.302600 | -1.617149 | -1.468269 |  0.3219385 |\n",
       "| 3 | 13.17 | 2.59 | 2.37 | 20.0 | 120 | 1.65 | 0.68 | 0.53 | 1.46 | ⋯ | 0.140100 |  1.4873505 | -1.0524376 | -1.325090 | 1.294728 | -0.2162418 | 1.902860 | -1.573180 | -1.385588 |  0.3380536 |\n",
       "| 3 | 14.13 | 4.10 | 2.74 | 24.5 |  96 | 2.05 | 0.76 | 0.56 | 1.35 | ⋯ | 1.428116 | -0.2651865 | -0.4096907 | -1.246970 | 1.531698 | -0.4020092 | 1.858444 | -1.529210 | -1.413148 | -0.5643920 |\n",
       "\n"
      ],
      "text/plain": [
       "    class alcohol malic.acid ash  alcalinity.of.ash magnesium total.phenols\n",
       "1   1     14.23   1.71       2.43 15.6              127       2.80         \n",
       "2   1     13.20   1.78       2.14 11.2              100       2.65         \n",
       "3   1     13.16   2.36       2.67 18.6              101       2.80         \n",
       "⋮   ⋮     ⋮       ⋮          ⋮    ⋮                 ⋮         ⋮            \n",
       "131 3     13.27   4.28       2.26 20.0              120       1.59         \n",
       "132 3     13.17   2.59       2.37 20.0              120       1.65         \n",
       "133 3     14.13   4.10       2.74 24.5               96       2.05         \n",
       "    flavanoids nonfalvanoid.phenols proanthocyanins ⋯ scaled.alcalinity.of.ash\n",
       "1   3.06       0.28                 2.29            ⋯ -1.1192937              \n",
       "2   2.76       0.26                 1.28            ⋯ -2.3786874              \n",
       "3   3.24       0.30                 2.81            ⋯ -0.2606162              \n",
       "⋮   ⋮          ⋮                    ⋮               ⋱ ⋮                       \n",
       "131 0.69       0.43                 1.35            ⋯ 0.140100                \n",
       "132 0.68       0.53                 1.46            ⋯ 0.140100                \n",
       "133 0.76       0.56                 1.35            ⋯ 1.428116                \n",
       "    scaled.magnesium scaled.total.phenols scaled.flavanoids\n",
       "1   1.99850714       0.7954596            0.9989566        \n",
       "2   0.02690298       0.5544296            0.7060096        \n",
       "3   0.09992536       0.7954596            1.1747248        \n",
       "⋮   ⋮                ⋮                    ⋮                \n",
       "131  1.4873505       -1.1488496           -1.315325        \n",
       "132  1.4873505       -1.0524376           -1.325090        \n",
       "133 -0.2651865       -0.4096907           -1.246970        \n",
       "    scaled.nonfalvanoid.phenols scaled.proanthocyanins scaled.color.intensity\n",
       "1   -0.6800290                   1.1854573              0.2772471            \n",
       "2   -0.8380095                  -0.5202248             -0.2823900            \n",
       "3   -0.5220485                   2.0636303              0.2950134            \n",
       "⋮   ⋮                           ⋮                      ⋮                     \n",
       "131 0.504825                    -0.4020092             2.302600              \n",
       "132 1.294728                    -0.2162418             1.902860              \n",
       "133 1.531698                    -0.4020092             1.858444              \n",
       "    scaled.hue scaled.OD280.OD315.of.diluted.wines scaled.proline\n",
       "1   0.3614750  1.7838676                           1.063233      \n",
       "2   0.4054444  1.0672951                           1.014888      \n",
       "3   0.3175056  0.7503496                           1.449995      \n",
       "⋮   ⋮          ⋮                                   ⋮             \n",
       "131 -1.617149  -1.468269                            0.3219385    \n",
       "132 -1.573180  -1.385588                            0.3380536    \n",
       "133 -1.529210  -1.413148                           -0.5643920    "
      ]
     },
     "metadata": {},
     "output_type": "display_data"
    },
    {
     "name": "stderr",
     "output_type": "stream",
     "text": [
      "`stat_bin()` using `bins = 30`. Pick better value with `binwidth`.\n",
      "\n"
     ]
    },
    {
     "data": {
      "image/png": "[encoded data removed]",
      "text/plain": [
       "plot without title"
      ]
     },
     "metadata": {
      "image/png": {
       "height": 480,
       "width": 600
      }
     },
     "output_type": "display_data"
    }
   ],
   "source": [
    "wine_data_scaled <- wine_training |>\n",
    "    mutate(scaled.alcohol = scale(alcohol, center = TRUE)) |>\n",
    "    mutate(scaled.malic_acid = scale(malic.acid, center = TRUE)) |>\n",
    "    mutate(scaled.ash = scale(ash, center = TRUE)) |>\n",
    "    mutate(scaled.alcalinity.of.ash = scale(alcalinity.of.ash, center = TRUE)) |>\n",
    "    mutate(scaled.magnesium = scale(magnesium, center = TRUE)) |>\n",
    "    mutate(scaled.total.phenols = scale(total.phenols, center = TRUE)) |>\n",
    "    mutate(scaled.flavanoids = scale(flavanoids, center = TRUE)) |>\n",
    "    mutate(scaled.nonfalvanoid.phenols = scale(nonfalvanoid.phenols, center = TRUE)) |>\n",
    "    mutate(scaled.proanthocyanins = scale(proanthocyanins, center = TRUE)) |>\n",
    "    mutate(scaled.color.intensity = scale(color.intensity, center = TRUE)) |>\n",
    "    mutate(scaled.hue = scale(hue, center = TRUE)) |>\n",
    "    mutate(scaled.OD280.OD315.of.diluted.wines = scale(OD280.OD315.of.diluted.wines, center = TRUE)) |>\n",
    "    mutate(scaled.proline = scale(proline, center = TRUE))\n",
    "wine_data_scaled\n",
    "\n",
    "options(repr.plot.width = 10, repr.plot.height = 8)\n",
    "wine_plot <- wine_data_scaled |>\n",
    "    ggplot(aes(x = scaled.alcohol)) +\n",
    "    geom_histogram() +\n",
    "labs(x = \"Distribution\", y = \"Malic acid\") +\n",
    "    theme(text = element_text(size = 20))\n",
    "wine_plot"
   ]
  },
  {
   "cell_type": "code",
   "execution_count": null,
   "id": "0c398169-898f-45c1-a26d-fc6fe74d52c3",
   "metadata": {},
   "outputs": [],
   "source": []
  },
  {
   "cell_type": "code",
   "execution_count": null,
   "id": "b6d6ea1d-0a4c-4629-9d97-d81b494ab407",
   "metadata": {},
   "outputs": [],
   "source": []
  }
 ],
 "metadata": {
  "kernelspec": {
   "display_name": "R",
   "language": "R",
   "name": "ir"
  },
  "language_info": {
   "codemirror_mode": "r",
   "file_extension": ".r",
   "mimetype": "text/x-r-source",
   "name": "R",
   "pygments_lexer": "r",
   "version": "4.1.3"
  }
 },
 "nbformat": 4,
 "nbformat_minor": 5
}
