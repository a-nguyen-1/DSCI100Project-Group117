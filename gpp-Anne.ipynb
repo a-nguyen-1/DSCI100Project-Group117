{
 "cells": [
  {
   "cell_type": "markdown",
   "id": "389cce5f-27e9-4a85-ba9b-875f843bf580",
   "metadata": {},
   "source": [
    "Preliminary exploratory data analysis:\n",
    "\n",
    "    - Demonstrate that the dataset can be read from the web into R \n",
    "    - Clean and wrangle your data into a tidy format\n",
    "    - Using only training data, summarize the data in at least one table (this is exploratory data analysis). An example of a useful table could be one that reports the number of observations in each class, the means of the predictor variables you plan to use in your analysis and how many rows have missing data. \n",
    "    - Using only training data, visualize the data with at least one plot relevant to the analysis you plan to do (this is exploratory data analysis). An example of a useful visualization could be one that compa\n",
    "    res the distributions of each of the predictor variables you plan to use in your analysis."
   ]
  },
  {
   "cell_type": "code",
   "execution_count": 7,
   "id": "7a34b725-7905-4e3f-a3a5-56df406bf3d7",
   "metadata": {},
   "outputs": [],
   "source": [
    "library(tidyverse)\n",
    "library(repr)\n",
    "library(tidymodels)\n",
    "options(repr.matrix.max.rows = 6)"
   ]
  },
  {
   "cell_type": "code",
   "execution_count": 8,
   "id": "4c6d43fe-9eb3-4f5c-b006-7ef1f4f8cc58",
   "metadata": {},
   "outputs": [
    {
     "name": "stderr",
     "output_type": "stream",
     "text": [
      "\u001b[1mRows: \u001b[22m\u001b[34m178\u001b[39m \u001b[1mColumns: \u001b[22m\u001b[34m14\u001b[39m\n",
      "\u001b[36m──\u001b[39m \u001b[1mColumn specification\u001b[22m \u001b[36m────────────────────────────────────────────────────────\u001b[39m\n",
      "\u001b[1mDelimiter:\u001b[22m \",\"\n",
      "\u001b[32mdbl\u001b[39m (14): X1, X2, X3, X4, X5, X6, X7, X8, X9, X10, X11, X12, X13, X14\n",
      "\n",
      "\u001b[36mℹ\u001b[39m Use `spec()` to retrieve the full column specification for this data.\n",
      "\u001b[36mℹ\u001b[39m Specify the column types or set `show_col_types = FALSE` to quiet this message.\n"
     ]
    },
    {
     "data": {
      "text/html": [
       "<table class=\"dataframe\">\n",
       "<caption>A tibble: 178 × 14</caption>\n",
       "<thead>\n",
       "\t<tr><th scope=col>class</th><th scope=col>alcohol</th><th scope=col>malic.acid</th><th scope=col>ash</th><th scope=col>alcalinity.of.ash</th><th scope=col>magnesium</th><th scope=col>total,phenols</th><th scope=col>flavanoids</th><th scope=col>nonfalvanoid.phenols</th><th scope=col>proanthocyanins</th><th scope=col>color.intensity</th><th scope=col>hue</th><th scope=col>OD280/OD315.of.diluted wines</th><th scope=col>proline</th></tr>\n",
       "\t<tr><th scope=col>&lt;fct&gt;</th><th scope=col>&lt;dbl&gt;</th><th scope=col>&lt;dbl&gt;</th><th scope=col>&lt;dbl&gt;</th><th scope=col>&lt;dbl&gt;</th><th scope=col>&lt;dbl&gt;</th><th scope=col>&lt;dbl&gt;</th><th scope=col>&lt;dbl&gt;</th><th scope=col>&lt;dbl&gt;</th><th scope=col>&lt;dbl&gt;</th><th scope=col>&lt;dbl&gt;</th><th scope=col>&lt;dbl&gt;</th><th scope=col>&lt;dbl&gt;</th><th scope=col>&lt;dbl&gt;</th></tr>\n",
       "</thead>\n",
       "<tbody>\n",
       "\t<tr><td>1</td><td>14.23</td><td>1.71</td><td>2.43</td><td>15.6</td><td>127</td><td>2.80</td><td>3.06</td><td>0.28</td><td>2.29</td><td>5.64</td><td>1.04</td><td>3.92</td><td>1065</td></tr>\n",
       "\t<tr><td>1</td><td>13.20</td><td>1.78</td><td>2.14</td><td>11.2</td><td>100</td><td>2.65</td><td>2.76</td><td>0.26</td><td>1.28</td><td>4.38</td><td>1.05</td><td>3.40</td><td>1050</td></tr>\n",
       "\t<tr><td>1</td><td>13.16</td><td>2.36</td><td>2.67</td><td>18.6</td><td>101</td><td>2.80</td><td>3.24</td><td>0.30</td><td>2.81</td><td>5.68</td><td>1.03</td><td>3.17</td><td>1185</td></tr>\n",
       "\t<tr><td>⋮</td><td>⋮</td><td>⋮</td><td>⋮</td><td>⋮</td><td>⋮</td><td>⋮</td><td>⋮</td><td>⋮</td><td>⋮</td><td>⋮</td><td>⋮</td><td>⋮</td><td>⋮</td></tr>\n",
       "\t<tr><td>3</td><td>13.27</td><td>4.28</td><td>2.26</td><td>20.0</td><td>120</td><td>1.59</td><td>0.69</td><td>0.43</td><td>1.35</td><td>10.2</td><td>0.59</td><td>1.56</td><td>835</td></tr>\n",
       "\t<tr><td>3</td><td>13.17</td><td>2.59</td><td>2.37</td><td>20.0</td><td>120</td><td>1.65</td><td>0.68</td><td>0.53</td><td>1.46</td><td> 9.3</td><td>0.60</td><td>1.62</td><td>840</td></tr>\n",
       "\t<tr><td>3</td><td>14.13</td><td>4.10</td><td>2.74</td><td>24.5</td><td> 96</td><td>2.05</td><td>0.76</td><td>0.56</td><td>1.35</td><td> 9.2</td><td>0.61</td><td>1.60</td><td>560</td></tr>\n",
       "</tbody>\n",
       "</table>\n"
      ],
      "text/latex": [
       "A tibble: 178 × 14\n",
       "\\begin{tabular}{llllllllllllll}\n",
       " class & alcohol & malic.acid & ash & alcalinity.of.ash & magnesium & total,phenols & flavanoids & nonfalvanoid.phenols & proanthocyanins & color.intensity & hue & OD280/OD315.of.diluted wines & proline\\\\\n",
       " <fct> & <dbl> & <dbl> & <dbl> & <dbl> & <dbl> & <dbl> & <dbl> & <dbl> & <dbl> & <dbl> & <dbl> & <dbl> & <dbl>\\\\\n",
       "\\hline\n",
       "\t 1 & 14.23 & 1.71 & 2.43 & 15.6 & 127 & 2.80 & 3.06 & 0.28 & 2.29 & 5.64 & 1.04 & 3.92 & 1065\\\\\n",
       "\t 1 & 13.20 & 1.78 & 2.14 & 11.2 & 100 & 2.65 & 2.76 & 0.26 & 1.28 & 4.38 & 1.05 & 3.40 & 1050\\\\\n",
       "\t 1 & 13.16 & 2.36 & 2.67 & 18.6 & 101 & 2.80 & 3.24 & 0.30 & 2.81 & 5.68 & 1.03 & 3.17 & 1185\\\\\n",
       "\t ⋮ & ⋮ & ⋮ & ⋮ & ⋮ & ⋮ & ⋮ & ⋮ & ⋮ & ⋮ & ⋮ & ⋮ & ⋮ & ⋮\\\\\n",
       "\t 3 & 13.27 & 4.28 & 2.26 & 20.0 & 120 & 1.59 & 0.69 & 0.43 & 1.35 & 10.2 & 0.59 & 1.56 & 835\\\\\n",
       "\t 3 & 13.17 & 2.59 & 2.37 & 20.0 & 120 & 1.65 & 0.68 & 0.53 & 1.46 &  9.3 & 0.60 & 1.62 & 840\\\\\n",
       "\t 3 & 14.13 & 4.10 & 2.74 & 24.5 &  96 & 2.05 & 0.76 & 0.56 & 1.35 &  9.2 & 0.61 & 1.60 & 560\\\\\n",
       "\\end{tabular}\n"
      ],
      "text/markdown": [
       "\n",
       "A tibble: 178 × 14\n",
       "\n",
       "| class &lt;fct&gt; | alcohol &lt;dbl&gt; | malic.acid &lt;dbl&gt; | ash &lt;dbl&gt; | alcalinity.of.ash &lt;dbl&gt; | magnesium &lt;dbl&gt; | total,phenols &lt;dbl&gt; | flavanoids &lt;dbl&gt; | nonfalvanoid.phenols &lt;dbl&gt; | proanthocyanins &lt;dbl&gt; | color.intensity &lt;dbl&gt; | hue &lt;dbl&gt; | OD280/OD315.of.diluted wines &lt;dbl&gt; | proline &lt;dbl&gt; |\n",
       "|---|---|---|---|---|---|---|---|---|---|---|---|---|---|\n",
       "| 1 | 14.23 | 1.71 | 2.43 | 15.6 | 127 | 2.80 | 3.06 | 0.28 | 2.29 | 5.64 | 1.04 | 3.92 | 1065 |\n",
       "| 1 | 13.20 | 1.78 | 2.14 | 11.2 | 100 | 2.65 | 2.76 | 0.26 | 1.28 | 4.38 | 1.05 | 3.40 | 1050 |\n",
       "| 1 | 13.16 | 2.36 | 2.67 | 18.6 | 101 | 2.80 | 3.24 | 0.30 | 2.81 | 5.68 | 1.03 | 3.17 | 1185 |\n",
       "| ⋮ | ⋮ | ⋮ | ⋮ | ⋮ | ⋮ | ⋮ | ⋮ | ⋮ | ⋮ | ⋮ | ⋮ | ⋮ | ⋮ |\n",
       "| 3 | 13.27 | 4.28 | 2.26 | 20.0 | 120 | 1.59 | 0.69 | 0.43 | 1.35 | 10.2 | 0.59 | 1.56 | 835 |\n",
       "| 3 | 13.17 | 2.59 | 2.37 | 20.0 | 120 | 1.65 | 0.68 | 0.53 | 1.46 |  9.3 | 0.60 | 1.62 | 840 |\n",
       "| 3 | 14.13 | 4.10 | 2.74 | 24.5 |  96 | 2.05 | 0.76 | 0.56 | 1.35 |  9.2 | 0.61 | 1.60 | 560 |\n",
       "\n"
      ],
      "text/plain": [
       "    class alcohol malic.acid ash  alcalinity.of.ash magnesium total,phenols\n",
       "1   1     14.23   1.71       2.43 15.6              127       2.80         \n",
       "2   1     13.20   1.78       2.14 11.2              100       2.65         \n",
       "3   1     13.16   2.36       2.67 18.6              101       2.80         \n",
       "⋮   ⋮     ⋮       ⋮          ⋮    ⋮                 ⋮         ⋮            \n",
       "176 3     13.27   4.28       2.26 20.0              120       1.59         \n",
       "177 3     13.17   2.59       2.37 20.0              120       1.65         \n",
       "178 3     14.13   4.10       2.74 24.5               96       2.05         \n",
       "    flavanoids nonfalvanoid.phenols proanthocyanins color.intensity hue \n",
       "1   3.06       0.28                 2.29            5.64            1.04\n",
       "2   2.76       0.26                 1.28            4.38            1.05\n",
       "3   3.24       0.30                 2.81            5.68            1.03\n",
       "⋮   ⋮          ⋮                    ⋮               ⋮               ⋮   \n",
       "176 0.69       0.43                 1.35            10.2            0.59\n",
       "177 0.68       0.53                 1.46             9.3            0.60\n",
       "178 0.76       0.56                 1.35             9.2            0.61\n",
       "    OD280/OD315.of.diluted wines proline\n",
       "1   3.92                         1065   \n",
       "2   3.40                         1050   \n",
       "3   3.17                         1185   \n",
       "⋮   ⋮                            ⋮      \n",
       "176 1.56                         835    \n",
       "177 1.62                         840    \n",
       "178 1.60                         560    "
      ]
     },
     "metadata": {},
     "output_type": "display_data"
    }
   ],
   "source": [
    "wine_data <- read_delim(\"https://archive.ics.uci.edu/ml/machine-learning-databases/wine/wine.data\", col_names = FALSE) |>\n",
    "    mutate(X1 = as_factor(X1))\n",
    "colnames(wine_data) <- c(\"class\",\"alcohol\", \"malic.acid\", \"ash\", \"alcalinity.of.ash\",\"magnesium\", \"total,phenols\",\n",
    "                         \"flavanoids\", \"nonfalvanoid.phenols\", \"proanthocyanins\", \"color.intensity\", \"hue\",\n",
    "                         \"OD280/OD315.of.diluted wines\", \"proline\")\n",
    "wine_data"
   ]
  },
  {
   "cell_type": "code",
   "execution_count": 12,
   "id": "cbbd4764-eb3e-48cd-9bcc-fbf2a2ae3766",
   "metadata": {},
   "outputs": [
    {
     "data": {
      "text/html": [
       "<table class=\"dataframe\">\n",
       "<caption>A tibble: 133 × 14</caption>\n",
       "<thead>\n",
       "\t<tr><th scope=col>class</th><th scope=col>alcohol</th><th scope=col>malic.acid</th><th scope=col>ash</th><th scope=col>alcalinity.of.ash</th><th scope=col>magnesium</th><th scope=col>total,phenols</th><th scope=col>flavanoids</th><th scope=col>nonfalvanoid.phenols</th><th scope=col>proanthocyanins</th><th scope=col>color.intensity</th><th scope=col>hue</th><th scope=col>OD280/OD315.of.diluted wines</th><th scope=col>proline</th></tr>\n",
       "\t<tr><th scope=col>&lt;fct&gt;</th><th scope=col>&lt;dbl&gt;</th><th scope=col>&lt;dbl&gt;</th><th scope=col>&lt;dbl&gt;</th><th scope=col>&lt;dbl&gt;</th><th scope=col>&lt;dbl&gt;</th><th scope=col>&lt;dbl&gt;</th><th scope=col>&lt;dbl&gt;</th><th scope=col>&lt;dbl&gt;</th><th scope=col>&lt;dbl&gt;</th><th scope=col>&lt;dbl&gt;</th><th scope=col>&lt;dbl&gt;</th><th scope=col>&lt;dbl&gt;</th><th scope=col>&lt;dbl&gt;</th></tr>\n",
       "</thead>\n",
       "<tbody>\n",
       "\t<tr><td>1</td><td>14.23</td><td>1.71</td><td>2.43</td><td>15.6</td><td>127</td><td>2.80</td><td>3.06</td><td>0.28</td><td>2.29</td><td>5.64</td><td>1.04</td><td>3.92</td><td>1065</td></tr>\n",
       "\t<tr><td>1</td><td>13.20</td><td>1.78</td><td>2.14</td><td>11.2</td><td>100</td><td>2.65</td><td>2.76</td><td>0.26</td><td>1.28</td><td>4.38</td><td>1.05</td><td>3.40</td><td>1050</td></tr>\n",
       "\t<tr><td>1</td><td>14.37</td><td>1.95</td><td>2.50</td><td>16.8</td><td>113</td><td>3.85</td><td>3.49</td><td>0.24</td><td>2.18</td><td>7.80</td><td>0.86</td><td>3.45</td><td>1480</td></tr>\n",
       "\t<tr><td>⋮</td><td>⋮</td><td>⋮</td><td>⋮</td><td>⋮</td><td>⋮</td><td>⋮</td><td>⋮</td><td>⋮</td><td>⋮</td><td>⋮</td><td>⋮</td><td>⋮</td><td>⋮</td></tr>\n",
       "\t<tr><td>3</td><td>13.40</td><td>3.91</td><td>2.48</td><td>23.0</td><td>102</td><td>1.80</td><td>0.75</td><td>0.43</td><td>1.41</td><td>7.3</td><td>0.70</td><td>1.56</td><td>750</td></tr>\n",
       "\t<tr><td>3</td><td>13.17</td><td>2.59</td><td>2.37</td><td>20.0</td><td>120</td><td>1.65</td><td>0.68</td><td>0.53</td><td>1.46</td><td>9.3</td><td>0.60</td><td>1.62</td><td>840</td></tr>\n",
       "\t<tr><td>3</td><td>14.13</td><td>4.10</td><td>2.74</td><td>24.5</td><td> 96</td><td>2.05</td><td>0.76</td><td>0.56</td><td>1.35</td><td>9.2</td><td>0.61</td><td>1.60</td><td>560</td></tr>\n",
       "</tbody>\n",
       "</table>\n"
      ],
      "text/latex": [
       "A tibble: 133 × 14\n",
       "\\begin{tabular}{llllllllllllll}\n",
       " class & alcohol & malic.acid & ash & alcalinity.of.ash & magnesium & total,phenols & flavanoids & nonfalvanoid.phenols & proanthocyanins & color.intensity & hue & OD280/OD315.of.diluted wines & proline\\\\\n",
       " <fct> & <dbl> & <dbl> & <dbl> & <dbl> & <dbl> & <dbl> & <dbl> & <dbl> & <dbl> & <dbl> & <dbl> & <dbl> & <dbl>\\\\\n",
       "\\hline\n",
       "\t 1 & 14.23 & 1.71 & 2.43 & 15.6 & 127 & 2.80 & 3.06 & 0.28 & 2.29 & 5.64 & 1.04 & 3.92 & 1065\\\\\n",
       "\t 1 & 13.20 & 1.78 & 2.14 & 11.2 & 100 & 2.65 & 2.76 & 0.26 & 1.28 & 4.38 & 1.05 & 3.40 & 1050\\\\\n",
       "\t 1 & 14.37 & 1.95 & 2.50 & 16.8 & 113 & 3.85 & 3.49 & 0.24 & 2.18 & 7.80 & 0.86 & 3.45 & 1480\\\\\n",
       "\t ⋮ & ⋮ & ⋮ & ⋮ & ⋮ & ⋮ & ⋮ & ⋮ & ⋮ & ⋮ & ⋮ & ⋮ & ⋮ & ⋮\\\\\n",
       "\t 3 & 13.40 & 3.91 & 2.48 & 23.0 & 102 & 1.80 & 0.75 & 0.43 & 1.41 & 7.3 & 0.70 & 1.56 & 750\\\\\n",
       "\t 3 & 13.17 & 2.59 & 2.37 & 20.0 & 120 & 1.65 & 0.68 & 0.53 & 1.46 & 9.3 & 0.60 & 1.62 & 840\\\\\n",
       "\t 3 & 14.13 & 4.10 & 2.74 & 24.5 &  96 & 2.05 & 0.76 & 0.56 & 1.35 & 9.2 & 0.61 & 1.60 & 560\\\\\n",
       "\\end{tabular}\n"
      ],
      "text/markdown": [
       "\n",
       "A tibble: 133 × 14\n",
       "\n",
       "| class &lt;fct&gt; | alcohol &lt;dbl&gt; | malic.acid &lt;dbl&gt; | ash &lt;dbl&gt; | alcalinity.of.ash &lt;dbl&gt; | magnesium &lt;dbl&gt; | total,phenols &lt;dbl&gt; | flavanoids &lt;dbl&gt; | nonfalvanoid.phenols &lt;dbl&gt; | proanthocyanins &lt;dbl&gt; | color.intensity &lt;dbl&gt; | hue &lt;dbl&gt; | OD280/OD315.of.diluted wines &lt;dbl&gt; | proline &lt;dbl&gt; |\n",
       "|---|---|---|---|---|---|---|---|---|---|---|---|---|---|\n",
       "| 1 | 14.23 | 1.71 | 2.43 | 15.6 | 127 | 2.80 | 3.06 | 0.28 | 2.29 | 5.64 | 1.04 | 3.92 | 1065 |\n",
       "| 1 | 13.20 | 1.78 | 2.14 | 11.2 | 100 | 2.65 | 2.76 | 0.26 | 1.28 | 4.38 | 1.05 | 3.40 | 1050 |\n",
       "| 1 | 14.37 | 1.95 | 2.50 | 16.8 | 113 | 3.85 | 3.49 | 0.24 | 2.18 | 7.80 | 0.86 | 3.45 | 1480 |\n",
       "| ⋮ | ⋮ | ⋮ | ⋮ | ⋮ | ⋮ | ⋮ | ⋮ | ⋮ | ⋮ | ⋮ | ⋮ | ⋮ | ⋮ |\n",
       "| 3 | 13.40 | 3.91 | 2.48 | 23.0 | 102 | 1.80 | 0.75 | 0.43 | 1.41 | 7.3 | 0.70 | 1.56 | 750 |\n",
       "| 3 | 13.17 | 2.59 | 2.37 | 20.0 | 120 | 1.65 | 0.68 | 0.53 | 1.46 | 9.3 | 0.60 | 1.62 | 840 |\n",
       "| 3 | 14.13 | 4.10 | 2.74 | 24.5 |  96 | 2.05 | 0.76 | 0.56 | 1.35 | 9.2 | 0.61 | 1.60 | 560 |\n",
       "\n"
      ],
      "text/plain": [
       "    class alcohol malic.acid ash  alcalinity.of.ash magnesium total,phenols\n",
       "1   1     14.23   1.71       2.43 15.6              127       2.80         \n",
       "2   1     13.20   1.78       2.14 11.2              100       2.65         \n",
       "3   1     14.37   1.95       2.50 16.8              113       3.85         \n",
       "⋮   ⋮     ⋮       ⋮          ⋮    ⋮                 ⋮         ⋮            \n",
       "131 3     13.40   3.91       2.48 23.0              102       1.80         \n",
       "132 3     13.17   2.59       2.37 20.0              120       1.65         \n",
       "133 3     14.13   4.10       2.74 24.5               96       2.05         \n",
       "    flavanoids nonfalvanoid.phenols proanthocyanins color.intensity hue \n",
       "1   3.06       0.28                 2.29            5.64            1.04\n",
       "2   2.76       0.26                 1.28            4.38            1.05\n",
       "3   3.49       0.24                 2.18            7.80            0.86\n",
       "⋮   ⋮          ⋮                    ⋮               ⋮               ⋮   \n",
       "131 0.75       0.43                 1.41            7.3             0.70\n",
       "132 0.68       0.53                 1.46            9.3             0.60\n",
       "133 0.76       0.56                 1.35            9.2             0.61\n",
       "    OD280/OD315.of.diluted wines proline\n",
       "1   3.92                         1065   \n",
       "2   3.40                         1050   \n",
       "3   3.45                         1480   \n",
       "⋮   ⋮                            ⋮      \n",
       "131 1.56                         750    \n",
       "132 1.62                         840    \n",
       "133 1.60                         560    "
      ]
     },
     "metadata": {},
     "output_type": "display_data"
    },
    {
     "data": {
      "text/html": [
       "<table class=\"dataframe\">\n",
       "<caption>A tibble: 45 × 14</caption>\n",
       "<thead>\n",
       "\t<tr><th scope=col>class</th><th scope=col>alcohol</th><th scope=col>malic.acid</th><th scope=col>ash</th><th scope=col>alcalinity.of.ash</th><th scope=col>magnesium</th><th scope=col>total,phenols</th><th scope=col>flavanoids</th><th scope=col>nonfalvanoid.phenols</th><th scope=col>proanthocyanins</th><th scope=col>color.intensity</th><th scope=col>hue</th><th scope=col>OD280/OD315.of.diluted wines</th><th scope=col>proline</th></tr>\n",
       "\t<tr><th scope=col>&lt;fct&gt;</th><th scope=col>&lt;dbl&gt;</th><th scope=col>&lt;dbl&gt;</th><th scope=col>&lt;dbl&gt;</th><th scope=col>&lt;dbl&gt;</th><th scope=col>&lt;dbl&gt;</th><th scope=col>&lt;dbl&gt;</th><th scope=col>&lt;dbl&gt;</th><th scope=col>&lt;dbl&gt;</th><th scope=col>&lt;dbl&gt;</th><th scope=col>&lt;dbl&gt;</th><th scope=col>&lt;dbl&gt;</th><th scope=col>&lt;dbl&gt;</th><th scope=col>&lt;dbl&gt;</th></tr>\n",
       "</thead>\n",
       "<tbody>\n",
       "\t<tr><td>1</td><td>13.16</td><td>2.36</td><td>2.67</td><td>18.6</td><td>101</td><td>2.8</td><td>3.24</td><td>0.30</td><td>2.81</td><td>5.68</td><td>1.03</td><td>3.17</td><td>1185</td></tr>\n",
       "\t<tr><td>1</td><td>14.06</td><td>2.15</td><td>2.61</td><td>17.6</td><td>121</td><td>2.6</td><td>2.51</td><td>0.31</td><td>1.25</td><td>5.05</td><td>1.06</td><td>3.58</td><td>1295</td></tr>\n",
       "\t<tr><td>1</td><td>14.83</td><td>1.64</td><td>2.17</td><td>14.0</td><td> 97</td><td>2.8</td><td>2.98</td><td>0.29</td><td>1.98</td><td>5.20</td><td>1.08</td><td>2.85</td><td>1045</td></tr>\n",
       "\t<tr><td>⋮</td><td>⋮</td><td>⋮</td><td>⋮</td><td>⋮</td><td>⋮</td><td>⋮</td><td>⋮</td><td>⋮</td><td>⋮</td><td>⋮</td><td>⋮</td><td>⋮</td><td>⋮</td></tr>\n",
       "\t<tr><td>3</td><td>13.69</td><td>3.26</td><td>2.54</td><td>20</td><td>107</td><td>1.83</td><td>0.56</td><td>0.50</td><td>0.80</td><td> 5.88</td><td>0.96</td><td>1.82</td><td>680</td></tr>\n",
       "\t<tr><td>3</td><td>13.78</td><td>2.76</td><td>2.30</td><td>22</td><td> 90</td><td>1.35</td><td>0.68</td><td>0.41</td><td>1.03</td><td> 9.58</td><td>0.70</td><td>1.68</td><td>615</td></tr>\n",
       "\t<tr><td>3</td><td>13.27</td><td>4.28</td><td>2.26</td><td>20</td><td>120</td><td>1.59</td><td>0.69</td><td>0.43</td><td>1.35</td><td>10.20</td><td>0.59</td><td>1.56</td><td>835</td></tr>\n",
       "</tbody>\n",
       "</table>\n"
      ],
      "text/latex": [
       "A tibble: 45 × 14\n",
       "\\begin{tabular}{llllllllllllll}\n",
       " class & alcohol & malic.acid & ash & alcalinity.of.ash & magnesium & total,phenols & flavanoids & nonfalvanoid.phenols & proanthocyanins & color.intensity & hue & OD280/OD315.of.diluted wines & proline\\\\\n",
       " <fct> & <dbl> & <dbl> & <dbl> & <dbl> & <dbl> & <dbl> & <dbl> & <dbl> & <dbl> & <dbl> & <dbl> & <dbl> & <dbl>\\\\\n",
       "\\hline\n",
       "\t 1 & 13.16 & 2.36 & 2.67 & 18.6 & 101 & 2.8 & 3.24 & 0.30 & 2.81 & 5.68 & 1.03 & 3.17 & 1185\\\\\n",
       "\t 1 & 14.06 & 2.15 & 2.61 & 17.6 & 121 & 2.6 & 2.51 & 0.31 & 1.25 & 5.05 & 1.06 & 3.58 & 1295\\\\\n",
       "\t 1 & 14.83 & 1.64 & 2.17 & 14.0 &  97 & 2.8 & 2.98 & 0.29 & 1.98 & 5.20 & 1.08 & 2.85 & 1045\\\\\n",
       "\t ⋮ & ⋮ & ⋮ & ⋮ & ⋮ & ⋮ & ⋮ & ⋮ & ⋮ & ⋮ & ⋮ & ⋮ & ⋮ & ⋮\\\\\n",
       "\t 3 & 13.69 & 3.26 & 2.54 & 20 & 107 & 1.83 & 0.56 & 0.50 & 0.80 &  5.88 & 0.96 & 1.82 & 680\\\\\n",
       "\t 3 & 13.78 & 2.76 & 2.30 & 22 &  90 & 1.35 & 0.68 & 0.41 & 1.03 &  9.58 & 0.70 & 1.68 & 615\\\\\n",
       "\t 3 & 13.27 & 4.28 & 2.26 & 20 & 120 & 1.59 & 0.69 & 0.43 & 1.35 & 10.20 & 0.59 & 1.56 & 835\\\\\n",
       "\\end{tabular}\n"
      ],
      "text/markdown": [
       "\n",
       "A tibble: 45 × 14\n",
       "\n",
       "| class &lt;fct&gt; | alcohol &lt;dbl&gt; | malic.acid &lt;dbl&gt; | ash &lt;dbl&gt; | alcalinity.of.ash &lt;dbl&gt; | magnesium &lt;dbl&gt; | total,phenols &lt;dbl&gt; | flavanoids &lt;dbl&gt; | nonfalvanoid.phenols &lt;dbl&gt; | proanthocyanins &lt;dbl&gt; | color.intensity &lt;dbl&gt; | hue &lt;dbl&gt; | OD280/OD315.of.diluted wines &lt;dbl&gt; | proline &lt;dbl&gt; |\n",
       "|---|---|---|---|---|---|---|---|---|---|---|---|---|---|\n",
       "| 1 | 13.16 | 2.36 | 2.67 | 18.6 | 101 | 2.8 | 3.24 | 0.30 | 2.81 | 5.68 | 1.03 | 3.17 | 1185 |\n",
       "| 1 | 14.06 | 2.15 | 2.61 | 17.6 | 121 | 2.6 | 2.51 | 0.31 | 1.25 | 5.05 | 1.06 | 3.58 | 1295 |\n",
       "| 1 | 14.83 | 1.64 | 2.17 | 14.0 |  97 | 2.8 | 2.98 | 0.29 | 1.98 | 5.20 | 1.08 | 2.85 | 1045 |\n",
       "| ⋮ | ⋮ | ⋮ | ⋮ | ⋮ | ⋮ | ⋮ | ⋮ | ⋮ | ⋮ | ⋮ | ⋮ | ⋮ | ⋮ |\n",
       "| 3 | 13.69 | 3.26 | 2.54 | 20 | 107 | 1.83 | 0.56 | 0.50 | 0.80 |  5.88 | 0.96 | 1.82 | 680 |\n",
       "| 3 | 13.78 | 2.76 | 2.30 | 22 |  90 | 1.35 | 0.68 | 0.41 | 1.03 |  9.58 | 0.70 | 1.68 | 615 |\n",
       "| 3 | 13.27 | 4.28 | 2.26 | 20 | 120 | 1.59 | 0.69 | 0.43 | 1.35 | 10.20 | 0.59 | 1.56 | 835 |\n",
       "\n"
      ],
      "text/plain": [
       "   class alcohol malic.acid ash  alcalinity.of.ash magnesium total,phenols\n",
       "1  1     13.16   2.36       2.67 18.6              101       2.8          \n",
       "2  1     14.06   2.15       2.61 17.6              121       2.6          \n",
       "3  1     14.83   1.64       2.17 14.0               97       2.8          \n",
       "⋮  ⋮     ⋮       ⋮          ⋮    ⋮                 ⋮         ⋮            \n",
       "43 3     13.69   3.26       2.54 20                107       1.83         \n",
       "44 3     13.78   2.76       2.30 22                 90       1.35         \n",
       "45 3     13.27   4.28       2.26 20                120       1.59         \n",
       "   flavanoids nonfalvanoid.phenols proanthocyanins color.intensity hue \n",
       "1  3.24       0.30                 2.81            5.68            1.03\n",
       "2  2.51       0.31                 1.25            5.05            1.06\n",
       "3  2.98       0.29                 1.98            5.20            1.08\n",
       "⋮  ⋮          ⋮                    ⋮               ⋮               ⋮   \n",
       "43 0.56       0.50                 0.80             5.88           0.96\n",
       "44 0.68       0.41                 1.03             9.58           0.70\n",
       "45 0.69       0.43                 1.35            10.20           0.59\n",
       "   OD280/OD315.of.diluted wines proline\n",
       "1  3.17                         1185   \n",
       "2  3.58                         1295   \n",
       "3  2.85                         1045   \n",
       "⋮  ⋮                            ⋮      \n",
       "43 1.82                         680    \n",
       "44 1.68                         615    \n",
       "45 1.56                         835    "
      ]
     },
     "metadata": {},
     "output_type": "display_data"
    }
   ],
   "source": [
    "wine_split <- initial_split(wine_data, prop = 0.75, strata = class)  \n",
    "wine_training <- training(wine_split)   \n",
    "wine_testing <- testing(wine_split)\n",
    "wine_training\n",
    "wine_testing"
   ]
  },
  {
   "cell_type": "code",
   "execution_count": 19,
   "id": "3ee69f0c-f236-4def-83b4-67683f6bbde8",
   "metadata": {},
   "outputs": [
    {
     "data": {
      "text/html": [
       "<table class=\"dataframe\">\n",
       "<caption>A tibble: 13 × 5</caption>\n",
       "<thead>\n",
       "\t<tr><th scope=col>attribute</th><th scope=col>min</th><th scope=col>max</th><th scope=col>mean</th><th scope=col>sd</th></tr>\n",
       "\t<tr><th scope=col>&lt;chr&gt;</th><th scope=col>&lt;dbl&gt;</th><th scope=col>&lt;dbl&gt;</th><th scope=col>&lt;dbl&gt;</th><th scope=col>&lt;dbl&gt;</th></tr>\n",
       "</thead>\n",
       "<tbody>\n",
       "\t<tr><td>alcohol   </td><td>11.03</td><td>14.75</td><td>12.987744</td><td>0.7955593</td></tr>\n",
       "\t<tr><td>malic.acid</td><td> 0.89</td><td> 5.80</td><td> 2.328872</td><td>1.1129300</td></tr>\n",
       "\t<tr><td>ash       </td><td> 1.36</td><td> 3.23</td><td> 2.380677</td><td>0.2694247</td></tr>\n",
       "\t<tr><td>⋮</td><td>⋮</td><td>⋮</td><td>⋮</td><td>⋮</td></tr>\n",
       "\t<tr><td>hue                         </td><td>  0.55</td><td>   1.71</td><td>  0.9566917</td><td>  0.2279079</td></tr>\n",
       "\t<tr><td>OD280/OD315.of.diluted wines</td><td>  1.27</td><td>   4.00</td><td>  2.6052632</td><td>  0.7037600</td></tr>\n",
       "\t<tr><td>proline                     </td><td>278.00</td><td>1547.00</td><td>736.6015038</td><td>314.5154267</td></tr>\n",
       "</tbody>\n",
       "</table>\n"
      ],
      "text/latex": [
       "A tibble: 13 × 5\n",
       "\\begin{tabular}{lllll}\n",
       " attribute & min & max & mean & sd\\\\\n",
       " <chr> & <dbl> & <dbl> & <dbl> & <dbl>\\\\\n",
       "\\hline\n",
       "\t alcohol    & 11.03 & 14.75 & 12.987744 & 0.7955593\\\\\n",
       "\t malic.acid &  0.89 &  5.80 &  2.328872 & 1.1129300\\\\\n",
       "\t ash        &  1.36 &  3.23 &  2.380677 & 0.2694247\\\\\n",
       "\t ⋮ & ⋮ & ⋮ & ⋮ & ⋮\\\\\n",
       "\t hue                          &   0.55 &    1.71 &   0.9566917 &   0.2279079\\\\\n",
       "\t OD280/OD315.of.diluted wines &   1.27 &    4.00 &   2.6052632 &   0.7037600\\\\\n",
       "\t proline                      & 278.00 & 1547.00 & 736.6015038 & 314.5154267\\\\\n",
       "\\end{tabular}\n"
      ],
      "text/markdown": [
       "\n",
       "A tibble: 13 × 5\n",
       "\n",
       "| attribute &lt;chr&gt; | min &lt;dbl&gt; | max &lt;dbl&gt; | mean &lt;dbl&gt; | sd &lt;dbl&gt; |\n",
       "|---|---|---|---|---|\n",
       "| alcohol    | 11.03 | 14.75 | 12.987744 | 0.7955593 |\n",
       "| malic.acid |  0.89 |  5.80 |  2.328872 | 1.1129300 |\n",
       "| ash        |  1.36 |  3.23 |  2.380677 | 0.2694247 |\n",
       "| ⋮ | ⋮ | ⋮ | ⋮ | ⋮ |\n",
       "| hue                          |   0.55 |    1.71 |   0.9566917 |   0.2279079 |\n",
       "| OD280/OD315.of.diluted wines |   1.27 |    4.00 |   2.6052632 |   0.7037600 |\n",
       "| proline                      | 278.00 | 1547.00 | 736.6015038 | 314.5154267 |\n",
       "\n"
      ],
      "text/plain": [
       "   attribute                    min    max     mean        sd         \n",
       "1  alcohol                      11.03  14.75   12.987744   0.7955593  \n",
       "2  malic.acid                    0.89   5.80    2.328872   1.1129300  \n",
       "3  ash                           1.36   3.23    2.380677   0.2694247  \n",
       "⋮  ⋮                            ⋮      ⋮       ⋮           ⋮          \n",
       "11 hue                            0.55    1.71   0.9566917   0.2279079\n",
       "12 OD280/OD315.of.diluted wines   1.27    4.00   2.6052632   0.7037600\n",
       "13 proline                      278.00 1547.00 736.6015038 314.5154267"
      ]
     },
     "metadata": {},
     "output_type": "display_data"
    },
    {
     "data": {
      "text/html": [
       "<table class=\"dataframe\">\n",
       "<caption>A tibble: 3 × 2</caption>\n",
       "<thead>\n",
       "\t<tr><th scope=col>class</th><th scope=col>n</th></tr>\n",
       "\t<tr><th scope=col>&lt;fct&gt;</th><th scope=col>&lt;int&gt;</th></tr>\n",
       "</thead>\n",
       "<tbody>\n",
       "\t<tr><td>1</td><td>44</td></tr>\n",
       "\t<tr><td>2</td><td>53</td></tr>\n",
       "\t<tr><td>3</td><td>36</td></tr>\n",
       "</tbody>\n",
       "</table>\n"
      ],
      "text/latex": [
       "A tibble: 3 × 2\n",
       "\\begin{tabular}{ll}\n",
       " class & n\\\\\n",
       " <fct> & <int>\\\\\n",
       "\\hline\n",
       "\t 1 & 44\\\\\n",
       "\t 2 & 53\\\\\n",
       "\t 3 & 36\\\\\n",
       "\\end{tabular}\n"
      ],
      "text/markdown": [
       "\n",
       "A tibble: 3 × 2\n",
       "\n",
       "| class &lt;fct&gt; | n &lt;int&gt; |\n",
       "|---|---|\n",
       "| 1 | 44 |\n",
       "| 2 | 53 |\n",
       "| 3 | 36 |\n",
       "\n"
      ],
      "text/plain": [
       "  class n \n",
       "1 1     44\n",
       "2 2     53\n",
       "3 3     36"
      ]
     },
     "metadata": {},
     "output_type": "display_data"
    }
   ],
   "source": [
    "wine_mean <- wine_training |>\n",
    "    summarise(across(alcohol:proline, mean)) |>\n",
    "    pivot_longer(cols = alcohol:proline,\n",
    "                 names_to = 'attribute',\n",
    "                 values_to = 'mean') \n",
    "wine_min <- wine_training |>\n",
    "    summarise(across(alcohol:proline, min)) |>\n",
    "    pivot_longer(cols = alcohol:proline,\n",
    "                 names_to = 'attribute',\n",
    "                 values_to = 'min') \n",
    "wine_max <- wine_training |>\n",
    "    summarise(across(alcohol:proline, max)) |>\n",
    "    pivot_longer(cols = alcohol:proline,\n",
    "                 names_to = 'attribute',\n",
    "                 values_to = 'max') \n",
    "wine_sd <- wine_training |>\n",
    "    summarise(across(alcohol:proline, sd)) |>\n",
    "    pivot_longer(cols = alcohol:proline,\n",
    "                 names_to = 'attribute',\n",
    "                 values_to = 'sd') \n",
    "\n",
    "wine_stats <- wine_min |>\n",
    "    bind_cols(wine_max |> select(max)) |>\n",
    "    bind_cols(wine_mean |> select(mean)) |>\n",
    "    bind_cols(wine_sd |> select(sd))\n",
    "\n",
    "wine_stats\n",
    "\n",
    "wine_proportions <- wine_training |>\n",
    "    group_by(class) |>\n",
    "    summarize(n = n())\n",
    "wine_proportions"
   ]
  },
  {
   "cell_type": "code",
   "execution_count": 20,
   "id": "246fc995-e2a2-492b-9be4-31576057feef",
   "metadata": {},
   "outputs": [
    {
     "data": {
      "image/png": "[encoded data removed]",
      "text/plain": [
       "plot without title"
      ]
     },
     "metadata": {
      "image/png": {
       "height": 600,
       "width": 900
      }
     },
     "output_type": "display_data"
    }
   ],
   "source": [
    "\n",
    "options(repr.plot.width = 15, repr.plot.height = 10)\n",
    "wine_plot <- wine_training |>\n",
    "    ggplot(aes(x = alcohol, y = malic.acid, colour = class)) +\n",
    "    geom_point() +\n",
    "labs(x = \"Alcohol content\", y = \"Malic acid\") +\n",
    "    theme(text = element_text(size = 20))\n",
    "wine_plot"
   ]
  },
  {
   "cell_type": "code",
   "execution_count": null,
   "id": "b6d6ea1d-0a4c-4629-9d97-d81b494ab407",
   "metadata": {},
   "outputs": [],
   "source": []
  }
 ],
 "metadata": {
  "kernelspec": {
   "display_name": "R",
   "language": "R",
   "name": "ir"
  },
  "language_info": {
   "codemirror_mode": "r",
   "file_extension": ".r",
   "mimetype": "text/x-r-source",
   "name": "R",
   "pygments_lexer": "r",
   "version": "4.1.3"
  }
 },
 "nbformat": 4,
 "nbformat_minor": 5
}
