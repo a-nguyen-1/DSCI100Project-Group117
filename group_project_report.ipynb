{
 "cells": [
  {
   "cell_type": "markdown",
   "id": "6a36a215-c4e6-4674-92c3-fc77089335d0",
   "metadata": {},
   "source": [
    "# **Predicting Wine Class Using KNN Classifier Algorithm**"
   ]
  },
  {
   "cell_type": "markdown",
   "id": "af26c1bc-bcab-4a28-bf90-439aa4250924",
   "metadata": {},
   "source": [
    "## **Introduction**\n",
    "\n",
    "Our topic is centered around the composition of wine. The dataset we are using collected results of “chemical analysis” of wine grown by different people within a singular region in Italy (1). In this dataset, there are 13 different columns, which are variables indicating the different measures of composition of wine. Namely, these variables are Alcohol, Malic Acid, Ash, Alkalinity of ash, Magnesium, Total Phenols, Flavonoids, Non-Flavonoid Phenols, Proanthocyanidins, Color intensity, Hue, OD280/OD315 of diluted wines and Proline. There are three different types of wine classes observed in this dataset, and they have been numbered 1,2 or 3 under the column “Class”. The predictive question we will aim to answer is: Given a composition of wine, predict which class, from the 3 possible ones in this dataset, that particular wine belongs to. There are no missing values for any of the variables in this dataset.\n",
    "\n",
    "**NOTE from Anne: maybe add more background info for which we can use the sources to fill the literature reference requirement**\n",
    "\n",
    "    -provide some relevant background information on the topic so that someone unfamiliar with it will be prepared to understand the rest of your report\n",
    "    -clearly state the question you tried to answer with your project\n",
    "    -identify and describe the dataset that was used to answer the question\n",
    "\n"
   ]
  },
  {
   "cell_type": "markdown",
   "id": "22ddbca0-6020-4fa7-a234-f5623172b8da",
   "metadata": {},
   "source": [
    "Methods & Results:\n",
    "\n",
    "    describe in written English the methods you used to perform your analysis from beginning to end that narrates the code the does the analysis.\n",
    "    your report should include code which:\n",
    "        loads data from the original source on the web \n",
    "        wrangles and cleans the data from it's original (downloaded) format to the format necessary for the planned analysis\n",
    "        performs a summary of the data set that is relevant for exploratory data analysis related to the planned analysis \n",
    "        creates a visualization of the dataset that is relevant for exploratory data analysis related to the planned analysis\n",
    "        performs the data analysis\n",
    "        creates a visualization of the analysis \n",
    "        note: all tables and figure should have a figure/table number and a legend\n",
    "\n"
   ]
  },
  {
   "cell_type": "code",
   "execution_count": 132,
   "id": "865e2967-cac8-4fc8-b7a9-3b172303e00e",
   "metadata": {},
   "outputs": [],
   "source": [
    "library(tidyverse)\n",
    "library(repr)\n",
    "library(tidymodels)\n",
    "options(repr.matrix.max.rows = 6)"
   ]
  },
  {
   "cell_type": "code",
   "execution_count": 133,
   "id": "1b0e9aa5-799a-4d8a-a009-20c3b6e98291",
   "metadata": {},
   "outputs": [
    {
     "name": "stderr",
     "output_type": "stream",
     "text": [
      "\u001b[1mRows: \u001b[22m\u001b[34m178\u001b[39m \u001b[1mColumns: \u001b[22m\u001b[34m14\u001b[39m\n",
      "\u001b[36m──\u001b[39m \u001b[1mColumn specification\u001b[22m \u001b[36m────────────────────────────────────────────────────────\u001b[39m\n",
      "\u001b[1mDelimiter:\u001b[22m \",\"\n",
      "\u001b[32mdbl\u001b[39m (14): X1, X2, X3, X4, X5, X6, X7, X8, X9, X10, X11, X12, X13, X14\n",
      "\n",
      "\u001b[36mℹ\u001b[39m Use `spec()` to retrieve the full column specification for this data.\n",
      "\u001b[36mℹ\u001b[39m Specify the column types or set `show_col_types = FALSE` to quiet this message.\n"
     ]
    },
    {
     "data": {
      "text/html": [
       "<table class=\"dataframe\">\n",
       "<caption>A tibble: 178 × 14</caption>\n",
       "<thead>\n",
       "\t<tr><th scope=col>class</th><th scope=col>alcohol</th><th scope=col>malic.acid</th><th scope=col>ash</th><th scope=col>alcalinity.of.ash</th><th scope=col>magnesium</th><th scope=col>total.phenols</th><th scope=col>flavanoids</th><th scope=col>nonfalvanoid.phenols</th><th scope=col>proanthocyanins</th><th scope=col>color.intensity</th><th scope=col>hue</th><th scope=col>OD280.OD315.of.diluted.wines</th><th scope=col>proline</th></tr>\n",
       "\t<tr><th scope=col>&lt;fct&gt;</th><th scope=col>&lt;dbl&gt;</th><th scope=col>&lt;dbl&gt;</th><th scope=col>&lt;dbl&gt;</th><th scope=col>&lt;dbl&gt;</th><th scope=col>&lt;dbl&gt;</th><th scope=col>&lt;dbl&gt;</th><th scope=col>&lt;dbl&gt;</th><th scope=col>&lt;dbl&gt;</th><th scope=col>&lt;dbl&gt;</th><th scope=col>&lt;dbl&gt;</th><th scope=col>&lt;dbl&gt;</th><th scope=col>&lt;dbl&gt;</th><th scope=col>&lt;dbl&gt;</th></tr>\n",
       "</thead>\n",
       "<tbody>\n",
       "\t<tr><td>1</td><td>14.23</td><td>1.71</td><td>2.43</td><td>15.6</td><td>127</td><td>2.80</td><td>3.06</td><td>0.28</td><td>2.29</td><td>5.64</td><td>1.04</td><td>3.92</td><td>1065</td></tr>\n",
       "\t<tr><td>1</td><td>13.20</td><td>1.78</td><td>2.14</td><td>11.2</td><td>100</td><td>2.65</td><td>2.76</td><td>0.26</td><td>1.28</td><td>4.38</td><td>1.05</td><td>3.40</td><td>1050</td></tr>\n",
       "\t<tr><td>1</td><td>13.16</td><td>2.36</td><td>2.67</td><td>18.6</td><td>101</td><td>2.80</td><td>3.24</td><td>0.30</td><td>2.81</td><td>5.68</td><td>1.03</td><td>3.17</td><td>1185</td></tr>\n",
       "\t<tr><td>⋮</td><td>⋮</td><td>⋮</td><td>⋮</td><td>⋮</td><td>⋮</td><td>⋮</td><td>⋮</td><td>⋮</td><td>⋮</td><td>⋮</td><td>⋮</td><td>⋮</td><td>⋮</td></tr>\n",
       "\t<tr><td>3</td><td>13.27</td><td>4.28</td><td>2.26</td><td>20.0</td><td>120</td><td>1.59</td><td>0.69</td><td>0.43</td><td>1.35</td><td>10.2</td><td>0.59</td><td>1.56</td><td>835</td></tr>\n",
       "\t<tr><td>3</td><td>13.17</td><td>2.59</td><td>2.37</td><td>20.0</td><td>120</td><td>1.65</td><td>0.68</td><td>0.53</td><td>1.46</td><td> 9.3</td><td>0.60</td><td>1.62</td><td>840</td></tr>\n",
       "\t<tr><td>3</td><td>14.13</td><td>4.10</td><td>2.74</td><td>24.5</td><td> 96</td><td>2.05</td><td>0.76</td><td>0.56</td><td>1.35</td><td> 9.2</td><td>0.61</td><td>1.60</td><td>560</td></tr>\n",
       "</tbody>\n",
       "</table>\n"
      ],
      "text/latex": [
       "A tibble: 178 × 14\n",
       "\\begin{tabular}{llllllllllllll}\n",
       " class & alcohol & malic.acid & ash & alcalinity.of.ash & magnesium & total.phenols & flavanoids & nonfalvanoid.phenols & proanthocyanins & color.intensity & hue & OD280.OD315.of.diluted.wines & proline\\\\\n",
       " <fct> & <dbl> & <dbl> & <dbl> & <dbl> & <dbl> & <dbl> & <dbl> & <dbl> & <dbl> & <dbl> & <dbl> & <dbl> & <dbl>\\\\\n",
       "\\hline\n",
       "\t 1 & 14.23 & 1.71 & 2.43 & 15.6 & 127 & 2.80 & 3.06 & 0.28 & 2.29 & 5.64 & 1.04 & 3.92 & 1065\\\\\n",
       "\t 1 & 13.20 & 1.78 & 2.14 & 11.2 & 100 & 2.65 & 2.76 & 0.26 & 1.28 & 4.38 & 1.05 & 3.40 & 1050\\\\\n",
       "\t 1 & 13.16 & 2.36 & 2.67 & 18.6 & 101 & 2.80 & 3.24 & 0.30 & 2.81 & 5.68 & 1.03 & 3.17 & 1185\\\\\n",
       "\t ⋮ & ⋮ & ⋮ & ⋮ & ⋮ & ⋮ & ⋮ & ⋮ & ⋮ & ⋮ & ⋮ & ⋮ & ⋮ & ⋮\\\\\n",
       "\t 3 & 13.27 & 4.28 & 2.26 & 20.0 & 120 & 1.59 & 0.69 & 0.43 & 1.35 & 10.2 & 0.59 & 1.56 & 835\\\\\n",
       "\t 3 & 13.17 & 2.59 & 2.37 & 20.0 & 120 & 1.65 & 0.68 & 0.53 & 1.46 &  9.3 & 0.60 & 1.62 & 840\\\\\n",
       "\t 3 & 14.13 & 4.10 & 2.74 & 24.5 &  96 & 2.05 & 0.76 & 0.56 & 1.35 &  9.2 & 0.61 & 1.60 & 560\\\\\n",
       "\\end{tabular}\n"
      ],
      "text/markdown": [
       "\n",
       "A tibble: 178 × 14\n",
       "\n",
       "| class &lt;fct&gt; | alcohol &lt;dbl&gt; | malic.acid &lt;dbl&gt; | ash &lt;dbl&gt; | alcalinity.of.ash &lt;dbl&gt; | magnesium &lt;dbl&gt; | total.phenols &lt;dbl&gt; | flavanoids &lt;dbl&gt; | nonfalvanoid.phenols &lt;dbl&gt; | proanthocyanins &lt;dbl&gt; | color.intensity &lt;dbl&gt; | hue &lt;dbl&gt; | OD280.OD315.of.diluted.wines &lt;dbl&gt; | proline &lt;dbl&gt; |\n",
       "|---|---|---|---|---|---|---|---|---|---|---|---|---|---|\n",
       "| 1 | 14.23 | 1.71 | 2.43 | 15.6 | 127 | 2.80 | 3.06 | 0.28 | 2.29 | 5.64 | 1.04 | 3.92 | 1065 |\n",
       "| 1 | 13.20 | 1.78 | 2.14 | 11.2 | 100 | 2.65 | 2.76 | 0.26 | 1.28 | 4.38 | 1.05 | 3.40 | 1050 |\n",
       "| 1 | 13.16 | 2.36 | 2.67 | 18.6 | 101 | 2.80 | 3.24 | 0.30 | 2.81 | 5.68 | 1.03 | 3.17 | 1185 |\n",
       "| ⋮ | ⋮ | ⋮ | ⋮ | ⋮ | ⋮ | ⋮ | ⋮ | ⋮ | ⋮ | ⋮ | ⋮ | ⋮ | ⋮ |\n",
       "| 3 | 13.27 | 4.28 | 2.26 | 20.0 | 120 | 1.59 | 0.69 | 0.43 | 1.35 | 10.2 | 0.59 | 1.56 | 835 |\n",
       "| 3 | 13.17 | 2.59 | 2.37 | 20.0 | 120 | 1.65 | 0.68 | 0.53 | 1.46 |  9.3 | 0.60 | 1.62 | 840 |\n",
       "| 3 | 14.13 | 4.10 | 2.74 | 24.5 |  96 | 2.05 | 0.76 | 0.56 | 1.35 |  9.2 | 0.61 | 1.60 | 560 |\n",
       "\n"
      ],
      "text/plain": [
       "    class alcohol malic.acid ash  alcalinity.of.ash magnesium total.phenols\n",
       "1   1     14.23   1.71       2.43 15.6              127       2.80         \n",
       "2   1     13.20   1.78       2.14 11.2              100       2.65         \n",
       "3   1     13.16   2.36       2.67 18.6              101       2.80         \n",
       "⋮   ⋮     ⋮       ⋮          ⋮    ⋮                 ⋮         ⋮            \n",
       "176 3     13.27   4.28       2.26 20.0              120       1.59         \n",
       "177 3     13.17   2.59       2.37 20.0              120       1.65         \n",
       "178 3     14.13   4.10       2.74 24.5               96       2.05         \n",
       "    flavanoids nonfalvanoid.phenols proanthocyanins color.intensity hue \n",
       "1   3.06       0.28                 2.29            5.64            1.04\n",
       "2   2.76       0.26                 1.28            4.38            1.05\n",
       "3   3.24       0.30                 2.81            5.68            1.03\n",
       "⋮   ⋮          ⋮                    ⋮               ⋮               ⋮   \n",
       "176 0.69       0.43                 1.35            10.2            0.59\n",
       "177 0.68       0.53                 1.46             9.3            0.60\n",
       "178 0.76       0.56                 1.35             9.2            0.61\n",
       "    OD280.OD315.of.diluted.wines proline\n",
       "1   3.92                         1065   \n",
       "2   3.40                         1050   \n",
       "3   3.17                         1185   \n",
       "⋮   ⋮                            ⋮      \n",
       "176 1.56                         835    \n",
       "177 1.62                         840    \n",
       "178 1.60                         560    "
      ]
     },
     "metadata": {},
     "output_type": "display_data"
    }
   ],
   "source": [
    "wine_data <- read_delim(\"https://archive.ics.uci.edu/ml/machine-learning-databases/wine/wine.data\", col_names = FALSE) |>\n",
    "    mutate(X1 = as_factor(X1))\n",
    "colnames(wine_data) <- c(\"class\",\"alcohol\", \"malic.acid\", \"ash\", \"alcalinity.of.ash\",\"magnesium\", \"total.phenols\",\n",
    "                         \"flavanoids\", \"nonfalvanoid.phenols\", \"proanthocyanins\", \"color.intensity\", \"hue\",\n",
    "                         \"OD280.OD315.of.diluted.wines\", \"proline\")\n",
    "wine_data"
   ]
  },
  {
   "cell_type": "code",
   "execution_count": 134,
   "id": "e2d67b1f-7637-440b-8327-3d064b1a9885",
   "metadata": {},
   "outputs": [
    {
     "data": {
      "text/html": [
       "<table class=\"dataframe\">\n",
       "<caption>A tibble: 133 × 14</caption>\n",
       "<thead>\n",
       "\t<tr><th scope=col>class</th><th scope=col>alcohol</th><th scope=col>malic.acid</th><th scope=col>ash</th><th scope=col>alcalinity.of.ash</th><th scope=col>magnesium</th><th scope=col>total.phenols</th><th scope=col>flavanoids</th><th scope=col>nonfalvanoid.phenols</th><th scope=col>proanthocyanins</th><th scope=col>color.intensity</th><th scope=col>hue</th><th scope=col>OD280.OD315.of.diluted.wines</th><th scope=col>proline</th></tr>\n",
       "\t<tr><th scope=col>&lt;fct&gt;</th><th scope=col>&lt;dbl&gt;</th><th scope=col>&lt;dbl&gt;</th><th scope=col>&lt;dbl&gt;</th><th scope=col>&lt;dbl&gt;</th><th scope=col>&lt;dbl&gt;</th><th scope=col>&lt;dbl&gt;</th><th scope=col>&lt;dbl&gt;</th><th scope=col>&lt;dbl&gt;</th><th scope=col>&lt;dbl&gt;</th><th scope=col>&lt;dbl&gt;</th><th scope=col>&lt;dbl&gt;</th><th scope=col>&lt;dbl&gt;</th><th scope=col>&lt;dbl&gt;</th></tr>\n",
       "</thead>\n",
       "<tbody>\n",
       "\t<tr><td>1</td><td>14.23</td><td>1.71</td><td>2.43</td><td>15.6</td><td>127</td><td>2.80</td><td>3.06</td><td>0.28</td><td>2.29</td><td>5.64</td><td>1.04</td><td>3.92</td><td>1065</td></tr>\n",
       "\t<tr><td>1</td><td>13.20</td><td>1.78</td><td>2.14</td><td>11.2</td><td>100</td><td>2.65</td><td>2.76</td><td>0.26</td><td>1.28</td><td>4.38</td><td>1.05</td><td>3.40</td><td>1050</td></tr>\n",
       "\t<tr><td>1</td><td>13.16</td><td>2.36</td><td>2.67</td><td>18.6</td><td>101</td><td>2.80</td><td>3.24</td><td>0.30</td><td>2.81</td><td>5.68</td><td>1.03</td><td>3.17</td><td>1185</td></tr>\n",
       "\t<tr><td>⋮</td><td>⋮</td><td>⋮</td><td>⋮</td><td>⋮</td><td>⋮</td><td>⋮</td><td>⋮</td><td>⋮</td><td>⋮</td><td>⋮</td><td>⋮</td><td>⋮</td><td>⋮</td></tr>\n",
       "\t<tr><td>3</td><td>13.40</td><td>3.91</td><td>2.48</td><td>23.0</td><td>102</td><td>1.80</td><td>0.75</td><td>0.43</td><td>1.41</td><td>7.3</td><td>0.70</td><td>1.56</td><td>750</td></tr>\n",
       "\t<tr><td>3</td><td>13.17</td><td>2.59</td><td>2.37</td><td>20.0</td><td>120</td><td>1.65</td><td>0.68</td><td>0.53</td><td>1.46</td><td>9.3</td><td>0.60</td><td>1.62</td><td>840</td></tr>\n",
       "\t<tr><td>3</td><td>14.13</td><td>4.10</td><td>2.74</td><td>24.5</td><td> 96</td><td>2.05</td><td>0.76</td><td>0.56</td><td>1.35</td><td>9.2</td><td>0.61</td><td>1.60</td><td>560</td></tr>\n",
       "</tbody>\n",
       "</table>\n"
      ],
      "text/latex": [
       "A tibble: 133 × 14\n",
       "\\begin{tabular}{llllllllllllll}\n",
       " class & alcohol & malic.acid & ash & alcalinity.of.ash & magnesium & total.phenols & flavanoids & nonfalvanoid.phenols & proanthocyanins & color.intensity & hue & OD280.OD315.of.diluted.wines & proline\\\\\n",
       " <fct> & <dbl> & <dbl> & <dbl> & <dbl> & <dbl> & <dbl> & <dbl> & <dbl> & <dbl> & <dbl> & <dbl> & <dbl> & <dbl>\\\\\n",
       "\\hline\n",
       "\t 1 & 14.23 & 1.71 & 2.43 & 15.6 & 127 & 2.80 & 3.06 & 0.28 & 2.29 & 5.64 & 1.04 & 3.92 & 1065\\\\\n",
       "\t 1 & 13.20 & 1.78 & 2.14 & 11.2 & 100 & 2.65 & 2.76 & 0.26 & 1.28 & 4.38 & 1.05 & 3.40 & 1050\\\\\n",
       "\t 1 & 13.16 & 2.36 & 2.67 & 18.6 & 101 & 2.80 & 3.24 & 0.30 & 2.81 & 5.68 & 1.03 & 3.17 & 1185\\\\\n",
       "\t ⋮ & ⋮ & ⋮ & ⋮ & ⋮ & ⋮ & ⋮ & ⋮ & ⋮ & ⋮ & ⋮ & ⋮ & ⋮ & ⋮\\\\\n",
       "\t 3 & 13.40 & 3.91 & 2.48 & 23.0 & 102 & 1.80 & 0.75 & 0.43 & 1.41 & 7.3 & 0.70 & 1.56 & 750\\\\\n",
       "\t 3 & 13.17 & 2.59 & 2.37 & 20.0 & 120 & 1.65 & 0.68 & 0.53 & 1.46 & 9.3 & 0.60 & 1.62 & 840\\\\\n",
       "\t 3 & 14.13 & 4.10 & 2.74 & 24.5 &  96 & 2.05 & 0.76 & 0.56 & 1.35 & 9.2 & 0.61 & 1.60 & 560\\\\\n",
       "\\end{tabular}\n"
      ],
      "text/markdown": [
       "\n",
       "A tibble: 133 × 14\n",
       "\n",
       "| class &lt;fct&gt; | alcohol &lt;dbl&gt; | malic.acid &lt;dbl&gt; | ash &lt;dbl&gt; | alcalinity.of.ash &lt;dbl&gt; | magnesium &lt;dbl&gt; | total.phenols &lt;dbl&gt; | flavanoids &lt;dbl&gt; | nonfalvanoid.phenols &lt;dbl&gt; | proanthocyanins &lt;dbl&gt; | color.intensity &lt;dbl&gt; | hue &lt;dbl&gt; | OD280.OD315.of.diluted.wines &lt;dbl&gt; | proline &lt;dbl&gt; |\n",
       "|---|---|---|---|---|---|---|---|---|---|---|---|---|---|\n",
       "| 1 | 14.23 | 1.71 | 2.43 | 15.6 | 127 | 2.80 | 3.06 | 0.28 | 2.29 | 5.64 | 1.04 | 3.92 | 1065 |\n",
       "| 1 | 13.20 | 1.78 | 2.14 | 11.2 | 100 | 2.65 | 2.76 | 0.26 | 1.28 | 4.38 | 1.05 | 3.40 | 1050 |\n",
       "| 1 | 13.16 | 2.36 | 2.67 | 18.6 | 101 | 2.80 | 3.24 | 0.30 | 2.81 | 5.68 | 1.03 | 3.17 | 1185 |\n",
       "| ⋮ | ⋮ | ⋮ | ⋮ | ⋮ | ⋮ | ⋮ | ⋮ | ⋮ | ⋮ | ⋮ | ⋮ | ⋮ | ⋮ |\n",
       "| 3 | 13.40 | 3.91 | 2.48 | 23.0 | 102 | 1.80 | 0.75 | 0.43 | 1.41 | 7.3 | 0.70 | 1.56 | 750 |\n",
       "| 3 | 13.17 | 2.59 | 2.37 | 20.0 | 120 | 1.65 | 0.68 | 0.53 | 1.46 | 9.3 | 0.60 | 1.62 | 840 |\n",
       "| 3 | 14.13 | 4.10 | 2.74 | 24.5 |  96 | 2.05 | 0.76 | 0.56 | 1.35 | 9.2 | 0.61 | 1.60 | 560 |\n",
       "\n"
      ],
      "text/plain": [
       "    class alcohol malic.acid ash  alcalinity.of.ash magnesium total.phenols\n",
       "1   1     14.23   1.71       2.43 15.6              127       2.80         \n",
       "2   1     13.20   1.78       2.14 11.2              100       2.65         \n",
       "3   1     13.16   2.36       2.67 18.6              101       2.80         \n",
       "⋮   ⋮     ⋮       ⋮          ⋮    ⋮                 ⋮         ⋮            \n",
       "131 3     13.40   3.91       2.48 23.0              102       1.80         \n",
       "132 3     13.17   2.59       2.37 20.0              120       1.65         \n",
       "133 3     14.13   4.10       2.74 24.5               96       2.05         \n",
       "    flavanoids nonfalvanoid.phenols proanthocyanins color.intensity hue \n",
       "1   3.06       0.28                 2.29            5.64            1.04\n",
       "2   2.76       0.26                 1.28            4.38            1.05\n",
       "3   3.24       0.30                 2.81            5.68            1.03\n",
       "⋮   ⋮          ⋮                    ⋮               ⋮               ⋮   \n",
       "131 0.75       0.43                 1.41            7.3             0.70\n",
       "132 0.68       0.53                 1.46            9.3             0.60\n",
       "133 0.76       0.56                 1.35            9.2             0.61\n",
       "    OD280.OD315.of.diluted.wines proline\n",
       "1   3.92                         1065   \n",
       "2   3.40                         1050   \n",
       "3   3.17                         1185   \n",
       "⋮   ⋮                            ⋮      \n",
       "131 1.56                         750    \n",
       "132 1.62                         840    \n",
       "133 1.60                         560    "
      ]
     },
     "metadata": {},
     "output_type": "display_data"
    },
    {
     "data": {
      "text/html": [
       "<table class=\"dataframe\">\n",
       "<caption>A tibble: 45 × 14</caption>\n",
       "<thead>\n",
       "\t<tr><th scope=col>class</th><th scope=col>alcohol</th><th scope=col>malic.acid</th><th scope=col>ash</th><th scope=col>alcalinity.of.ash</th><th scope=col>magnesium</th><th scope=col>total.phenols</th><th scope=col>flavanoids</th><th scope=col>nonfalvanoid.phenols</th><th scope=col>proanthocyanins</th><th scope=col>color.intensity</th><th scope=col>hue</th><th scope=col>OD280.OD315.of.diluted.wines</th><th scope=col>proline</th></tr>\n",
       "\t<tr><th scope=col>&lt;fct&gt;</th><th scope=col>&lt;dbl&gt;</th><th scope=col>&lt;dbl&gt;</th><th scope=col>&lt;dbl&gt;</th><th scope=col>&lt;dbl&gt;</th><th scope=col>&lt;dbl&gt;</th><th scope=col>&lt;dbl&gt;</th><th scope=col>&lt;dbl&gt;</th><th scope=col>&lt;dbl&gt;</th><th scope=col>&lt;dbl&gt;</th><th scope=col>&lt;dbl&gt;</th><th scope=col>&lt;dbl&gt;</th><th scope=col>&lt;dbl&gt;</th><th scope=col>&lt;dbl&gt;</th></tr>\n",
       "</thead>\n",
       "<tbody>\n",
       "\t<tr><td>1</td><td>14.20</td><td>1.76</td><td>2.45</td><td>15.2</td><td>112</td><td>3.27</td><td>3.39</td><td>0.34</td><td>1.97</td><td>6.75</td><td>1.05</td><td>2.85</td><td>1450</td></tr>\n",
       "\t<tr><td>1</td><td>14.12</td><td>1.48</td><td>2.32</td><td>16.8</td><td> 95</td><td>2.20</td><td>2.43</td><td>0.26</td><td>1.57</td><td>5.00</td><td>1.17</td><td>2.82</td><td>1280</td></tr>\n",
       "\t<tr><td>1</td><td>14.38</td><td>1.87</td><td>2.38</td><td>12.0</td><td>102</td><td>3.30</td><td>3.64</td><td>0.29</td><td>2.96</td><td>7.50</td><td>1.20</td><td>3.00</td><td>1547</td></tr>\n",
       "\t<tr><td>⋮</td><td>⋮</td><td>⋮</td><td>⋮</td><td>⋮</td><td>⋮</td><td>⋮</td><td>⋮</td><td>⋮</td><td>⋮</td><td>⋮</td><td>⋮</td><td>⋮</td><td>⋮</td></tr>\n",
       "\t<tr><td>3</td><td>12.82</td><td>3.37</td><td>2.30</td><td>19.5</td><td> 88</td><td>1.48</td><td>0.66</td><td>0.40</td><td>0.97</td><td>10.26</td><td>0.72</td><td>1.75</td><td>685</td></tr>\n",
       "\t<tr><td>3</td><td>14.16</td><td>2.51</td><td>2.48</td><td>20.0</td><td> 91</td><td>1.68</td><td>0.70</td><td>0.44</td><td>1.24</td><td> 9.70</td><td>0.62</td><td>1.71</td><td>660</td></tr>\n",
       "\t<tr><td>3</td><td>13.27</td><td>4.28</td><td>2.26</td><td>20.0</td><td>120</td><td>1.59</td><td>0.69</td><td>0.43</td><td>1.35</td><td>10.20</td><td>0.59</td><td>1.56</td><td>835</td></tr>\n",
       "</tbody>\n",
       "</table>\n"
      ],
      "text/latex": [
       "A tibble: 45 × 14\n",
       "\\begin{tabular}{llllllllllllll}\n",
       " class & alcohol & malic.acid & ash & alcalinity.of.ash & magnesium & total.phenols & flavanoids & nonfalvanoid.phenols & proanthocyanins & color.intensity & hue & OD280.OD315.of.diluted.wines & proline\\\\\n",
       " <fct> & <dbl> & <dbl> & <dbl> & <dbl> & <dbl> & <dbl> & <dbl> & <dbl> & <dbl> & <dbl> & <dbl> & <dbl> & <dbl>\\\\\n",
       "\\hline\n",
       "\t 1 & 14.20 & 1.76 & 2.45 & 15.2 & 112 & 3.27 & 3.39 & 0.34 & 1.97 & 6.75 & 1.05 & 2.85 & 1450\\\\\n",
       "\t 1 & 14.12 & 1.48 & 2.32 & 16.8 &  95 & 2.20 & 2.43 & 0.26 & 1.57 & 5.00 & 1.17 & 2.82 & 1280\\\\\n",
       "\t 1 & 14.38 & 1.87 & 2.38 & 12.0 & 102 & 3.30 & 3.64 & 0.29 & 2.96 & 7.50 & 1.20 & 3.00 & 1547\\\\\n",
       "\t ⋮ & ⋮ & ⋮ & ⋮ & ⋮ & ⋮ & ⋮ & ⋮ & ⋮ & ⋮ & ⋮ & ⋮ & ⋮ & ⋮\\\\\n",
       "\t 3 & 12.82 & 3.37 & 2.30 & 19.5 &  88 & 1.48 & 0.66 & 0.40 & 0.97 & 10.26 & 0.72 & 1.75 & 685\\\\\n",
       "\t 3 & 14.16 & 2.51 & 2.48 & 20.0 &  91 & 1.68 & 0.70 & 0.44 & 1.24 &  9.70 & 0.62 & 1.71 & 660\\\\\n",
       "\t 3 & 13.27 & 4.28 & 2.26 & 20.0 & 120 & 1.59 & 0.69 & 0.43 & 1.35 & 10.20 & 0.59 & 1.56 & 835\\\\\n",
       "\\end{tabular}\n"
      ],
      "text/markdown": [
       "\n",
       "A tibble: 45 × 14\n",
       "\n",
       "| class &lt;fct&gt; | alcohol &lt;dbl&gt; | malic.acid &lt;dbl&gt; | ash &lt;dbl&gt; | alcalinity.of.ash &lt;dbl&gt; | magnesium &lt;dbl&gt; | total.phenols &lt;dbl&gt; | flavanoids &lt;dbl&gt; | nonfalvanoid.phenols &lt;dbl&gt; | proanthocyanins &lt;dbl&gt; | color.intensity &lt;dbl&gt; | hue &lt;dbl&gt; | OD280.OD315.of.diluted.wines &lt;dbl&gt; | proline &lt;dbl&gt; |\n",
       "|---|---|---|---|---|---|---|---|---|---|---|---|---|---|\n",
       "| 1 | 14.20 | 1.76 | 2.45 | 15.2 | 112 | 3.27 | 3.39 | 0.34 | 1.97 | 6.75 | 1.05 | 2.85 | 1450 |\n",
       "| 1 | 14.12 | 1.48 | 2.32 | 16.8 |  95 | 2.20 | 2.43 | 0.26 | 1.57 | 5.00 | 1.17 | 2.82 | 1280 |\n",
       "| 1 | 14.38 | 1.87 | 2.38 | 12.0 | 102 | 3.30 | 3.64 | 0.29 | 2.96 | 7.50 | 1.20 | 3.00 | 1547 |\n",
       "| ⋮ | ⋮ | ⋮ | ⋮ | ⋮ | ⋮ | ⋮ | ⋮ | ⋮ | ⋮ | ⋮ | ⋮ | ⋮ | ⋮ |\n",
       "| 3 | 12.82 | 3.37 | 2.30 | 19.5 |  88 | 1.48 | 0.66 | 0.40 | 0.97 | 10.26 | 0.72 | 1.75 | 685 |\n",
       "| 3 | 14.16 | 2.51 | 2.48 | 20.0 |  91 | 1.68 | 0.70 | 0.44 | 1.24 |  9.70 | 0.62 | 1.71 | 660 |\n",
       "| 3 | 13.27 | 4.28 | 2.26 | 20.0 | 120 | 1.59 | 0.69 | 0.43 | 1.35 | 10.20 | 0.59 | 1.56 | 835 |\n",
       "\n"
      ],
      "text/plain": [
       "   class alcohol malic.acid ash  alcalinity.of.ash magnesium total.phenols\n",
       "1  1     14.20   1.76       2.45 15.2              112       3.27         \n",
       "2  1     14.12   1.48       2.32 16.8               95       2.20         \n",
       "3  1     14.38   1.87       2.38 12.0              102       3.30         \n",
       "⋮  ⋮     ⋮       ⋮          ⋮    ⋮                 ⋮         ⋮            \n",
       "43 3     12.82   3.37       2.30 19.5               88       1.48         \n",
       "44 3     14.16   2.51       2.48 20.0               91       1.68         \n",
       "45 3     13.27   4.28       2.26 20.0              120       1.59         \n",
       "   flavanoids nonfalvanoid.phenols proanthocyanins color.intensity hue \n",
       "1  3.39       0.34                 1.97            6.75            1.05\n",
       "2  2.43       0.26                 1.57            5.00            1.17\n",
       "3  3.64       0.29                 2.96            7.50            1.20\n",
       "⋮  ⋮          ⋮                    ⋮               ⋮               ⋮   \n",
       "43 0.66       0.40                 0.97            10.26           0.72\n",
       "44 0.70       0.44                 1.24             9.70           0.62\n",
       "45 0.69       0.43                 1.35            10.20           0.59\n",
       "   OD280.OD315.of.diluted.wines proline\n",
       "1  2.85                         1450   \n",
       "2  2.82                         1280   \n",
       "3  3.00                         1547   \n",
       "⋮  ⋮                            ⋮      \n",
       "43 1.75                         685    \n",
       "44 1.71                         660    \n",
       "45 1.56                         835    "
      ]
     },
     "metadata": {},
     "output_type": "display_data"
    }
   ],
   "source": [
    "set.seed(117)\n",
    "wine_split <- initial_split(wine_data, prop = 0.75, strata = class)  \n",
    "wine_training <- training(wine_split)   \n",
    "wine_testing <- testing(wine_split)\n",
    "wine_training\n",
    "wine_testing"
   ]
  },
  {
   "cell_type": "code",
   "execution_count": 135,
   "id": "67aa6255-008b-48f1-9ce7-192e97906249",
   "metadata": {},
   "outputs": [
    {
     "data": {
      "text/html": [
       "<table class=\"dataframe\">\n",
       "<caption>A tibble: 13 × 5</caption>\n",
       "<thead>\n",
       "\t<tr><th scope=col>attribute</th><th scope=col>min</th><th scope=col>max</th><th scope=col>mean</th><th scope=col>sd</th></tr>\n",
       "\t<tr><th scope=col>&lt;chr&gt;</th><th scope=col>&lt;dbl&gt;</th><th scope=col>&lt;dbl&gt;</th><th scope=col>&lt;dbl&gt;</th><th scope=col>&lt;dbl&gt;</th></tr>\n",
       "</thead>\n",
       "<tbody>\n",
       "\t<tr><td>alcohol   </td><td>11.03</td><td>14.83</td><td>12.996767</td><td>0.8092089</td></tr>\n",
       "\t<tr><td>malic.acid</td><td> 0.74</td><td> 5.80</td><td> 2.346842</td><td>1.1367047</td></tr>\n",
       "\t<tr><td>ash       </td><td> 1.70</td><td> 3.23</td><td> 2.369323</td><td>0.2805357</td></tr>\n",
       "\t<tr><td>⋮</td><td>⋮</td><td>⋮</td><td>⋮</td><td>⋮</td></tr>\n",
       "\t<tr><td>hue                         </td><td>  0.48</td><td>   1.71</td><td>  0.9576391</td><td>  0.2316733</td></tr>\n",
       "\t<tr><td>OD280.OD315.of.diluted.wines</td><td>  1.27</td><td>   4.00</td><td>  2.6219549</td><td>  0.7238538</td></tr>\n",
       "\t<tr><td>proline                     </td><td>278.00</td><td>1680.00</td><td>736.4285714</td><td>314.8164276</td></tr>\n",
       "</tbody>\n",
       "</table>\n"
      ],
      "text/latex": [
       "A tibble: 13 × 5\n",
       "\\begin{tabular}{lllll}\n",
       " attribute & min & max & mean & sd\\\\\n",
       " <chr> & <dbl> & <dbl> & <dbl> & <dbl>\\\\\n",
       "\\hline\n",
       "\t alcohol    & 11.03 & 14.83 & 12.996767 & 0.8092089\\\\\n",
       "\t malic.acid &  0.74 &  5.80 &  2.346842 & 1.1367047\\\\\n",
       "\t ash        &  1.70 &  3.23 &  2.369323 & 0.2805357\\\\\n",
       "\t ⋮ & ⋮ & ⋮ & ⋮ & ⋮\\\\\n",
       "\t hue                          &   0.48 &    1.71 &   0.9576391 &   0.2316733\\\\\n",
       "\t OD280.OD315.of.diluted.wines &   1.27 &    4.00 &   2.6219549 &   0.7238538\\\\\n",
       "\t proline                      & 278.00 & 1680.00 & 736.4285714 & 314.8164276\\\\\n",
       "\\end{tabular}\n"
      ],
      "text/markdown": [
       "\n",
       "A tibble: 13 × 5\n",
       "\n",
       "| attribute &lt;chr&gt; | min &lt;dbl&gt; | max &lt;dbl&gt; | mean &lt;dbl&gt; | sd &lt;dbl&gt; |\n",
       "|---|---|---|---|---|\n",
       "| alcohol    | 11.03 | 14.83 | 12.996767 | 0.8092089 |\n",
       "| malic.acid |  0.74 |  5.80 |  2.346842 | 1.1367047 |\n",
       "| ash        |  1.70 |  3.23 |  2.369323 | 0.2805357 |\n",
       "| ⋮ | ⋮ | ⋮ | ⋮ | ⋮ |\n",
       "| hue                          |   0.48 |    1.71 |   0.9576391 |   0.2316733 |\n",
       "| OD280.OD315.of.diluted.wines |   1.27 |    4.00 |   2.6219549 |   0.7238538 |\n",
       "| proline                      | 278.00 | 1680.00 | 736.4285714 | 314.8164276 |\n",
       "\n"
      ],
      "text/plain": [
       "   attribute                    min    max     mean        sd         \n",
       "1  alcohol                      11.03  14.83   12.996767   0.8092089  \n",
       "2  malic.acid                    0.74   5.80    2.346842   1.1367047  \n",
       "3  ash                           1.70   3.23    2.369323   0.2805357  \n",
       "⋮  ⋮                            ⋮      ⋮       ⋮           ⋮          \n",
       "11 hue                            0.48    1.71   0.9576391   0.2316733\n",
       "12 OD280.OD315.of.diluted.wines   1.27    4.00   2.6219549   0.7238538\n",
       "13 proline                      278.00 1680.00 736.4285714 314.8164276"
      ]
     },
     "metadata": {},
     "output_type": "display_data"
    },
    {
     "data": {
      "text/html": [
       "<table class=\"dataframe\">\n",
       "<caption>A tibble: 3 × 2</caption>\n",
       "<thead>\n",
       "\t<tr><th scope=col>class</th><th scope=col>n</th></tr>\n",
       "\t<tr><th scope=col>&lt;fct&gt;</th><th scope=col>&lt;int&gt;</th></tr>\n",
       "</thead>\n",
       "<tbody>\n",
       "\t<tr><td>1</td><td>44</td></tr>\n",
       "\t<tr><td>2</td><td>53</td></tr>\n",
       "\t<tr><td>3</td><td>36</td></tr>\n",
       "</tbody>\n",
       "</table>\n"
      ],
      "text/latex": [
       "A tibble: 3 × 2\n",
       "\\begin{tabular}{ll}\n",
       " class & n\\\\\n",
       " <fct> & <int>\\\\\n",
       "\\hline\n",
       "\t 1 & 44\\\\\n",
       "\t 2 & 53\\\\\n",
       "\t 3 & 36\\\\\n",
       "\\end{tabular}\n"
      ],
      "text/markdown": [
       "\n",
       "A tibble: 3 × 2\n",
       "\n",
       "| class &lt;fct&gt; | n &lt;int&gt; |\n",
       "|---|---|\n",
       "| 1 | 44 |\n",
       "| 2 | 53 |\n",
       "| 3 | 36 |\n",
       "\n"
      ],
      "text/plain": [
       "  class n \n",
       "1 1     44\n",
       "2 2     53\n",
       "3 3     36"
      ]
     },
     "metadata": {},
     "output_type": "display_data"
    }
   ],
   "source": [
    "wine_mean <- wine_training |>\n",
    "    summarise(across(alcohol:proline, mean)) |>\n",
    "    pivot_longer(cols = alcohol:proline,\n",
    "                 names_to = 'attribute',\n",
    "                 values_to = 'mean') \n",
    "wine_min <- wine_training |>\n",
    "    summarise(across(alcohol:proline, min)) |>\n",
    "    pivot_longer(cols = alcohol:proline,\n",
    "                 names_to = 'attribute',\n",
    "                 values_to = 'min') \n",
    "wine_max <- wine_training |>\n",
    "    summarise(across(alcohol:proline, max)) |>\n",
    "    pivot_longer(cols = alcohol:proline,\n",
    "                 names_to = 'attribute',\n",
    "                 values_to = 'max') \n",
    "wine_sd <- wine_training |>\n",
    "    summarise(across(alcohol:proline, sd)) |>\n",
    "    pivot_longer(cols = alcohol:proline,\n",
    "                 names_to = 'attribute',\n",
    "                 values_to = 'sd') \n",
    "\n",
    "wine_stats <- wine_min |>\n",
    "    bind_cols(wine_max |> select(max)) |>\n",
    "    bind_cols(wine_mean |> select(mean)) |>\n",
    "    bind_cols(wine_sd |> select(sd))\n",
    "\n",
    "wine_stats\n",
    "\n",
    "wine_proportions <- wine_training |>\n",
    "    group_by(class) |>\n",
    "    summarize(n = n())\n",
    "wine_proportions"
   ]
  },
  {
   "cell_type": "markdown",
   "id": "70543a53-b185-472c-98f4-3a809ad54e65",
   "metadata": {},
   "source": [
    "Discussion:\n",
    "\n",
    "    summarize what you found\n",
    "    discuss whether this is what you expected to find?\n",
    "    discuss what impact could such findings have?\n",
    "    discuss what future questions could this lead to?\n",
    "\n",
    "Our model is able to predict the wine class with an accuracy of (insert value here). A new random observation was then classified as (insert value here). These finding are what we expected and could help wine companies manufacture different types of wines according to their composition. Future questions could be about determining which types of wine are easier to produce based on composition.\n"
   ]
  },
  {
   "cell_type": "markdown",
   "id": "5589cb42-8287-443b-a96d-bbc31506bb76",
   "metadata": {},
   "source": [
    "References\n",
    "\n",
    "    At least 2 citations of literature relevant to the project (format is your choice, just be consistent across the references).\n",
    "    Make sure to cite the source of your data as well.\n",
    "\n",
    "1. Dua, D. and Graff, C. (2019). UCI Machine Learning Repository [http://archive.ics.uci.edu/ml]. Irvine, CA: University of California, School of Information and Computer Science. \n",
    "\n",
    "2.\n",
    "\n",
    "3.\n"
   ]
  },
  {
   "cell_type": "markdown",
   "id": "a1d9a6be-2d33-48f9-b732-56624904ea04",
   "metadata": {},
   "source": [
    "# Storing the class_labels for later use"
   ]
  },
  {
   "cell_type": "code",
   "execution_count": 136,
   "id": "699e582d-cacc-4d66-8fa6-1acd183582d5",
   "metadata": {},
   "outputs": [
    {
     "data": {
      "text/html": [
       "<table class=\"dataframe\">\n",
       "<caption>A data.frame: 178 × 1</caption>\n",
       "<thead>\n",
       "\t<tr><th scope=col>class</th></tr>\n",
       "\t<tr><th scope=col>&lt;fct&gt;</th></tr>\n",
       "</thead>\n",
       "<tbody>\n",
       "\t<tr><td>1</td></tr>\n",
       "\t<tr><td>1</td></tr>\n",
       "\t<tr><td>1</td></tr>\n",
       "\t<tr><td>⋮</td></tr>\n",
       "\t<tr><td>3</td></tr>\n",
       "\t<tr><td>3</td></tr>\n",
       "\t<tr><td>3</td></tr>\n",
       "</tbody>\n",
       "</table>\n"
      ],
      "text/latex": [
       "A data.frame: 178 × 1\n",
       "\\begin{tabular}{l}\n",
       " class\\\\\n",
       " <fct>\\\\\n",
       "\\hline\n",
       "\t 1\\\\\n",
       "\t 1\\\\\n",
       "\t 1\\\\\n",
       "\t ⋮\\\\\n",
       "\t 3\\\\\n",
       "\t 3\\\\\n",
       "\t 3\\\\\n",
       "\\end{tabular}\n"
      ],
      "text/markdown": [
       "\n",
       "A data.frame: 178 × 1\n",
       "\n",
       "| class &lt;fct&gt; |\n",
       "|---|\n",
       "| 1 |\n",
       "| 1 |\n",
       "| 1 |\n",
       "| ⋮ |\n",
       "| 3 |\n",
       "| 3 |\n",
       "| 3 |\n",
       "\n"
      ],
      "text/plain": [
       "    class\n",
       "1   1    \n",
       "2   1    \n",
       "3   1    \n",
       "⋮   ⋮    \n",
       "176 3    \n",
       "177 3    \n",
       "178 3    "
      ]
     },
     "metadata": {},
     "output_type": "display_data"
    }
   ],
   "source": [
    "original_wine_data = wine_data\n",
    "class_labels = data.frame(select(wine_data, \"class\"))\n",
    "class_labels "
   ]
  },
  {
   "cell_type": "markdown",
   "id": "94579d89-76fb-45e5-bb63-39842934f3b7",
   "metadata": {},
   "source": [
    "# We will first explore the data"
   ]
  },
  {
   "cell_type": "code",
   "execution_count": 137,
   "id": "29abcdd3-d530-4284-8b10-fe11ef41facd",
   "metadata": {},
   "outputs": [],
   "source": [
    "library(tidyverse)"
   ]
  },
  {
   "cell_type": "code",
   "execution_count": 138,
   "id": "a8bab049-b319-4f9e-947b-a9376a932679",
   "metadata": {},
   "outputs": [
    {
     "data": {
      "text/html": [
       "<table class=\"dataframe\">\n",
       "<caption>A tibble: 6 × 14</caption>\n",
       "<thead>\n",
       "\t<tr><th scope=col>class</th><th scope=col>alcohol</th><th scope=col>malic.acid</th><th scope=col>ash</th><th scope=col>alcalinity.of.ash</th><th scope=col>magnesium</th><th scope=col>total.phenols</th><th scope=col>flavanoids</th><th scope=col>nonfalvanoid.phenols</th><th scope=col>proanthocyanins</th><th scope=col>color.intensity</th><th scope=col>hue</th><th scope=col>OD280.OD315.of.diluted.wines</th><th scope=col>proline</th></tr>\n",
       "\t<tr><th scope=col>&lt;fct&gt;</th><th scope=col>&lt;dbl&gt;</th><th scope=col>&lt;dbl&gt;</th><th scope=col>&lt;dbl&gt;</th><th scope=col>&lt;dbl&gt;</th><th scope=col>&lt;dbl&gt;</th><th scope=col>&lt;dbl&gt;</th><th scope=col>&lt;dbl&gt;</th><th scope=col>&lt;dbl&gt;</th><th scope=col>&lt;dbl&gt;</th><th scope=col>&lt;dbl&gt;</th><th scope=col>&lt;dbl&gt;</th><th scope=col>&lt;dbl&gt;</th><th scope=col>&lt;dbl&gt;</th></tr>\n",
       "</thead>\n",
       "<tbody>\n",
       "\t<tr><td>1</td><td>14.23</td><td>1.71</td><td>2.43</td><td>15.6</td><td>127</td><td>2.80</td><td>3.06</td><td>0.28</td><td>2.29</td><td>5.64</td><td>1.04</td><td>3.92</td><td>1065</td></tr>\n",
       "\t<tr><td>1</td><td>13.20</td><td>1.78</td><td>2.14</td><td>11.2</td><td>100</td><td>2.65</td><td>2.76</td><td>0.26</td><td>1.28</td><td>4.38</td><td>1.05</td><td>3.40</td><td>1050</td></tr>\n",
       "\t<tr><td>1</td><td>13.16</td><td>2.36</td><td>2.67</td><td>18.6</td><td>101</td><td>2.80</td><td>3.24</td><td>0.30</td><td>2.81</td><td>5.68</td><td>1.03</td><td>3.17</td><td>1185</td></tr>\n",
       "\t<tr><td>1</td><td>14.37</td><td>1.95</td><td>2.50</td><td>16.8</td><td>113</td><td>3.85</td><td>3.49</td><td>0.24</td><td>2.18</td><td>7.80</td><td>0.86</td><td>3.45</td><td>1480</td></tr>\n",
       "\t<tr><td>1</td><td>13.24</td><td>2.59</td><td>2.87</td><td>21.0</td><td>118</td><td>2.80</td><td>2.69</td><td>0.39</td><td>1.82</td><td>4.32</td><td>1.04</td><td>2.93</td><td> 735</td></tr>\n",
       "\t<tr><td>1</td><td>14.20</td><td>1.76</td><td>2.45</td><td>15.2</td><td>112</td><td>3.27</td><td>3.39</td><td>0.34</td><td>1.97</td><td>6.75</td><td>1.05</td><td>2.85</td><td>1450</td></tr>\n",
       "</tbody>\n",
       "</table>\n"
      ],
      "text/latex": [
       "A tibble: 6 × 14\n",
       "\\begin{tabular}{llllllllllllll}\n",
       " class & alcohol & malic.acid & ash & alcalinity.of.ash & magnesium & total.phenols & flavanoids & nonfalvanoid.phenols & proanthocyanins & color.intensity & hue & OD280.OD315.of.diluted.wines & proline\\\\\n",
       " <fct> & <dbl> & <dbl> & <dbl> & <dbl> & <dbl> & <dbl> & <dbl> & <dbl> & <dbl> & <dbl> & <dbl> & <dbl> & <dbl>\\\\\n",
       "\\hline\n",
       "\t 1 & 14.23 & 1.71 & 2.43 & 15.6 & 127 & 2.80 & 3.06 & 0.28 & 2.29 & 5.64 & 1.04 & 3.92 & 1065\\\\\n",
       "\t 1 & 13.20 & 1.78 & 2.14 & 11.2 & 100 & 2.65 & 2.76 & 0.26 & 1.28 & 4.38 & 1.05 & 3.40 & 1050\\\\\n",
       "\t 1 & 13.16 & 2.36 & 2.67 & 18.6 & 101 & 2.80 & 3.24 & 0.30 & 2.81 & 5.68 & 1.03 & 3.17 & 1185\\\\\n",
       "\t 1 & 14.37 & 1.95 & 2.50 & 16.8 & 113 & 3.85 & 3.49 & 0.24 & 2.18 & 7.80 & 0.86 & 3.45 & 1480\\\\\n",
       "\t 1 & 13.24 & 2.59 & 2.87 & 21.0 & 118 & 2.80 & 2.69 & 0.39 & 1.82 & 4.32 & 1.04 & 2.93 &  735\\\\\n",
       "\t 1 & 14.20 & 1.76 & 2.45 & 15.2 & 112 & 3.27 & 3.39 & 0.34 & 1.97 & 6.75 & 1.05 & 2.85 & 1450\\\\\n",
       "\\end{tabular}\n"
      ],
      "text/markdown": [
       "\n",
       "A tibble: 6 × 14\n",
       "\n",
       "| class &lt;fct&gt; | alcohol &lt;dbl&gt; | malic.acid &lt;dbl&gt; | ash &lt;dbl&gt; | alcalinity.of.ash &lt;dbl&gt; | magnesium &lt;dbl&gt; | total.phenols &lt;dbl&gt; | flavanoids &lt;dbl&gt; | nonfalvanoid.phenols &lt;dbl&gt; | proanthocyanins &lt;dbl&gt; | color.intensity &lt;dbl&gt; | hue &lt;dbl&gt; | OD280.OD315.of.diluted.wines &lt;dbl&gt; | proline &lt;dbl&gt; |\n",
       "|---|---|---|---|---|---|---|---|---|---|---|---|---|---|\n",
       "| 1 | 14.23 | 1.71 | 2.43 | 15.6 | 127 | 2.80 | 3.06 | 0.28 | 2.29 | 5.64 | 1.04 | 3.92 | 1065 |\n",
       "| 1 | 13.20 | 1.78 | 2.14 | 11.2 | 100 | 2.65 | 2.76 | 0.26 | 1.28 | 4.38 | 1.05 | 3.40 | 1050 |\n",
       "| 1 | 13.16 | 2.36 | 2.67 | 18.6 | 101 | 2.80 | 3.24 | 0.30 | 2.81 | 5.68 | 1.03 | 3.17 | 1185 |\n",
       "| 1 | 14.37 | 1.95 | 2.50 | 16.8 | 113 | 3.85 | 3.49 | 0.24 | 2.18 | 7.80 | 0.86 | 3.45 | 1480 |\n",
       "| 1 | 13.24 | 2.59 | 2.87 | 21.0 | 118 | 2.80 | 2.69 | 0.39 | 1.82 | 4.32 | 1.04 | 2.93 |  735 |\n",
       "| 1 | 14.20 | 1.76 | 2.45 | 15.2 | 112 | 3.27 | 3.39 | 0.34 | 1.97 | 6.75 | 1.05 | 2.85 | 1450 |\n",
       "\n"
      ],
      "text/plain": [
       "  class alcohol malic.acid ash  alcalinity.of.ash magnesium total.phenols\n",
       "1 1     14.23   1.71       2.43 15.6              127       2.80         \n",
       "2 1     13.20   1.78       2.14 11.2              100       2.65         \n",
       "3 1     13.16   2.36       2.67 18.6              101       2.80         \n",
       "4 1     14.37   1.95       2.50 16.8              113       3.85         \n",
       "5 1     13.24   2.59       2.87 21.0              118       2.80         \n",
       "6 1     14.20   1.76       2.45 15.2              112       3.27         \n",
       "  flavanoids nonfalvanoid.phenols proanthocyanins color.intensity hue \n",
       "1 3.06       0.28                 2.29            5.64            1.04\n",
       "2 2.76       0.26                 1.28            4.38            1.05\n",
       "3 3.24       0.30                 2.81            5.68            1.03\n",
       "4 3.49       0.24                 2.18            7.80            0.86\n",
       "5 2.69       0.39                 1.82            4.32            1.04\n",
       "6 3.39       0.34                 1.97            6.75            1.05\n",
       "  OD280.OD315.of.diluted.wines proline\n",
       "1 3.92                         1065   \n",
       "2 3.40                         1050   \n",
       "3 3.17                         1185   \n",
       "4 3.45                         1480   \n",
       "5 2.93                          735   \n",
       "6 2.85                         1450   "
      ]
     },
     "metadata": {},
     "output_type": "display_data"
    }
   ],
   "source": [
    "head(wine_data)"
   ]
  },
  {
   "cell_type": "code",
   "execution_count": 139,
   "id": "2d392d6d-b734-4b26-80e8-38e3ca813cc7",
   "metadata": {},
   "outputs": [
    {
     "name": "stdout",
     "output_type": "stream",
     "text": [
      "Rows: 178\n",
      "Columns: 14\n",
      "$ class                        \u001b[3m\u001b[90m<fct>\u001b[39m\u001b[23m 1, 1, 1, 1, 1, 1, 1, 1, 1, 1, 1, 1, 1, 1,…\n",
      "$ alcohol                      \u001b[3m\u001b[90m<dbl>\u001b[39m\u001b[23m 14.23, 13.20, 13.16, 14.37, 13.24, 14.20,…\n",
      "$ malic.acid                   \u001b[3m\u001b[90m<dbl>\u001b[39m\u001b[23m 1.71, 1.78, 2.36, 1.95, 2.59, 1.76, 1.87,…\n",
      "$ ash                          \u001b[3m\u001b[90m<dbl>\u001b[39m\u001b[23m 2.43, 2.14, 2.67, 2.50, 2.87, 2.45, 2.45,…\n",
      "$ alcalinity.of.ash            \u001b[3m\u001b[90m<dbl>\u001b[39m\u001b[23m 15.6, 11.2, 18.6, 16.8, 21.0, 15.2, 14.6,…\n",
      "$ magnesium                    \u001b[3m\u001b[90m<dbl>\u001b[39m\u001b[23m 127, 100, 101, 113, 118, 112, 96, 121, 97…\n",
      "$ total.phenols                \u001b[3m\u001b[90m<dbl>\u001b[39m\u001b[23m 2.80, 2.65, 2.80, 3.85, 2.80, 3.27, 2.50,…\n",
      "$ flavanoids                   \u001b[3m\u001b[90m<dbl>\u001b[39m\u001b[23m 3.06, 2.76, 3.24, 3.49, 2.69, 3.39, 2.52,…\n",
      "$ nonfalvanoid.phenols         \u001b[3m\u001b[90m<dbl>\u001b[39m\u001b[23m 0.28, 0.26, 0.30, 0.24, 0.39, 0.34, 0.30,…\n",
      "$ proanthocyanins              \u001b[3m\u001b[90m<dbl>\u001b[39m\u001b[23m 2.29, 1.28, 2.81, 2.18, 1.82, 1.97, 1.98,…\n",
      "$ color.intensity              \u001b[3m\u001b[90m<dbl>\u001b[39m\u001b[23m 5.64, 4.38, 5.68, 7.80, 4.32, 6.75, 5.25,…\n",
      "$ hue                          \u001b[3m\u001b[90m<dbl>\u001b[39m\u001b[23m 1.04, 1.05, 1.03, 0.86, 1.04, 1.05, 1.02,…\n",
      "$ OD280.OD315.of.diluted.wines \u001b[3m\u001b[90m<dbl>\u001b[39m\u001b[23m 3.92, 3.40, 3.17, 3.45, 2.93, 2.85, 3.58,…\n",
      "$ proline                      \u001b[3m\u001b[90m<dbl>\u001b[39m\u001b[23m 1065, 1050, 1185, 1480, 735, 1450, 1290, …\n"
     ]
    }
   ],
   "source": [
    "glimpse(wine_data)"
   ]
  },
  {
   "cell_type": "code",
   "execution_count": 140,
   "id": "1b511b52-95ba-4775-b6b2-f39e804e8750",
   "metadata": {},
   "outputs": [
    {
     "data": {
      "text/html": [
       "<style>\n",
       ".list-inline {list-style: none; margin:0; padding: 0}\n",
       ".list-inline>li {display: inline-block}\n",
       ".list-inline>li:not(:last-child)::after {content: \"\\00b7\"; padding: 0 .5ex}\n",
       "</style>\n",
       "<ol class=list-inline><li>'1'</li><li>'2'</li><li>'3'</li></ol>\n"
      ],
      "text/latex": [
       "\\begin{enumerate*}\n",
       "\\item '1'\n",
       "\\item '2'\n",
       "\\item '3'\n",
       "\\end{enumerate*}\n"
      ],
      "text/markdown": [
       "1. '1'\n",
       "2. '2'\n",
       "3. '3'\n",
       "\n",
       "\n"
      ],
      "text/plain": [
       "[1] \"1\" \"2\" \"3\""
      ]
     },
     "metadata": {},
     "output_type": "display_data"
    }
   ],
   "source": [
    "wine_data |>\n",
    "    pull(class) |>\n",
    "    levels()"
   ]
  },
  {
   "cell_type": "markdown",
   "id": "ba2cb081-6db7-4cfc-9d82-6a33db63bc18",
   "metadata": {},
   "source": [
    "## Creating a table of percentages based on different class"
   ]
  },
  {
   "cell_type": "code",
   "execution_count": 141,
   "id": "78be8f37-14bd-4537-9c2d-8f66cac146cf",
   "metadata": {},
   "outputs": [],
   "source": [
    "num_obs <- nrow(wine_data)"
   ]
  },
  {
   "cell_type": "code",
   "execution_count": 142,
   "id": "a4b400c3-f497-4288-9f6a-94259cf75962",
   "metadata": {},
   "outputs": [
    {
     "data": {
      "text/html": [
       "<table class=\"dataframe\">\n",
       "<caption>A tibble: 3 × 3</caption>\n",
       "<thead>\n",
       "\t<tr><th scope=col>class</th><th scope=col>count</th><th scope=col>percentage</th></tr>\n",
       "\t<tr><th scope=col>&lt;fct&gt;</th><th scope=col>&lt;int&gt;</th><th scope=col>&lt;dbl&gt;</th></tr>\n",
       "</thead>\n",
       "<tbody>\n",
       "\t<tr><td>1</td><td>59</td><td>33.14607</td></tr>\n",
       "\t<tr><td>2</td><td>71</td><td>39.88764</td></tr>\n",
       "\t<tr><td>3</td><td>48</td><td>26.96629</td></tr>\n",
       "</tbody>\n",
       "</table>\n"
      ],
      "text/latex": [
       "A tibble: 3 × 3\n",
       "\\begin{tabular}{lll}\n",
       " class & count & percentage\\\\\n",
       " <fct> & <int> & <dbl>\\\\\n",
       "\\hline\n",
       "\t 1 & 59 & 33.14607\\\\\n",
       "\t 2 & 71 & 39.88764\\\\\n",
       "\t 3 & 48 & 26.96629\\\\\n",
       "\\end{tabular}\n"
      ],
      "text/markdown": [
       "\n",
       "A tibble: 3 × 3\n",
       "\n",
       "| class &lt;fct&gt; | count &lt;int&gt; | percentage &lt;dbl&gt; |\n",
       "|---|---|---|\n",
       "| 1 | 59 | 33.14607 |\n",
       "| 2 | 71 | 39.88764 |\n",
       "| 3 | 48 | 26.96629 |\n",
       "\n"
      ],
      "text/plain": [
       "  class count percentage\n",
       "1 1     59    33.14607  \n",
       "2 2     71    39.88764  \n",
       "3 3     48    26.96629  "
      ]
     },
     "metadata": {},
     "output_type": "display_data"
    }
   ],
   "source": [
    "wine_data |>\n",
    "    group_by(class) |>\n",
    "    summarize(\n",
    "    count = n(),\n",
    "    percentage = n() / num_obs * 100\n",
    "    )\n"
   ]
  },
  {
   "cell_type": "markdown",
   "id": "51e385f1-9abd-4136-b4c7-87050a3063b7",
   "metadata": {},
   "source": [
    "### Looking at the correlation between each variable in wine_data"
   ]
  },
  {
   "cell_type": "code",
   "execution_count": 143,
   "id": "e1dd74ab-5612-4cc2-a4b3-e665c7a586c8",
   "metadata": {},
   "outputs": [
    {
     "name": "stderr",
     "output_type": "stream",
     "text": [
      "Updating HTML index of packages in '.Library'\n",
      "\n",
      "Making 'packages.html' ...\n",
      " done\n",
      "\n"
     ]
    }
   ],
   "source": [
    "install.packages(\"corrplot\")"
   ]
  },
  {
   "cell_type": "code",
   "execution_count": 144,
   "id": "31555879-5625-407a-b723-6be8feffdddd",
   "metadata": {},
   "outputs": [
    {
     "data": {
      "text/html": [
       "<table class=\"dataframe\">\n",
       "<caption>A tibble: 6 × 14</caption>\n",
       "<thead>\n",
       "\t<tr><th scope=col>class</th><th scope=col>alcohol</th><th scope=col>malic.acid</th><th scope=col>ash</th><th scope=col>alcalinity.of.ash</th><th scope=col>magnesium</th><th scope=col>total.phenols</th><th scope=col>flavanoids</th><th scope=col>nonfalvanoid.phenols</th><th scope=col>proanthocyanins</th><th scope=col>color.intensity</th><th scope=col>hue</th><th scope=col>OD280.OD315.of.diluted.wines</th><th scope=col>proline</th></tr>\n",
       "\t<tr><th scope=col>&lt;fct&gt;</th><th scope=col>&lt;dbl&gt;</th><th scope=col>&lt;dbl&gt;</th><th scope=col>&lt;dbl&gt;</th><th scope=col>&lt;dbl&gt;</th><th scope=col>&lt;dbl&gt;</th><th scope=col>&lt;dbl&gt;</th><th scope=col>&lt;dbl&gt;</th><th scope=col>&lt;dbl&gt;</th><th scope=col>&lt;dbl&gt;</th><th scope=col>&lt;dbl&gt;</th><th scope=col>&lt;dbl&gt;</th><th scope=col>&lt;dbl&gt;</th><th scope=col>&lt;dbl&gt;</th></tr>\n",
       "</thead>\n",
       "<tbody>\n",
       "\t<tr><td>1</td><td>14.23</td><td>1.71</td><td>2.43</td><td>15.6</td><td>127</td><td>2.80</td><td>3.06</td><td>0.28</td><td>2.29</td><td>5.64</td><td>1.04</td><td>3.92</td><td>1065</td></tr>\n",
       "\t<tr><td>1</td><td>13.20</td><td>1.78</td><td>2.14</td><td>11.2</td><td>100</td><td>2.65</td><td>2.76</td><td>0.26</td><td>1.28</td><td>4.38</td><td>1.05</td><td>3.40</td><td>1050</td></tr>\n",
       "\t<tr><td>1</td><td>13.16</td><td>2.36</td><td>2.67</td><td>18.6</td><td>101</td><td>2.80</td><td>3.24</td><td>0.30</td><td>2.81</td><td>5.68</td><td>1.03</td><td>3.17</td><td>1185</td></tr>\n",
       "\t<tr><td>1</td><td>14.37</td><td>1.95</td><td>2.50</td><td>16.8</td><td>113</td><td>3.85</td><td>3.49</td><td>0.24</td><td>2.18</td><td>7.80</td><td>0.86</td><td>3.45</td><td>1480</td></tr>\n",
       "\t<tr><td>1</td><td>13.24</td><td>2.59</td><td>2.87</td><td>21.0</td><td>118</td><td>2.80</td><td>2.69</td><td>0.39</td><td>1.82</td><td>4.32</td><td>1.04</td><td>2.93</td><td> 735</td></tr>\n",
       "\t<tr><td>1</td><td>14.20</td><td>1.76</td><td>2.45</td><td>15.2</td><td>112</td><td>3.27</td><td>3.39</td><td>0.34</td><td>1.97</td><td>6.75</td><td>1.05</td><td>2.85</td><td>1450</td></tr>\n",
       "</tbody>\n",
       "</table>\n"
      ],
      "text/latex": [
       "A tibble: 6 × 14\n",
       "\\begin{tabular}{llllllllllllll}\n",
       " class & alcohol & malic.acid & ash & alcalinity.of.ash & magnesium & total.phenols & flavanoids & nonfalvanoid.phenols & proanthocyanins & color.intensity & hue & OD280.OD315.of.diluted.wines & proline\\\\\n",
       " <fct> & <dbl> & <dbl> & <dbl> & <dbl> & <dbl> & <dbl> & <dbl> & <dbl> & <dbl> & <dbl> & <dbl> & <dbl> & <dbl>\\\\\n",
       "\\hline\n",
       "\t 1 & 14.23 & 1.71 & 2.43 & 15.6 & 127 & 2.80 & 3.06 & 0.28 & 2.29 & 5.64 & 1.04 & 3.92 & 1065\\\\\n",
       "\t 1 & 13.20 & 1.78 & 2.14 & 11.2 & 100 & 2.65 & 2.76 & 0.26 & 1.28 & 4.38 & 1.05 & 3.40 & 1050\\\\\n",
       "\t 1 & 13.16 & 2.36 & 2.67 & 18.6 & 101 & 2.80 & 3.24 & 0.30 & 2.81 & 5.68 & 1.03 & 3.17 & 1185\\\\\n",
       "\t 1 & 14.37 & 1.95 & 2.50 & 16.8 & 113 & 3.85 & 3.49 & 0.24 & 2.18 & 7.80 & 0.86 & 3.45 & 1480\\\\\n",
       "\t 1 & 13.24 & 2.59 & 2.87 & 21.0 & 118 & 2.80 & 2.69 & 0.39 & 1.82 & 4.32 & 1.04 & 2.93 &  735\\\\\n",
       "\t 1 & 14.20 & 1.76 & 2.45 & 15.2 & 112 & 3.27 & 3.39 & 0.34 & 1.97 & 6.75 & 1.05 & 2.85 & 1450\\\\\n",
       "\\end{tabular}\n"
      ],
      "text/markdown": [
       "\n",
       "A tibble: 6 × 14\n",
       "\n",
       "| class &lt;fct&gt; | alcohol &lt;dbl&gt; | malic.acid &lt;dbl&gt; | ash &lt;dbl&gt; | alcalinity.of.ash &lt;dbl&gt; | magnesium &lt;dbl&gt; | total.phenols &lt;dbl&gt; | flavanoids &lt;dbl&gt; | nonfalvanoid.phenols &lt;dbl&gt; | proanthocyanins &lt;dbl&gt; | color.intensity &lt;dbl&gt; | hue &lt;dbl&gt; | OD280.OD315.of.diluted.wines &lt;dbl&gt; | proline &lt;dbl&gt; |\n",
       "|---|---|---|---|---|---|---|---|---|---|---|---|---|---|\n",
       "| 1 | 14.23 | 1.71 | 2.43 | 15.6 | 127 | 2.80 | 3.06 | 0.28 | 2.29 | 5.64 | 1.04 | 3.92 | 1065 |\n",
       "| 1 | 13.20 | 1.78 | 2.14 | 11.2 | 100 | 2.65 | 2.76 | 0.26 | 1.28 | 4.38 | 1.05 | 3.40 | 1050 |\n",
       "| 1 | 13.16 | 2.36 | 2.67 | 18.6 | 101 | 2.80 | 3.24 | 0.30 | 2.81 | 5.68 | 1.03 | 3.17 | 1185 |\n",
       "| 1 | 14.37 | 1.95 | 2.50 | 16.8 | 113 | 3.85 | 3.49 | 0.24 | 2.18 | 7.80 | 0.86 | 3.45 | 1480 |\n",
       "| 1 | 13.24 | 2.59 | 2.87 | 21.0 | 118 | 2.80 | 2.69 | 0.39 | 1.82 | 4.32 | 1.04 | 2.93 |  735 |\n",
       "| 1 | 14.20 | 1.76 | 2.45 | 15.2 | 112 | 3.27 | 3.39 | 0.34 | 1.97 | 6.75 | 1.05 | 2.85 | 1450 |\n",
       "\n"
      ],
      "text/plain": [
       "  class alcohol malic.acid ash  alcalinity.of.ash magnesium total.phenols\n",
       "1 1     14.23   1.71       2.43 15.6              127       2.80         \n",
       "2 1     13.20   1.78       2.14 11.2              100       2.65         \n",
       "3 1     13.16   2.36       2.67 18.6              101       2.80         \n",
       "4 1     14.37   1.95       2.50 16.8              113       3.85         \n",
       "5 1     13.24   2.59       2.87 21.0              118       2.80         \n",
       "6 1     14.20   1.76       2.45 15.2              112       3.27         \n",
       "  flavanoids nonfalvanoid.phenols proanthocyanins color.intensity hue \n",
       "1 3.06       0.28                 2.29            5.64            1.04\n",
       "2 2.76       0.26                 1.28            4.38            1.05\n",
       "3 3.24       0.30                 2.81            5.68            1.03\n",
       "4 3.49       0.24                 2.18            7.80            0.86\n",
       "5 2.69       0.39                 1.82            4.32            1.04\n",
       "6 3.39       0.34                 1.97            6.75            1.05\n",
       "  OD280.OD315.of.diluted.wines proline\n",
       "1 3.92                         1065   \n",
       "2 3.40                         1050   \n",
       "3 3.17                         1185   \n",
       "4 3.45                         1480   \n",
       "5 2.93                          735   \n",
       "6 2.85                         1450   "
      ]
     },
     "metadata": {},
     "output_type": "display_data"
    }
   ],
   "source": [
    "library(corrplot)\n",
    "head(wine_data)"
   ]
  },
  {
   "cell_type": "code",
   "execution_count": 145,
   "id": "61ebcc0b-be64-46c2-ab8a-4c03706f0de1",
   "metadata": {},
   "outputs": [
    {
     "data": {
      "text/html": [
       "<table class=\"dataframe\">\n",
       "<caption>A data.frame: 6 × 13</caption>\n",
       "<thead>\n",
       "\t<tr><th></th><th scope=col>alcohol</th><th scope=col>malic.acid</th><th scope=col>ash</th><th scope=col>alcalinity.of.ash</th><th scope=col>magnesium</th><th scope=col>total.phenols</th><th scope=col>flavanoids</th><th scope=col>nonfalvanoid.phenols</th><th scope=col>proanthocyanins</th><th scope=col>color.intensity</th><th scope=col>hue</th><th scope=col>OD280.OD315.of.diluted.wines</th><th scope=col>proline</th></tr>\n",
       "\t<tr><th></th><th scope=col>&lt;dbl&gt;</th><th scope=col>&lt;dbl&gt;</th><th scope=col>&lt;dbl&gt;</th><th scope=col>&lt;dbl&gt;</th><th scope=col>&lt;dbl&gt;</th><th scope=col>&lt;dbl&gt;</th><th scope=col>&lt;dbl&gt;</th><th scope=col>&lt;dbl&gt;</th><th scope=col>&lt;dbl&gt;</th><th scope=col>&lt;dbl&gt;</th><th scope=col>&lt;dbl&gt;</th><th scope=col>&lt;dbl&gt;</th><th scope=col>&lt;dbl&gt;</th></tr>\n",
       "</thead>\n",
       "<tbody>\n",
       "\t<tr><th scope=row>1</th><td>14.23</td><td>1.71</td><td>2.43</td><td>15.6</td><td>127</td><td>2.80</td><td>3.06</td><td>0.28</td><td>2.29</td><td>5.64</td><td>1.04</td><td>3.92</td><td>1065</td></tr>\n",
       "\t<tr><th scope=row>2</th><td>13.20</td><td>1.78</td><td>2.14</td><td>11.2</td><td>100</td><td>2.65</td><td>2.76</td><td>0.26</td><td>1.28</td><td>4.38</td><td>1.05</td><td>3.40</td><td>1050</td></tr>\n",
       "\t<tr><th scope=row>3</th><td>13.16</td><td>2.36</td><td>2.67</td><td>18.6</td><td>101</td><td>2.80</td><td>3.24</td><td>0.30</td><td>2.81</td><td>5.68</td><td>1.03</td><td>3.17</td><td>1185</td></tr>\n",
       "\t<tr><th scope=row>4</th><td>14.37</td><td>1.95</td><td>2.50</td><td>16.8</td><td>113</td><td>3.85</td><td>3.49</td><td>0.24</td><td>2.18</td><td>7.80</td><td>0.86</td><td>3.45</td><td>1480</td></tr>\n",
       "\t<tr><th scope=row>5</th><td>13.24</td><td>2.59</td><td>2.87</td><td>21.0</td><td>118</td><td>2.80</td><td>2.69</td><td>0.39</td><td>1.82</td><td>4.32</td><td>1.04</td><td>2.93</td><td> 735</td></tr>\n",
       "\t<tr><th scope=row>6</th><td>14.20</td><td>1.76</td><td>2.45</td><td>15.2</td><td>112</td><td>3.27</td><td>3.39</td><td>0.34</td><td>1.97</td><td>6.75</td><td>1.05</td><td>2.85</td><td>1450</td></tr>\n",
       "</tbody>\n",
       "</table>\n"
      ],
      "text/latex": [
       "A data.frame: 6 × 13\n",
       "\\begin{tabular}{r|lllllllllllll}\n",
       "  & alcohol & malic.acid & ash & alcalinity.of.ash & magnesium & total.phenols & flavanoids & nonfalvanoid.phenols & proanthocyanins & color.intensity & hue & OD280.OD315.of.diluted.wines & proline\\\\\n",
       "  & <dbl> & <dbl> & <dbl> & <dbl> & <dbl> & <dbl> & <dbl> & <dbl> & <dbl> & <dbl> & <dbl> & <dbl> & <dbl>\\\\\n",
       "\\hline\n",
       "\t1 & 14.23 & 1.71 & 2.43 & 15.6 & 127 & 2.80 & 3.06 & 0.28 & 2.29 & 5.64 & 1.04 & 3.92 & 1065\\\\\n",
       "\t2 & 13.20 & 1.78 & 2.14 & 11.2 & 100 & 2.65 & 2.76 & 0.26 & 1.28 & 4.38 & 1.05 & 3.40 & 1050\\\\\n",
       "\t3 & 13.16 & 2.36 & 2.67 & 18.6 & 101 & 2.80 & 3.24 & 0.30 & 2.81 & 5.68 & 1.03 & 3.17 & 1185\\\\\n",
       "\t4 & 14.37 & 1.95 & 2.50 & 16.8 & 113 & 3.85 & 3.49 & 0.24 & 2.18 & 7.80 & 0.86 & 3.45 & 1480\\\\\n",
       "\t5 & 13.24 & 2.59 & 2.87 & 21.0 & 118 & 2.80 & 2.69 & 0.39 & 1.82 & 4.32 & 1.04 & 2.93 &  735\\\\\n",
       "\t6 & 14.20 & 1.76 & 2.45 & 15.2 & 112 & 3.27 & 3.39 & 0.34 & 1.97 & 6.75 & 1.05 & 2.85 & 1450\\\\\n",
       "\\end{tabular}\n"
      ],
      "text/markdown": [
       "\n",
       "A data.frame: 6 × 13\n",
       "\n",
       "| <!--/--> | alcohol &lt;dbl&gt; | malic.acid &lt;dbl&gt; | ash &lt;dbl&gt; | alcalinity.of.ash &lt;dbl&gt; | magnesium &lt;dbl&gt; | total.phenols &lt;dbl&gt; | flavanoids &lt;dbl&gt; | nonfalvanoid.phenols &lt;dbl&gt; | proanthocyanins &lt;dbl&gt; | color.intensity &lt;dbl&gt; | hue &lt;dbl&gt; | OD280.OD315.of.diluted.wines &lt;dbl&gt; | proline &lt;dbl&gt; |\n",
       "|---|---|---|---|---|---|---|---|---|---|---|---|---|---|\n",
       "| 1 | 14.23 | 1.71 | 2.43 | 15.6 | 127 | 2.80 | 3.06 | 0.28 | 2.29 | 5.64 | 1.04 | 3.92 | 1065 |\n",
       "| 2 | 13.20 | 1.78 | 2.14 | 11.2 | 100 | 2.65 | 2.76 | 0.26 | 1.28 | 4.38 | 1.05 | 3.40 | 1050 |\n",
       "| 3 | 13.16 | 2.36 | 2.67 | 18.6 | 101 | 2.80 | 3.24 | 0.30 | 2.81 | 5.68 | 1.03 | 3.17 | 1185 |\n",
       "| 4 | 14.37 | 1.95 | 2.50 | 16.8 | 113 | 3.85 | 3.49 | 0.24 | 2.18 | 7.80 | 0.86 | 3.45 | 1480 |\n",
       "| 5 | 13.24 | 2.59 | 2.87 | 21.0 | 118 | 2.80 | 2.69 | 0.39 | 1.82 | 4.32 | 1.04 | 2.93 |  735 |\n",
       "| 6 | 14.20 | 1.76 | 2.45 | 15.2 | 112 | 3.27 | 3.39 | 0.34 | 1.97 | 6.75 | 1.05 | 2.85 | 1450 |\n",
       "\n"
      ],
      "text/plain": [
       "  alcohol malic.acid ash  alcalinity.of.ash magnesium total.phenols flavanoids\n",
       "1 14.23   1.71       2.43 15.6              127       2.80          3.06      \n",
       "2 13.20   1.78       2.14 11.2              100       2.65          2.76      \n",
       "3 13.16   2.36       2.67 18.6              101       2.80          3.24      \n",
       "4 14.37   1.95       2.50 16.8              113       3.85          3.49      \n",
       "5 13.24   2.59       2.87 21.0              118       2.80          2.69      \n",
       "6 14.20   1.76       2.45 15.2              112       3.27          3.39      \n",
       "  nonfalvanoid.phenols proanthocyanins color.intensity hue \n",
       "1 0.28                 2.29            5.64            1.04\n",
       "2 0.26                 1.28            4.38            1.05\n",
       "3 0.30                 2.81            5.68            1.03\n",
       "4 0.24                 2.18            7.80            0.86\n",
       "5 0.39                 1.82            4.32            1.04\n",
       "6 0.34                 1.97            6.75            1.05\n",
       "  OD280.OD315.of.diluted.wines proline\n",
       "1 3.92                         1065   \n",
       "2 3.40                         1050   \n",
       "3 3.17                         1185   \n",
       "4 3.45                         1480   \n",
       "5 2.93                          735   \n",
       "6 2.85                         1450   "
      ]
     },
     "metadata": {},
     "output_type": "display_data"
    }
   ],
   "source": [
    "wine_data <- data.frame(wine_data[,-1])\n",
    "head(wine_data)"
   ]
  },
  {
   "cell_type": "markdown",
   "id": "d7cc66c6-1569-4555-9566-22f789bc2952",
   "metadata": {},
   "source": [
    "### Standardizing the data"
   ]
  },
  {
   "cell_type": "code",
   "execution_count": 146,
   "id": "cbb591ec-e837-405f-a480-7ad074d74b30",
   "metadata": {},
   "outputs": [
    {
     "data": {
      "text/html": [
       "<table class=\"dataframe\">\n",
       "<caption>A data.frame: 6 × 13</caption>\n",
       "<thead>\n",
       "\t<tr><th></th><th scope=col>alcohol</th><th scope=col>malic.acid</th><th scope=col>ash</th><th scope=col>alcalinity.of.ash</th><th scope=col>magnesium</th><th scope=col>total.phenols</th><th scope=col>flavanoids</th><th scope=col>nonfalvanoid.phenols</th><th scope=col>proanthocyanins</th><th scope=col>color.intensity</th><th scope=col>hue</th><th scope=col>OD280.OD315.of.diluted.wines</th><th scope=col>proline</th></tr>\n",
       "\t<tr><th></th><th scope=col>&lt;dbl&gt;</th><th scope=col>&lt;dbl&gt;</th><th scope=col>&lt;dbl&gt;</th><th scope=col>&lt;dbl&gt;</th><th scope=col>&lt;dbl&gt;</th><th scope=col>&lt;dbl&gt;</th><th scope=col>&lt;dbl&gt;</th><th scope=col>&lt;dbl&gt;</th><th scope=col>&lt;dbl&gt;</th><th scope=col>&lt;dbl&gt;</th><th scope=col>&lt;dbl&gt;</th><th scope=col>&lt;dbl&gt;</th><th scope=col>&lt;dbl&gt;</th></tr>\n",
       "</thead>\n",
       "<tbody>\n",
       "\t<tr><th scope=row>1</th><td>1.5143408</td><td>-0.56066822</td><td> 0.2313998</td><td>-1.1663032</td><td>1.90852151</td><td>0.8067217</td><td>1.0319081</td><td>-0.6577078</td><td> 1.2214385</td><td> 0.2510088</td><td> 0.3611585</td><td>1.8427215</td><td> 1.01015939</td></tr>\n",
       "\t<tr><th scope=row>2</th><td>0.2455968</td><td>-0.49800856</td><td>-0.8256672</td><td>-2.4838405</td><td>0.01809398</td><td>0.5670481</td><td>0.7315653</td><td>-0.8184106</td><td>-0.5431887</td><td>-0.2924962</td><td> 0.4049085</td><td>1.1103172</td><td> 0.96252635</td></tr>\n",
       "\t<tr><th scope=row>3</th><td>0.1963252</td><td> 0.02117152</td><td> 1.1062139</td><td>-0.2679823</td><td>0.08810981</td><td>0.8067217</td><td>1.2121137</td><td>-0.4970050</td><td> 2.1299594</td><td> 0.2682629</td><td> 0.3174085</td><td>0.7863692</td><td> 1.39122370</td></tr>\n",
       "\t<tr><th scope=row>4</th><td>1.6867914</td><td>-0.34583508</td><td> 0.4865539</td><td>-0.8069748</td><td>0.92829983</td><td>2.4844372</td><td>1.4623994</td><td>-0.9791134</td><td> 1.0292513</td><td> 1.1827317</td><td>-0.4263410</td><td>1.1807407</td><td> 2.32800680</td></tr>\n",
       "\t<tr><th scope=row>5</th><td>0.2948684</td><td> 0.22705328</td><td> 1.8352256</td><td> 0.4506745</td><td>1.27837900</td><td>0.8067217</td><td>0.6614853</td><td> 0.2261576</td><td> 0.4002753</td><td>-0.3183774</td><td> 0.3611585</td><td>0.4483365</td><td>-0.03776747</td></tr>\n",
       "\t<tr><th scope=row>6</th><td>1.4773871</td><td>-0.51591132</td><td> 0.3043010</td><td>-1.2860793</td><td>0.85828399</td><td>1.5576991</td><td>1.3622851</td><td>-0.1755994</td><td> 0.6623487</td><td> 0.7298108</td><td> 0.4049085</td><td>0.3356589</td><td> 2.23274072</td></tr>\n",
       "</tbody>\n",
       "</table>\n"
      ],
      "text/latex": [
       "A data.frame: 6 × 13\n",
       "\\begin{tabular}{r|lllllllllllll}\n",
       "  & alcohol & malic.acid & ash & alcalinity.of.ash & magnesium & total.phenols & flavanoids & nonfalvanoid.phenols & proanthocyanins & color.intensity & hue & OD280.OD315.of.diluted.wines & proline\\\\\n",
       "  & <dbl> & <dbl> & <dbl> & <dbl> & <dbl> & <dbl> & <dbl> & <dbl> & <dbl> & <dbl> & <dbl> & <dbl> & <dbl>\\\\\n",
       "\\hline\n",
       "\t1 & 1.5143408 & -0.56066822 &  0.2313998 & -1.1663032 & 1.90852151 & 0.8067217 & 1.0319081 & -0.6577078 &  1.2214385 &  0.2510088 &  0.3611585 & 1.8427215 &  1.01015939\\\\\n",
       "\t2 & 0.2455968 & -0.49800856 & -0.8256672 & -2.4838405 & 0.01809398 & 0.5670481 & 0.7315653 & -0.8184106 & -0.5431887 & -0.2924962 &  0.4049085 & 1.1103172 &  0.96252635\\\\\n",
       "\t3 & 0.1963252 &  0.02117152 &  1.1062139 & -0.2679823 & 0.08810981 & 0.8067217 & 1.2121137 & -0.4970050 &  2.1299594 &  0.2682629 &  0.3174085 & 0.7863692 &  1.39122370\\\\\n",
       "\t4 & 1.6867914 & -0.34583508 &  0.4865539 & -0.8069748 & 0.92829983 & 2.4844372 & 1.4623994 & -0.9791134 &  1.0292513 &  1.1827317 & -0.4263410 & 1.1807407 &  2.32800680\\\\\n",
       "\t5 & 0.2948684 &  0.22705328 &  1.8352256 &  0.4506745 & 1.27837900 & 0.8067217 & 0.6614853 &  0.2261576 &  0.4002753 & -0.3183774 &  0.3611585 & 0.4483365 & -0.03776747\\\\\n",
       "\t6 & 1.4773871 & -0.51591132 &  0.3043010 & -1.2860793 & 0.85828399 & 1.5576991 & 1.3622851 & -0.1755994 &  0.6623487 &  0.7298108 &  0.4049085 & 0.3356589 &  2.23274072\\\\\n",
       "\\end{tabular}\n"
      ],
      "text/markdown": [
       "\n",
       "A data.frame: 6 × 13\n",
       "\n",
       "| <!--/--> | alcohol &lt;dbl&gt; | malic.acid &lt;dbl&gt; | ash &lt;dbl&gt; | alcalinity.of.ash &lt;dbl&gt; | magnesium &lt;dbl&gt; | total.phenols &lt;dbl&gt; | flavanoids &lt;dbl&gt; | nonfalvanoid.phenols &lt;dbl&gt; | proanthocyanins &lt;dbl&gt; | color.intensity &lt;dbl&gt; | hue &lt;dbl&gt; | OD280.OD315.of.diluted.wines &lt;dbl&gt; | proline &lt;dbl&gt; |\n",
       "|---|---|---|---|---|---|---|---|---|---|---|---|---|---|\n",
       "| 1 | 1.5143408 | -0.56066822 |  0.2313998 | -1.1663032 | 1.90852151 | 0.8067217 | 1.0319081 | -0.6577078 |  1.2214385 |  0.2510088 |  0.3611585 | 1.8427215 |  1.01015939 |\n",
       "| 2 | 0.2455968 | -0.49800856 | -0.8256672 | -2.4838405 | 0.01809398 | 0.5670481 | 0.7315653 | -0.8184106 | -0.5431887 | -0.2924962 |  0.4049085 | 1.1103172 |  0.96252635 |\n",
       "| 3 | 0.1963252 |  0.02117152 |  1.1062139 | -0.2679823 | 0.08810981 | 0.8067217 | 1.2121137 | -0.4970050 |  2.1299594 |  0.2682629 |  0.3174085 | 0.7863692 |  1.39122370 |\n",
       "| 4 | 1.6867914 | -0.34583508 |  0.4865539 | -0.8069748 | 0.92829983 | 2.4844372 | 1.4623994 | -0.9791134 |  1.0292513 |  1.1827317 | -0.4263410 | 1.1807407 |  2.32800680 |\n",
       "| 5 | 0.2948684 |  0.22705328 |  1.8352256 |  0.4506745 | 1.27837900 | 0.8067217 | 0.6614853 |  0.2261576 |  0.4002753 | -0.3183774 |  0.3611585 | 0.4483365 | -0.03776747 |\n",
       "| 6 | 1.4773871 | -0.51591132 |  0.3043010 | -1.2860793 | 0.85828399 | 1.5576991 | 1.3622851 | -0.1755994 |  0.6623487 |  0.7298108 |  0.4049085 | 0.3356589 |  2.23274072 |\n",
       "\n"
      ],
      "text/plain": [
       "  alcohol   malic.acid  ash        alcalinity.of.ash magnesium  total.phenols\n",
       "1 1.5143408 -0.56066822  0.2313998 -1.1663032        1.90852151 0.8067217    \n",
       "2 0.2455968 -0.49800856 -0.8256672 -2.4838405        0.01809398 0.5670481    \n",
       "3 0.1963252  0.02117152  1.1062139 -0.2679823        0.08810981 0.8067217    \n",
       "4 1.6867914 -0.34583508  0.4865539 -0.8069748        0.92829983 2.4844372    \n",
       "5 0.2948684  0.22705328  1.8352256  0.4506745        1.27837900 0.8067217    \n",
       "6 1.4773871 -0.51591132  0.3043010 -1.2860793        0.85828399 1.5576991    \n",
       "  flavanoids nonfalvanoid.phenols proanthocyanins color.intensity hue       \n",
       "1 1.0319081  -0.6577078            1.2214385       0.2510088       0.3611585\n",
       "2 0.7315653  -0.8184106           -0.5431887      -0.2924962       0.4049085\n",
       "3 1.2121137  -0.4970050            2.1299594       0.2682629       0.3174085\n",
       "4 1.4623994  -0.9791134            1.0292513       1.1827317      -0.4263410\n",
       "5 0.6614853   0.2261576            0.4002753      -0.3183774       0.3611585\n",
       "6 1.3622851  -0.1755994            0.6623487       0.7298108       0.4049085\n",
       "  OD280.OD315.of.diluted.wines proline    \n",
       "1 1.8427215                     1.01015939\n",
       "2 1.1103172                     0.96252635\n",
       "3 0.7863692                     1.39122370\n",
       "4 1.1807407                     2.32800680\n",
       "5 0.4483365                    -0.03776747\n",
       "6 0.3356589                     2.23274072"
      ]
     },
     "metadata": {},
     "output_type": "display_data"
    }
   ],
   "source": [
    "wine_data <- wine_data %>% mutate_all(~(scale(.) %>% as.vector))\n",
    "head(wine_data)"
   ]
  },
  {
   "cell_type": "markdown",
   "id": "2bed23c8-739f-4b2e-90de-8b85b82eff48",
   "metadata": {},
   "source": [
    "### Normalize the data"
   ]
  },
  {
   "cell_type": "code",
   "execution_count": 147,
   "id": "56f88221-b724-4e15-86ea-950ce55ee4bf",
   "metadata": {},
   "outputs": [
    {
     "name": "stderr",
     "output_type": "stream",
     "text": [
      "Updating HTML index of packages in '.Library'\n",
      "\n",
      "Making 'packages.html' ...\n",
      " done\n",
      "\n"
     ]
    }
   ],
   "source": [
    "install.packages(\"BBmisc\")\n",
    "library(BBmisc)"
   ]
  },
  {
   "cell_type": "code",
   "execution_count": 148,
   "id": "b2a8f186-9240-4dd5-9595-0949e69d604c",
   "metadata": {},
   "outputs": [
    {
     "data": {
      "text/html": [
       "<table class=\"dataframe\">\n",
       "<caption>A data.frame: 6 × 13</caption>\n",
       "<thead>\n",
       "\t<tr><th></th><th scope=col>alcohol</th><th scope=col>malic.acid</th><th scope=col>ash</th><th scope=col>alcalinity.of.ash</th><th scope=col>magnesium</th><th scope=col>total.phenols</th><th scope=col>flavanoids</th><th scope=col>nonfalvanoid.phenols</th><th scope=col>proanthocyanins</th><th scope=col>color.intensity</th><th scope=col>hue</th><th scope=col>OD280.OD315.of.diluted.wines</th><th scope=col>proline</th></tr>\n",
       "\t<tr><th></th><th scope=col>&lt;dbl&gt;</th><th scope=col>&lt;dbl&gt;</th><th scope=col>&lt;dbl&gt;</th><th scope=col>&lt;dbl&gt;</th><th scope=col>&lt;dbl&gt;</th><th scope=col>&lt;dbl&gt;</th><th scope=col>&lt;dbl&gt;</th><th scope=col>&lt;dbl&gt;</th><th scope=col>&lt;dbl&gt;</th><th scope=col>&lt;dbl&gt;</th><th scope=col>&lt;dbl&gt;</th><th scope=col>&lt;dbl&gt;</th><th scope=col>&lt;dbl&gt;</th></tr>\n",
       "</thead>\n",
       "<tbody>\n",
       "\t<tr><th scope=row>1</th><td>0.8421053</td><td>0.1916996</td><td>0.5721925</td><td>0.25773196</td><td>0.6195652</td><td>0.6275862</td><td>0.5738397</td><td>0.2830189</td><td>0.5930599</td><td>0.3720137</td><td>0.4552846</td><td>0.9706960</td><td>0.5613409</td></tr>\n",
       "\t<tr><th scope=row>2</th><td>0.5710526</td><td>0.2055336</td><td>0.4171123</td><td>0.03092784</td><td>0.3260870</td><td>0.5758621</td><td>0.5105485</td><td>0.2452830</td><td>0.2744479</td><td>0.2645051</td><td>0.4634146</td><td>0.7802198</td><td>0.5506419</td></tr>\n",
       "\t<tr><th scope=row>3</th><td>0.5605263</td><td>0.3201581</td><td>0.7005348</td><td>0.41237113</td><td>0.3369565</td><td>0.6275862</td><td>0.6118143</td><td>0.3207547</td><td>0.7570978</td><td>0.3754266</td><td>0.4471545</td><td>0.6959707</td><td>0.6469330</td></tr>\n",
       "\t<tr><th scope=row>4</th><td>0.8789474</td><td>0.2391304</td><td>0.6096257</td><td>0.31958763</td><td>0.4673913</td><td>0.9896552</td><td>0.6645570</td><td>0.2075472</td><td>0.5583596</td><td>0.5563140</td><td>0.3089431</td><td>0.7985348</td><td>0.8573466</td></tr>\n",
       "\t<tr><th scope=row>5</th><td>0.5815789</td><td>0.3656126</td><td>0.8074866</td><td>0.53608247</td><td>0.5217391</td><td>0.6275862</td><td>0.4957806</td><td>0.4905660</td><td>0.4447950</td><td>0.2593857</td><td>0.4552846</td><td>0.6080586</td><td>0.3259629</td></tr>\n",
       "\t<tr><th scope=row>6</th><td>0.8342105</td><td>0.2015810</td><td>0.5828877</td><td>0.23711340</td><td>0.4565217</td><td>0.7896552</td><td>0.6434599</td><td>0.3962264</td><td>0.4921136</td><td>0.4667235</td><td>0.4634146</td><td>0.5787546</td><td>0.8359486</td></tr>\n",
       "</tbody>\n",
       "</table>\n"
      ],
      "text/latex": [
       "A data.frame: 6 × 13\n",
       "\\begin{tabular}{r|lllllllllllll}\n",
       "  & alcohol & malic.acid & ash & alcalinity.of.ash & magnesium & total.phenols & flavanoids & nonfalvanoid.phenols & proanthocyanins & color.intensity & hue & OD280.OD315.of.diluted.wines & proline\\\\\n",
       "  & <dbl> & <dbl> & <dbl> & <dbl> & <dbl> & <dbl> & <dbl> & <dbl> & <dbl> & <dbl> & <dbl> & <dbl> & <dbl>\\\\\n",
       "\\hline\n",
       "\t1 & 0.8421053 & 0.1916996 & 0.5721925 & 0.25773196 & 0.6195652 & 0.6275862 & 0.5738397 & 0.2830189 & 0.5930599 & 0.3720137 & 0.4552846 & 0.9706960 & 0.5613409\\\\\n",
       "\t2 & 0.5710526 & 0.2055336 & 0.4171123 & 0.03092784 & 0.3260870 & 0.5758621 & 0.5105485 & 0.2452830 & 0.2744479 & 0.2645051 & 0.4634146 & 0.7802198 & 0.5506419\\\\\n",
       "\t3 & 0.5605263 & 0.3201581 & 0.7005348 & 0.41237113 & 0.3369565 & 0.6275862 & 0.6118143 & 0.3207547 & 0.7570978 & 0.3754266 & 0.4471545 & 0.6959707 & 0.6469330\\\\\n",
       "\t4 & 0.8789474 & 0.2391304 & 0.6096257 & 0.31958763 & 0.4673913 & 0.9896552 & 0.6645570 & 0.2075472 & 0.5583596 & 0.5563140 & 0.3089431 & 0.7985348 & 0.8573466\\\\\n",
       "\t5 & 0.5815789 & 0.3656126 & 0.8074866 & 0.53608247 & 0.5217391 & 0.6275862 & 0.4957806 & 0.4905660 & 0.4447950 & 0.2593857 & 0.4552846 & 0.6080586 & 0.3259629\\\\\n",
       "\t6 & 0.8342105 & 0.2015810 & 0.5828877 & 0.23711340 & 0.4565217 & 0.7896552 & 0.6434599 & 0.3962264 & 0.4921136 & 0.4667235 & 0.4634146 & 0.5787546 & 0.8359486\\\\\n",
       "\\end{tabular}\n"
      ],
      "text/markdown": [
       "\n",
       "A data.frame: 6 × 13\n",
       "\n",
       "| <!--/--> | alcohol &lt;dbl&gt; | malic.acid &lt;dbl&gt; | ash &lt;dbl&gt; | alcalinity.of.ash &lt;dbl&gt; | magnesium &lt;dbl&gt; | total.phenols &lt;dbl&gt; | flavanoids &lt;dbl&gt; | nonfalvanoid.phenols &lt;dbl&gt; | proanthocyanins &lt;dbl&gt; | color.intensity &lt;dbl&gt; | hue &lt;dbl&gt; | OD280.OD315.of.diluted.wines &lt;dbl&gt; | proline &lt;dbl&gt; |\n",
       "|---|---|---|---|---|---|---|---|---|---|---|---|---|---|\n",
       "| 1 | 0.8421053 | 0.1916996 | 0.5721925 | 0.25773196 | 0.6195652 | 0.6275862 | 0.5738397 | 0.2830189 | 0.5930599 | 0.3720137 | 0.4552846 | 0.9706960 | 0.5613409 |\n",
       "| 2 | 0.5710526 | 0.2055336 | 0.4171123 | 0.03092784 | 0.3260870 | 0.5758621 | 0.5105485 | 0.2452830 | 0.2744479 | 0.2645051 | 0.4634146 | 0.7802198 | 0.5506419 |\n",
       "| 3 | 0.5605263 | 0.3201581 | 0.7005348 | 0.41237113 | 0.3369565 | 0.6275862 | 0.6118143 | 0.3207547 | 0.7570978 | 0.3754266 | 0.4471545 | 0.6959707 | 0.6469330 |\n",
       "| 4 | 0.8789474 | 0.2391304 | 0.6096257 | 0.31958763 | 0.4673913 | 0.9896552 | 0.6645570 | 0.2075472 | 0.5583596 | 0.5563140 | 0.3089431 | 0.7985348 | 0.8573466 |\n",
       "| 5 | 0.5815789 | 0.3656126 | 0.8074866 | 0.53608247 | 0.5217391 | 0.6275862 | 0.4957806 | 0.4905660 | 0.4447950 | 0.2593857 | 0.4552846 | 0.6080586 | 0.3259629 |\n",
       "| 6 | 0.8342105 | 0.2015810 | 0.5828877 | 0.23711340 | 0.4565217 | 0.7896552 | 0.6434599 | 0.3962264 | 0.4921136 | 0.4667235 | 0.4634146 | 0.5787546 | 0.8359486 |\n",
       "\n"
      ],
      "text/plain": [
       "  alcohol   malic.acid ash       alcalinity.of.ash magnesium total.phenols\n",
       "1 0.8421053 0.1916996  0.5721925 0.25773196        0.6195652 0.6275862    \n",
       "2 0.5710526 0.2055336  0.4171123 0.03092784        0.3260870 0.5758621    \n",
       "3 0.5605263 0.3201581  0.7005348 0.41237113        0.3369565 0.6275862    \n",
       "4 0.8789474 0.2391304  0.6096257 0.31958763        0.4673913 0.9896552    \n",
       "5 0.5815789 0.3656126  0.8074866 0.53608247        0.5217391 0.6275862    \n",
       "6 0.8342105 0.2015810  0.5828877 0.23711340        0.4565217 0.7896552    \n",
       "  flavanoids nonfalvanoid.phenols proanthocyanins color.intensity hue      \n",
       "1 0.5738397  0.2830189            0.5930599       0.3720137       0.4552846\n",
       "2 0.5105485  0.2452830            0.2744479       0.2645051       0.4634146\n",
       "3 0.6118143  0.3207547            0.7570978       0.3754266       0.4471545\n",
       "4 0.6645570  0.2075472            0.5583596       0.5563140       0.3089431\n",
       "5 0.4957806  0.4905660            0.4447950       0.2593857       0.4552846\n",
       "6 0.6434599  0.3962264            0.4921136       0.4667235       0.4634146\n",
       "  OD280.OD315.of.diluted.wines proline  \n",
       "1 0.9706960                    0.5613409\n",
       "2 0.7802198                    0.5506419\n",
       "3 0.6959707                    0.6469330\n",
       "4 0.7985348                    0.8573466\n",
       "5 0.6080586                    0.3259629\n",
       "6 0.5787546                    0.8359486"
      ]
     },
     "metadata": {},
     "output_type": "display_data"
    }
   ],
   "source": [
    "wine_data <- wine_data %>% mutate_all(~(normalize(., method = \"range\", range = c(0, 1)) %>% as.vector))\n",
    "head(wine_data)"
   ]
  },
  {
   "cell_type": "markdown",
   "id": "ce963d56-32de-4e5e-a6a0-9fb243fcc0c1",
   "metadata": {},
   "source": [
    "### After standardize and normalize, we can plot a correlation plot to view the relationship between each variables."
   ]
  },
  {
   "cell_type": "code",
   "execution_count": 149,
   "id": "6a33a2e9-bcb1-4ebf-b2d5-e0be777c64c4",
   "metadata": {},
   "outputs": [
    {
     "data": {
      "text/html": [
       "<table class=\"dataframe\">\n",
       "<caption>A data.frame: 6 × 13</caption>\n",
       "<thead>\n",
       "\t<tr><th></th><th scope=col>alcohol</th><th scope=col>malic.acid</th><th scope=col>ash</th><th scope=col>alcalinity.of.ash</th><th scope=col>magnesium</th><th scope=col>total.phenols</th><th scope=col>flavanoids</th><th scope=col>nonfalvanoid.phenols</th><th scope=col>proanthocyanins</th><th scope=col>color.intensity</th><th scope=col>hue</th><th scope=col>OD280.OD315.of.diluted.wines</th><th scope=col>proline</th></tr>\n",
       "\t<tr><th></th><th scope=col>&lt;dbl&gt;</th><th scope=col>&lt;dbl&gt;</th><th scope=col>&lt;dbl&gt;</th><th scope=col>&lt;dbl&gt;</th><th scope=col>&lt;dbl&gt;</th><th scope=col>&lt;dbl&gt;</th><th scope=col>&lt;dbl&gt;</th><th scope=col>&lt;dbl&gt;</th><th scope=col>&lt;dbl&gt;</th><th scope=col>&lt;dbl&gt;</th><th scope=col>&lt;dbl&gt;</th><th scope=col>&lt;dbl&gt;</th><th scope=col>&lt;dbl&gt;</th></tr>\n",
       "</thead>\n",
       "<tbody>\n",
       "\t<tr><th scope=row>1</th><td>0.8421053</td><td>0.1916996</td><td>0.5721925</td><td>0.25773196</td><td>0.6195652</td><td>0.6275862</td><td>0.5738397</td><td>0.2830189</td><td>0.5930599</td><td>0.3720137</td><td>0.4552846</td><td>0.9706960</td><td>0.5613409</td></tr>\n",
       "\t<tr><th scope=row>2</th><td>0.5710526</td><td>0.2055336</td><td>0.4171123</td><td>0.03092784</td><td>0.3260870</td><td>0.5758621</td><td>0.5105485</td><td>0.2452830</td><td>0.2744479</td><td>0.2645051</td><td>0.4634146</td><td>0.7802198</td><td>0.5506419</td></tr>\n",
       "\t<tr><th scope=row>3</th><td>0.5605263</td><td>0.3201581</td><td>0.7005348</td><td>0.41237113</td><td>0.3369565</td><td>0.6275862</td><td>0.6118143</td><td>0.3207547</td><td>0.7570978</td><td>0.3754266</td><td>0.4471545</td><td>0.6959707</td><td>0.6469330</td></tr>\n",
       "\t<tr><th scope=row>4</th><td>0.8789474</td><td>0.2391304</td><td>0.6096257</td><td>0.31958763</td><td>0.4673913</td><td>0.9896552</td><td>0.6645570</td><td>0.2075472</td><td>0.5583596</td><td>0.5563140</td><td>0.3089431</td><td>0.7985348</td><td>0.8573466</td></tr>\n",
       "\t<tr><th scope=row>5</th><td>0.5815789</td><td>0.3656126</td><td>0.8074866</td><td>0.53608247</td><td>0.5217391</td><td>0.6275862</td><td>0.4957806</td><td>0.4905660</td><td>0.4447950</td><td>0.2593857</td><td>0.4552846</td><td>0.6080586</td><td>0.3259629</td></tr>\n",
       "\t<tr><th scope=row>6</th><td>0.8342105</td><td>0.2015810</td><td>0.5828877</td><td>0.23711340</td><td>0.4565217</td><td>0.7896552</td><td>0.6434599</td><td>0.3962264</td><td>0.4921136</td><td>0.4667235</td><td>0.4634146</td><td>0.5787546</td><td>0.8359486</td></tr>\n",
       "</tbody>\n",
       "</table>\n"
      ],
      "text/latex": [
       "A data.frame: 6 × 13\n",
       "\\begin{tabular}{r|lllllllllllll}\n",
       "  & alcohol & malic.acid & ash & alcalinity.of.ash & magnesium & total.phenols & flavanoids & nonfalvanoid.phenols & proanthocyanins & color.intensity & hue & OD280.OD315.of.diluted.wines & proline\\\\\n",
       "  & <dbl> & <dbl> & <dbl> & <dbl> & <dbl> & <dbl> & <dbl> & <dbl> & <dbl> & <dbl> & <dbl> & <dbl> & <dbl>\\\\\n",
       "\\hline\n",
       "\t1 & 0.8421053 & 0.1916996 & 0.5721925 & 0.25773196 & 0.6195652 & 0.6275862 & 0.5738397 & 0.2830189 & 0.5930599 & 0.3720137 & 0.4552846 & 0.9706960 & 0.5613409\\\\\n",
       "\t2 & 0.5710526 & 0.2055336 & 0.4171123 & 0.03092784 & 0.3260870 & 0.5758621 & 0.5105485 & 0.2452830 & 0.2744479 & 0.2645051 & 0.4634146 & 0.7802198 & 0.5506419\\\\\n",
       "\t3 & 0.5605263 & 0.3201581 & 0.7005348 & 0.41237113 & 0.3369565 & 0.6275862 & 0.6118143 & 0.3207547 & 0.7570978 & 0.3754266 & 0.4471545 & 0.6959707 & 0.6469330\\\\\n",
       "\t4 & 0.8789474 & 0.2391304 & 0.6096257 & 0.31958763 & 0.4673913 & 0.9896552 & 0.6645570 & 0.2075472 & 0.5583596 & 0.5563140 & 0.3089431 & 0.7985348 & 0.8573466\\\\\n",
       "\t5 & 0.5815789 & 0.3656126 & 0.8074866 & 0.53608247 & 0.5217391 & 0.6275862 & 0.4957806 & 0.4905660 & 0.4447950 & 0.2593857 & 0.4552846 & 0.6080586 & 0.3259629\\\\\n",
       "\t6 & 0.8342105 & 0.2015810 & 0.5828877 & 0.23711340 & 0.4565217 & 0.7896552 & 0.6434599 & 0.3962264 & 0.4921136 & 0.4667235 & 0.4634146 & 0.5787546 & 0.8359486\\\\\n",
       "\\end{tabular}\n"
      ],
      "text/markdown": [
       "\n",
       "A data.frame: 6 × 13\n",
       "\n",
       "| <!--/--> | alcohol &lt;dbl&gt; | malic.acid &lt;dbl&gt; | ash &lt;dbl&gt; | alcalinity.of.ash &lt;dbl&gt; | magnesium &lt;dbl&gt; | total.phenols &lt;dbl&gt; | flavanoids &lt;dbl&gt; | nonfalvanoid.phenols &lt;dbl&gt; | proanthocyanins &lt;dbl&gt; | color.intensity &lt;dbl&gt; | hue &lt;dbl&gt; | OD280.OD315.of.diluted.wines &lt;dbl&gt; | proline &lt;dbl&gt; |\n",
       "|---|---|---|---|---|---|---|---|---|---|---|---|---|---|\n",
       "| 1 | 0.8421053 | 0.1916996 | 0.5721925 | 0.25773196 | 0.6195652 | 0.6275862 | 0.5738397 | 0.2830189 | 0.5930599 | 0.3720137 | 0.4552846 | 0.9706960 | 0.5613409 |\n",
       "| 2 | 0.5710526 | 0.2055336 | 0.4171123 | 0.03092784 | 0.3260870 | 0.5758621 | 0.5105485 | 0.2452830 | 0.2744479 | 0.2645051 | 0.4634146 | 0.7802198 | 0.5506419 |\n",
       "| 3 | 0.5605263 | 0.3201581 | 0.7005348 | 0.41237113 | 0.3369565 | 0.6275862 | 0.6118143 | 0.3207547 | 0.7570978 | 0.3754266 | 0.4471545 | 0.6959707 | 0.6469330 |\n",
       "| 4 | 0.8789474 | 0.2391304 | 0.6096257 | 0.31958763 | 0.4673913 | 0.9896552 | 0.6645570 | 0.2075472 | 0.5583596 | 0.5563140 | 0.3089431 | 0.7985348 | 0.8573466 |\n",
       "| 5 | 0.5815789 | 0.3656126 | 0.8074866 | 0.53608247 | 0.5217391 | 0.6275862 | 0.4957806 | 0.4905660 | 0.4447950 | 0.2593857 | 0.4552846 | 0.6080586 | 0.3259629 |\n",
       "| 6 | 0.8342105 | 0.2015810 | 0.5828877 | 0.23711340 | 0.4565217 | 0.7896552 | 0.6434599 | 0.3962264 | 0.4921136 | 0.4667235 | 0.4634146 | 0.5787546 | 0.8359486 |\n",
       "\n"
      ],
      "text/plain": [
       "  alcohol   malic.acid ash       alcalinity.of.ash magnesium total.phenols\n",
       "1 0.8421053 0.1916996  0.5721925 0.25773196        0.6195652 0.6275862    \n",
       "2 0.5710526 0.2055336  0.4171123 0.03092784        0.3260870 0.5758621    \n",
       "3 0.5605263 0.3201581  0.7005348 0.41237113        0.3369565 0.6275862    \n",
       "4 0.8789474 0.2391304  0.6096257 0.31958763        0.4673913 0.9896552    \n",
       "5 0.5815789 0.3656126  0.8074866 0.53608247        0.5217391 0.6275862    \n",
       "6 0.8342105 0.2015810  0.5828877 0.23711340        0.4565217 0.7896552    \n",
       "  flavanoids nonfalvanoid.phenols proanthocyanins color.intensity hue      \n",
       "1 0.5738397  0.2830189            0.5930599       0.3720137       0.4552846\n",
       "2 0.5105485  0.2452830            0.2744479       0.2645051       0.4634146\n",
       "3 0.6118143  0.3207547            0.7570978       0.3754266       0.4471545\n",
       "4 0.6645570  0.2075472            0.5583596       0.5563140       0.3089431\n",
       "5 0.4957806  0.4905660            0.4447950       0.2593857       0.4552846\n",
       "6 0.6434599  0.3962264            0.4921136       0.4667235       0.4634146\n",
       "  OD280.OD315.of.diluted.wines proline  \n",
       "1 0.9706960                    0.5613409\n",
       "2 0.7802198                    0.5506419\n",
       "3 0.6959707                    0.6469330\n",
       "4 0.7985348                    0.8573466\n",
       "5 0.6080586                    0.3259629\n",
       "6 0.5787546                    0.8359486"
      ]
     },
     "metadata": {},
     "output_type": "display_data"
    }
   ],
   "source": [
    "head(wine_data)"
   ]
  },
  {
   "cell_type": "code",
   "execution_count": 150,
   "id": "cc34c8d5-6970-40be-a859-e7df5cd1f8fe",
   "metadata": {},
   "outputs": [
    {
     "data": {
      "image/png": "[encoded data removed]",
      "text/plain": [
       "Plot with title “”"
      ]
     },
     "metadata": {
      "image/png": {
       "height": 420,
       "width": 420
      }
     },
     "output_type": "display_data"
    }
   ],
   "source": [
    "correlation_matrix <- round(cor(wine_data), 2)\n",
    "corrplot(correlation_matrix, method=\"number\")"
   ]
  },
  {
   "cell_type": "markdown",
   "id": "1d7804ba-715f-4a20-9f52-6c2fbe9045c9",
   "metadata": {},
   "source": [
    "### Looking at the relationship between Class and Alcohol Content"
   ]
  },
  {
   "cell_type": "code",
   "execution_count": 151,
   "id": "49bc0c60-3917-4be6-af7d-44e5539532d2",
   "metadata": {},
   "outputs": [
    {
     "data": {
      "text/html": [
       "<table class=\"dataframe\">\n",
       "<caption>A data.frame: 6 × 13</caption>\n",
       "<thead>\n",
       "\t<tr><th></th><th scope=col>alcohol</th><th scope=col>malic.acid</th><th scope=col>ash</th><th scope=col>alcalinity.of.ash</th><th scope=col>magnesium</th><th scope=col>total.phenols</th><th scope=col>flavanoids</th><th scope=col>nonfalvanoid.phenols</th><th scope=col>proanthocyanins</th><th scope=col>color.intensity</th><th scope=col>hue</th><th scope=col>OD280.OD315.of.diluted.wines</th><th scope=col>proline</th></tr>\n",
       "\t<tr><th></th><th scope=col>&lt;dbl&gt;</th><th scope=col>&lt;dbl&gt;</th><th scope=col>&lt;dbl&gt;</th><th scope=col>&lt;dbl&gt;</th><th scope=col>&lt;dbl&gt;</th><th scope=col>&lt;dbl&gt;</th><th scope=col>&lt;dbl&gt;</th><th scope=col>&lt;dbl&gt;</th><th scope=col>&lt;dbl&gt;</th><th scope=col>&lt;dbl&gt;</th><th scope=col>&lt;dbl&gt;</th><th scope=col>&lt;dbl&gt;</th><th scope=col>&lt;dbl&gt;</th></tr>\n",
       "</thead>\n",
       "<tbody>\n",
       "\t<tr><th scope=row>1</th><td>0.8421053</td><td>0.1916996</td><td>0.5721925</td><td>0.25773196</td><td>0.6195652</td><td>0.6275862</td><td>0.5738397</td><td>0.2830189</td><td>0.5930599</td><td>0.3720137</td><td>0.4552846</td><td>0.9706960</td><td>0.5613409</td></tr>\n",
       "\t<tr><th scope=row>2</th><td>0.5710526</td><td>0.2055336</td><td>0.4171123</td><td>0.03092784</td><td>0.3260870</td><td>0.5758621</td><td>0.5105485</td><td>0.2452830</td><td>0.2744479</td><td>0.2645051</td><td>0.4634146</td><td>0.7802198</td><td>0.5506419</td></tr>\n",
       "\t<tr><th scope=row>3</th><td>0.5605263</td><td>0.3201581</td><td>0.7005348</td><td>0.41237113</td><td>0.3369565</td><td>0.6275862</td><td>0.6118143</td><td>0.3207547</td><td>0.7570978</td><td>0.3754266</td><td>0.4471545</td><td>0.6959707</td><td>0.6469330</td></tr>\n",
       "\t<tr><th scope=row>4</th><td>0.8789474</td><td>0.2391304</td><td>0.6096257</td><td>0.31958763</td><td>0.4673913</td><td>0.9896552</td><td>0.6645570</td><td>0.2075472</td><td>0.5583596</td><td>0.5563140</td><td>0.3089431</td><td>0.7985348</td><td>0.8573466</td></tr>\n",
       "\t<tr><th scope=row>5</th><td>0.5815789</td><td>0.3656126</td><td>0.8074866</td><td>0.53608247</td><td>0.5217391</td><td>0.6275862</td><td>0.4957806</td><td>0.4905660</td><td>0.4447950</td><td>0.2593857</td><td>0.4552846</td><td>0.6080586</td><td>0.3259629</td></tr>\n",
       "\t<tr><th scope=row>6</th><td>0.8342105</td><td>0.2015810</td><td>0.5828877</td><td>0.23711340</td><td>0.4565217</td><td>0.7896552</td><td>0.6434599</td><td>0.3962264</td><td>0.4921136</td><td>0.4667235</td><td>0.4634146</td><td>0.5787546</td><td>0.8359486</td></tr>\n",
       "</tbody>\n",
       "</table>\n"
      ],
      "text/latex": [
       "A data.frame: 6 × 13\n",
       "\\begin{tabular}{r|lllllllllllll}\n",
       "  & alcohol & malic.acid & ash & alcalinity.of.ash & magnesium & total.phenols & flavanoids & nonfalvanoid.phenols & proanthocyanins & color.intensity & hue & OD280.OD315.of.diluted.wines & proline\\\\\n",
       "  & <dbl> & <dbl> & <dbl> & <dbl> & <dbl> & <dbl> & <dbl> & <dbl> & <dbl> & <dbl> & <dbl> & <dbl> & <dbl>\\\\\n",
       "\\hline\n",
       "\t1 & 0.8421053 & 0.1916996 & 0.5721925 & 0.25773196 & 0.6195652 & 0.6275862 & 0.5738397 & 0.2830189 & 0.5930599 & 0.3720137 & 0.4552846 & 0.9706960 & 0.5613409\\\\\n",
       "\t2 & 0.5710526 & 0.2055336 & 0.4171123 & 0.03092784 & 0.3260870 & 0.5758621 & 0.5105485 & 0.2452830 & 0.2744479 & 0.2645051 & 0.4634146 & 0.7802198 & 0.5506419\\\\\n",
       "\t3 & 0.5605263 & 0.3201581 & 0.7005348 & 0.41237113 & 0.3369565 & 0.6275862 & 0.6118143 & 0.3207547 & 0.7570978 & 0.3754266 & 0.4471545 & 0.6959707 & 0.6469330\\\\\n",
       "\t4 & 0.8789474 & 0.2391304 & 0.6096257 & 0.31958763 & 0.4673913 & 0.9896552 & 0.6645570 & 0.2075472 & 0.5583596 & 0.5563140 & 0.3089431 & 0.7985348 & 0.8573466\\\\\n",
       "\t5 & 0.5815789 & 0.3656126 & 0.8074866 & 0.53608247 & 0.5217391 & 0.6275862 & 0.4957806 & 0.4905660 & 0.4447950 & 0.2593857 & 0.4552846 & 0.6080586 & 0.3259629\\\\\n",
       "\t6 & 0.8342105 & 0.2015810 & 0.5828877 & 0.23711340 & 0.4565217 & 0.7896552 & 0.6434599 & 0.3962264 & 0.4921136 & 0.4667235 & 0.4634146 & 0.5787546 & 0.8359486\\\\\n",
       "\\end{tabular}\n"
      ],
      "text/markdown": [
       "\n",
       "A data.frame: 6 × 13\n",
       "\n",
       "| <!--/--> | alcohol &lt;dbl&gt; | malic.acid &lt;dbl&gt; | ash &lt;dbl&gt; | alcalinity.of.ash &lt;dbl&gt; | magnesium &lt;dbl&gt; | total.phenols &lt;dbl&gt; | flavanoids &lt;dbl&gt; | nonfalvanoid.phenols &lt;dbl&gt; | proanthocyanins &lt;dbl&gt; | color.intensity &lt;dbl&gt; | hue &lt;dbl&gt; | OD280.OD315.of.diluted.wines &lt;dbl&gt; | proline &lt;dbl&gt; |\n",
       "|---|---|---|---|---|---|---|---|---|---|---|---|---|---|\n",
       "| 1 | 0.8421053 | 0.1916996 | 0.5721925 | 0.25773196 | 0.6195652 | 0.6275862 | 0.5738397 | 0.2830189 | 0.5930599 | 0.3720137 | 0.4552846 | 0.9706960 | 0.5613409 |\n",
       "| 2 | 0.5710526 | 0.2055336 | 0.4171123 | 0.03092784 | 0.3260870 | 0.5758621 | 0.5105485 | 0.2452830 | 0.2744479 | 0.2645051 | 0.4634146 | 0.7802198 | 0.5506419 |\n",
       "| 3 | 0.5605263 | 0.3201581 | 0.7005348 | 0.41237113 | 0.3369565 | 0.6275862 | 0.6118143 | 0.3207547 | 0.7570978 | 0.3754266 | 0.4471545 | 0.6959707 | 0.6469330 |\n",
       "| 4 | 0.8789474 | 0.2391304 | 0.6096257 | 0.31958763 | 0.4673913 | 0.9896552 | 0.6645570 | 0.2075472 | 0.5583596 | 0.5563140 | 0.3089431 | 0.7985348 | 0.8573466 |\n",
       "| 5 | 0.5815789 | 0.3656126 | 0.8074866 | 0.53608247 | 0.5217391 | 0.6275862 | 0.4957806 | 0.4905660 | 0.4447950 | 0.2593857 | 0.4552846 | 0.6080586 | 0.3259629 |\n",
       "| 6 | 0.8342105 | 0.2015810 | 0.5828877 | 0.23711340 | 0.4565217 | 0.7896552 | 0.6434599 | 0.3962264 | 0.4921136 | 0.4667235 | 0.4634146 | 0.5787546 | 0.8359486 |\n",
       "\n"
      ],
      "text/plain": [
       "  alcohol   malic.acid ash       alcalinity.of.ash magnesium total.phenols\n",
       "1 0.8421053 0.1916996  0.5721925 0.25773196        0.6195652 0.6275862    \n",
       "2 0.5710526 0.2055336  0.4171123 0.03092784        0.3260870 0.5758621    \n",
       "3 0.5605263 0.3201581  0.7005348 0.41237113        0.3369565 0.6275862    \n",
       "4 0.8789474 0.2391304  0.6096257 0.31958763        0.4673913 0.9896552    \n",
       "5 0.5815789 0.3656126  0.8074866 0.53608247        0.5217391 0.6275862    \n",
       "6 0.8342105 0.2015810  0.5828877 0.23711340        0.4565217 0.7896552    \n",
       "  flavanoids nonfalvanoid.phenols proanthocyanins color.intensity hue      \n",
       "1 0.5738397  0.2830189            0.5930599       0.3720137       0.4552846\n",
       "2 0.5105485  0.2452830            0.2744479       0.2645051       0.4634146\n",
       "3 0.6118143  0.3207547            0.7570978       0.3754266       0.4471545\n",
       "4 0.6645570  0.2075472            0.5583596       0.5563140       0.3089431\n",
       "5 0.4957806  0.4905660            0.4447950       0.2593857       0.4552846\n",
       "6 0.6434599  0.3962264            0.4921136       0.4667235       0.4634146\n",
       "  OD280.OD315.of.diluted.wines proline  \n",
       "1 0.9706960                    0.5613409\n",
       "2 0.7802198                    0.5506419\n",
       "3 0.6959707                    0.6469330\n",
       "4 0.7985348                    0.8573466\n",
       "5 0.6080586                    0.3259629\n",
       "6 0.5787546                    0.8359486"
      ]
     },
     "metadata": {},
     "output_type": "display_data"
    }
   ],
   "source": [
    "head(wine_data)"
   ]
  },
  {
   "cell_type": "code",
   "execution_count": 152,
   "id": "b7fd9971-b55c-4211-a8f2-b5d70e8b0b51",
   "metadata": {},
   "outputs": [
    {
     "data": {
      "text/plain": [
       "NULL"
      ]
     },
     "metadata": {},
     "output_type": "display_data"
    },
    {
     "data": {
      "image/png": "[encoded data removed]",
      "text/plain": [
       "plot without title"
      ]
     },
     "metadata": {
      "image/png": {
       "height": 420,
       "width": 420
      }
     },
     "output_type": "display_data"
    }
   ],
   "source": [
    "wine_data['class'] = class_labels\n",
    "\n",
    "wine_plot <- wine_data  |>\n",
    "  ggplot(aes(x = alcohol, y = malic.acid, color = class)) +\n",
    "  geom_point(alpha = 0.6)\n",
    "  labs(x = \"Perimeter (standardized)\", \n",
    "       y = \"Malic Acid (standardized)\",\n",
    "       color = class) +\n",
    "  scale_color_manual(labels = c(\"Malignant\", \"Benign\"), \n",
    "                     values = c(\"orange2\", \"steelblue2\")) +\n",
    "  theme(text = element_text(size = 12))\n",
    "\n",
    "wine_plot\n",
    "\n"
   ]
  },
  {
   "cell_type": "markdown",
   "id": "766e346e-1d13-4470-a020-93152f8f6fd2",
   "metadata": {},
   "source": [
    "## Classification using KNN Algorithm"
   ]
  },
  {
   "cell_type": "code",
   "execution_count": 153,
   "id": "c63693c2-8fef-42d0-b1a5-08550ea265ff",
   "metadata": {},
   "outputs": [],
   "source": [
    "library(tidymodels)"
   ]
  },
  {
   "cell_type": "markdown",
   "id": "f597a5a7-679b-438e-afc0-116f30d4f30e",
   "metadata": {},
   "source": [
    "## Observe the first few columns using head"
   ]
  },
  {
   "cell_type": "code",
   "execution_count": 154,
   "id": "eee072fb-9508-4d3b-afc2-50718f60da52",
   "metadata": {},
   "outputs": [
    {
     "data": {
      "text/html": [
       "<table class=\"dataframe\">\n",
       "<caption>A tibble: 6 × 14</caption>\n",
       "<thead>\n",
       "\t<tr><th scope=col>class</th><th scope=col>alcohol</th><th scope=col>malic.acid</th><th scope=col>ash</th><th scope=col>alcalinity.of.ash</th><th scope=col>magnesium</th><th scope=col>total.phenols</th><th scope=col>flavanoids</th><th scope=col>nonfalvanoid.phenols</th><th scope=col>proanthocyanins</th><th scope=col>color.intensity</th><th scope=col>hue</th><th scope=col>OD280.OD315.of.diluted.wines</th><th scope=col>proline</th></tr>\n",
       "\t<tr><th scope=col>&lt;fct&gt;</th><th scope=col>&lt;dbl&gt;</th><th scope=col>&lt;dbl&gt;</th><th scope=col>&lt;dbl&gt;</th><th scope=col>&lt;dbl&gt;</th><th scope=col>&lt;dbl&gt;</th><th scope=col>&lt;dbl&gt;</th><th scope=col>&lt;dbl&gt;</th><th scope=col>&lt;dbl&gt;</th><th scope=col>&lt;dbl&gt;</th><th scope=col>&lt;dbl&gt;</th><th scope=col>&lt;dbl&gt;</th><th scope=col>&lt;dbl&gt;</th><th scope=col>&lt;dbl&gt;</th></tr>\n",
       "</thead>\n",
       "<tbody>\n",
       "\t<tr><td>1</td><td>14.23</td><td>1.71</td><td>2.43</td><td>15.6</td><td>127</td><td>2.80</td><td>3.06</td><td>0.28</td><td>2.29</td><td>5.64</td><td>1.04</td><td>3.92</td><td>1065</td></tr>\n",
       "\t<tr><td>1</td><td>13.20</td><td>1.78</td><td>2.14</td><td>11.2</td><td>100</td><td>2.65</td><td>2.76</td><td>0.26</td><td>1.28</td><td>4.38</td><td>1.05</td><td>3.40</td><td>1050</td></tr>\n",
       "\t<tr><td>1</td><td>13.16</td><td>2.36</td><td>2.67</td><td>18.6</td><td>101</td><td>2.80</td><td>3.24</td><td>0.30</td><td>2.81</td><td>5.68</td><td>1.03</td><td>3.17</td><td>1185</td></tr>\n",
       "\t<tr><td>1</td><td>14.37</td><td>1.95</td><td>2.50</td><td>16.8</td><td>113</td><td>3.85</td><td>3.49</td><td>0.24</td><td>2.18</td><td>7.80</td><td>0.86</td><td>3.45</td><td>1480</td></tr>\n",
       "\t<tr><td>1</td><td>13.24</td><td>2.59</td><td>2.87</td><td>21.0</td><td>118</td><td>2.80</td><td>2.69</td><td>0.39</td><td>1.82</td><td>4.32</td><td>1.04</td><td>2.93</td><td> 735</td></tr>\n",
       "\t<tr><td>1</td><td>14.39</td><td>1.87</td><td>2.45</td><td>14.6</td><td> 96</td><td>2.50</td><td>2.52</td><td>0.30</td><td>1.98</td><td>5.25</td><td>1.02</td><td>3.58</td><td>1290</td></tr>\n",
       "</tbody>\n",
       "</table>\n"
      ],
      "text/latex": [
       "A tibble: 6 × 14\n",
       "\\begin{tabular}{llllllllllllll}\n",
       " class & alcohol & malic.acid & ash & alcalinity.of.ash & magnesium & total.phenols & flavanoids & nonfalvanoid.phenols & proanthocyanins & color.intensity & hue & OD280.OD315.of.diluted.wines & proline\\\\\n",
       " <fct> & <dbl> & <dbl> & <dbl> & <dbl> & <dbl> & <dbl> & <dbl> & <dbl> & <dbl> & <dbl> & <dbl> & <dbl> & <dbl>\\\\\n",
       "\\hline\n",
       "\t 1 & 14.23 & 1.71 & 2.43 & 15.6 & 127 & 2.80 & 3.06 & 0.28 & 2.29 & 5.64 & 1.04 & 3.92 & 1065\\\\\n",
       "\t 1 & 13.20 & 1.78 & 2.14 & 11.2 & 100 & 2.65 & 2.76 & 0.26 & 1.28 & 4.38 & 1.05 & 3.40 & 1050\\\\\n",
       "\t 1 & 13.16 & 2.36 & 2.67 & 18.6 & 101 & 2.80 & 3.24 & 0.30 & 2.81 & 5.68 & 1.03 & 3.17 & 1185\\\\\n",
       "\t 1 & 14.37 & 1.95 & 2.50 & 16.8 & 113 & 3.85 & 3.49 & 0.24 & 2.18 & 7.80 & 0.86 & 3.45 & 1480\\\\\n",
       "\t 1 & 13.24 & 2.59 & 2.87 & 21.0 & 118 & 2.80 & 2.69 & 0.39 & 1.82 & 4.32 & 1.04 & 2.93 &  735\\\\\n",
       "\t 1 & 14.39 & 1.87 & 2.45 & 14.6 &  96 & 2.50 & 2.52 & 0.30 & 1.98 & 5.25 & 1.02 & 3.58 & 1290\\\\\n",
       "\\end{tabular}\n"
      ],
      "text/markdown": [
       "\n",
       "A tibble: 6 × 14\n",
       "\n",
       "| class &lt;fct&gt; | alcohol &lt;dbl&gt; | malic.acid &lt;dbl&gt; | ash &lt;dbl&gt; | alcalinity.of.ash &lt;dbl&gt; | magnesium &lt;dbl&gt; | total.phenols &lt;dbl&gt; | flavanoids &lt;dbl&gt; | nonfalvanoid.phenols &lt;dbl&gt; | proanthocyanins &lt;dbl&gt; | color.intensity &lt;dbl&gt; | hue &lt;dbl&gt; | OD280.OD315.of.diluted.wines &lt;dbl&gt; | proline &lt;dbl&gt; |\n",
       "|---|---|---|---|---|---|---|---|---|---|---|---|---|---|\n",
       "| 1 | 14.23 | 1.71 | 2.43 | 15.6 | 127 | 2.80 | 3.06 | 0.28 | 2.29 | 5.64 | 1.04 | 3.92 | 1065 |\n",
       "| 1 | 13.20 | 1.78 | 2.14 | 11.2 | 100 | 2.65 | 2.76 | 0.26 | 1.28 | 4.38 | 1.05 | 3.40 | 1050 |\n",
       "| 1 | 13.16 | 2.36 | 2.67 | 18.6 | 101 | 2.80 | 3.24 | 0.30 | 2.81 | 5.68 | 1.03 | 3.17 | 1185 |\n",
       "| 1 | 14.37 | 1.95 | 2.50 | 16.8 | 113 | 3.85 | 3.49 | 0.24 | 2.18 | 7.80 | 0.86 | 3.45 | 1480 |\n",
       "| 1 | 13.24 | 2.59 | 2.87 | 21.0 | 118 | 2.80 | 2.69 | 0.39 | 1.82 | 4.32 | 1.04 | 2.93 |  735 |\n",
       "| 1 | 14.39 | 1.87 | 2.45 | 14.6 |  96 | 2.50 | 2.52 | 0.30 | 1.98 | 5.25 | 1.02 | 3.58 | 1290 |\n",
       "\n"
      ],
      "text/plain": [
       "  class alcohol malic.acid ash  alcalinity.of.ash magnesium total.phenols\n",
       "1 1     14.23   1.71       2.43 15.6              127       2.80         \n",
       "2 1     13.20   1.78       2.14 11.2              100       2.65         \n",
       "3 1     13.16   2.36       2.67 18.6              101       2.80         \n",
       "4 1     14.37   1.95       2.50 16.8              113       3.85         \n",
       "5 1     13.24   2.59       2.87 21.0              118       2.80         \n",
       "6 1     14.39   1.87       2.45 14.6               96       2.50         \n",
       "  flavanoids nonfalvanoid.phenols proanthocyanins color.intensity hue \n",
       "1 3.06       0.28                 2.29            5.64            1.04\n",
       "2 2.76       0.26                 1.28            4.38            1.05\n",
       "3 3.24       0.30                 2.81            5.68            1.03\n",
       "4 3.49       0.24                 2.18            7.80            0.86\n",
       "5 2.69       0.39                 1.82            4.32            1.04\n",
       "6 2.52       0.30                 1.98            5.25            1.02\n",
       "  OD280.OD315.of.diluted.wines proline\n",
       "1 3.92                         1065   \n",
       "2 3.40                         1050   \n",
       "3 3.17                         1185   \n",
       "4 3.45                         1480   \n",
       "5 2.93                          735   \n",
       "6 3.58                         1290   "
      ]
     },
     "metadata": {},
     "output_type": "display_data"
    }
   ],
   "source": [
    "head(wine_training)"
   ]
  },
  {
   "cell_type": "markdown",
   "id": "91e37d63-4e9d-493b-a488-a32d98504257",
   "metadata": {},
   "source": [
    "### Creating a model specification"
   ]
  },
  {
   "cell_type": "code",
   "execution_count": 155,
   "id": "00ad48a4-acf4-4adb-a52e-38684386e4f6",
   "metadata": {},
   "outputs": [],
   "source": [
    "knn_spec <- nearest_neighbor(weight_func = \"rectangular\", neighbors = 5) |>\n",
    "    set_engine(\"kknn\") |>\n",
    "    set_mode(\"classification\")"
   ]
  },
  {
   "cell_type": "code",
   "execution_count": 156,
   "id": "73fbf94e-24e3-494e-8c8b-09078a47e173",
   "metadata": {},
   "outputs": [
    {
     "data": {
      "text/plain": [
       "K-Nearest Neighbor Model Specification (classification)\n",
       "\n",
       "Main Arguments:\n",
       "  neighbors = 5\n",
       "  weight_func = rectangular\n",
       "\n",
       "Computational engine: kknn \n"
      ]
     },
     "metadata": {},
     "output_type": "display_data"
    }
   ],
   "source": [
    "knn_spec"
   ]
  },
  {
   "cell_type": "markdown",
   "id": "f4a4cdd7-92bc-4f00-8e5f-622f1c37cb84",
   "metadata": {},
   "source": [
    "## Predict the class of alcohol using the following variables\n",
    "#### 1) alcohol\n",
    "#### 2) malic acid\n",
    "#### 3) proline\n",
    "#### 4) magnesium\n",
    "#### 5) flavanoids\n",
    "#### 6) nonflavenoid phenols"
   ]
  },
  {
   "cell_type": "code",
   "execution_count": 157,
   "id": "1bbe3425-28d7-44b9-b7e7-be77b4d32f22",
   "metadata": {},
   "outputs": [],
   "source": [
    "knn_fit <- knn_spec |>\n",
    "    fit(class ~ alcohol + malic.acid + proline + magnesium + flavanoids + nonfalvanoid.phenols, data = wine_training)"
   ]
  },
  {
   "cell_type": "code",
   "execution_count": 158,
   "id": "5adedc8c-c5a8-4460-b23f-2290220a2790",
   "metadata": {},
   "outputs": [
    {
     "data": {
      "text/plain": [
       "parsnip model object\n",
       "\n",
       "\n",
       "Call:\n",
       "kknn::train.kknn(formula = class ~ alcohol + malic.acid + proline +     magnesium + flavanoids + nonfalvanoid.phenols, data = data,     ks = min_rows(5, data, 5), kernel = ~\"rectangular\")\n",
       "\n",
       "Type of response variable: nominal\n",
       "Minimal misclassification: 0.06015038\n",
       "Best kernel: rectangular\n",
       "Best k: 5"
      ]
     },
     "metadata": {},
     "output_type": "display_data"
    }
   ],
   "source": [
    "knn_fit"
   ]
  },
  {
   "cell_type": "markdown",
   "id": "d5504674-38c1-4af7-9a4b-4febe143cf70",
   "metadata": {},
   "source": [
    "# Implementing cross validation with KNN Classification"
   ]
  },
  {
   "cell_type": "markdown",
   "id": "c1555232-f5af-49aa-becb-46f16dee0928",
   "metadata": {},
   "source": [
    "### Data Preprocessing"
   ]
  },
  {
   "cell_type": "code",
   "execution_count": 159,
   "id": "1204f350-b958-4a41-ab04-095f3afdbe94",
   "metadata": {},
   "outputs": [],
   "source": [
    "unscaled_wine = original_wine_data"
   ]
  },
  {
   "cell_type": "code",
   "execution_count": 160,
   "id": "98ca1e94-cc20-40df-9409-44ad6b87cc06",
   "metadata": {},
   "outputs": [
    {
     "data": {
      "text/html": [
       "<table class=\"dataframe\">\n",
       "<caption>A tibble: 6 × 14</caption>\n",
       "<thead>\n",
       "\t<tr><th scope=col>class</th><th scope=col>alcohol</th><th scope=col>malic.acid</th><th scope=col>ash</th><th scope=col>alcalinity.of.ash</th><th scope=col>magnesium</th><th scope=col>total.phenols</th><th scope=col>flavanoids</th><th scope=col>nonfalvanoid.phenols</th><th scope=col>proanthocyanins</th><th scope=col>color.intensity</th><th scope=col>hue</th><th scope=col>OD280.OD315.of.diluted.wines</th><th scope=col>proline</th></tr>\n",
       "\t<tr><th scope=col>&lt;fct&gt;</th><th scope=col>&lt;dbl&gt;</th><th scope=col>&lt;dbl&gt;</th><th scope=col>&lt;dbl&gt;</th><th scope=col>&lt;dbl&gt;</th><th scope=col>&lt;dbl&gt;</th><th scope=col>&lt;dbl&gt;</th><th scope=col>&lt;dbl&gt;</th><th scope=col>&lt;dbl&gt;</th><th scope=col>&lt;dbl&gt;</th><th scope=col>&lt;dbl&gt;</th><th scope=col>&lt;dbl&gt;</th><th scope=col>&lt;dbl&gt;</th><th scope=col>&lt;dbl&gt;</th></tr>\n",
       "</thead>\n",
       "<tbody>\n",
       "\t<tr><td>1</td><td>14.23</td><td>1.71</td><td>2.43</td><td>15.6</td><td>127</td><td>2.80</td><td>3.06</td><td>0.28</td><td>2.29</td><td>5.64</td><td>1.04</td><td>3.92</td><td>1065</td></tr>\n",
       "\t<tr><td>1</td><td>13.20</td><td>1.78</td><td>2.14</td><td>11.2</td><td>100</td><td>2.65</td><td>2.76</td><td>0.26</td><td>1.28</td><td>4.38</td><td>1.05</td><td>3.40</td><td>1050</td></tr>\n",
       "\t<tr><td>1</td><td>13.16</td><td>2.36</td><td>2.67</td><td>18.6</td><td>101</td><td>2.80</td><td>3.24</td><td>0.30</td><td>2.81</td><td>5.68</td><td>1.03</td><td>3.17</td><td>1185</td></tr>\n",
       "\t<tr><td>1</td><td>14.37</td><td>1.95</td><td>2.50</td><td>16.8</td><td>113</td><td>3.85</td><td>3.49</td><td>0.24</td><td>2.18</td><td>7.80</td><td>0.86</td><td>3.45</td><td>1480</td></tr>\n",
       "\t<tr><td>1</td><td>13.24</td><td>2.59</td><td>2.87</td><td>21.0</td><td>118</td><td>2.80</td><td>2.69</td><td>0.39</td><td>1.82</td><td>4.32</td><td>1.04</td><td>2.93</td><td> 735</td></tr>\n",
       "\t<tr><td>1</td><td>14.20</td><td>1.76</td><td>2.45</td><td>15.2</td><td>112</td><td>3.27</td><td>3.39</td><td>0.34</td><td>1.97</td><td>6.75</td><td>1.05</td><td>2.85</td><td>1450</td></tr>\n",
       "</tbody>\n",
       "</table>\n"
      ],
      "text/latex": [
       "A tibble: 6 × 14\n",
       "\\begin{tabular}{llllllllllllll}\n",
       " class & alcohol & malic.acid & ash & alcalinity.of.ash & magnesium & total.phenols & flavanoids & nonfalvanoid.phenols & proanthocyanins & color.intensity & hue & OD280.OD315.of.diluted.wines & proline\\\\\n",
       " <fct> & <dbl> & <dbl> & <dbl> & <dbl> & <dbl> & <dbl> & <dbl> & <dbl> & <dbl> & <dbl> & <dbl> & <dbl> & <dbl>\\\\\n",
       "\\hline\n",
       "\t 1 & 14.23 & 1.71 & 2.43 & 15.6 & 127 & 2.80 & 3.06 & 0.28 & 2.29 & 5.64 & 1.04 & 3.92 & 1065\\\\\n",
       "\t 1 & 13.20 & 1.78 & 2.14 & 11.2 & 100 & 2.65 & 2.76 & 0.26 & 1.28 & 4.38 & 1.05 & 3.40 & 1050\\\\\n",
       "\t 1 & 13.16 & 2.36 & 2.67 & 18.6 & 101 & 2.80 & 3.24 & 0.30 & 2.81 & 5.68 & 1.03 & 3.17 & 1185\\\\\n",
       "\t 1 & 14.37 & 1.95 & 2.50 & 16.8 & 113 & 3.85 & 3.49 & 0.24 & 2.18 & 7.80 & 0.86 & 3.45 & 1480\\\\\n",
       "\t 1 & 13.24 & 2.59 & 2.87 & 21.0 & 118 & 2.80 & 2.69 & 0.39 & 1.82 & 4.32 & 1.04 & 2.93 &  735\\\\\n",
       "\t 1 & 14.20 & 1.76 & 2.45 & 15.2 & 112 & 3.27 & 3.39 & 0.34 & 1.97 & 6.75 & 1.05 & 2.85 & 1450\\\\\n",
       "\\end{tabular}\n"
      ],
      "text/markdown": [
       "\n",
       "A tibble: 6 × 14\n",
       "\n",
       "| class &lt;fct&gt; | alcohol &lt;dbl&gt; | malic.acid &lt;dbl&gt; | ash &lt;dbl&gt; | alcalinity.of.ash &lt;dbl&gt; | magnesium &lt;dbl&gt; | total.phenols &lt;dbl&gt; | flavanoids &lt;dbl&gt; | nonfalvanoid.phenols &lt;dbl&gt; | proanthocyanins &lt;dbl&gt; | color.intensity &lt;dbl&gt; | hue &lt;dbl&gt; | OD280.OD315.of.diluted.wines &lt;dbl&gt; | proline &lt;dbl&gt; |\n",
       "|---|---|---|---|---|---|---|---|---|---|---|---|---|---|\n",
       "| 1 | 14.23 | 1.71 | 2.43 | 15.6 | 127 | 2.80 | 3.06 | 0.28 | 2.29 | 5.64 | 1.04 | 3.92 | 1065 |\n",
       "| 1 | 13.20 | 1.78 | 2.14 | 11.2 | 100 | 2.65 | 2.76 | 0.26 | 1.28 | 4.38 | 1.05 | 3.40 | 1050 |\n",
       "| 1 | 13.16 | 2.36 | 2.67 | 18.6 | 101 | 2.80 | 3.24 | 0.30 | 2.81 | 5.68 | 1.03 | 3.17 | 1185 |\n",
       "| 1 | 14.37 | 1.95 | 2.50 | 16.8 | 113 | 3.85 | 3.49 | 0.24 | 2.18 | 7.80 | 0.86 | 3.45 | 1480 |\n",
       "| 1 | 13.24 | 2.59 | 2.87 | 21.0 | 118 | 2.80 | 2.69 | 0.39 | 1.82 | 4.32 | 1.04 | 2.93 |  735 |\n",
       "| 1 | 14.20 | 1.76 | 2.45 | 15.2 | 112 | 3.27 | 3.39 | 0.34 | 1.97 | 6.75 | 1.05 | 2.85 | 1450 |\n",
       "\n"
      ],
      "text/plain": [
       "  class alcohol malic.acid ash  alcalinity.of.ash magnesium total.phenols\n",
       "1 1     14.23   1.71       2.43 15.6              127       2.80         \n",
       "2 1     13.20   1.78       2.14 11.2              100       2.65         \n",
       "3 1     13.16   2.36       2.67 18.6              101       2.80         \n",
       "4 1     14.37   1.95       2.50 16.8              113       3.85         \n",
       "5 1     13.24   2.59       2.87 21.0              118       2.80         \n",
       "6 1     14.20   1.76       2.45 15.2              112       3.27         \n",
       "  flavanoids nonfalvanoid.phenols proanthocyanins color.intensity hue \n",
       "1 3.06       0.28                 2.29            5.64            1.04\n",
       "2 2.76       0.26                 1.28            4.38            1.05\n",
       "3 3.24       0.30                 2.81            5.68            1.03\n",
       "4 3.49       0.24                 2.18            7.80            0.86\n",
       "5 2.69       0.39                 1.82            4.32            1.04\n",
       "6 3.39       0.34                 1.97            6.75            1.05\n",
       "  OD280.OD315.of.diluted.wines proline\n",
       "1 3.92                         1065   \n",
       "2 3.40                         1050   \n",
       "3 3.17                         1185   \n",
       "4 3.45                         1480   \n",
       "5 2.93                          735   \n",
       "6 2.85                         1450   "
      ]
     },
     "metadata": {},
     "output_type": "display_data"
    }
   ],
   "source": [
    "head(unscaled_wine)"
   ]
  },
  {
   "cell_type": "code",
   "execution_count": 161,
   "id": "abdac46b-4f7c-44aa-86b9-5cb9a2486f39",
   "metadata": {},
   "outputs": [],
   "source": [
    "unscaled_wine <- unscaled_wine |>\n",
    "    select(class, alcohol, malic.acid, proline, magnesium, flavanoids, nonfalvanoid.phenols)\n"
   ]
  },
  {
   "cell_type": "code",
   "execution_count": 162,
   "id": "f8ff6d77-355b-4ca6-905c-b66cb3120bf8",
   "metadata": {},
   "outputs": [],
   "source": [
    "uc_recipe <- recipe(class ~ alcohol + malic.acid + proline + magnesium + flavanoids + nonfalvanoid.phenols, data = unscaled_wine)"
   ]
  },
  {
   "cell_type": "code",
   "execution_count": 163,
   "id": "b7f857d4-ed72-4db8-b830-20b6c971dbff",
   "metadata": {},
   "outputs": [
    {
     "name": "stdout",
     "output_type": "stream",
     "text": [
      "Recipe\n",
      "\n",
      "Inputs:\n",
      "\n",
      "      role #variables\n",
      "   outcome          1\n",
      " predictor          6\n"
     ]
    }
   ],
   "source": [
    "print(uc_recipe)"
   ]
  },
  {
   "cell_type": "code",
   "execution_count": 164,
   "id": "61ed0fcf-08bb-407c-acef-a81b7af0e71d",
   "metadata": {},
   "outputs": [
    {
     "data": {
      "text/plain": [
       "Recipe\n",
       "\n",
       "Inputs:\n",
       "\n",
       "      role #variables\n",
       "   outcome          1\n",
       " predictor          6\n",
       "\n",
       "Training data contained 178 data points and no missing data.\n",
       "\n",
       "Operations:\n",
       "\n",
       "Scaling for alcohol, malic.acid, proline, magnesium, flavan... [trained]\n",
       "Centering for alcohol, malic.acid, proline, magnesium, flavan... [trained]"
      ]
     },
     "metadata": {},
     "output_type": "display_data"
    }
   ],
   "source": [
    "uc_recipe <- uc_recipe |>\n",
    "    step_scale(all_predictors()) |>\n",
    "    step_center(all_predictors()) |>\n",
    "    prep()\n",
    "uc_recipe"
   ]
  },
  {
   "cell_type": "code",
   "execution_count": 165,
   "id": "ccc6202e-c06d-4960-afe3-335889b88cc1",
   "metadata": {},
   "outputs": [
    {
     "data": {
      "text/html": [
       "<table class=\"dataframe\">\n",
       "<caption>A tibble: 178 × 7</caption>\n",
       "<thead>\n",
       "\t<tr><th scope=col>alcohol</th><th scope=col>malic.acid</th><th scope=col>proline</th><th scope=col>magnesium</th><th scope=col>flavanoids</th><th scope=col>nonfalvanoid.phenols</th><th scope=col>class</th></tr>\n",
       "\t<tr><th scope=col>&lt;dbl&gt;</th><th scope=col>&lt;dbl&gt;</th><th scope=col>&lt;dbl&gt;</th><th scope=col>&lt;dbl&gt;</th><th scope=col>&lt;dbl&gt;</th><th scope=col>&lt;dbl&gt;</th><th scope=col>&lt;fct&gt;</th></tr>\n",
       "</thead>\n",
       "<tbody>\n",
       "\t<tr><td>1.5143408</td><td>-0.56066822</td><td>1.0101594</td><td>1.90852151</td><td>1.0319081</td><td>-0.6577078</td><td>1</td></tr>\n",
       "\t<tr><td>0.2455968</td><td>-0.49800856</td><td>0.9625263</td><td>0.01809398</td><td>0.7315653</td><td>-0.8184106</td><td>1</td></tr>\n",
       "\t<tr><td>0.1963252</td><td> 0.02117152</td><td>1.3912237</td><td>0.08810981</td><td>1.2121137</td><td>-0.4970050</td><td>1</td></tr>\n",
       "\t<tr><td>⋮</td><td>⋮</td><td>⋮</td><td>⋮</td><td>⋮</td><td>⋮</td><td>⋮</td></tr>\n",
       "\t<tr><td>0.3318221</td><td>1.7398366</td><td> 0.2797861</td><td> 1.4184107</td><td>-1.340800</td><td>0.5475632</td><td>3</td></tr>\n",
       "\t<tr><td>0.2086431</td><td>0.2270533</td><td> 0.2956638</td><td> 1.4184107</td><td>-1.350811</td><td>1.3510772</td><td>3</td></tr>\n",
       "\t<tr><td>1.3911617</td><td>1.5787118</td><td>-0.5934863</td><td>-0.2619694</td><td>-1.270720</td><td>1.5921314</td><td>3</td></tr>\n",
       "</tbody>\n",
       "</table>\n"
      ],
      "text/latex": [
       "A tibble: 178 × 7\n",
       "\\begin{tabular}{lllllll}\n",
       " alcohol & malic.acid & proline & magnesium & flavanoids & nonfalvanoid.phenols & class\\\\\n",
       " <dbl> & <dbl> & <dbl> & <dbl> & <dbl> & <dbl> & <fct>\\\\\n",
       "\\hline\n",
       "\t 1.5143408 & -0.56066822 & 1.0101594 & 1.90852151 & 1.0319081 & -0.6577078 & 1\\\\\n",
       "\t 0.2455968 & -0.49800856 & 0.9625263 & 0.01809398 & 0.7315653 & -0.8184106 & 1\\\\\n",
       "\t 0.1963252 &  0.02117152 & 1.3912237 & 0.08810981 & 1.2121137 & -0.4970050 & 1\\\\\n",
       "\t ⋮ & ⋮ & ⋮ & ⋮ & ⋮ & ⋮ & ⋮\\\\\n",
       "\t 0.3318221 & 1.7398366 &  0.2797861 &  1.4184107 & -1.340800 & 0.5475632 & 3\\\\\n",
       "\t 0.2086431 & 0.2270533 &  0.2956638 &  1.4184107 & -1.350811 & 1.3510772 & 3\\\\\n",
       "\t 1.3911617 & 1.5787118 & -0.5934863 & -0.2619694 & -1.270720 & 1.5921314 & 3\\\\\n",
       "\\end{tabular}\n"
      ],
      "text/markdown": [
       "\n",
       "A tibble: 178 × 7\n",
       "\n",
       "| alcohol &lt;dbl&gt; | malic.acid &lt;dbl&gt; | proline &lt;dbl&gt; | magnesium &lt;dbl&gt; | flavanoids &lt;dbl&gt; | nonfalvanoid.phenols &lt;dbl&gt; | class &lt;fct&gt; |\n",
       "|---|---|---|---|---|---|---|\n",
       "| 1.5143408 | -0.56066822 | 1.0101594 | 1.90852151 | 1.0319081 | -0.6577078 | 1 |\n",
       "| 0.2455968 | -0.49800856 | 0.9625263 | 0.01809398 | 0.7315653 | -0.8184106 | 1 |\n",
       "| 0.1963252 |  0.02117152 | 1.3912237 | 0.08810981 | 1.2121137 | -0.4970050 | 1 |\n",
       "| ⋮ | ⋮ | ⋮ | ⋮ | ⋮ | ⋮ | ⋮ |\n",
       "| 0.3318221 | 1.7398366 |  0.2797861 |  1.4184107 | -1.340800 | 0.5475632 | 3 |\n",
       "| 0.2086431 | 0.2270533 |  0.2956638 |  1.4184107 | -1.350811 | 1.3510772 | 3 |\n",
       "| 1.3911617 | 1.5787118 | -0.5934863 | -0.2619694 | -1.270720 | 1.5921314 | 3 |\n",
       "\n"
      ],
      "text/plain": [
       "    alcohol   malic.acid  proline    magnesium  flavanoids nonfalvanoid.phenols\n",
       "1   1.5143408 -0.56066822 1.0101594  1.90852151 1.0319081  -0.6577078          \n",
       "2   0.2455968 -0.49800856 0.9625263  0.01809398 0.7315653  -0.8184106          \n",
       "3   0.1963252  0.02117152 1.3912237  0.08810981 1.2121137  -0.4970050          \n",
       "⋮   ⋮         ⋮           ⋮          ⋮          ⋮          ⋮                   \n",
       "176 0.3318221 1.7398366    0.2797861  1.4184107 -1.340800  0.5475632           \n",
       "177 0.2086431 0.2270533    0.2956638  1.4184107 -1.350811  1.3510772           \n",
       "178 1.3911617 1.5787118   -0.5934863 -0.2619694 -1.270720  1.5921314           \n",
       "    class\n",
       "1   1    \n",
       "2   1    \n",
       "3   1    \n",
       "⋮   ⋮    \n",
       "176 3    \n",
       "177 3    \n",
       "178 3    "
      ]
     },
     "metadata": {},
     "output_type": "display_data"
    }
   ],
   "source": [
    "scaled_wine <- bake(uc_recipe, unscaled_wine)\n",
    "scaled_wine"
   ]
  },
  {
   "cell_type": "code",
   "execution_count": 166,
   "id": "5a5101da-3cdb-4a3e-9273-40391940a370",
   "metadata": {},
   "outputs": [],
   "source": [
    "set.seed(1234)"
   ]
  },
  {
   "cell_type": "markdown",
   "id": "a1ea3415-b9b9-4fba-ab1f-946b328959dd",
   "metadata": {},
   "source": [
    "### View the Traning Data\n"
   ]
  },
  {
   "cell_type": "code",
   "execution_count": 167,
   "id": "1d53e020-d1d5-4977-ae1b-2aae3269e849",
   "metadata": {},
   "outputs": [
    {
     "name": "stdout",
     "output_type": "stream",
     "text": [
      "Rows: 133\n",
      "Columns: 14\n",
      "$ class                        \u001b[3m\u001b[90m<fct>\u001b[39m\u001b[23m 1, 1, 1, 1, 1, 1, 1, 1, 1, 1, 1, 1, 1, 1,…\n",
      "$ alcohol                      \u001b[3m\u001b[90m<dbl>\u001b[39m\u001b[23m 14.23, 13.20, 13.16, 14.37, 13.24, 14.39,…\n",
      "$ malic.acid                   \u001b[3m\u001b[90m<dbl>\u001b[39m\u001b[23m 1.71, 1.78, 2.36, 1.95, 2.59, 1.87, 2.15,…\n",
      "$ ash                          \u001b[3m\u001b[90m<dbl>\u001b[39m\u001b[23m 2.43, 2.14, 2.67, 2.50, 2.87, 2.45, 2.61,…\n",
      "$ alcalinity.of.ash            \u001b[3m\u001b[90m<dbl>\u001b[39m\u001b[23m 15.6, 11.2, 18.6, 16.8, 21.0, 14.6, 17.6,…\n",
      "$ magnesium                    \u001b[3m\u001b[90m<dbl>\u001b[39m\u001b[23m 127, 100, 101, 113, 118, 96, 121, 97, 98,…\n",
      "$ total.phenols                \u001b[3m\u001b[90m<dbl>\u001b[39m\u001b[23m 2.80, 2.65, 2.80, 3.85, 2.80, 2.50, 2.60,…\n",
      "$ flavanoids                   \u001b[3m\u001b[90m<dbl>\u001b[39m\u001b[23m 3.06, 2.76, 3.24, 3.49, 2.69, 2.52, 2.51,…\n",
      "$ nonfalvanoid.phenols         \u001b[3m\u001b[90m<dbl>\u001b[39m\u001b[23m 0.28, 0.26, 0.30, 0.24, 0.39, 0.30, 0.31,…\n",
      "$ proanthocyanins              \u001b[3m\u001b[90m<dbl>\u001b[39m\u001b[23m 2.29, 1.28, 2.81, 2.18, 1.82, 1.98, 1.25,…\n",
      "$ color.intensity              \u001b[3m\u001b[90m<dbl>\u001b[39m\u001b[23m 5.64, 4.38, 5.68, 7.80, 4.32, 5.25, 5.05,…\n",
      "$ hue                          \u001b[3m\u001b[90m<dbl>\u001b[39m\u001b[23m 1.04, 1.05, 1.03, 0.86, 1.04, 1.02, 1.06,…\n",
      "$ OD280.OD315.of.diluted.wines \u001b[3m\u001b[90m<dbl>\u001b[39m\u001b[23m 3.92, 3.40, 3.17, 3.45, 2.93, 3.58, 3.58,…\n",
      "$ proline                      \u001b[3m\u001b[90m<dbl>\u001b[39m\u001b[23m 1065, 1050, 1185, 1480, 735, 1290, 1295, …\n"
     ]
    }
   ],
   "source": [
    "glimpse(wine_training)"
   ]
  },
  {
   "cell_type": "code",
   "execution_count": 168,
   "id": "a7749db1-cc2d-4640-879b-c2f658313212",
   "metadata": {},
   "outputs": [
    {
     "name": "stdout",
     "output_type": "stream",
     "text": [
      "Rows: 45\n",
      "Columns: 14\n",
      "$ class                        \u001b[3m\u001b[90m<fct>\u001b[39m\u001b[23m 1, 1, 1, 1, 1, 1, 1, 1, 1, 1, 1, 1, 1, 1,…\n",
      "$ alcohol                      \u001b[3m\u001b[90m<dbl>\u001b[39m\u001b[23m 14.20, 14.12, 14.38, 13.63, 13.64, 13.68,…\n",
      "$ malic.acid                   \u001b[3m\u001b[90m<dbl>\u001b[39m\u001b[23m 1.76, 1.48, 1.87, 1.81, 3.10, 1.83, 1.81,…\n",
      "$ ash                          \u001b[3m\u001b[90m<dbl>\u001b[39m\u001b[23m 2.45, 2.32, 2.38, 2.70, 2.56, 2.36, 2.41,…\n",
      "$ alcalinity.of.ash            \u001b[3m\u001b[90m<dbl>\u001b[39m\u001b[23m 15.2, 16.8, 12.0, 17.2, 15.2, 17.2, 20.5,…\n",
      "$ magnesium                    \u001b[3m\u001b[90m<dbl>\u001b[39m\u001b[23m 112, 95, 102, 112, 116, 104, 100, 90, 102…\n",
      "$ total.phenols                \u001b[3m\u001b[90m<dbl>\u001b[39m\u001b[23m 3.27, 2.20, 3.30, 2.85, 2.70, 2.42, 2.70,…\n",
      "$ flavanoids                   \u001b[3m\u001b[90m<dbl>\u001b[39m\u001b[23m 3.39, 2.43, 3.64, 2.91, 3.03, 2.69, 2.98,…\n",
      "$ nonfalvanoid.phenols         \u001b[3m\u001b[90m<dbl>\u001b[39m\u001b[23m 0.34, 0.26, 0.29, 0.30, 0.17, 0.42, 0.26,…\n",
      "$ proanthocyanins              \u001b[3m\u001b[90m<dbl>\u001b[39m\u001b[23m 1.97, 1.57, 2.96, 1.46, 1.66, 1.97, 1.86,…\n",
      "$ color.intensity              \u001b[3m\u001b[90m<dbl>\u001b[39m\u001b[23m 6.75, 5.00, 7.50, 7.30, 5.10, 3.84, 5.10,…\n",
      "$ hue                          \u001b[3m\u001b[90m<dbl>\u001b[39m\u001b[23m 1.05, 1.17, 1.20, 1.28, 0.96, 1.23, 1.04,…\n",
      "$ OD280.OD315.of.diluted.wines \u001b[3m\u001b[90m<dbl>\u001b[39m\u001b[23m 2.85, 2.82, 3.00, 2.88, 3.36, 2.87, 3.47,…\n",
      "$ proline                      \u001b[3m\u001b[90m<dbl>\u001b[39m\u001b[23m 1450, 1280, 1547, 1310, 845, 990, 920, 10…\n"
     ]
    }
   ],
   "source": [
    "glimpse(wine_testing)"
   ]
  },
  {
   "cell_type": "code",
   "execution_count": 169,
   "id": "948c82a6-63f8-4887-a13a-26b017f5453b",
   "metadata": {},
   "outputs": [],
   "source": [
    "wine_recipe <- recipe(class ~ alcohol + malic.acid + proline + magnesium + flavanoids + nonfalvanoid.phenols, data = original_wine_data)|>\n",
    "                step_scale(all_predictors()) |>\n",
    "                step_center(all_predictors())\n",
    "                "
   ]
  },
  {
   "cell_type": "code",
   "execution_count": 170,
   "id": "34296a4d-3865-4f73-b000-24916b489ff1",
   "metadata": {},
   "outputs": [
    {
     "data": {
      "text/plain": [
       "══ Workflow [trained] ══════════════════════════════════════════════════════════\n",
       "\u001b[3mPreprocessor:\u001b[23m Recipe\n",
       "\u001b[3mModel:\u001b[23m nearest_neighbor()\n",
       "\n",
       "── Preprocessor ────────────────────────────────────────────────────────────────\n",
       "2 Recipe Steps\n",
       "\n",
       "• step_scale()\n",
       "• step_center()\n",
       "\n",
       "── Model ───────────────────────────────────────────────────────────────────────\n",
       "\n",
       "Call:\n",
       "kknn::train.kknn(formula = ..y ~ ., data = data, ks = min_rows(3,     data, 5), kernel = ~\"rectangular\")\n",
       "\n",
       "Type of response variable: nominal\n",
       "Minimal misclassification: 0.05263158\n",
       "Best kernel: rectangular\n",
       "Best k: 3"
      ]
     },
     "metadata": {},
     "output_type": "display_data"
    }
   ],
   "source": [
    "knn_spec <- nearest_neighbor(weight_func = \"rectangular\", neighbors = 3) |>\n",
    "  set_engine(\"kknn\") |>\n",
    "  set_mode(\"classification\")\n",
    "\n",
    "knn_fit <- workflow() |>\n",
    "  add_recipe(wine_recipe) |>\n",
    "  add_model(knn_spec) |>\n",
    "  fit(data = wine_training)\n",
    "\n",
    "knn_fit"
   ]
  },
  {
   "cell_type": "code",
   "execution_count": 171,
   "id": "814e4ddd-bbe1-4479-9d0f-21bcf1b9df35",
   "metadata": {},
   "outputs": [
    {
     "data": {
      "text/html": [
       "<table class=\"dataframe\">\n",
       "<caption>A tibble: 45 × 15</caption>\n",
       "<thead>\n",
       "\t<tr><th scope=col>.pred_class</th><th scope=col>class</th><th scope=col>alcohol</th><th scope=col>malic.acid</th><th scope=col>ash</th><th scope=col>alcalinity.of.ash</th><th scope=col>magnesium</th><th scope=col>total.phenols</th><th scope=col>flavanoids</th><th scope=col>nonfalvanoid.phenols</th><th scope=col>proanthocyanins</th><th scope=col>color.intensity</th><th scope=col>hue</th><th scope=col>OD280.OD315.of.diluted.wines</th><th scope=col>proline</th></tr>\n",
       "\t<tr><th scope=col>&lt;fct&gt;</th><th scope=col>&lt;fct&gt;</th><th scope=col>&lt;dbl&gt;</th><th scope=col>&lt;dbl&gt;</th><th scope=col>&lt;dbl&gt;</th><th scope=col>&lt;dbl&gt;</th><th scope=col>&lt;dbl&gt;</th><th scope=col>&lt;dbl&gt;</th><th scope=col>&lt;dbl&gt;</th><th scope=col>&lt;dbl&gt;</th><th scope=col>&lt;dbl&gt;</th><th scope=col>&lt;dbl&gt;</th><th scope=col>&lt;dbl&gt;</th><th scope=col>&lt;dbl&gt;</th><th scope=col>&lt;dbl&gt;</th></tr>\n",
       "</thead>\n",
       "<tbody>\n",
       "\t<tr><td>1</td><td>1</td><td>14.20</td><td>1.76</td><td>2.45</td><td>15.2</td><td>112</td><td>3.27</td><td>3.39</td><td>0.34</td><td>1.97</td><td>6.75</td><td>1.05</td><td>2.85</td><td>1450</td></tr>\n",
       "\t<tr><td>1</td><td>1</td><td>14.12</td><td>1.48</td><td>2.32</td><td>16.8</td><td> 95</td><td>2.20</td><td>2.43</td><td>0.26</td><td>1.57</td><td>5.00</td><td>1.17</td><td>2.82</td><td>1280</td></tr>\n",
       "\t<tr><td>1</td><td>1</td><td>14.38</td><td>1.87</td><td>2.38</td><td>12.0</td><td>102</td><td>3.30</td><td>3.64</td><td>0.29</td><td>2.96</td><td>7.50</td><td>1.20</td><td>3.00</td><td>1547</td></tr>\n",
       "\t<tr><td>⋮</td><td>⋮</td><td>⋮</td><td>⋮</td><td>⋮</td><td>⋮</td><td>⋮</td><td>⋮</td><td>⋮</td><td>⋮</td><td>⋮</td><td>⋮</td><td>⋮</td><td>⋮</td><td>⋮</td></tr>\n",
       "\t<tr><td>3</td><td>3</td><td>12.82</td><td>3.37</td><td>2.30</td><td>19.5</td><td> 88</td><td>1.48</td><td>0.66</td><td>0.40</td><td>0.97</td><td>10.26</td><td>0.72</td><td>1.75</td><td>685</td></tr>\n",
       "\t<tr><td>3</td><td>3</td><td>14.16</td><td>2.51</td><td>2.48</td><td>20.0</td><td> 91</td><td>1.68</td><td>0.70</td><td>0.44</td><td>1.24</td><td> 9.70</td><td>0.62</td><td>1.71</td><td>660</td></tr>\n",
       "\t<tr><td>3</td><td>3</td><td>13.27</td><td>4.28</td><td>2.26</td><td>20.0</td><td>120</td><td>1.59</td><td>0.69</td><td>0.43</td><td>1.35</td><td>10.20</td><td>0.59</td><td>1.56</td><td>835</td></tr>\n",
       "</tbody>\n",
       "</table>\n"
      ],
      "text/latex": [
       "A tibble: 45 × 15\n",
       "\\begin{tabular}{lllllllllllllll}\n",
       " .pred\\_class & class & alcohol & malic.acid & ash & alcalinity.of.ash & magnesium & total.phenols & flavanoids & nonfalvanoid.phenols & proanthocyanins & color.intensity & hue & OD280.OD315.of.diluted.wines & proline\\\\\n",
       " <fct> & <fct> & <dbl> & <dbl> & <dbl> & <dbl> & <dbl> & <dbl> & <dbl> & <dbl> & <dbl> & <dbl> & <dbl> & <dbl> & <dbl>\\\\\n",
       "\\hline\n",
       "\t 1 & 1 & 14.20 & 1.76 & 2.45 & 15.2 & 112 & 3.27 & 3.39 & 0.34 & 1.97 & 6.75 & 1.05 & 2.85 & 1450\\\\\n",
       "\t 1 & 1 & 14.12 & 1.48 & 2.32 & 16.8 &  95 & 2.20 & 2.43 & 0.26 & 1.57 & 5.00 & 1.17 & 2.82 & 1280\\\\\n",
       "\t 1 & 1 & 14.38 & 1.87 & 2.38 & 12.0 & 102 & 3.30 & 3.64 & 0.29 & 2.96 & 7.50 & 1.20 & 3.00 & 1547\\\\\n",
       "\t ⋮ & ⋮ & ⋮ & ⋮ & ⋮ & ⋮ & ⋮ & ⋮ & ⋮ & ⋮ & ⋮ & ⋮ & ⋮ & ⋮ & ⋮\\\\\n",
       "\t 3 & 3 & 12.82 & 3.37 & 2.30 & 19.5 &  88 & 1.48 & 0.66 & 0.40 & 0.97 & 10.26 & 0.72 & 1.75 & 685\\\\\n",
       "\t 3 & 3 & 14.16 & 2.51 & 2.48 & 20.0 &  91 & 1.68 & 0.70 & 0.44 & 1.24 &  9.70 & 0.62 & 1.71 & 660\\\\\n",
       "\t 3 & 3 & 13.27 & 4.28 & 2.26 & 20.0 & 120 & 1.59 & 0.69 & 0.43 & 1.35 & 10.20 & 0.59 & 1.56 & 835\\\\\n",
       "\\end{tabular}\n"
      ],
      "text/markdown": [
       "\n",
       "A tibble: 45 × 15\n",
       "\n",
       "| .pred_class &lt;fct&gt; | class &lt;fct&gt; | alcohol &lt;dbl&gt; | malic.acid &lt;dbl&gt; | ash &lt;dbl&gt; | alcalinity.of.ash &lt;dbl&gt; | magnesium &lt;dbl&gt; | total.phenols &lt;dbl&gt; | flavanoids &lt;dbl&gt; | nonfalvanoid.phenols &lt;dbl&gt; | proanthocyanins &lt;dbl&gt; | color.intensity &lt;dbl&gt; | hue &lt;dbl&gt; | OD280.OD315.of.diluted.wines &lt;dbl&gt; | proline &lt;dbl&gt; |\n",
       "|---|---|---|---|---|---|---|---|---|---|---|---|---|---|---|\n",
       "| 1 | 1 | 14.20 | 1.76 | 2.45 | 15.2 | 112 | 3.27 | 3.39 | 0.34 | 1.97 | 6.75 | 1.05 | 2.85 | 1450 |\n",
       "| 1 | 1 | 14.12 | 1.48 | 2.32 | 16.8 |  95 | 2.20 | 2.43 | 0.26 | 1.57 | 5.00 | 1.17 | 2.82 | 1280 |\n",
       "| 1 | 1 | 14.38 | 1.87 | 2.38 | 12.0 | 102 | 3.30 | 3.64 | 0.29 | 2.96 | 7.50 | 1.20 | 3.00 | 1547 |\n",
       "| ⋮ | ⋮ | ⋮ | ⋮ | ⋮ | ⋮ | ⋮ | ⋮ | ⋮ | ⋮ | ⋮ | ⋮ | ⋮ | ⋮ | ⋮ |\n",
       "| 3 | 3 | 12.82 | 3.37 | 2.30 | 19.5 |  88 | 1.48 | 0.66 | 0.40 | 0.97 | 10.26 | 0.72 | 1.75 | 685 |\n",
       "| 3 | 3 | 14.16 | 2.51 | 2.48 | 20.0 |  91 | 1.68 | 0.70 | 0.44 | 1.24 |  9.70 | 0.62 | 1.71 | 660 |\n",
       "| 3 | 3 | 13.27 | 4.28 | 2.26 | 20.0 | 120 | 1.59 | 0.69 | 0.43 | 1.35 | 10.20 | 0.59 | 1.56 | 835 |\n",
       "\n"
      ],
      "text/plain": [
       "   .pred_class class alcohol malic.acid ash  alcalinity.of.ash magnesium\n",
       "1  1           1     14.20   1.76       2.45 15.2              112      \n",
       "2  1           1     14.12   1.48       2.32 16.8               95      \n",
       "3  1           1     14.38   1.87       2.38 12.0              102      \n",
       "⋮  ⋮           ⋮     ⋮       ⋮          ⋮    ⋮                 ⋮        \n",
       "43 3           3     12.82   3.37       2.30 19.5               88      \n",
       "44 3           3     14.16   2.51       2.48 20.0               91      \n",
       "45 3           3     13.27   4.28       2.26 20.0              120      \n",
       "   total.phenols flavanoids nonfalvanoid.phenols proanthocyanins\n",
       "1  3.27          3.39       0.34                 1.97           \n",
       "2  2.20          2.43       0.26                 1.57           \n",
       "3  3.30          3.64       0.29                 2.96           \n",
       "⋮  ⋮             ⋮          ⋮                    ⋮              \n",
       "43 1.48          0.66       0.40                 0.97           \n",
       "44 1.68          0.70       0.44                 1.24           \n",
       "45 1.59          0.69       0.43                 1.35           \n",
       "   color.intensity hue  OD280.OD315.of.diluted.wines proline\n",
       "1  6.75            1.05 2.85                         1450   \n",
       "2  5.00            1.17 2.82                         1280   \n",
       "3  7.50            1.20 3.00                         1547   \n",
       "⋮  ⋮               ⋮    ⋮                            ⋮      \n",
       "43 10.26           0.72 1.75                         685    \n",
       "44  9.70           0.62 1.71                         660    \n",
       "45 10.20           0.59 1.56                         835    "
      ]
     },
     "metadata": {},
     "output_type": "display_data"
    }
   ],
   "source": [
    "wine_test_predictions <- predict(knn_fit, wine_testing) |>\n",
    "    bind_cols(wine_testing)\n",
    "\n",
    "wine_test_predictions"
   ]
  },
  {
   "cell_type": "code",
   "execution_count": 172,
   "id": "14952bcf-4b3d-44b3-a6ce-c46b71178bd9",
   "metadata": {},
   "outputs": [
    {
     "data": {
      "text/html": [
       "<table class=\"dataframe\">\n",
       "<caption>A tibble: 1 × 3</caption>\n",
       "<thead>\n",
       "\t<tr><th scope=col>.metric</th><th scope=col>.estimator</th><th scope=col>.estimate</th></tr>\n",
       "\t<tr><th scope=col>&lt;chr&gt;</th><th scope=col>&lt;chr&gt;</th><th scope=col>&lt;dbl&gt;</th></tr>\n",
       "</thead>\n",
       "<tbody>\n",
       "\t<tr><td>accuracy</td><td>multiclass</td><td>0.9111111</td></tr>\n",
       "</tbody>\n",
       "</table>\n"
      ],
      "text/latex": [
       "A tibble: 1 × 3\n",
       "\\begin{tabular}{lll}\n",
       " .metric & .estimator & .estimate\\\\\n",
       " <chr> & <chr> & <dbl>\\\\\n",
       "\\hline\n",
       "\t accuracy & multiclass & 0.9111111\\\\\n",
       "\\end{tabular}\n"
      ],
      "text/markdown": [
       "\n",
       "A tibble: 1 × 3\n",
       "\n",
       "| .metric &lt;chr&gt; | .estimator &lt;chr&gt; | .estimate &lt;dbl&gt; |\n",
       "|---|---|---|\n",
       "| accuracy | multiclass | 0.9111111 |\n",
       "\n"
      ],
      "text/plain": [
       "  .metric  .estimator .estimate\n",
       "1 accuracy multiclass 0.9111111"
      ]
     },
     "metadata": {},
     "output_type": "display_data"
    }
   ],
   "source": [
    "wine_test_predictions |>\n",
    "    metrics(truth = class, estimate = .pred_class) |>\n",
    "    filter(.metric == \"accuracy\")"
   ]
  },
  {
   "cell_type": "code",
   "execution_count": 173,
   "id": "44d35023-28a5-4669-83bc-ff4d93615dad",
   "metadata": {},
   "outputs": [],
   "source": [
    "confusion <- wine_test_predictions |>\n",
    "    conf_mat(truth = class, estimate = .pred_class)"
   ]
  },
  {
   "cell_type": "code",
   "execution_count": 174,
   "id": "6b4e4920-c9d9-41df-825a-46db1b3533cd",
   "metadata": {},
   "outputs": [
    {
     "data": {
      "text/plain": [
       "          Truth\n",
       "Prediction  1  2  3\n",
       "         1 15  0  0\n",
       "         2  0 15  1\n",
       "         3  0  3 11"
      ]
     },
     "metadata": {},
     "output_type": "display_data"
    }
   ],
   "source": [
    "confusion"
   ]
  },
  {
   "cell_type": "markdown",
   "id": "1e31dfc9-e7b8-447e-838d-a29e47e8d187",
   "metadata": {},
   "source": [
    "### Cross Validation"
   ]
  },
  {
   "cell_type": "code",
   "execution_count": 175,
   "id": "a0a4da5f-8ec9-4013-9d48-f67d59ba9425",
   "metadata": {},
   "outputs": [],
   "source": [
    "wine_split <- initial_split(wine_training, prop = 0.80, strata = class)\n",
    "wine_subtrain <- training(wine_split)\n",
    "wine_validation <- testing(wine_split)"
   ]
  },
  {
   "cell_type": "code",
   "execution_count": 176,
   "id": "1b05b614-73b6-4cd9-a2b9-92bd0fb59d1c",
   "metadata": {},
   "outputs": [],
   "source": [
    "wine_recipe <- recipe(class ~ alcohol + malic.acid + proline + magnesium + flavanoids + nonfalvanoid.phenols , data = wine_subtrain) |>\n",
    "    step_scale(all_predictors()) |>\n",
    "    step_center(all_predictors())"
   ]
  },
  {
   "cell_type": "code",
   "execution_count": 177,
   "id": "50a7bff1-868e-4808-98d6-ce1c35c73991",
   "metadata": {},
   "outputs": [],
   "source": [
    "knn_fit <- workflow() |>\n",
    "    add_recipe(wine_recipe) |>\n",
    "    add_model(knn_spec) |>\n",
    "    fit(data = wine_subtrain)"
   ]
  },
  {
   "cell_type": "code",
   "execution_count": 178,
   "id": "80121976-1261-4712-84f8-5ac8d442d6c6",
   "metadata": {},
   "outputs": [],
   "source": [
    "validation_predicted <- predict(knn_fit, wine_validation) |>\n",
    "    bind_cols(wine_validation)"
   ]
  },
  {
   "cell_type": "code",
   "execution_count": 179,
   "id": "03947e13-d46b-4877-b688-72170edb19de",
   "metadata": {},
   "outputs": [
    {
     "data": {
      "text/html": [
       "0.928571428571429"
      ],
      "text/latex": [
       "0.928571428571429"
      ],
      "text/markdown": [
       "0.928571428571429"
      ],
      "text/plain": [
       "[1] 0.9285714"
      ]
     },
     "metadata": {},
     "output_type": "display_data"
    }
   ],
   "source": [
    "acc <- validation_predicted |>\n",
    "    metrics(truth = class, estimate = .pred_class) |>\n",
    "    filter(.metric == \"accuracy\") |>\n",
    "    select(.estimate) |>\n",
    "    pull()\n",
    "\n",
    "acc"
   ]
  },
  {
   "cell_type": "code",
   "execution_count": 180,
   "id": "d3a736ca-071e-46ad-a4a7-a950520aa129",
   "metadata": {},
   "outputs": [],
   "source": [
    "wine_vfold <- vfold_cv(wine_training, v = 10, strata = class)"
   ]
  },
  {
   "cell_type": "code",
   "execution_count": 182,
   "id": "7ffbc82f-6e7c-422e-b877-d9c310aa8eb8",
   "metadata": {},
   "outputs": [],
   "source": [
    "knn_results <- workflow() |>\n",
    "  add_recipe(wine_recipe) |>\n",
    "  add_model(knn_spec) |>\n",
    "  fit_resamples(resamples = wine_vfold) |>\n",
    "  collect_metrics() \n"
   ]
  },
  {
   "cell_type": "code",
   "execution_count": 184,
   "id": "a9ed733d-78a9-4cfc-8cf0-ade12e6dfc2b",
   "metadata": {},
   "outputs": [
    {
     "data": {
      "text/html": [
       "<table class=\"dataframe\">\n",
       "<caption>A tibble: 2 × 6</caption>\n",
       "<thead>\n",
       "\t<tr><th scope=col>.metric</th><th scope=col>.estimator</th><th scope=col>mean</th><th scope=col>n</th><th scope=col>std_err</th><th scope=col>.config</th></tr>\n",
       "\t<tr><th scope=col>&lt;chr&gt;</th><th scope=col>&lt;chr&gt;</th><th scope=col>&lt;dbl&gt;</th><th scope=col>&lt;int&gt;</th><th scope=col>&lt;dbl&gt;</th><th scope=col>&lt;chr&gt;</th></tr>\n",
       "</thead>\n",
       "<tbody>\n",
       "\t<tr><td>accuracy</td><td>multiclass</td><td>0.9439744</td><td>10</td><td>0.017506821</td><td>Preprocessor1_Model1</td></tr>\n",
       "\t<tr><td>roc_auc </td><td>hand_till </td><td>0.9915278</td><td>10</td><td>0.005440357</td><td>Preprocessor1_Model1</td></tr>\n",
       "</tbody>\n",
       "</table>\n"
      ],
      "text/latex": [
       "A tibble: 2 × 6\n",
       "\\begin{tabular}{llllll}\n",
       " .metric & .estimator & mean & n & std\\_err & .config\\\\\n",
       " <chr> & <chr> & <dbl> & <int> & <dbl> & <chr>\\\\\n",
       "\\hline\n",
       "\t accuracy & multiclass & 0.9439744 & 10 & 0.017506821 & Preprocessor1\\_Model1\\\\\n",
       "\t roc\\_auc  & hand\\_till  & 0.9915278 & 10 & 0.005440357 & Preprocessor1\\_Model1\\\\\n",
       "\\end{tabular}\n"
      ],
      "text/markdown": [
       "\n",
       "A tibble: 2 × 6\n",
       "\n",
       "| .metric &lt;chr&gt; | .estimator &lt;chr&gt; | mean &lt;dbl&gt; | n &lt;int&gt; | std_err &lt;dbl&gt; | .config &lt;chr&gt; |\n",
       "|---|---|---|---|---|---|\n",
       "| accuracy | multiclass | 0.9439744 | 10 | 0.017506821 | Preprocessor1_Model1 |\n",
       "| roc_auc  | hand_till  | 0.9915278 | 10 | 0.005440357 | Preprocessor1_Model1 |\n",
       "\n"
      ],
      "text/plain": [
       "  .metric  .estimator mean      n  std_err     .config             \n",
       "1 accuracy multiclass 0.9439744 10 0.017506821 Preprocessor1_Model1\n",
       "2 roc_auc  hand_till  0.9915278 10 0.005440357 Preprocessor1_Model1"
      ]
     },
     "metadata": {},
     "output_type": "display_data"
    }
   ],
   "source": [
    "knn_results "
   ]
  },
  {
   "cell_type": "markdown",
   "id": "cd940563-907e-47fe-a994-77810507d2fb",
   "metadata": {},
   "source": [
    "# Cross validation 50 "
   ]
  },
  {
   "cell_type": "code",
   "execution_count": 185,
   "id": "74cad6ae-ede5-4708-904e-d64f4164b43f",
   "metadata": {},
   "outputs": [
    {
     "name": "stderr",
     "output_type": "stream",
     "text": [
      "\u001b[33m!\u001b[39m \u001b[33mFold37: internal:\n",
      "  No observations were detected in `truth` for level(s): '3'\n",
      "  Computation will proceed by ignoring those levels.\u001b[39m\n",
      "\n",
      "\u001b[33m!\u001b[39m \u001b[33mFold38: internal:\n",
      "  No observations were detected in `truth` for level(s): '3'\n",
      "  Computation will proceed by ignoring those levels.\u001b[39m\n",
      "\n",
      "\u001b[33m!\u001b[39m \u001b[33mFold39: internal:\n",
      "  No observations were detected in `truth` for level(s): '3'\n",
      "  Computation will proceed by ignoring those levels.\u001b[39m\n",
      "\n",
      "\u001b[33m!\u001b[39m \u001b[33mFold40: internal:\n",
      "  No observations were detected in `truth` for level(s): '3'\n",
      "  Computation will proceed by ignoring those levels.\u001b[39m\n",
      "\n",
      "\u001b[33m!\u001b[39m \u001b[33mFold41: internal:\n",
      "  No observations were detected in `truth` for level(s): '3'\n",
      "  Computation will proceed by ignoring those levels.\u001b[39m\n",
      "\n",
      "\u001b[33m!\u001b[39m \u001b[33mFold42: internal:\n",
      "  No observations were detected in `truth` for level(s): '3'\n",
      "  Computation will proceed by ignoring those levels.\u001b[39m\n",
      "\n",
      "\u001b[33m!\u001b[39m \u001b[33mFold43: internal:\n",
      "  No observations were detected in `truth` for level(s): '3'\n",
      "  Computation will proceed by ignoring those levels.\u001b[39m\n",
      "\n",
      "\u001b[33m!\u001b[39m \u001b[33mFold44: internal:\n",
      "  No observations were detected in `truth` for level(s): '3'\n",
      "  Computation will proceed by ignoring those levels.\u001b[39m\n",
      "\n",
      "\u001b[33m!\u001b[39m \u001b[33mFold45: internal:\n",
      "  No observations were detected in `truth` for level(s): '1', '3'\n",
      "  Computation will proceed by ignoring those levels.\u001b[39m\n",
      "\n",
      "\u001b[33m!\u001b[39m \u001b[33mFold46: internal:\n",
      "  No observations were detected in `truth` for level(s): '1', '3'\n",
      "  Computation will proceed by ignoring those levels.\u001b[39m\n",
      "\n",
      "\u001b[33m!\u001b[39m \u001b[33mFold47: internal:\n",
      "  No observations were detected in `truth` for level(s): '1', '3'\n",
      "  Computation will proceed by ignoring those levels.\u001b[39m\n",
      "\n",
      "\u001b[33m!\u001b[39m \u001b[33mFold48: internal:\n",
      "  No observations were detected in `truth` for level(s): '1', '3'\n",
      "  Computation will proceed by ignoring those levels.\u001b[39m\n",
      "\n",
      "\u001b[33m!\u001b[39m \u001b[33mFold49: internal:\n",
      "  No observations were detected in `truth` for level(s): '1', '3'\n",
      "  Computation will proceed by ignoring those levels.\u001b[39m\n",
      "\n",
      "\u001b[33m!\u001b[39m \u001b[33mFold50: internal:\n",
      "  No observations were detected in `truth` for level(s): '1', '3'\n",
      "  Computation will proceed by ignoring those levels.\u001b[39m\n",
      "\n"
     ]
    }
   ],
   "source": [
    "wine_vfold50 <- vfold_cv(wine_training, v = 50, strata = class)\n",
    "\n",
    "vfold_metrics50 <- workflow() |>\n",
    "    add_recipe(wine_recipe) |>\n",
    "    add_model(knn_spec) |>\n",
    "    fit_resamples(resamples = wine_vfold50)"
   ]
  },
  {
   "cell_type": "code",
   "execution_count": 186,
   "id": "ec0e4b38-85d3-4a59-a15e-81dd2f91a79c",
   "metadata": {},
   "outputs": [],
   "source": [
    "knn_spec <- nearest_neighbor(weight_func = \"rectangular\", \n",
    "                            neighbors = tune()) |>\n",
    "    set_engine(\"kknn\") |>\n",
    "    set_mode(\"classification\")"
   ]
  },
  {
   "cell_type": "code",
   "execution_count": 187,
   "id": "0b814b7e-de05-4c06-979d-f0ff9fbafa56",
   "metadata": {},
   "outputs": [],
   "source": [
    "k_values <- tibble(neighbors = seq(from = 1, to = 50, by = 5))"
   ]
  },
  {
   "cell_type": "code",
   "execution_count": 188,
   "id": "78e34d71-4dd7-40d5-8f2d-f75f1004350d",
   "metadata": {},
   "outputs": [
    {
     "data": {
      "text/html": [
       "<table class=\"dataframe\">\n",
       "<caption>A tibble: 10 × 7</caption>\n",
       "<thead>\n",
       "\t<tr><th scope=col>neighbors</th><th scope=col>.metric</th><th scope=col>.estimator</th><th scope=col>mean</th><th scope=col>n</th><th scope=col>std_err</th><th scope=col>.config</th></tr>\n",
       "\t<tr><th scope=col>&lt;dbl&gt;</th><th scope=col>&lt;chr&gt;</th><th scope=col>&lt;chr&gt;</th><th scope=col>&lt;dbl&gt;</th><th scope=col>&lt;int&gt;</th><th scope=col>&lt;dbl&gt;</th><th scope=col>&lt;chr&gt;</th></tr>\n",
       "</thead>\n",
       "<tbody>\n",
       "\t<tr><td> 1</td><td>accuracy</td><td>multiclass</td><td>0.9223077</td><td>10</td><td>0.01774323</td><td>Preprocessor1_Model01</td></tr>\n",
       "\t<tr><td> 6</td><td>accuracy</td><td>multiclass</td><td>0.9506410</td><td>10</td><td>0.02537343</td><td>Preprocessor1_Model02</td></tr>\n",
       "\t<tr><td>11</td><td>accuracy</td><td>multiclass</td><td>0.9073077</td><td>10</td><td>0.02575973</td><td>Preprocessor1_Model03</td></tr>\n",
       "\t<tr><td>⋮</td><td>⋮</td><td>⋮</td><td>⋮</td><td>⋮</td><td>⋮</td><td>⋮</td></tr>\n",
       "\t<tr><td>36</td><td>accuracy</td><td>multiclass</td><td>0.8941392</td><td>10</td><td>0.02822638</td><td>Preprocessor1_Model08</td></tr>\n",
       "\t<tr><td>41</td><td>accuracy</td><td>multiclass</td><td>0.8941392</td><td>10</td><td>0.02822638</td><td>Preprocessor1_Model09</td></tr>\n",
       "\t<tr><td>46</td><td>accuracy</td><td>multiclass</td><td>0.8858059</td><td>10</td><td>0.03128540</td><td>Preprocessor1_Model10</td></tr>\n",
       "</tbody>\n",
       "</table>\n"
      ],
      "text/latex": [
       "A tibble: 10 × 7\n",
       "\\begin{tabular}{lllllll}\n",
       " neighbors & .metric & .estimator & mean & n & std\\_err & .config\\\\\n",
       " <dbl> & <chr> & <chr> & <dbl> & <int> & <dbl> & <chr>\\\\\n",
       "\\hline\n",
       "\t  1 & accuracy & multiclass & 0.9223077 & 10 & 0.01774323 & Preprocessor1\\_Model01\\\\\n",
       "\t  6 & accuracy & multiclass & 0.9506410 & 10 & 0.02537343 & Preprocessor1\\_Model02\\\\\n",
       "\t 11 & accuracy & multiclass & 0.9073077 & 10 & 0.02575973 & Preprocessor1\\_Model03\\\\\n",
       "\t ⋮ & ⋮ & ⋮ & ⋮ & ⋮ & ⋮ & ⋮\\\\\n",
       "\t 36 & accuracy & multiclass & 0.8941392 & 10 & 0.02822638 & Preprocessor1\\_Model08\\\\\n",
       "\t 41 & accuracy & multiclass & 0.8941392 & 10 & 0.02822638 & Preprocessor1\\_Model09\\\\\n",
       "\t 46 & accuracy & multiclass & 0.8858059 & 10 & 0.03128540 & Preprocessor1\\_Model10\\\\\n",
       "\\end{tabular}\n"
      ],
      "text/markdown": [
       "\n",
       "A tibble: 10 × 7\n",
       "\n",
       "| neighbors &lt;dbl&gt; | .metric &lt;chr&gt; | .estimator &lt;chr&gt; | mean &lt;dbl&gt; | n &lt;int&gt; | std_err &lt;dbl&gt; | .config &lt;chr&gt; |\n",
       "|---|---|---|---|---|---|---|\n",
       "|  1 | accuracy | multiclass | 0.9223077 | 10 | 0.01774323 | Preprocessor1_Model01 |\n",
       "|  6 | accuracy | multiclass | 0.9506410 | 10 | 0.02537343 | Preprocessor1_Model02 |\n",
       "| 11 | accuracy | multiclass | 0.9073077 | 10 | 0.02575973 | Preprocessor1_Model03 |\n",
       "| ⋮ | ⋮ | ⋮ | ⋮ | ⋮ | ⋮ | ⋮ |\n",
       "| 36 | accuracy | multiclass | 0.8941392 | 10 | 0.02822638 | Preprocessor1_Model08 |\n",
       "| 41 | accuracy | multiclass | 0.8941392 | 10 | 0.02822638 | Preprocessor1_Model09 |\n",
       "| 46 | accuracy | multiclass | 0.8858059 | 10 | 0.03128540 | Preprocessor1_Model10 |\n",
       "\n"
      ],
      "text/plain": [
       "   neighbors .metric  .estimator mean      n  std_err    .config              \n",
       "1   1        accuracy multiclass 0.9223077 10 0.01774323 Preprocessor1_Model01\n",
       "2   6        accuracy multiclass 0.9506410 10 0.02537343 Preprocessor1_Model02\n",
       "3  11        accuracy multiclass 0.9073077 10 0.02575973 Preprocessor1_Model03\n",
       "⋮  ⋮         ⋮        ⋮          ⋮         ⋮  ⋮          ⋮                    \n",
       "8  36        accuracy multiclass 0.8941392 10 0.02822638 Preprocessor1_Model08\n",
       "9  41        accuracy multiclass 0.8941392 10 0.02822638 Preprocessor1_Model09\n",
       "10 46        accuracy multiclass 0.8858059 10 0.03128540 Preprocessor1_Model10"
      ]
     },
     "metadata": {},
     "output_type": "display_data"
    }
   ],
   "source": [
    "knn_results <- workflow() |>\n",
    "  add_recipe(wine_recipe) |>\n",
    "  add_model(knn_spec) |>\n",
    "  tune_grid(resamples = wine_vfold, grid = k_values) |>\n",
    "  collect_metrics() \n",
    "\n",
    "accuracies <- knn_results |>\n",
    "  filter(.metric == \"accuracy\")\n",
    "\n",
    "accuracies"
   ]
  },
  {
   "cell_type": "markdown",
   "id": "8e87bd69-c012-4c5a-be3b-8aaace55d9d7",
   "metadata": {},
   "source": [
    "### Plotting a graph of accuracy vs k value and we pick the best k"
   ]
  },
  {
   "cell_type": "code",
   "execution_count": 189,
   "id": "eb46c15e-3d20-4a89-bd72-a1036541ddad",
   "metadata": {},
   "outputs": [
    {
     "data": {
      "image/png": "[encoded data removed]",
      "text/plain": [
       "plot without title"
      ]
     },
     "metadata": {
      "image/png": {
       "height": 420,
       "width": 420
      }
     },
     "output_type": "display_data"
    }
   ],
   "source": [
    "accuracy_vs_k_plot <- ggplot(accuracies, aes(x = neighbors, y = mean)) +\n",
    "  geom_point() +\n",
    "  geom_line() +\n",
    "  labs(x = \"number of neighbors\", y = \"Estimated accuracy\") + \n",
    "  theme(text = element_text(size = 12))\n",
    "\n",
    "accuracy_vs_k_plot"
   ]
  },
  {
   "cell_type": "markdown",
   "id": "c507b2af-da62-4ab1-a6f4-d514affc07a0",
   "metadata": {},
   "source": [
    "### We can see that our accuracy is over 90% for k values between 1 and 50. Now we choose k = 30 and retrain our model."
   ]
  },
  {
   "cell_type": "code",
   "execution_count": 190,
   "id": "bb831667-bd44-4f5e-820c-162d22d7dd00",
   "metadata": {},
   "outputs": [
    {
     "data": {
      "text/plain": [
       "══ Workflow [trained] ══════════════════════════════════════════════════════════\n",
       "\u001b[3mPreprocessor:\u001b[23m Recipe\n",
       "\u001b[3mModel:\u001b[23m nearest_neighbor()\n",
       "\n",
       "── Preprocessor ────────────────────────────────────────────────────────────────\n",
       "2 Recipe Steps\n",
       "\n",
       "• step_scale()\n",
       "• step_center()\n",
       "\n",
       "── Model ───────────────────────────────────────────────────────────────────────\n",
       "\n",
       "Call:\n",
       "kknn::train.kknn(formula = ..y ~ ., data = data, ks = min_rows(30,     data, 5), kernel = ~\"rectangular\")\n",
       "\n",
       "Type of response variable: nominal\n",
       "Minimal misclassification: 0.1052632\n",
       "Best kernel: rectangular\n",
       "Best k: 30"
      ]
     },
     "metadata": {},
     "output_type": "display_data"
    }
   ],
   "source": [
    "knn_spec <- nearest_neighbor(weight_func = \"rectangular\", neighbors = 30) |>\n",
    "  set_engine(\"kknn\") |>\n",
    "  set_mode(\"classification\")\n",
    "\n",
    "knn_fit <- workflow() |>\n",
    "  add_recipe(wine_recipe) |>\n",
    "  add_model(knn_spec) |>\n",
    "  fit(data = wine_training)\n",
    "\n",
    "knn_fit"
   ]
  },
  {
   "cell_type": "code",
   "execution_count": 191,
   "id": "368fa07a-3c8c-4636-8ba1-cd6ef2304a95",
   "metadata": {},
   "outputs": [
    {
     "data": {
      "text/html": [
       "<table class=\"dataframe\">\n",
       "<caption>A tibble: 45 × 15</caption>\n",
       "<thead>\n",
       "\t<tr><th scope=col>.pred_class</th><th scope=col>class</th><th scope=col>alcohol</th><th scope=col>malic.acid</th><th scope=col>ash</th><th scope=col>alcalinity.of.ash</th><th scope=col>magnesium</th><th scope=col>total.phenols</th><th scope=col>flavanoids</th><th scope=col>nonfalvanoid.phenols</th><th scope=col>proanthocyanins</th><th scope=col>color.intensity</th><th scope=col>hue</th><th scope=col>OD280.OD315.of.diluted.wines</th><th scope=col>proline</th></tr>\n",
       "\t<tr><th scope=col>&lt;fct&gt;</th><th scope=col>&lt;fct&gt;</th><th scope=col>&lt;dbl&gt;</th><th scope=col>&lt;dbl&gt;</th><th scope=col>&lt;dbl&gt;</th><th scope=col>&lt;dbl&gt;</th><th scope=col>&lt;dbl&gt;</th><th scope=col>&lt;dbl&gt;</th><th scope=col>&lt;dbl&gt;</th><th scope=col>&lt;dbl&gt;</th><th scope=col>&lt;dbl&gt;</th><th scope=col>&lt;dbl&gt;</th><th scope=col>&lt;dbl&gt;</th><th scope=col>&lt;dbl&gt;</th><th scope=col>&lt;dbl&gt;</th></tr>\n",
       "</thead>\n",
       "<tbody>\n",
       "\t<tr><td>1</td><td>1</td><td>14.20</td><td>1.76</td><td>2.45</td><td>15.2</td><td>112</td><td>3.27</td><td>3.39</td><td>0.34</td><td>1.97</td><td>6.75</td><td>1.05</td><td>2.85</td><td>1450</td></tr>\n",
       "\t<tr><td>1</td><td>1</td><td>14.12</td><td>1.48</td><td>2.32</td><td>16.8</td><td> 95</td><td>2.20</td><td>2.43</td><td>0.26</td><td>1.57</td><td>5.00</td><td>1.17</td><td>2.82</td><td>1280</td></tr>\n",
       "\t<tr><td>1</td><td>1</td><td>14.38</td><td>1.87</td><td>2.38</td><td>12.0</td><td>102</td><td>3.30</td><td>3.64</td><td>0.29</td><td>2.96</td><td>7.50</td><td>1.20</td><td>3.00</td><td>1547</td></tr>\n",
       "\t<tr><td>⋮</td><td>⋮</td><td>⋮</td><td>⋮</td><td>⋮</td><td>⋮</td><td>⋮</td><td>⋮</td><td>⋮</td><td>⋮</td><td>⋮</td><td>⋮</td><td>⋮</td><td>⋮</td><td>⋮</td></tr>\n",
       "\t<tr><td>3</td><td>3</td><td>12.82</td><td>3.37</td><td>2.30</td><td>19.5</td><td> 88</td><td>1.48</td><td>0.66</td><td>0.40</td><td>0.97</td><td>10.26</td><td>0.72</td><td>1.75</td><td>685</td></tr>\n",
       "\t<tr><td>3</td><td>3</td><td>14.16</td><td>2.51</td><td>2.48</td><td>20.0</td><td> 91</td><td>1.68</td><td>0.70</td><td>0.44</td><td>1.24</td><td> 9.70</td><td>0.62</td><td>1.71</td><td>660</td></tr>\n",
       "\t<tr><td>3</td><td>3</td><td>13.27</td><td>4.28</td><td>2.26</td><td>20.0</td><td>120</td><td>1.59</td><td>0.69</td><td>0.43</td><td>1.35</td><td>10.20</td><td>0.59</td><td>1.56</td><td>835</td></tr>\n",
       "</tbody>\n",
       "</table>\n"
      ],
      "text/latex": [
       "A tibble: 45 × 15\n",
       "\\begin{tabular}{lllllllllllllll}\n",
       " .pred\\_class & class & alcohol & malic.acid & ash & alcalinity.of.ash & magnesium & total.phenols & flavanoids & nonfalvanoid.phenols & proanthocyanins & color.intensity & hue & OD280.OD315.of.diluted.wines & proline\\\\\n",
       " <fct> & <fct> & <dbl> & <dbl> & <dbl> & <dbl> & <dbl> & <dbl> & <dbl> & <dbl> & <dbl> & <dbl> & <dbl> & <dbl> & <dbl>\\\\\n",
       "\\hline\n",
       "\t 1 & 1 & 14.20 & 1.76 & 2.45 & 15.2 & 112 & 3.27 & 3.39 & 0.34 & 1.97 & 6.75 & 1.05 & 2.85 & 1450\\\\\n",
       "\t 1 & 1 & 14.12 & 1.48 & 2.32 & 16.8 &  95 & 2.20 & 2.43 & 0.26 & 1.57 & 5.00 & 1.17 & 2.82 & 1280\\\\\n",
       "\t 1 & 1 & 14.38 & 1.87 & 2.38 & 12.0 & 102 & 3.30 & 3.64 & 0.29 & 2.96 & 7.50 & 1.20 & 3.00 & 1547\\\\\n",
       "\t ⋮ & ⋮ & ⋮ & ⋮ & ⋮ & ⋮ & ⋮ & ⋮ & ⋮ & ⋮ & ⋮ & ⋮ & ⋮ & ⋮ & ⋮\\\\\n",
       "\t 3 & 3 & 12.82 & 3.37 & 2.30 & 19.5 &  88 & 1.48 & 0.66 & 0.40 & 0.97 & 10.26 & 0.72 & 1.75 & 685\\\\\n",
       "\t 3 & 3 & 14.16 & 2.51 & 2.48 & 20.0 &  91 & 1.68 & 0.70 & 0.44 & 1.24 &  9.70 & 0.62 & 1.71 & 660\\\\\n",
       "\t 3 & 3 & 13.27 & 4.28 & 2.26 & 20.0 & 120 & 1.59 & 0.69 & 0.43 & 1.35 & 10.20 & 0.59 & 1.56 & 835\\\\\n",
       "\\end{tabular}\n"
      ],
      "text/markdown": [
       "\n",
       "A tibble: 45 × 15\n",
       "\n",
       "| .pred_class &lt;fct&gt; | class &lt;fct&gt; | alcohol &lt;dbl&gt; | malic.acid &lt;dbl&gt; | ash &lt;dbl&gt; | alcalinity.of.ash &lt;dbl&gt; | magnesium &lt;dbl&gt; | total.phenols &lt;dbl&gt; | flavanoids &lt;dbl&gt; | nonfalvanoid.phenols &lt;dbl&gt; | proanthocyanins &lt;dbl&gt; | color.intensity &lt;dbl&gt; | hue &lt;dbl&gt; | OD280.OD315.of.diluted.wines &lt;dbl&gt; | proline &lt;dbl&gt; |\n",
       "|---|---|---|---|---|---|---|---|---|---|---|---|---|---|---|\n",
       "| 1 | 1 | 14.20 | 1.76 | 2.45 | 15.2 | 112 | 3.27 | 3.39 | 0.34 | 1.97 | 6.75 | 1.05 | 2.85 | 1450 |\n",
       "| 1 | 1 | 14.12 | 1.48 | 2.32 | 16.8 |  95 | 2.20 | 2.43 | 0.26 | 1.57 | 5.00 | 1.17 | 2.82 | 1280 |\n",
       "| 1 | 1 | 14.38 | 1.87 | 2.38 | 12.0 | 102 | 3.30 | 3.64 | 0.29 | 2.96 | 7.50 | 1.20 | 3.00 | 1547 |\n",
       "| ⋮ | ⋮ | ⋮ | ⋮ | ⋮ | ⋮ | ⋮ | ⋮ | ⋮ | ⋮ | ⋮ | ⋮ | ⋮ | ⋮ | ⋮ |\n",
       "| 3 | 3 | 12.82 | 3.37 | 2.30 | 19.5 |  88 | 1.48 | 0.66 | 0.40 | 0.97 | 10.26 | 0.72 | 1.75 | 685 |\n",
       "| 3 | 3 | 14.16 | 2.51 | 2.48 | 20.0 |  91 | 1.68 | 0.70 | 0.44 | 1.24 |  9.70 | 0.62 | 1.71 | 660 |\n",
       "| 3 | 3 | 13.27 | 4.28 | 2.26 | 20.0 | 120 | 1.59 | 0.69 | 0.43 | 1.35 | 10.20 | 0.59 | 1.56 | 835 |\n",
       "\n"
      ],
      "text/plain": [
       "   .pred_class class alcohol malic.acid ash  alcalinity.of.ash magnesium\n",
       "1  1           1     14.20   1.76       2.45 15.2              112      \n",
       "2  1           1     14.12   1.48       2.32 16.8               95      \n",
       "3  1           1     14.38   1.87       2.38 12.0              102      \n",
       "⋮  ⋮           ⋮     ⋮       ⋮          ⋮    ⋮                 ⋮        \n",
       "43 3           3     12.82   3.37       2.30 19.5               88      \n",
       "44 3           3     14.16   2.51       2.48 20.0               91      \n",
       "45 3           3     13.27   4.28       2.26 20.0              120      \n",
       "   total.phenols flavanoids nonfalvanoid.phenols proanthocyanins\n",
       "1  3.27          3.39       0.34                 1.97           \n",
       "2  2.20          2.43       0.26                 1.57           \n",
       "3  3.30          3.64       0.29                 2.96           \n",
       "⋮  ⋮             ⋮          ⋮                    ⋮              \n",
       "43 1.48          0.66       0.40                 0.97           \n",
       "44 1.68          0.70       0.44                 1.24           \n",
       "45 1.59          0.69       0.43                 1.35           \n",
       "   color.intensity hue  OD280.OD315.of.diluted.wines proline\n",
       "1  6.75            1.05 2.85                         1450   \n",
       "2  5.00            1.17 2.82                         1280   \n",
       "3  7.50            1.20 3.00                         1547   \n",
       "⋮  ⋮               ⋮    ⋮                            ⋮      \n",
       "43 10.26           0.72 1.75                         685    \n",
       "44  9.70           0.62 1.71                         660    \n",
       "45 10.20           0.59 1.56                         835    "
      ]
     },
     "metadata": {},
     "output_type": "display_data"
    }
   ],
   "source": [
    "wine_test_predictions <- predict(knn_fit, wine_testing) |>\n",
    "    bind_cols(wine_testing)\n",
    "\n",
    "wine_test_predictions"
   ]
  },
  {
   "cell_type": "code",
   "execution_count": 192,
   "id": "f37fdb57-9b46-46e0-8361-91211537ca70",
   "metadata": {},
   "outputs": [
    {
     "data": {
      "text/html": [
       "<table class=\"dataframe\">\n",
       "<caption>A tibble: 1 × 3</caption>\n",
       "<thead>\n",
       "\t<tr><th scope=col>.metric</th><th scope=col>.estimator</th><th scope=col>.estimate</th></tr>\n",
       "\t<tr><th scope=col>&lt;chr&gt;</th><th scope=col>&lt;chr&gt;</th><th scope=col>&lt;dbl&gt;</th></tr>\n",
       "</thead>\n",
       "<tbody>\n",
       "\t<tr><td>accuracy</td><td>multiclass</td><td>0.9777778</td></tr>\n",
       "</tbody>\n",
       "</table>\n"
      ],
      "text/latex": [
       "A tibble: 1 × 3\n",
       "\\begin{tabular}{lll}\n",
       " .metric & .estimator & .estimate\\\\\n",
       " <chr> & <chr> & <dbl>\\\\\n",
       "\\hline\n",
       "\t accuracy & multiclass & 0.9777778\\\\\n",
       "\\end{tabular}\n"
      ],
      "text/markdown": [
       "\n",
       "A tibble: 1 × 3\n",
       "\n",
       "| .metric &lt;chr&gt; | .estimator &lt;chr&gt; | .estimate &lt;dbl&gt; |\n",
       "|---|---|---|\n",
       "| accuracy | multiclass | 0.9777778 |\n",
       "\n"
      ],
      "text/plain": [
       "  .metric  .estimator .estimate\n",
       "1 accuracy multiclass 0.9777778"
      ]
     },
     "metadata": {},
     "output_type": "display_data"
    }
   ],
   "source": [
    "wine_test_predictions |>\n",
    "    metrics(truth = class, estimate = .pred_class) |>\n",
    "    filter(.metric == \"accuracy\")"
   ]
  },
  {
   "cell_type": "code",
   "execution_count": 193,
   "id": "12e6ca8f-3bf6-4101-bc70-5abc87fce847",
   "metadata": {},
   "outputs": [
    {
     "data": {
      "text/html": [
       "0.928571428571429"
      ],
      "text/latex": [
       "0.928571428571429"
      ],
      "text/markdown": [
       "0.928571428571429"
      ],
      "text/plain": [
       "[1] 0.9285714"
      ]
     },
     "metadata": {},
     "output_type": "display_data"
    }
   ],
   "source": [
    "acc <- validation_predicted |>\n",
    "    metrics(truth = class, estimate = .pred_class) |>\n",
    "    filter(.metric == \"accuracy\") |>\n",
    "    select(.estimate) |>\n",
    "    pull()\n",
    "\n",
    "acc"
   ]
  },
  {
   "cell_type": "markdown",
   "id": "dc91e0a0-50f9-4673-8514-ce7a878c2255",
   "metadata": {},
   "source": [
    "# Predicting a new variable\n",
    "## Let's say we want to predict a particular class of alcohol using our desired input (alcohol, malic acid, proline, magnesium, flavanoids, nonflavenoid phenols)"
   ]
  },
  {
   "cell_type": "code",
   "execution_count": 194,
   "id": "63af0496-6bc6-41c5-b135-885efe00ddff",
   "metadata": {},
   "outputs": [],
   "source": [
    "new_obs <- tibble(alcohol = 5, malic.acid = 2, proline = 1000, magnesium = 100, flavanoids  = 2.00, nonfalvanoid.phenols = 3)"
   ]
  },
  {
   "cell_type": "code",
   "execution_count": 195,
   "id": "04e86da7-e666-4f1c-a99a-47f493deb478",
   "metadata": {},
   "outputs": [
    {
     "data": {
      "text/html": [
       "<table class=\"dataframe\">\n",
       "<caption>A tibble: 1 × 1</caption>\n",
       "<thead>\n",
       "\t<tr><th scope=col>.pred_class</th></tr>\n",
       "\t<tr><th scope=col>&lt;fct&gt;</th></tr>\n",
       "</thead>\n",
       "<tbody>\n",
       "\t<tr><td>2</td></tr>\n",
       "</tbody>\n",
       "</table>\n"
      ],
      "text/latex": [
       "A tibble: 1 × 1\n",
       "\\begin{tabular}{l}\n",
       " .pred\\_class\\\\\n",
       " <fct>\\\\\n",
       "\\hline\n",
       "\t 2\\\\\n",
       "\\end{tabular}\n"
      ],
      "text/markdown": [
       "\n",
       "A tibble: 1 × 1\n",
       "\n",
       "| .pred_class &lt;fct&gt; |\n",
       "|---|\n",
       "| 2 |\n",
       "\n"
      ],
      "text/plain": [
       "  .pred_class\n",
       "1 2          "
      ]
     },
     "metadata": {},
     "output_type": "display_data"
    }
   ],
   "source": [
    "predict(knn_fit, new_obs)"
   ]
  },
  {
   "cell_type": "code",
   "execution_count": null,
   "id": "9f7015dc-e263-4531-b74e-3b0340d48e92",
   "metadata": {},
   "outputs": [],
   "source": []
  },
  {
   "cell_type": "code",
   "execution_count": null,
   "id": "cfb1d326-434c-4546-8bd1-80f8c0541458",
   "metadata": {},
   "outputs": [],
   "source": []
  }
 ],
 "metadata": {
  "kernelspec": {
   "display_name": "R",
   "language": "R",
   "name": "ir"
  },
  "language_info": {
   "codemirror_mode": "r",
   "file_extension": ".r",
   "mimetype": "text/x-r-source",
   "name": "R",
   "pygments_lexer": "r",
   "version": "4.1.3"
  }
 },
 "nbformat": 4,
 "nbformat_minor": 5
}
