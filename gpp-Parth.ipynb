{
 "cells": [
  {
   "cell_type": "markdown",
   "id": "093bd89a-2f94-4440-840d-ca8d4094d65c",
   "metadata": {},
   "source": [
    "Introduction:\n",
    "\n",
    "    - Provide some relevant background information on the topic so that someone unfamiliar with it will be prepared to understand the rest of your  proposal\n",
    "    - Clearly state the question you will try to answer with your project\n",
    "    - Identify and describe the dataset that will be used to answer the question"
   ]
  },
  {
   "cell_type": "code",
   "execution_count": null,
   "id": "c1cf7ab7-43d3-4796-bf23-c268b48d762d",
   "metadata": {},
   "outputs": [],
   "source": []
  }
 ],
 "metadata": {
  "kernelspec": {
   "display_name": "R",
   "language": "R",
   "name": "ir"
  },
  "language_info": {
   "codemirror_mode": "r",
   "file_extension": ".r",
   "mimetype": "text/x-r-source",
   "name": "R",
   "pygments_lexer": "r",
   "version": "4.1.3"
  }
 },
 "nbformat": 4,
 "nbformat_minor": 5
}
