{
 "cells": [
  {
   "cell_type": "markdown",
   "id": "be3ba632-8fb3-4201-845a-f24d1e850d9c",
   "metadata": {},
   "source": [
    "Expected outcomes and significance:\n",
    "\n",
    "    - What do you expect to find?\n",
    "    - What impact could such findings have?\n",
    "    - What future questions could this lead to?"
   ]
  },
  {
   "cell_type": "code",
   "execution_count": null,
   "id": "5b15b2d3-c377-457c-a3af-4160812742b3",
   "metadata": {},
   "outputs": [],
   "source": []
  }
 ],
 "metadata": {
  "kernelspec": {
   "display_name": "R",
   "language": "R",
   "name": "ir"
  },
  "language_info": {
   "codemirror_mode": "r",
   "file_extension": ".r",
   "mimetype": "text/x-r-source",
   "name": "R",
   "pygments_lexer": "r",
   "version": "4.1.3"
  }
 },
 "nbformat": 4,
 "nbformat_minor": 5
}
