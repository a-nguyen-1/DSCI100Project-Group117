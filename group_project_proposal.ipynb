{
 "cells": [
  {
   "cell_type": "markdown",
   "id": "a66128db-db52-4c8b-9d1a-8da8edea8493",
   "metadata": {},
   "source": [
    "Title"
   ]
  },
  {
   "cell_type": "markdown",
   "id": "f0df23dc-2400-41b5-8c09-36822f7ddee7",
   "metadata": {},
   "source": [
    "Introduction:\n",
    "\n",
    "    - Provide some relevant background information on the topic so that someone unfamiliar with it will be prepared to understand the rest of your  proposal\n",
    "    - Clearly state the question you will try to answer with your project\n",
    "    - Identify and describe the dataset that will be used to answer the question\n",
    "\n"
   ]
  },
  {
   "cell_type": "markdown",
   "id": "6d249f78-08c6-42db-9abc-66554f7790a6",
   "metadata": {},
   "source": [
    "Preliminary exploratory data analysis:\n",
    "\n",
    "    - Demonstrate that the dataset can be read from the web into R \n",
    "    - Clean and wrangle your data into a tidy format\n",
    "    - Using only training data, summarize the data in at least one table (this is exploratory data analysis). An example of a useful table could be one that reports the number of observations in each class, the means of the predictor variables you plan to use in your analysis and how many rows have missing data. \n",
    "    - Using only training data, visualize the data with at least one plot relevant to the analysis you plan to do (this is exploratory data analysis). An example of a useful visualization could be one that compa\n",
    "    res the distributions of each of the predictor variables you plan to use in your analysis.\n",
    "\n"
   ]
  },
  {
   "cell_type": "markdown",
   "id": "4736ff78-b86b-4495-8082-ae2c5d81c297",
   "metadata": {},
   "source": [
    "Methods:\n",
    "\n",
    "    - Explain how you will conduct either your data analysis and which variables/columns you will use. Note - you do not need to use all variables/columns that exist in the raw data set. In fact, that's often not a good idea. For each variable think: is this a useful variable for prediction?\n",
    "    - Describe at least one way that you will visualize the results\n",
    "\n",
    "\n",
    "\n"
   ]
  },
  {
   "cell_type": "markdown",
   "id": "fc470a89-b818-492b-9e8c-21dce0881f18",
   "metadata": {},
   "source": [
    "Expected outcomes and significance:\n",
    "\n",
    "    - What do you expect to find?\n",
    "    - What impact could such findings have?\n",
    "    - What future questions could this lead to?\n",
    "\n"
   ]
  },
  {
   "cell_type": "code",
   "execution_count": null,
   "id": "a02f8064-e189-449d-951e-fea796ff1305",
   "metadata": {},
   "outputs": [],
   "source": []
  }
 ],
 "metadata": {
  "kernelspec": {
   "display_name": "R",
   "language": "R",
   "name": "ir"
  },
  "language_info": {
   "codemirror_mode": "r",
   "file_extension": ".r",
   "mimetype": "text/x-r-source",
   "name": "R",
   "pygments_lexer": "r",
   "version": "4.1.3"
  }
 },
 "nbformat": 4,
 "nbformat_minor": 5
}
